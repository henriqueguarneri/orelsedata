{
 "cells": [
  {
   "attachments": {},
   "cell_type": "markdown",
   "id": "c91b40e6",
   "metadata": {},
   "source": [
    "# Sea Level Rise AR6\n",
    "Notebook environment to migrate netcdf files to CF compliant zarr & CoG. \n",
    "Note, this is still quite a mess, TODO: clean up.."
   ]
  },
  {
   "cell_type": "code",
   "execution_count": 1,
   "id": "f1aef40e",
   "metadata": {},
   "outputs": [
    {
     "data": {
      "application/javascript": "\n            setTimeout(function() {\n                var nbb_cell_id = 1;\n                var nbb_unformatted_code = \"# Optional; code formatter, installed as jupyter lab extension\\n#%load_ext lab_black\\n# Optional; code formatter, installed as jupyter notebook extension\\n%load_ext nb_black\";\n                var nbb_formatted_code = \"# Optional; code formatter, installed as jupyter lab extension\\n# %load_ext lab_black\\n# Optional; code formatter, installed as jupyter notebook extension\\n%load_ext nb_black\";\n                var nbb_cells = Jupyter.notebook.get_cells();\n                for (var i = 0; i < nbb_cells.length; ++i) {\n                    if (nbb_cells[i].input_prompt_number == nbb_cell_id) {\n                        if (nbb_cells[i].get_text() == nbb_unformatted_code) {\n                             nbb_cells[i].set_text(nbb_formatted_code);\n                        }\n                        break;\n                    }\n                }\n            }, 500);\n            ",
      "text/plain": [
       "<IPython.core.display.Javascript object>"
      ]
     },
     "metadata": {},
     "output_type": "display_data"
    }
   ],
   "source": [
    "# Optional; code formatter, installed as jupyter lab extension\n",
    "#%load_ext lab_black\n",
    "# Optional; code formatter, installed as jupyter notebook extension\n",
    "%load_ext nb_black"
   ]
  },
  {
   "attachments": {},
   "cell_type": "markdown",
   "id": "f3f67518",
   "metadata": {},
   "source": [
    "### Configure OS independent paths"
   ]
  },
  {
   "cell_type": "code",
   "execution_count": 2,
   "id": "77b089ea",
   "metadata": {},
   "outputs": [
    {
     "name": "stderr",
     "output_type": "stream",
     "text": [
      "C:\\Users\\kras\\AppData\\Local\\Temp\\ipykernel_8488\\1204355198.py:6: DeprecationWarning: Shapely 2.0 is installed, but because PyGEOS is also installed, GeoPandas still uses PyGEOS by default. However, starting with version 0.14, the default will switch to Shapely. To force to use Shapely 2.0 now, you can either uninstall PyGEOS or set the environment variable USE_PYGEOS=0. You can do this before starting the Python process, or in your code before importing geopandas:\n",
      "\n",
      "import os\n",
      "os.environ['USE_PYGEOS'] = '0'\n",
      "import geopandas\n",
      "\n",
      "In the next release, GeoPandas will switch to using Shapely by default, even if PyGEOS is installed. If you only have PyGEOS installed to get speed-ups, this switch should be smooth. However, if you are using PyGEOS directly (calling PyGEOS functions on geometries from GeoPandas), this will then stop working and you are encouraged to migrate from PyGEOS to Shapely 2.0 (https://shapely.readthedocs.io/en/latest/migration_pygeos.html).\n",
      "  import geopandas as gpd\n"
     ]
    },
    {
     "data": {
      "application/javascript": "\n            setTimeout(function() {\n                var nbb_cell_id = 2;\n                var nbb_unformatted_code = \"# Import standard packages\\nimport os\\nimport pathlib\\nimport sys\\nimport numpy as np\\nimport geopandas as gpd\\nimport pandas as pd\\nimport matplotlib.pyplot as plt\\nimport xarray as xr\\nimport netCDF4 as nc\\nimport numpy.ma as ma\\nimport rasterio\\nimport rioxarray as rio\\nfrom datacube.utils.cog import write_cog\\n\\n# Make root directories importable by appending root to path\\ncwd = pathlib.Path().resolve()\\nsys.path.append(os.path.dirname(cwd))\\n\\n# Get root paths\\nhome = pathlib.Path().home()\\nroot = home.root\\ntmp_dir = home.joinpath(\\\"data\\\", \\\"tmp\\\")\\n\\n# Import custom functionality\\nfrom etl import p_drive\\nfrom etl.CF_compliancy_checker import check_compliancy, save_compliancy\\n\\n# Define (local and) remote drives\\ncoclico_data_dir = p_drive.joinpath(\\\"11205479-coclico\\\", \\\"FASTTRACK_DATA\\\")\\n\\n# Workaround to the Windows OS (10) udunits error after installation of cfchecker: https://github.com/SciTools/iris/issues/404\\nos.environ[\\\"UDUNITS2_XML_PATH\\\"] = str(\\n    home.joinpath(  # change to the udunits2.xml file dir in your Python installation\\n        r\\\"Anaconda3\\\\pkgs\\\\udunits2-2.2.28-h892ecd3_0\\\\Library\\\\share\\\\udunits\\\\udunits2.xml\\\"\\n    )\\n)\\n\\n# use local or remote data dir\\nuse_local_data = False\\nds_dirname = \\\"17_AR6_SLP_IPCC\\\"\\n\\nif use_local_data: \\n    ds_dir = tmp_dir.joinpath(ds_dirname)\\nelse: \\n    ds_dir = coclico_data_dir.joinpath(ds_dirname)\\n\\nif not ds_dir.exists():\\n    raise FileNotFoundError(\\\"Directory with data does not exist.\\\")\\n\\n# directory to export result (make if not exists)\\ncog_dir = ds_dir.joinpath(\\\"cog\\\")\\ncog_dirs = ds_dir.joinpath(\\\"cogs\\\") # for making all files CF compliant\\ncog_dir.mkdir(parents=True, exist_ok=True)\";\n                var nbb_formatted_code = \"# Import standard packages\\nimport os\\nimport pathlib\\nimport sys\\nimport numpy as np\\nimport geopandas as gpd\\nimport pandas as pd\\nimport matplotlib.pyplot as plt\\nimport xarray as xr\\nimport netCDF4 as nc\\nimport numpy.ma as ma\\nimport rasterio\\nimport rioxarray as rio\\nfrom datacube.utils.cog import write_cog\\n\\n# Make root directories importable by appending root to path\\ncwd = pathlib.Path().resolve()\\nsys.path.append(os.path.dirname(cwd))\\n\\n# Get root paths\\nhome = pathlib.Path().home()\\nroot = home.root\\ntmp_dir = home.joinpath(\\\"data\\\", \\\"tmp\\\")\\n\\n# Import custom functionality\\nfrom etl import p_drive\\nfrom etl.CF_compliancy_checker import check_compliancy, save_compliancy\\n\\n# Define (local and) remote drives\\ncoclico_data_dir = p_drive.joinpath(\\\"11205479-coclico\\\", \\\"FASTTRACK_DATA\\\")\\n\\n# Workaround to the Windows OS (10) udunits error after installation of cfchecker: https://github.com/SciTools/iris/issues/404\\nos.environ[\\\"UDUNITS2_XML_PATH\\\"] = str(\\n    home.joinpath(  # change to the udunits2.xml file dir in your Python installation\\n        r\\\"Anaconda3\\\\pkgs\\\\udunits2-2.2.28-h892ecd3_0\\\\Library\\\\share\\\\udunits\\\\udunits2.xml\\\"\\n    )\\n)\\n\\n# use local or remote data dir\\nuse_local_data = False\\nds_dirname = \\\"17_AR6_SLP_IPCC\\\"\\n\\nif use_local_data:\\n    ds_dir = tmp_dir.joinpath(ds_dirname)\\nelse:\\n    ds_dir = coclico_data_dir.joinpath(ds_dirname)\\n\\nif not ds_dir.exists():\\n    raise FileNotFoundError(\\\"Directory with data does not exist.\\\")\\n\\n# directory to export result (make if not exists)\\ncog_dir = ds_dir.joinpath(\\\"cog\\\")\\ncog_dirs = ds_dir.joinpath(\\\"cogs\\\")  # for making all files CF compliant\\ncog_dir.mkdir(parents=True, exist_ok=True)\";\n                var nbb_cells = Jupyter.notebook.get_cells();\n                for (var i = 0; i < nbb_cells.length; ++i) {\n                    if (nbb_cells[i].input_prompt_number == nbb_cell_id) {\n                        if (nbb_cells[i].get_text() == nbb_unformatted_code) {\n                             nbb_cells[i].set_text(nbb_formatted_code);\n                        }\n                        break;\n                    }\n                }\n            }, 500);\n            ",
      "text/plain": [
       "<IPython.core.display.Javascript object>"
      ]
     },
     "metadata": {},
     "output_type": "display_data"
    }
   ],
   "source": [
    "# Import standard packages\n",
    "import os\n",
    "import pathlib\n",
    "import sys\n",
    "import numpy as np\n",
    "import geopandas as gpd\n",
    "import pandas as pd\n",
    "import matplotlib.pyplot as plt\n",
    "import xarray as xr\n",
    "import netCDF4 as nc\n",
    "import numpy.ma as ma\n",
    "import rasterio\n",
    "import rioxarray as rio\n",
    "from datacube.utils.cog import write_cog\n",
    "\n",
    "# Make root directories importable by appending root to path\n",
    "cwd = pathlib.Path().resolve()\n",
    "sys.path.append(os.path.dirname(cwd))\n",
    "\n",
    "# Get root paths\n",
    "home = pathlib.Path().home()\n",
    "root = home.root\n",
    "tmp_dir = home.joinpath(\"data\", \"tmp\")\n",
    "\n",
    "# Import custom functionality\n",
    "from etl import p_drive\n",
    "from etl.CF_compliancy_checker import check_compliancy, save_compliancy\n",
    "\n",
    "# Define (local and) remote drives\n",
    "coclico_data_dir = p_drive.joinpath(\"11205479-coclico\", \"FASTTRACK_DATA\")\n",
    "\n",
    "# Workaround to the Windows OS (10) udunits error after installation of cfchecker: https://github.com/SciTools/iris/issues/404\n",
    "os.environ[\"UDUNITS2_XML_PATH\"] = str(\n",
    "    home.joinpath(  # change to the udunits2.xml file dir in your Python installation\n",
    "        r\"Anaconda3\\pkgs\\udunits2-2.2.28-h892ecd3_0\\Library\\share\\udunits\\udunits2.xml\"\n",
    "    )\n",
    ")\n",
    "\n",
    "# use local or remote data dir\n",
    "use_local_data = False\n",
    "ds_dirname = \"17_AR6_SLP_IPCC\"\n",
    "\n",
    "if use_local_data: \n",
    "    ds_dir = tmp_dir.joinpath(ds_dirname)\n",
    "else: \n",
    "    ds_dir = coclico_data_dir.joinpath(ds_dirname)\n",
    "\n",
    "if not ds_dir.exists():\n",
    "    raise FileNotFoundError(\"Directory with data does not exist.\")\n",
    "\n",
    "# directory to export result (make if not exists)\n",
    "cog_dir = ds_dir.joinpath(\"cog\")\n",
    "cog_dirs = ds_dir.joinpath(\"cogs\") # for making all files CF compliant\n",
    "cog_dir.mkdir(parents=True, exist_ok=True)"
   ]
  },
  {
   "cell_type": "code",
   "execution_count": 3,
   "id": "aef15534",
   "metadata": {},
   "outputs": [
    {
     "data": {
      "application/javascript": "\n            setTimeout(function() {\n                var nbb_cell_id = 3;\n                var nbb_unformatted_code = \"# Project paths & files (manual input)\\nds_ssp26_path = ds_dir.joinpath(f\\\"total_ssp126_medium_confidence_values.nc\\\")\\nds_ssp45_path = ds_dir.joinpath(f\\\"total_ssp245_medium_confidence_values.nc\\\")\\nds_ssp85_path = ds_dir.joinpath(f\\\"total_ssp585_medium_confidence_values.nc\\\")\\nds_out_file = \\\"slr_medium_confidence_values\\\"\\nCF_dir = coclico_data_dir.joinpath(r\\\"CF\\\")  # directory to save output CF check files\";\n                var nbb_formatted_code = \"# Project paths & files (manual input)\\nds_ssp26_path = ds_dir.joinpath(f\\\"total_ssp126_medium_confidence_values.nc\\\")\\nds_ssp45_path = ds_dir.joinpath(f\\\"total_ssp245_medium_confidence_values.nc\\\")\\nds_ssp85_path = ds_dir.joinpath(f\\\"total_ssp585_medium_confidence_values.nc\\\")\\nds_out_file = \\\"slr_medium_confidence_values\\\"\\nCF_dir = coclico_data_dir.joinpath(r\\\"CF\\\")  # directory to save output CF check files\";\n                var nbb_cells = Jupyter.notebook.get_cells();\n                for (var i = 0; i < nbb_cells.length; ++i) {\n                    if (nbb_cells[i].input_prompt_number == nbb_cell_id) {\n                        if (nbb_cells[i].get_text() == nbb_unformatted_code) {\n                             nbb_cells[i].set_text(nbb_formatted_code);\n                        }\n                        break;\n                    }\n                }\n            }, 500);\n            ",
      "text/plain": [
       "<IPython.core.display.Javascript object>"
      ]
     },
     "metadata": {},
     "output_type": "display_data"
    }
   ],
   "source": [
    "# Project paths & files (manual input)\n",
    "ds_ssp26_path = ds_dir.joinpath(f\"total_ssp126_medium_confidence_values.nc\")\n",
    "ds_ssp45_path = ds_dir.joinpath(f\"total_ssp245_medium_confidence_values.nc\")\n",
    "ds_ssp85_path = ds_dir.joinpath(f\"total_ssp585_medium_confidence_values.nc\")\n",
    "ds_out_file = \"slr_medium_confidence_values\"\n",
    "CF_dir = coclico_data_dir.joinpath(r\"CF\")  # directory to save output CF check files"
   ]
  },
  {
   "attachments": {},
   "cell_type": "markdown",
   "id": "4d9d1359",
   "metadata": {},
   "source": [
    "### Check CF compliancy original NetCDF files"
   ]
  },
  {
   "cell_type": "code",
   "execution_count": 4,
   "id": "4e88de5e",
   "metadata": {},
   "outputs": [
    {
     "data": {
      "text/html": [
       "<div><svg style=\"position: absolute; width: 0; height: 0; overflow: hidden\">\n",
       "<defs>\n",
       "<symbol id=\"icon-database\" viewBox=\"0 0 32 32\">\n",
       "<path d=\"M16 0c-8.837 0-16 2.239-16 5v4c0 2.761 7.163 5 16 5s16-2.239 16-5v-4c0-2.761-7.163-5-16-5z\"></path>\n",
       "<path d=\"M16 17c-8.837 0-16-2.239-16-5v6c0 2.761 7.163 5 16 5s16-2.239 16-5v-6c0 2.761-7.163 5-16 5z\"></path>\n",
       "<path d=\"M16 26c-8.837 0-16-2.239-16-5v6c0 2.761 7.163 5 16 5s16-2.239 16-5v-6c0 2.761-7.163 5-16 5z\"></path>\n",
       "</symbol>\n",
       "<symbol id=\"icon-file-text2\" viewBox=\"0 0 32 32\">\n",
       "<path d=\"M28.681 7.159c-0.694-0.947-1.662-2.053-2.724-3.116s-2.169-2.030-3.116-2.724c-1.612-1.182-2.393-1.319-2.841-1.319h-15.5c-1.378 0-2.5 1.121-2.5 2.5v27c0 1.378 1.122 2.5 2.5 2.5h23c1.378 0 2.5-1.122 2.5-2.5v-19.5c0-0.448-0.137-1.23-1.319-2.841zM24.543 5.457c0.959 0.959 1.712 1.825 2.268 2.543h-4.811v-4.811c0.718 0.556 1.584 1.309 2.543 2.268zM28 29.5c0 0.271-0.229 0.5-0.5 0.5h-23c-0.271 0-0.5-0.229-0.5-0.5v-27c0-0.271 0.229-0.5 0.5-0.5 0 0 15.499-0 15.5 0v7c0 0.552 0.448 1 1 1h7v19.5z\"></path>\n",
       "<path d=\"M23 26h-14c-0.552 0-1-0.448-1-1s0.448-1 1-1h14c0.552 0 1 0.448 1 1s-0.448 1-1 1z\"></path>\n",
       "<path d=\"M23 22h-14c-0.552 0-1-0.448-1-1s0.448-1 1-1h14c0.552 0 1 0.448 1 1s-0.448 1-1 1z\"></path>\n",
       "<path d=\"M23 18h-14c-0.552 0-1-0.448-1-1s0.448-1 1-1h14c0.552 0 1 0.448 1 1s-0.448 1-1 1z\"></path>\n",
       "</symbol>\n",
       "</defs>\n",
       "</svg>\n",
       "<style>/* CSS stylesheet for displaying xarray objects in jupyterlab.\n",
       " *\n",
       " */\n",
       "\n",
       ":root {\n",
       "  --xr-font-color0: var(--jp-content-font-color0, rgba(0, 0, 0, 1));\n",
       "  --xr-font-color2: var(--jp-content-font-color2, rgba(0, 0, 0, 0.54));\n",
       "  --xr-font-color3: var(--jp-content-font-color3, rgba(0, 0, 0, 0.38));\n",
       "  --xr-border-color: var(--jp-border-color2, #e0e0e0);\n",
       "  --xr-disabled-color: var(--jp-layout-color3, #bdbdbd);\n",
       "  --xr-background-color: var(--jp-layout-color0, white);\n",
       "  --xr-background-color-row-even: var(--jp-layout-color1, white);\n",
       "  --xr-background-color-row-odd: var(--jp-layout-color2, #eeeeee);\n",
       "}\n",
       "\n",
       "html[theme=dark],\n",
       "body[data-theme=dark],\n",
       "body.vscode-dark {\n",
       "  --xr-font-color0: rgba(255, 255, 255, 1);\n",
       "  --xr-font-color2: rgba(255, 255, 255, 0.54);\n",
       "  --xr-font-color3: rgba(255, 255, 255, 0.38);\n",
       "  --xr-border-color: #1F1F1F;\n",
       "  --xr-disabled-color: #515151;\n",
       "  --xr-background-color: #111111;\n",
       "  --xr-background-color-row-even: #111111;\n",
       "  --xr-background-color-row-odd: #313131;\n",
       "}\n",
       "\n",
       ".xr-wrap {\n",
       "  display: block !important;\n",
       "  min-width: 300px;\n",
       "  max-width: 700px;\n",
       "}\n",
       "\n",
       ".xr-text-repr-fallback {\n",
       "  /* fallback to plain text repr when CSS is not injected (untrusted notebook) */\n",
       "  display: none;\n",
       "}\n",
       "\n",
       ".xr-header {\n",
       "  padding-top: 6px;\n",
       "  padding-bottom: 6px;\n",
       "  margin-bottom: 4px;\n",
       "  border-bottom: solid 1px var(--xr-border-color);\n",
       "}\n",
       "\n",
       ".xr-header > div,\n",
       ".xr-header > ul {\n",
       "  display: inline;\n",
       "  margin-top: 0;\n",
       "  margin-bottom: 0;\n",
       "}\n",
       "\n",
       ".xr-obj-type,\n",
       ".xr-array-name {\n",
       "  margin-left: 2px;\n",
       "  margin-right: 10px;\n",
       "}\n",
       "\n",
       ".xr-obj-type {\n",
       "  color: var(--xr-font-color2);\n",
       "}\n",
       "\n",
       ".xr-sections {\n",
       "  padding-left: 0 !important;\n",
       "  display: grid;\n",
       "  grid-template-columns: 150px auto auto 1fr 20px 20px;\n",
       "}\n",
       "\n",
       ".xr-section-item {\n",
       "  display: contents;\n",
       "}\n",
       "\n",
       ".xr-section-item input {\n",
       "  display: none;\n",
       "}\n",
       "\n",
       ".xr-section-item input + label {\n",
       "  color: var(--xr-disabled-color);\n",
       "}\n",
       "\n",
       ".xr-section-item input:enabled + label {\n",
       "  cursor: pointer;\n",
       "  color: var(--xr-font-color2);\n",
       "}\n",
       "\n",
       ".xr-section-item input:enabled + label:hover {\n",
       "  color: var(--xr-font-color0);\n",
       "}\n",
       "\n",
       ".xr-section-summary {\n",
       "  grid-column: 1;\n",
       "  color: var(--xr-font-color2);\n",
       "  font-weight: 500;\n",
       "}\n",
       "\n",
       ".xr-section-summary > span {\n",
       "  display: inline-block;\n",
       "  padding-left: 0.5em;\n",
       "}\n",
       "\n",
       ".xr-section-summary-in:disabled + label {\n",
       "  color: var(--xr-font-color2);\n",
       "}\n",
       "\n",
       ".xr-section-summary-in + label:before {\n",
       "  display: inline-block;\n",
       "  content: '►';\n",
       "  font-size: 11px;\n",
       "  width: 15px;\n",
       "  text-align: center;\n",
       "}\n",
       "\n",
       ".xr-section-summary-in:disabled + label:before {\n",
       "  color: var(--xr-disabled-color);\n",
       "}\n",
       "\n",
       ".xr-section-summary-in:checked + label:before {\n",
       "  content: '▼';\n",
       "}\n",
       "\n",
       ".xr-section-summary-in:checked + label > span {\n",
       "  display: none;\n",
       "}\n",
       "\n",
       ".xr-section-summary,\n",
       ".xr-section-inline-details {\n",
       "  padding-top: 4px;\n",
       "  padding-bottom: 4px;\n",
       "}\n",
       "\n",
       ".xr-section-inline-details {\n",
       "  grid-column: 2 / -1;\n",
       "}\n",
       "\n",
       ".xr-section-details {\n",
       "  display: none;\n",
       "  grid-column: 1 / -1;\n",
       "  margin-bottom: 5px;\n",
       "}\n",
       "\n",
       ".xr-section-summary-in:checked ~ .xr-section-details {\n",
       "  display: contents;\n",
       "}\n",
       "\n",
       ".xr-array-wrap {\n",
       "  grid-column: 1 / -1;\n",
       "  display: grid;\n",
       "  grid-template-columns: 20px auto;\n",
       "}\n",
       "\n",
       ".xr-array-wrap > label {\n",
       "  grid-column: 1;\n",
       "  vertical-align: top;\n",
       "}\n",
       "\n",
       ".xr-preview {\n",
       "  color: var(--xr-font-color3);\n",
       "}\n",
       "\n",
       ".xr-array-preview,\n",
       ".xr-array-data {\n",
       "  padding: 0 5px !important;\n",
       "  grid-column: 2;\n",
       "}\n",
       "\n",
       ".xr-array-data,\n",
       ".xr-array-in:checked ~ .xr-array-preview {\n",
       "  display: none;\n",
       "}\n",
       "\n",
       ".xr-array-in:checked ~ .xr-array-data,\n",
       ".xr-array-preview {\n",
       "  display: inline-block;\n",
       "}\n",
       "\n",
       ".xr-dim-list {\n",
       "  display: inline-block !important;\n",
       "  list-style: none;\n",
       "  padding: 0 !important;\n",
       "  margin: 0;\n",
       "}\n",
       "\n",
       ".xr-dim-list li {\n",
       "  display: inline-block;\n",
       "  padding: 0;\n",
       "  margin: 0;\n",
       "}\n",
       "\n",
       ".xr-dim-list:before {\n",
       "  content: '(';\n",
       "}\n",
       "\n",
       ".xr-dim-list:after {\n",
       "  content: ')';\n",
       "}\n",
       "\n",
       ".xr-dim-list li:not(:last-child):after {\n",
       "  content: ',';\n",
       "  padding-right: 5px;\n",
       "}\n",
       "\n",
       ".xr-has-index {\n",
       "  font-weight: bold;\n",
       "}\n",
       "\n",
       ".xr-var-list,\n",
       ".xr-var-item {\n",
       "  display: contents;\n",
       "}\n",
       "\n",
       ".xr-var-item > div,\n",
       ".xr-var-item label,\n",
       ".xr-var-item > .xr-var-name span {\n",
       "  background-color: var(--xr-background-color-row-even);\n",
       "  margin-bottom: 0;\n",
       "}\n",
       "\n",
       ".xr-var-item > .xr-var-name:hover span {\n",
       "  padding-right: 5px;\n",
       "}\n",
       "\n",
       ".xr-var-list > li:nth-child(odd) > div,\n",
       ".xr-var-list > li:nth-child(odd) > label,\n",
       ".xr-var-list > li:nth-child(odd) > .xr-var-name span {\n",
       "  background-color: var(--xr-background-color-row-odd);\n",
       "}\n",
       "\n",
       ".xr-var-name {\n",
       "  grid-column: 1;\n",
       "}\n",
       "\n",
       ".xr-var-dims {\n",
       "  grid-column: 2;\n",
       "}\n",
       "\n",
       ".xr-var-dtype {\n",
       "  grid-column: 3;\n",
       "  text-align: right;\n",
       "  color: var(--xr-font-color2);\n",
       "}\n",
       "\n",
       ".xr-var-preview {\n",
       "  grid-column: 4;\n",
       "}\n",
       "\n",
       ".xr-index-preview {\n",
       "  grid-column: 2 / 5;\n",
       "  color: var(--xr-font-color2);\n",
       "}\n",
       "\n",
       ".xr-var-name,\n",
       ".xr-var-dims,\n",
       ".xr-var-dtype,\n",
       ".xr-preview,\n",
       ".xr-attrs dt {\n",
       "  white-space: nowrap;\n",
       "  overflow: hidden;\n",
       "  text-overflow: ellipsis;\n",
       "  padding-right: 10px;\n",
       "}\n",
       "\n",
       ".xr-var-name:hover,\n",
       ".xr-var-dims:hover,\n",
       ".xr-var-dtype:hover,\n",
       ".xr-attrs dt:hover {\n",
       "  overflow: visible;\n",
       "  width: auto;\n",
       "  z-index: 1;\n",
       "}\n",
       "\n",
       ".xr-var-attrs,\n",
       ".xr-var-data,\n",
       ".xr-index-data {\n",
       "  display: none;\n",
       "  background-color: var(--xr-background-color) !important;\n",
       "  padding-bottom: 5px !important;\n",
       "}\n",
       "\n",
       ".xr-var-attrs-in:checked ~ .xr-var-attrs,\n",
       ".xr-var-data-in:checked ~ .xr-var-data,\n",
       ".xr-index-data-in:checked ~ .xr-index-data {\n",
       "  display: block;\n",
       "}\n",
       "\n",
       ".xr-var-data > table {\n",
       "  float: right;\n",
       "}\n",
       "\n",
       ".xr-var-name span,\n",
       ".xr-var-data,\n",
       ".xr-index-name div,\n",
       ".xr-index-data,\n",
       ".xr-attrs {\n",
       "  padding-left: 25px !important;\n",
       "}\n",
       "\n",
       ".xr-attrs,\n",
       ".xr-var-attrs,\n",
       ".xr-var-data,\n",
       ".xr-index-data {\n",
       "  grid-column: 1 / -1;\n",
       "}\n",
       "\n",
       "dl.xr-attrs {\n",
       "  padding: 0;\n",
       "  margin: 0;\n",
       "  display: grid;\n",
       "  grid-template-columns: 125px auto;\n",
       "}\n",
       "\n",
       ".xr-attrs dt,\n",
       ".xr-attrs dd {\n",
       "  padding: 0;\n",
       "  margin: 0;\n",
       "  float: left;\n",
       "  padding-right: 10px;\n",
       "  width: auto;\n",
       "}\n",
       "\n",
       ".xr-attrs dt {\n",
       "  font-weight: normal;\n",
       "  grid-column: 1;\n",
       "}\n",
       "\n",
       ".xr-attrs dt:hover span {\n",
       "  display: inline-block;\n",
       "  background: var(--xr-background-color);\n",
       "  padding-right: 10px;\n",
       "}\n",
       "\n",
       ".xr-attrs dd {\n",
       "  grid-column: 2;\n",
       "  white-space: pre-wrap;\n",
       "  word-break: break-all;\n",
       "}\n",
       "\n",
       ".xr-icon-database,\n",
       ".xr-icon-file-text2,\n",
       ".xr-no-icon {\n",
       "  display: inline-block;\n",
       "  vertical-align: middle;\n",
       "  width: 1em;\n",
       "  height: 1.5em !important;\n",
       "  stroke-width: 0;\n",
       "  stroke: currentColor;\n",
       "  fill: currentColor;\n",
       "}\n",
       "</style><pre class='xr-text-repr-fallback'>&lt;xarray.Dataset&gt;\n",
       "Dimensions:           (locations: 66190, quantiles: 107, years: 14)\n",
       "Coordinates:\n",
       "  * years             (years) int32 2020 2030 2040 2050 ... 2120 2130 2140 2150\n",
       "  * locations         (locations) int32 1 2 3 ... 1018003580 1018003590\n",
       "  * quantiles         (quantiles) float32 0.0 0.001 0.005 ... 0.995 0.999 1.0\n",
       "Data variables:\n",
       "    lat               (locations) float32 ...\n",
       "    lon               (locations) float32 ...\n",
       "    sea_level_change  (quantiles, years, locations) float32 ...\n",
       "Attributes:\n",
       "    description:  Combined confidence output file for AR6 sea-level change pr...\n",
       "    history:      Created Sat Jul 10 15:21:03 2021\n",
       "    source:       Files Combined: /projects/kopp/ar6/regional/pboxes/pb_1f/ss...</pre><div class='xr-wrap' style='display:none'><div class='xr-header'><div class='xr-obj-type'>xarray.Dataset</div></div><ul class='xr-sections'><li class='xr-section-item'><input id='section-ff292540-a1db-432d-b5f6-658edb5e0994' class='xr-section-summary-in' type='checkbox' disabled ><label for='section-ff292540-a1db-432d-b5f6-658edb5e0994' class='xr-section-summary'  title='Expand/collapse section'>Dimensions:</label><div class='xr-section-inline-details'><ul class='xr-dim-list'><li><span class='xr-has-index'>locations</span>: 66190</li><li><span class='xr-has-index'>quantiles</span>: 107</li><li><span class='xr-has-index'>years</span>: 14</li></ul></div><div class='xr-section-details'></div></li><li class='xr-section-item'><input id='section-f2e9e44c-3548-41c5-a374-bbda9d5f1cbe' class='xr-section-summary-in' type='checkbox'  checked><label for='section-f2e9e44c-3548-41c5-a374-bbda9d5f1cbe' class='xr-section-summary' >Coordinates: <span>(3)</span></label><div class='xr-section-inline-details'></div><div class='xr-section-details'><ul class='xr-var-list'><li class='xr-var-item'><div class='xr-var-name'><span class='xr-has-index'>years</span></div><div class='xr-var-dims'>(years)</div><div class='xr-var-dtype'>int32</div><div class='xr-var-preview xr-preview'>2020 2030 2040 ... 2130 2140 2150</div><input id='attrs-ce900256-d400-4e01-8f11-96528ced6108' class='xr-var-attrs-in' type='checkbox' disabled><label for='attrs-ce900256-d400-4e01-8f11-96528ced6108' title='Show/Hide attributes'><svg class='icon xr-icon-file-text2'><use xlink:href='#icon-file-text2'></use></svg></label><input id='data-5c9a6886-04b6-4c21-828e-fdd1d97e9bdf' class='xr-var-data-in' type='checkbox'><label for='data-5c9a6886-04b6-4c21-828e-fdd1d97e9bdf' title='Show/Hide data repr'><svg class='icon xr-icon-database'><use xlink:href='#icon-database'></use></svg></label><div class='xr-var-attrs'><dl class='xr-attrs'></dl></div><div class='xr-var-data'><pre>array([2020, 2030, 2040, 2050, 2060, 2070, 2080, 2090, 2100, 2110, 2120, 2130,\n",
       "       2140, 2150])</pre></div></li><li class='xr-var-item'><div class='xr-var-name'><span class='xr-has-index'>locations</span></div><div class='xr-var-dims'>(locations)</div><div class='xr-var-dtype'>int32</div><div class='xr-var-preview xr-preview'>1 2 3 ... 1018003580 1018003590</div><input id='attrs-24548313-aacf-405d-a6e4-225a7bdb9f29' class='xr-var-attrs-in' type='checkbox' disabled><label for='attrs-24548313-aacf-405d-a6e4-225a7bdb9f29' title='Show/Hide attributes'><svg class='icon xr-icon-file-text2'><use xlink:href='#icon-file-text2'></use></svg></label><input id='data-e541aa1e-ff76-45a0-a14a-f28086806900' class='xr-var-data-in' type='checkbox'><label for='data-e541aa1e-ff76-45a0-a14a-f28086806900' title='Show/Hide data repr'><svg class='icon xr-icon-database'><use xlink:href='#icon-database'></use></svg></label><div class='xr-var-attrs'><dl class='xr-attrs'></dl></div><div class='xr-var-data'><pre>array([         1,          2,          3, ..., 1018003570, 1018003580,\n",
       "       1018003590])</pre></div></li><li class='xr-var-item'><div class='xr-var-name'><span class='xr-has-index'>quantiles</span></div><div class='xr-var-dims'>(quantiles)</div><div class='xr-var-dtype'>float32</div><div class='xr-var-preview xr-preview'>0.0 0.001 0.005 ... 0.995 0.999 1.0</div><input id='attrs-a0f8bfe3-1a47-40f5-a514-3e4bb3df9300' class='xr-var-attrs-in' type='checkbox' disabled><label for='attrs-a0f8bfe3-1a47-40f5-a514-3e4bb3df9300' title='Show/Hide attributes'><svg class='icon xr-icon-file-text2'><use xlink:href='#icon-file-text2'></use></svg></label><input id='data-8a2a1760-6d6a-45fb-8bc8-6657461cb40b' class='xr-var-data-in' type='checkbox'><label for='data-8a2a1760-6d6a-45fb-8bc8-6657461cb40b' title='Show/Hide data repr'><svg class='icon xr-icon-database'><use xlink:href='#icon-database'></use></svg></label><div class='xr-var-attrs'><dl class='xr-attrs'></dl></div><div class='xr-var-data'><pre>array([0.   , 0.001, 0.005, 0.01 , 0.02 , 0.03 , 0.04 , 0.05 , 0.06 , 0.07 ,\n",
       "       0.08 , 0.09 , 0.1  , 0.11 , 0.12 , 0.13 , 0.14 , 0.15 , 0.16 , 0.167,\n",
       "       0.17 , 0.18 , 0.19 , 0.2  , 0.21 , 0.22 , 0.23 , 0.24 , 0.25 , 0.26 ,\n",
       "       0.27 , 0.28 , 0.29 , 0.3  , 0.31 , 0.32 , 0.33 , 0.34 , 0.35 , 0.36 ,\n",
       "       0.37 , 0.38 , 0.39 , 0.4  , 0.41 , 0.42 , 0.43 , 0.44 , 0.45 , 0.46 ,\n",
       "       0.47 , 0.48 , 0.49 , 0.5  , 0.51 , 0.52 , 0.53 , 0.54 , 0.55 , 0.56 ,\n",
       "       0.57 , 0.58 , 0.59 , 0.6  , 0.61 , 0.62 , 0.63 , 0.64 , 0.65 , 0.66 ,\n",
       "       0.67 , 0.68 , 0.69 , 0.7  , 0.71 , 0.72 , 0.73 , 0.74 , 0.75 , 0.76 ,\n",
       "       0.77 , 0.78 , 0.79 , 0.8  , 0.81 , 0.82 , 0.83 , 0.833, 0.84 , 0.85 ,\n",
       "       0.86 , 0.87 , 0.88 , 0.89 , 0.9  , 0.91 , 0.92 , 0.93 , 0.94 , 0.95 ,\n",
       "       0.96 , 0.97 , 0.98 , 0.99 , 0.995, 0.999, 1.   ], dtype=float32)</pre></div></li></ul></div></li><li class='xr-section-item'><input id='section-6a46fba7-3da0-4c6e-8cb1-727830f9f775' class='xr-section-summary-in' type='checkbox'  checked><label for='section-6a46fba7-3da0-4c6e-8cb1-727830f9f775' class='xr-section-summary' >Data variables: <span>(3)</span></label><div class='xr-section-inline-details'></div><div class='xr-section-details'><ul class='xr-var-list'><li class='xr-var-item'><div class='xr-var-name'><span>lat</span></div><div class='xr-var-dims'>(locations)</div><div class='xr-var-dtype'>float32</div><div class='xr-var-preview xr-preview'>...</div><input id='attrs-4f46154e-d4c6-44b0-8f32-60e40055660a' class='xr-var-attrs-in' type='checkbox' ><label for='attrs-4f46154e-d4c6-44b0-8f32-60e40055660a' title='Show/Hide attributes'><svg class='icon xr-icon-file-text2'><use xlink:href='#icon-file-text2'></use></svg></label><input id='data-05274825-2fcf-4f18-b5e6-a4d10ff18923' class='xr-var-data-in' type='checkbox'><label for='data-05274825-2fcf-4f18-b5e6-a4d10ff18923' title='Show/Hide data repr'><svg class='icon xr-icon-database'><use xlink:href='#icon-database'></use></svg></label><div class='xr-var-attrs'><dl class='xr-attrs'><dt><span>units :</span></dt><dd>Degrees North</dd></dl></div><div class='xr-var-data'><pre>[66190 values with dtype=float32]</pre></div></li><li class='xr-var-item'><div class='xr-var-name'><span>lon</span></div><div class='xr-var-dims'>(locations)</div><div class='xr-var-dtype'>float32</div><div class='xr-var-preview xr-preview'>...</div><input id='attrs-d2a63e68-c91e-4e21-a815-517ce37e163d' class='xr-var-attrs-in' type='checkbox' ><label for='attrs-d2a63e68-c91e-4e21-a815-517ce37e163d' title='Show/Hide attributes'><svg class='icon xr-icon-file-text2'><use xlink:href='#icon-file-text2'></use></svg></label><input id='data-51799bac-4db1-4f40-8ed1-f76c6ab3d283' class='xr-var-data-in' type='checkbox'><label for='data-51799bac-4db1-4f40-8ed1-f76c6ab3d283' title='Show/Hide data repr'><svg class='icon xr-icon-database'><use xlink:href='#icon-database'></use></svg></label><div class='xr-var-attrs'><dl class='xr-attrs'><dt><span>units :</span></dt><dd>Degrees East</dd></dl></div><div class='xr-var-data'><pre>[66190 values with dtype=float32]</pre></div></li><li class='xr-var-item'><div class='xr-var-name'><span>sea_level_change</span></div><div class='xr-var-dims'>(quantiles, years, locations)</div><div class='xr-var-dtype'>float32</div><div class='xr-var-preview xr-preview'>...</div><input id='attrs-d9086935-e13e-4fd0-9a87-2a183e3039e8' class='xr-var-attrs-in' type='checkbox' ><label for='attrs-d9086935-e13e-4fd0-9a87-2a183e3039e8' title='Show/Hide attributes'><svg class='icon xr-icon-file-text2'><use xlink:href='#icon-file-text2'></use></svg></label><input id='data-28f898b6-5ab4-463e-89ea-c866a35c5163' class='xr-var-data-in' type='checkbox'><label for='data-28f898b6-5ab4-463e-89ea-c866a35c5163' title='Show/Hide data repr'><svg class='icon xr-icon-database'><use xlink:href='#icon-database'></use></svg></label><div class='xr-var-attrs'><dl class='xr-attrs'><dt><span>units :</span></dt><dd>mm</dd></dl></div><div class='xr-var-data'><pre>[99152620 values with dtype=float32]</pre></div></li></ul></div></li><li class='xr-section-item'><input id='section-a9ee04eb-b0ce-4678-8c0a-321ae82173cc' class='xr-section-summary-in' type='checkbox'  ><label for='section-a9ee04eb-b0ce-4678-8c0a-321ae82173cc' class='xr-section-summary' >Indexes: <span>(3)</span></label><div class='xr-section-inline-details'></div><div class='xr-section-details'><ul class='xr-var-list'><li class='xr-var-item'><div class='xr-index-name'><div>years</div></div><div class='xr-index-preview'>PandasIndex</div><div></div><input id='index-1fddcd08-991f-47bf-b410-5c07b2573566' class='xr-index-data-in' type='checkbox'/><label for='index-1fddcd08-991f-47bf-b410-5c07b2573566' title='Show/Hide index repr'><svg class='icon xr-icon-database'><use xlink:href='#icon-database'></use></svg></label><div class='xr-index-data'><pre>PandasIndex(Index([2020, 2030, 2040, 2050, 2060, 2070, 2080, 2090, 2100, 2110, 2120, 2130,\n",
       "       2140, 2150],\n",
       "      dtype=&#x27;int32&#x27;, name=&#x27;years&#x27;))</pre></div></li><li class='xr-var-item'><div class='xr-index-name'><div>locations</div></div><div class='xr-index-preview'>PandasIndex</div><div></div><input id='index-f771370d-c08b-4bbf-b874-288072d1a76f' class='xr-index-data-in' type='checkbox'/><label for='index-f771370d-c08b-4bbf-b874-288072d1a76f' title='Show/Hide index repr'><svg class='icon xr-icon-database'><use xlink:href='#icon-database'></use></svg></label><div class='xr-index-data'><pre>PandasIndex(Index([         1,          2,          3,          5,          7,          8,\n",
       "                9,         10,         11,         12,\n",
       "       ...\n",
       "       1018003500, 1018003510, 1018003520, 1018003530, 1018003540, 1018003550,\n",
       "       1018003560, 1018003570, 1018003580, 1018003590],\n",
       "      dtype=&#x27;int32&#x27;, name=&#x27;locations&#x27;, length=66190))</pre></div></li><li class='xr-var-item'><div class='xr-index-name'><div>quantiles</div></div><div class='xr-index-preview'>PandasIndex</div><div></div><input id='index-d6a37c81-bb52-427a-b4c6-07c596fe1e69' class='xr-index-data-in' type='checkbox'/><label for='index-d6a37c81-bb52-427a-b4c6-07c596fe1e69' title='Show/Hide index repr'><svg class='icon xr-icon-database'><use xlink:href='#icon-database'></use></svg></label><div class='xr-index-data'><pre>PandasIndex(Index([                  0.0, 0.0010000000474974513,  0.004999999888241291,\n",
       "        0.009999999776482582,  0.019999999552965164,  0.029999999329447746,\n",
       "         0.03999999910593033,   0.05000000074505806,   0.05999999865889549,\n",
       "         0.07000000029802322,\n",
       "       ...\n",
       "          0.9300000071525574,    0.9399999976158142,     0.949999988079071,\n",
       "          0.9599999785423279,    0.9700000286102295,    0.9800000190734863,\n",
       "          0.9900000095367432,    0.9950000047683716,    0.9990000128746033,\n",
       "                         1.0],\n",
       "      dtype=&#x27;float32&#x27;, name=&#x27;quantiles&#x27;, length=107))</pre></div></li></ul></div></li><li class='xr-section-item'><input id='section-6b7fe3d4-b9a2-489e-9bae-d698bd56e7ad' class='xr-section-summary-in' type='checkbox'  checked><label for='section-6b7fe3d4-b9a2-489e-9bae-d698bd56e7ad' class='xr-section-summary' >Attributes: <span>(3)</span></label><div class='xr-section-inline-details'></div><div class='xr-section-details'><dl class='xr-attrs'><dt><span>description :</span></dt><dd>Combined confidence output file for AR6 sea-level change projections</dd><dt><span>history :</span></dt><dd>Created Sat Jul 10 15:21:03 2021</dd><dt><span>source :</span></dt><dd>Files Combined: /projects/kopp/ar6/regional/pboxes/pb_1f/ssp245/total-workflow.nc,/projects/kopp/ar6/regional/pboxes/pb_1e/ssp245/total-workflow.nc</dd></dl></div></li></ul></div></div>"
      ],
      "text/plain": [
       "<xarray.Dataset>\n",
       "Dimensions:           (locations: 66190, quantiles: 107, years: 14)\n",
       "Coordinates:\n",
       "  * years             (years) int32 2020 2030 2040 2050 ... 2120 2130 2140 2150\n",
       "  * locations         (locations) int32 1 2 3 ... 1018003580 1018003590\n",
       "  * quantiles         (quantiles) float32 0.0 0.001 0.005 ... 0.995 0.999 1.0\n",
       "Data variables:\n",
       "    lat               (locations) float32 ...\n",
       "    lon               (locations) float32 ...\n",
       "    sea_level_change  (quantiles, years, locations) float32 ...\n",
       "Attributes:\n",
       "    description:  Combined confidence output file for AR6 sea-level change pr...\n",
       "    history:      Created Sat Jul 10 15:21:03 2021\n",
       "    source:       Files Combined: /projects/kopp/ar6/regional/pboxes/pb_1f/ss..."
      ]
     },
     "execution_count": 4,
     "metadata": {},
     "output_type": "execute_result"
    },
    {
     "data": {
      "application/javascript": "\n            setTimeout(function() {\n                var nbb_cell_id = 4;\n                var nbb_unformatted_code = \"# open datasets\\nds_26ssp = xr.open_dataset(ds_ssp26_path)\\nds_45ssp = xr.open_dataset(ds_ssp45_path)\\nds_85ssp = xr.open_dataset(ds_ssp85_path)\\n\\n# check original dataset\\nds_45ssp\";\n                var nbb_formatted_code = \"# open datasets\\nds_26ssp = xr.open_dataset(ds_ssp26_path)\\nds_45ssp = xr.open_dataset(ds_ssp45_path)\\nds_85ssp = xr.open_dataset(ds_ssp85_path)\\n\\n# check original dataset\\nds_45ssp\";\n                var nbb_cells = Jupyter.notebook.get_cells();\n                for (var i = 0; i < nbb_cells.length; ++i) {\n                    if (nbb_cells[i].input_prompt_number == nbb_cell_id) {\n                        if (nbb_cells[i].get_text() == nbb_unformatted_code) {\n                             nbb_cells[i].set_text(nbb_formatted_code);\n                        }\n                        break;\n                    }\n                }\n            }, 500);\n            ",
      "text/plain": [
       "<IPython.core.display.Javascript object>"
      ]
     },
     "metadata": {},
     "output_type": "display_data"
    }
   ],
   "source": [
    "# open datasets\n",
    "ds_26ssp = xr.open_dataset(ds_ssp26_path)\n",
    "ds_45ssp = xr.open_dataset(ds_ssp45_path)\n",
    "ds_85ssp = xr.open_dataset(ds_ssp85_path)\n",
    "\n",
    "# check original dataset\n",
    "ds_45ssp"
   ]
  },
  {
   "cell_type": "code",
   "execution_count": 5,
   "id": "d19468d7",
   "metadata": {},
   "outputs": [
    {
     "data": {
      "application/javascript": "\n            setTimeout(function() {\n                var nbb_cell_id = 5;\n                var nbb_unformatted_code = \"%%capture cap --no-stderr\\n# check original CF compliancy\\n\\ncheck_compliancy(testfile=ds_ssp26_path, working_dir=CF_dir)\";\n                var nbb_formatted_code = \"%%capture cap --no-stderr\\n# check original CF compliancy\\n\\ncheck_compliancy(testfile=ds_ssp26_path, working_dir=CF_dir)\";\n                var nbb_cells = Jupyter.notebook.get_cells();\n                for (var i = 0; i < nbb_cells.length; ++i) {\n                    if (nbb_cells[i].input_prompt_number == nbb_cell_id) {\n                        if (nbb_cells[i].get_text() == nbb_unformatted_code) {\n                             nbb_cells[i].set_text(nbb_formatted_code);\n                        }\n                        break;\n                    }\n                }\n            }, 500);\n            ",
      "text/plain": [
       "<IPython.core.display.Javascript object>"
      ]
     },
     "metadata": {},
     "output_type": "display_data"
    }
   ],
   "source": [
    "%%capture cap --no-stderr\n",
    "# check original CF compliancy\n",
    "\n",
    "check_compliancy(testfile=ds_ssp26_path, working_dir=CF_dir)"
   ]
  },
  {
   "cell_type": "code",
   "execution_count": 6,
   "id": "71a038bc",
   "metadata": {},
   "outputs": [
    {
     "name": "stdout",
     "output_type": "stream",
     "text": [
      "{'P:\\\\11205479-coclico\\\\FASTTRACK_DATA\\\\17_AR6_SLP_IPCC\\\\total_ssp126_medium_confidence_values.nc': {'warnings': '10', 'errors': '2'}}\n"
     ]
    },
    {
     "data": {
      "application/javascript": "\n            setTimeout(function() {\n                var nbb_cell_id = 6;\n                var nbb_unformatted_code = \"# save original CF compliancy\\nsave_compliancy(cap, testfile=ds_ssp26_path, working_dir=CF_dir)\";\n                var nbb_formatted_code = \"# save original CF compliancy\\nsave_compliancy(cap, testfile=ds_ssp26_path, working_dir=CF_dir)\";\n                var nbb_cells = Jupyter.notebook.get_cells();\n                for (var i = 0; i < nbb_cells.length; ++i) {\n                    if (nbb_cells[i].input_prompt_number == nbb_cell_id) {\n                        if (nbb_cells[i].get_text() == nbb_unformatted_code) {\n                             nbb_cells[i].set_text(nbb_formatted_code);\n                        }\n                        break;\n                    }\n                }\n            }, 500);\n            ",
      "text/plain": [
       "<IPython.core.display.Javascript object>"
      ]
     },
     "metadata": {},
     "output_type": "display_data"
    }
   ],
   "source": [
    "# save original CF compliancy\n",
    "save_compliancy(cap, testfile=ds_ssp26_path, working_dir=CF_dir)"
   ]
  },
  {
   "cell_type": "code",
   "execution_count": 7,
   "id": "238f34a2",
   "metadata": {},
   "outputs": [
    {
     "data": {
      "application/javascript": "\n            setTimeout(function() {\n                var nbb_cell_id = 7;\n                var nbb_unformatted_code = \"%%capture cap --no-stderr\\n# check original CF compliancy\\n\\ncheck_compliancy(testfile=ds_ssp45_path, working_dir=CF_dir)\";\n                var nbb_formatted_code = \"%%capture cap --no-stderr\\n# check original CF compliancy\\n\\ncheck_compliancy(testfile=ds_ssp45_path, working_dir=CF_dir)\";\n                var nbb_cells = Jupyter.notebook.get_cells();\n                for (var i = 0; i < nbb_cells.length; ++i) {\n                    if (nbb_cells[i].input_prompt_number == nbb_cell_id) {\n                        if (nbb_cells[i].get_text() == nbb_unformatted_code) {\n                             nbb_cells[i].set_text(nbb_formatted_code);\n                        }\n                        break;\n                    }\n                }\n            }, 500);\n            ",
      "text/plain": [
       "<IPython.core.display.Javascript object>"
      ]
     },
     "metadata": {},
     "output_type": "display_data"
    }
   ],
   "source": [
    "%%capture cap --no-stderr\n",
    "# check original CF compliancy\n",
    "\n",
    "check_compliancy(testfile=ds_ssp45_path, working_dir=CF_dir)"
   ]
  },
  {
   "cell_type": "code",
   "execution_count": 8,
   "id": "9cadb3d4",
   "metadata": {},
   "outputs": [
    {
     "name": "stdout",
     "output_type": "stream",
     "text": [
      "{'P:\\\\11205479-coclico\\\\FASTTRACK_DATA\\\\17_AR6_SLP_IPCC\\\\total_ssp245_medium_confidence_values.nc': {'warnings': '10', 'errors': '2'}}\n"
     ]
    },
    {
     "data": {
      "application/javascript": "\n            setTimeout(function() {\n                var nbb_cell_id = 8;\n                var nbb_unformatted_code = \"# save original CF compliancy\\nsave_compliancy(cap, testfile=ds_ssp45_path, working_dir=CF_dir)\";\n                var nbb_formatted_code = \"# save original CF compliancy\\nsave_compliancy(cap, testfile=ds_ssp45_path, working_dir=CF_dir)\";\n                var nbb_cells = Jupyter.notebook.get_cells();\n                for (var i = 0; i < nbb_cells.length; ++i) {\n                    if (nbb_cells[i].input_prompt_number == nbb_cell_id) {\n                        if (nbb_cells[i].get_text() == nbb_unformatted_code) {\n                             nbb_cells[i].set_text(nbb_formatted_code);\n                        }\n                        break;\n                    }\n                }\n            }, 500);\n            ",
      "text/plain": [
       "<IPython.core.display.Javascript object>"
      ]
     },
     "metadata": {},
     "output_type": "display_data"
    }
   ],
   "source": [
    "# save original CF compliancy\n",
    "save_compliancy(cap, testfile=ds_ssp45_path, working_dir=CF_dir)"
   ]
  },
  {
   "cell_type": "code",
   "execution_count": 9,
   "id": "8720145b",
   "metadata": {},
   "outputs": [
    {
     "data": {
      "application/javascript": "\n            setTimeout(function() {\n                var nbb_cell_id = 9;\n                var nbb_unformatted_code = \"%%capture cap --no-stderr\\n# check original CF compliancy\\n\\ncheck_compliancy(testfile=ds_ssp85_path, working_dir=CF_dir)\";\n                var nbb_formatted_code = \"%%capture cap --no-stderr\\n# check original CF compliancy\\n\\ncheck_compliancy(testfile=ds_ssp85_path, working_dir=CF_dir)\";\n                var nbb_cells = Jupyter.notebook.get_cells();\n                for (var i = 0; i < nbb_cells.length; ++i) {\n                    if (nbb_cells[i].input_prompt_number == nbb_cell_id) {\n                        if (nbb_cells[i].get_text() == nbb_unformatted_code) {\n                             nbb_cells[i].set_text(nbb_formatted_code);\n                        }\n                        break;\n                    }\n                }\n            }, 500);\n            ",
      "text/plain": [
       "<IPython.core.display.Javascript object>"
      ]
     },
     "metadata": {},
     "output_type": "display_data"
    }
   ],
   "source": [
    "%%capture cap --no-stderr\n",
    "# check original CF compliancy\n",
    "\n",
    "check_compliancy(testfile=ds_ssp85_path, working_dir=CF_dir)"
   ]
  },
  {
   "cell_type": "code",
   "execution_count": 10,
   "id": "c310346a",
   "metadata": {},
   "outputs": [
    {
     "name": "stdout",
     "output_type": "stream",
     "text": [
      "{'P:\\\\11205479-coclico\\\\FASTTRACK_DATA\\\\17_AR6_SLP_IPCC\\\\total_ssp585_medium_confidence_values.nc': {'warnings': '10', 'errors': '2'}}\n"
     ]
    },
    {
     "data": {
      "application/javascript": "\n            setTimeout(function() {\n                var nbb_cell_id = 10;\n                var nbb_unformatted_code = \"# save original CF compliancy\\nsave_compliancy(cap, testfile=ds_ssp85_path, working_dir=CF_dir)\";\n                var nbb_formatted_code = \"# save original CF compliancy\\nsave_compliancy(cap, testfile=ds_ssp85_path, working_dir=CF_dir)\";\n                var nbb_cells = Jupyter.notebook.get_cells();\n                for (var i = 0; i < nbb_cells.length; ++i) {\n                    if (nbb_cells[i].input_prompt_number == nbb_cell_id) {\n                        if (nbb_cells[i].get_text() == nbb_unformatted_code) {\n                             nbb_cells[i].set_text(nbb_formatted_code);\n                        }\n                        break;\n                    }\n                }\n            }, 500);\n            ",
      "text/plain": [
       "<IPython.core.display.Javascript object>"
      ]
     },
     "metadata": {},
     "output_type": "display_data"
    }
   ],
   "source": [
    "# save original CF compliancy\n",
    "save_compliancy(cap, testfile=ds_ssp85_path, working_dir=CF_dir)"
   ]
  },
  {
   "attachments": {},
   "cell_type": "markdown",
   "id": "0c557e90",
   "metadata": {},
   "source": [
    "### Make CF compliant alterations to the NetCDF files (dataset dependent)"
   ]
  },
  {
   "cell_type": "code",
   "execution_count": 11,
   "id": "5594baa0",
   "metadata": {},
   "outputs": [
    {
     "data": {
      "application/javascript": "\n            setTimeout(function() {\n                var nbb_cell_id = 11;\n                var nbb_unformatted_code = \"# plt.figure(figsize=(16,9))\\n# plt.scatter(ds['lon'][1030:], ds['lat'][1030:], s=1)\\n# #plt.scatter(ds['longitude'][2000:2100], ds['latitude'][2000:2100], s=1, c='r')\\n# # plt.xlim(-10,50)\\n# # plt.ylim(25,75)\\n# plt.grid()\";\n                var nbb_formatted_code = \"# plt.figure(figsize=(16,9))\\n# plt.scatter(ds['lon'][1030:], ds['lat'][1030:], s=1)\\n# #plt.scatter(ds['longitude'][2000:2100], ds['latitude'][2000:2100], s=1, c='r')\\n# # plt.xlim(-10,50)\\n# # plt.ylim(25,75)\\n# plt.grid()\";\n                var nbb_cells = Jupyter.notebook.get_cells();\n                for (var i = 0; i < nbb_cells.length; ++i) {\n                    if (nbb_cells[i].input_prompt_number == nbb_cell_id) {\n                        if (nbb_cells[i].get_text() == nbb_unformatted_code) {\n                             nbb_cells[i].set_text(nbb_formatted_code);\n                        }\n                        break;\n                    }\n                }\n            }, 500);\n            ",
      "text/plain": [
       "<IPython.core.display.Javascript object>"
      ]
     },
     "metadata": {},
     "output_type": "display_data"
    }
   ],
   "source": [
    "# plt.figure(figsize=(16,9))\n",
    "# plt.scatter(ds['lon'][1030:], ds['lat'][1030:], s=1)\n",
    "# #plt.scatter(ds['longitude'][2000:2100], ds['latitude'][2000:2100], s=1, c='r')\n",
    "# # plt.xlim(-10,50)\n",
    "# # plt.ylim(25,75)\n",
    "# plt.grid()"
   ]
  },
  {
   "cell_type": "code",
   "execution_count": 12,
   "id": "b1a7cded",
   "metadata": {},
   "outputs": [
    {
     "data": {
      "application/javascript": "\n            setTimeout(function() {\n                var nbb_cell_id = 12;\n                var nbb_unformatted_code = \"# rework the datasets\\n\\n# construct lon, lat grid arrays\\nlonl = list(dict.fromkeys(ds_26ssp.lon.values[1030:])) # 1030 is where rasterized output starts (before we have arbitrary points)\\nlatl = list(dict.fromkeys(ds_26ssp.lat.values[1030:])) # 1030 is where rasterized output starts (before we have arbitrary points)\\n\\n# reshape sea level change variable\\nslc_26 = ds_26ssp[\\\"sea_level_change\\\"].values[:,:,1030:].reshape(len(ds_26ssp.quantiles.values), len(ds_26ssp.years.values), len(latl), len(lonl)) # reshaped values\\nslc_45 = ds_45ssp[\\\"sea_level_change\\\"].values[:,:,1030:].reshape(len(ds_45ssp.quantiles.values), len(ds_45ssp.years.values), len(latl), len(lonl)) # reshaped values\\nslc_85 = ds_85ssp[\\\"sea_level_change\\\"].values[:,:,1030:].reshape(len(ds_85ssp.quantiles.values), len(ds_85ssp.years.values), len(latl), len(lonl)) # reshaped values\\n\\n# re-order monotonically\\nslc_26 = slc_26[:,:,:,np.argsort(lonl)]\\nslc_26 = slc_26[:,:,np.argsort(latl),:]\\nslc_45 = slc_45[:,:,:,np.argsort(lonl)]\\nslc_45 = slc_45[:,:,np.argsort(latl),:]\\nslc_85 = slc_85[:,:,:,np.argsort(lonl)]\\nslc_85 = slc_85[:,:,np.argsort(latl),:]\\n\\n# remove items that will be replaced\\nds_26ssp = ds_26ssp.drop_vars({\\\"sea_level_change\\\", \\\"lat\\\", \\\"lon\\\", \\\"locations\\\"}) # make clean reworked dataset\\nds_45ssp = ds_45ssp.drop_vars({\\\"sea_level_change\\\", \\\"lat\\\", \\\"lon\\\", \\\"locations\\\"}) # make clean reworked dataset\\nds_85ssp = ds_85ssp.drop_vars({\\\"sea_level_change\\\", \\\"lat\\\", \\\"lon\\\", \\\"locations\\\"}) # make clean reworked dataset\\n\\n# substitute new items\\nds_26ssp = ds_26ssp.assign_coords({\\\"lat\\\": sorted(latl), \\\"lon\\\": sorted(lonl)}) # assign dimensions\\nds_26ssp = ds_26ssp.assign(slr=([\\\"quantiles\\\", \\\"years\\\", \\\"lat\\\", \\\"lon\\\"], slc_26)) # assign data variabel\\nds_45ssp = ds_45ssp.assign_coords({\\\"lat\\\": sorted(latl), \\\"lon\\\": sorted(lonl)}) # assign dimensions\\nds_45ssp = ds_45ssp.assign(slr=([\\\"quantiles\\\", \\\"years\\\", \\\"lat\\\", \\\"lon\\\"], slc_45)) # assign data variabel\\nds_85ssp = ds_85ssp.assign_coords({\\\"lat\\\": sorted(latl), \\\"lon\\\": sorted(lonl)}) # assign dimensions\\nds_85ssp = ds_85ssp.assign(slr=([\\\"quantiles\\\", \\\"years\\\", \\\"lat\\\", \\\"lon\\\"], slc_85)) # assign data variabel\";\n                var nbb_formatted_code = \"# rework the datasets\\n\\n# construct lon, lat grid arrays\\nlonl = list(\\n    dict.fromkeys(ds_26ssp.lon.values[1030:])\\n)  # 1030 is where rasterized output starts (before we have arbitrary points)\\nlatl = list(\\n    dict.fromkeys(ds_26ssp.lat.values[1030:])\\n)  # 1030 is where rasterized output starts (before we have arbitrary points)\\n\\n# reshape sea level change variable\\nslc_26 = (\\n    ds_26ssp[\\\"sea_level_change\\\"]\\n    .values[:, :, 1030:]\\n    .reshape(\\n        len(ds_26ssp.quantiles.values), len(ds_26ssp.years.values), len(latl), len(lonl)\\n    )\\n)  # reshaped values\\nslc_45 = (\\n    ds_45ssp[\\\"sea_level_change\\\"]\\n    .values[:, :, 1030:]\\n    .reshape(\\n        len(ds_45ssp.quantiles.values), len(ds_45ssp.years.values), len(latl), len(lonl)\\n    )\\n)  # reshaped values\\nslc_85 = (\\n    ds_85ssp[\\\"sea_level_change\\\"]\\n    .values[:, :, 1030:]\\n    .reshape(\\n        len(ds_85ssp.quantiles.values), len(ds_85ssp.years.values), len(latl), len(lonl)\\n    )\\n)  # reshaped values\\n\\n# re-order monotonically\\nslc_26 = slc_26[:, :, :, np.argsort(lonl)]\\nslc_26 = slc_26[:, :, np.argsort(latl), :]\\nslc_45 = slc_45[:, :, :, np.argsort(lonl)]\\nslc_45 = slc_45[:, :, np.argsort(latl), :]\\nslc_85 = slc_85[:, :, :, np.argsort(lonl)]\\nslc_85 = slc_85[:, :, np.argsort(latl), :]\\n\\n# remove items that will be replaced\\nds_26ssp = ds_26ssp.drop_vars(\\n    {\\\"sea_level_change\\\", \\\"lat\\\", \\\"lon\\\", \\\"locations\\\"}\\n)  # make clean reworked dataset\\nds_45ssp = ds_45ssp.drop_vars(\\n    {\\\"sea_level_change\\\", \\\"lat\\\", \\\"lon\\\", \\\"locations\\\"}\\n)  # make clean reworked dataset\\nds_85ssp = ds_85ssp.drop_vars(\\n    {\\\"sea_level_change\\\", \\\"lat\\\", \\\"lon\\\", \\\"locations\\\"}\\n)  # make clean reworked dataset\\n\\n# substitute new items\\nds_26ssp = ds_26ssp.assign_coords(\\n    {\\\"lat\\\": sorted(latl), \\\"lon\\\": sorted(lonl)}\\n)  # assign dimensions\\nds_26ssp = ds_26ssp.assign(\\n    slr=([\\\"quantiles\\\", \\\"years\\\", \\\"lat\\\", \\\"lon\\\"], slc_26)\\n)  # assign data variabel\\nds_45ssp = ds_45ssp.assign_coords(\\n    {\\\"lat\\\": sorted(latl), \\\"lon\\\": sorted(lonl)}\\n)  # assign dimensions\\nds_45ssp = ds_45ssp.assign(\\n    slr=([\\\"quantiles\\\", \\\"years\\\", \\\"lat\\\", \\\"lon\\\"], slc_45)\\n)  # assign data variabel\\nds_85ssp = ds_85ssp.assign_coords(\\n    {\\\"lat\\\": sorted(latl), \\\"lon\\\": sorted(lonl)}\\n)  # assign dimensions\\nds_85ssp = ds_85ssp.assign(\\n    slr=([\\\"quantiles\\\", \\\"years\\\", \\\"lat\\\", \\\"lon\\\"], slc_85)\\n)  # assign data variabel\";\n                var nbb_cells = Jupyter.notebook.get_cells();\n                for (var i = 0; i < nbb_cells.length; ++i) {\n                    if (nbb_cells[i].input_prompt_number == nbb_cell_id) {\n                        if (nbb_cells[i].get_text() == nbb_unformatted_code) {\n                             nbb_cells[i].set_text(nbb_formatted_code);\n                        }\n                        break;\n                    }\n                }\n            }, 500);\n            ",
      "text/plain": [
       "<IPython.core.display.Javascript object>"
      ]
     },
     "metadata": {},
     "output_type": "display_data"
    }
   ],
   "source": [
    "# rework the datasets\n",
    "\n",
    "# construct lon, lat grid arrays\n",
    "lonl = list(dict.fromkeys(ds_26ssp.lon.values[1030:])) # 1030 is where rasterized output starts (before we have arbitrary points)\n",
    "latl = list(dict.fromkeys(ds_26ssp.lat.values[1030:])) # 1030 is where rasterized output starts (before we have arbitrary points)\n",
    "\n",
    "# reshape sea level change variable\n",
    "slc_26 = ds_26ssp[\"sea_level_change\"].values[:,:,1030:].reshape(len(ds_26ssp.quantiles.values), len(ds_26ssp.years.values), len(latl), len(lonl)) # reshaped values\n",
    "slc_45 = ds_45ssp[\"sea_level_change\"].values[:,:,1030:].reshape(len(ds_45ssp.quantiles.values), len(ds_45ssp.years.values), len(latl), len(lonl)) # reshaped values\n",
    "slc_85 = ds_85ssp[\"sea_level_change\"].values[:,:,1030:].reshape(len(ds_85ssp.quantiles.values), len(ds_85ssp.years.values), len(latl), len(lonl)) # reshaped values\n",
    "\n",
    "# re-order monotonically\n",
    "slc_26 = slc_26[:,:,:,np.argsort(lonl)]\n",
    "slc_26 = slc_26[:,:,np.argsort(latl),:]\n",
    "slc_45 = slc_45[:,:,:,np.argsort(lonl)]\n",
    "slc_45 = slc_45[:,:,np.argsort(latl),:]\n",
    "slc_85 = slc_85[:,:,:,np.argsort(lonl)]\n",
    "slc_85 = slc_85[:,:,np.argsort(latl),:]\n",
    "\n",
    "# remove items that will be replaced\n",
    "ds_26ssp = ds_26ssp.drop_vars({\"sea_level_change\", \"lat\", \"lon\", \"locations\"}) # make clean reworked dataset\n",
    "ds_45ssp = ds_45ssp.drop_vars({\"sea_level_change\", \"lat\", \"lon\", \"locations\"}) # make clean reworked dataset\n",
    "ds_85ssp = ds_85ssp.drop_vars({\"sea_level_change\", \"lat\", \"lon\", \"locations\"}) # make clean reworked dataset\n",
    "\n",
    "# substitute new items\n",
    "ds_26ssp = ds_26ssp.assign_coords({\"lat\": sorted(latl), \"lon\": sorted(lonl)}) # assign dimensions\n",
    "ds_26ssp = ds_26ssp.assign(slr=([\"quantiles\", \"years\", \"lat\", \"lon\"], slc_26)) # assign data variabel\n",
    "ds_45ssp = ds_45ssp.assign_coords({\"lat\": sorted(latl), \"lon\": sorted(lonl)}) # assign dimensions\n",
    "ds_45ssp = ds_45ssp.assign(slr=([\"quantiles\", \"years\", \"lat\", \"lon\"], slc_45)) # assign data variabel\n",
    "ds_85ssp = ds_85ssp.assign_coords({\"lat\": sorted(latl), \"lon\": sorted(lonl)}) # assign dimensions\n",
    "ds_85ssp = ds_85ssp.assign(slr=([\"quantiles\", \"years\", \"lat\", \"lon\"], slc_85)) # assign data variabel"
   ]
  },
  {
   "cell_type": "code",
   "execution_count": 13,
   "id": "51642e7d",
   "metadata": {},
   "outputs": [
    {
     "data": {
      "application/javascript": "\n            setTimeout(function() {\n                var nbb_cell_id = 13;\n                var nbb_unformatted_code = \"# NetCDF variable and dimension alterations\\n\\n# rename or swap dimension names, the latter in case the name already exists as coordinate\\nds_26ssp = ds_26ssp.rename_dims({\\\"years\\\": \\\"time\\\", \\\"quantiles\\\": \\\"ensemble\\\"})\\nds_45ssp = ds_45ssp.rename_dims({\\\"years\\\": \\\"time\\\", \\\"quantiles\\\": \\\"ensemble\\\"})\\nds_85ssp = ds_85ssp.rename_dims({\\\"years\\\": \\\"time\\\", \\\"quantiles\\\": \\\"ensemble\\\"})\\n\\n# rename variables, if necessary\\nds_26ssp = ds_26ssp.rename_vars({\\\"years\\\": \\\"time\\\", \\\"quantiles\\\": \\\"ensemble\\\"})\\nds_45ssp = ds_45ssp.rename_vars({\\\"years\\\": \\\"time\\\", \\\"quantiles\\\": \\\"ensemble\\\"})\\nds_85ssp = ds_85ssp.rename_vars({\\\"years\\\": \\\"time\\\", \\\"quantiles\\\": \\\"ensemble\\\"})\\n\\n# make quantiles percentages for percentiles\\nds_26ssp['ensemble'] = np.around(ds_26ssp['ensemble'].values*100, decimals=2)\\nds_45ssp['ensemble'] = np.around(ds_45ssp['ensemble'].values*100, decimals=2)\\nds_85ssp['ensemble'] = np.around(ds_85ssp['ensemble'].values*100, decimals=2)\";\n                var nbb_formatted_code = \"# NetCDF variable and dimension alterations\\n\\n# rename or swap dimension names, the latter in case the name already exists as coordinate\\nds_26ssp = ds_26ssp.rename_dims({\\\"years\\\": \\\"time\\\", \\\"quantiles\\\": \\\"ensemble\\\"})\\nds_45ssp = ds_45ssp.rename_dims({\\\"years\\\": \\\"time\\\", \\\"quantiles\\\": \\\"ensemble\\\"})\\nds_85ssp = ds_85ssp.rename_dims({\\\"years\\\": \\\"time\\\", \\\"quantiles\\\": \\\"ensemble\\\"})\\n\\n# rename variables, if necessary\\nds_26ssp = ds_26ssp.rename_vars({\\\"years\\\": \\\"time\\\", \\\"quantiles\\\": \\\"ensemble\\\"})\\nds_45ssp = ds_45ssp.rename_vars({\\\"years\\\": \\\"time\\\", \\\"quantiles\\\": \\\"ensemble\\\"})\\nds_85ssp = ds_85ssp.rename_vars({\\\"years\\\": \\\"time\\\", \\\"quantiles\\\": \\\"ensemble\\\"})\\n\\n# make quantiles percentages for percentiles\\nds_26ssp[\\\"ensemble\\\"] = np.around(ds_26ssp[\\\"ensemble\\\"].values * 100, decimals=2)\\nds_45ssp[\\\"ensemble\\\"] = np.around(ds_45ssp[\\\"ensemble\\\"].values * 100, decimals=2)\\nds_85ssp[\\\"ensemble\\\"] = np.around(ds_85ssp[\\\"ensemble\\\"].values * 100, decimals=2)\";\n                var nbb_cells = Jupyter.notebook.get_cells();\n                for (var i = 0; i < nbb_cells.length; ++i) {\n                    if (nbb_cells[i].input_prompt_number == nbb_cell_id) {\n                        if (nbb_cells[i].get_text() == nbb_unformatted_code) {\n                             nbb_cells[i].set_text(nbb_formatted_code);\n                        }\n                        break;\n                    }\n                }\n            }, 500);\n            ",
      "text/plain": [
       "<IPython.core.display.Javascript object>"
      ]
     },
     "metadata": {},
     "output_type": "display_data"
    }
   ],
   "source": [
    "# NetCDF variable and dimension alterations\n",
    "\n",
    "# rename or swap dimension names, the latter in case the name already exists as coordinate\n",
    "ds_26ssp = ds_26ssp.rename_dims({\"years\": \"time\", \"quantiles\": \"ensemble\"})\n",
    "ds_45ssp = ds_45ssp.rename_dims({\"years\": \"time\", \"quantiles\": \"ensemble\"})\n",
    "ds_85ssp = ds_85ssp.rename_dims({\"years\": \"time\", \"quantiles\": \"ensemble\"})\n",
    "\n",
    "# rename variables, if necessary\n",
    "ds_26ssp = ds_26ssp.rename_vars({\"years\": \"time\", \"quantiles\": \"ensemble\"})\n",
    "ds_45ssp = ds_45ssp.rename_vars({\"years\": \"time\", \"quantiles\": \"ensemble\"})\n",
    "ds_85ssp = ds_85ssp.rename_vars({\"years\": \"time\", \"quantiles\": \"ensemble\"})\n",
    "\n",
    "# make quantiles percentages for percentiles\n",
    "ds_26ssp['ensemble'] = np.around(ds_26ssp['ensemble'].values*100, decimals=2)\n",
    "ds_45ssp['ensemble'] = np.around(ds_45ssp['ensemble'].values*100, decimals=2)\n",
    "ds_85ssp['ensemble'] = np.around(ds_85ssp['ensemble'].values*100, decimals=2)"
   ]
  },
  {
   "cell_type": "code",
   "execution_count": 14,
   "id": "b32b70e1",
   "metadata": {},
   "outputs": [
    {
     "data": {
      "application/javascript": "\n            setTimeout(function() {\n                var nbb_cell_id = 14;\n                var nbb_unformatted_code = \"for i in [ds_26ssp, ds_45ssp, ds_85ssp]:\\n    i[\\\"time\\\"].attrs[\\\"long_name\\\"] = \\\"time\\\"\\n    i[\\\"time\\\"].attrs[\\\"units\\\"] = \\\"yr\\\"\\n    i[\\\"ensemble\\\"].attrs[\\\"long_name\\\"] = \\\"ensemble\\\"\\n    i[\\\"ensemble\\\"].attrs[\\\"units\\\"] = \\\"1\\\"\\n    i[\\\"lat\\\"].attrs[\\\"long_name\\\"] = \\\"latitude\\\"\\n    i[\\\"lat\\\"].attrs[\\\"standard_name\\\"] = \\\"latitude\\\"\\n    i[\\\"lat\\\"].attrs[\\\"units\\\"] = \\\"degrees_north\\\"\\n    i[\\\"lon\\\"].attrs[\\\"long_name\\\"] = \\\"longitude\\\"\\n    i[\\\"lon\\\"].attrs[\\\"standard_name\\\"] = \\\"longitude\\\"\\n    i[\\\"lon\\\"].attrs[\\\"units\\\"] = \\\"degrees_east\\\"\\n    i[\\\"slr\\\"].attrs[\\\"long_name\\\"] = \\\"sea level rise\\\"\\n    i[\\\"slr\\\"].attrs[\\\"units\\\"] = \\\"mm\\\"\";\n                var nbb_formatted_code = \"for i in [ds_26ssp, ds_45ssp, ds_85ssp]:\\n    i[\\\"time\\\"].attrs[\\\"long_name\\\"] = \\\"time\\\"\\n    i[\\\"time\\\"].attrs[\\\"units\\\"] = \\\"yr\\\"\\n    i[\\\"ensemble\\\"].attrs[\\\"long_name\\\"] = \\\"ensemble\\\"\\n    i[\\\"ensemble\\\"].attrs[\\\"units\\\"] = \\\"1\\\"\\n    i[\\\"lat\\\"].attrs[\\\"long_name\\\"] = \\\"latitude\\\"\\n    i[\\\"lat\\\"].attrs[\\\"standard_name\\\"] = \\\"latitude\\\"\\n    i[\\\"lat\\\"].attrs[\\\"units\\\"] = \\\"degrees_north\\\"\\n    i[\\\"lon\\\"].attrs[\\\"long_name\\\"] = \\\"longitude\\\"\\n    i[\\\"lon\\\"].attrs[\\\"standard_name\\\"] = \\\"longitude\\\"\\n    i[\\\"lon\\\"].attrs[\\\"units\\\"] = \\\"degrees_east\\\"\\n    i[\\\"slr\\\"].attrs[\\\"long_name\\\"] = \\\"sea level rise\\\"\\n    i[\\\"slr\\\"].attrs[\\\"units\\\"] = \\\"mm\\\"\";\n                var nbb_cells = Jupyter.notebook.get_cells();\n                for (var i = 0; i < nbb_cells.length; ++i) {\n                    if (nbb_cells[i].input_prompt_number == nbb_cell_id) {\n                        if (nbb_cells[i].get_text() == nbb_unformatted_code) {\n                             nbb_cells[i].set_text(nbb_formatted_code);\n                        }\n                        break;\n                    }\n                }\n            }, 500);\n            ",
      "text/plain": [
       "<IPython.core.display.Javascript object>"
      ]
     },
     "metadata": {},
     "output_type": "display_data"
    }
   ],
   "source": [
    "for i in [ds_26ssp, ds_45ssp, ds_85ssp]:\n",
    "    i[\"time\"].attrs[\"long_name\"] = \"time\"\n",
    "    i[\"time\"].attrs[\"units\"] = \"yr\"\n",
    "    i[\"ensemble\"].attrs[\"long_name\"] = \"ensemble\"\n",
    "    i[\"ensemble\"].attrs[\"units\"] = \"1\"\n",
    "    i[\"lat\"].attrs[\"long_name\"] = \"latitude\"\n",
    "    i[\"lat\"].attrs[\"standard_name\"] = \"latitude\"\n",
    "    i[\"lat\"].attrs[\"units\"] = \"degrees_north\"\n",
    "    i[\"lon\"].attrs[\"long_name\"] = \"longitude\"\n",
    "    i[\"lon\"].attrs[\"standard_name\"] = \"longitude\"\n",
    "    i[\"lon\"].attrs[\"units\"] = \"degrees_east\"\n",
    "    i[\"slr\"].attrs[\"long_name\"] = \"sea level rise\"\n",
    "    i[\"slr\"].attrs[\"units\"] = \"mm\""
   ]
  },
  {
   "cell_type": "code",
   "execution_count": 15,
   "id": "00c63076",
   "metadata": {},
   "outputs": [
    {
     "data": {
      "application/javascript": "\n            setTimeout(function() {\n                var nbb_cell_id = 15;\n                var nbb_unformatted_code = \"# concat datasets along new dimension with index values and name derived from pandas index object, if necessary\\ndataset = xr.concat([ds_26ssp, ds_45ssp, ds_85ssp], dim=\\\"nscenarios\\\")\\ndataset = dataset.assign_coords(\\n    scenarios=(\\\"nscenarios\\\", np.array([\\\"SSP1-26\\\", \\\"SSP2-45\\\", \\\"SSP5-85\\\"], dtype=\\\"S\\\"))\\n)\\n\\n# dataset = xr.concat(\\n#     [dataset_historical, dataset_45rcp, dataset_85rcp],\\n#     pd.Index([\\\"historical\\\", \\\"rcp45\\\", \\\"rcp85\\\"], name=\\\"scenarios\\\"),\\n# )\\n\\n# dataset[\\\"scenarios\\\"].values.astype(\\\"U\\\") # retrieve scenarios as string\";\n                var nbb_formatted_code = \"# concat datasets along new dimension with index values and name derived from pandas index object, if necessary\\ndataset = xr.concat([ds_26ssp, ds_45ssp, ds_85ssp], dim=\\\"nscenarios\\\")\\ndataset = dataset.assign_coords(\\n    scenarios=(\\\"nscenarios\\\", np.array([\\\"SSP1-26\\\", \\\"SSP2-45\\\", \\\"SSP5-85\\\"], dtype=\\\"S\\\"))\\n)\\n\\n# dataset = xr.concat(\\n#     [dataset_historical, dataset_45rcp, dataset_85rcp],\\n#     pd.Index([\\\"historical\\\", \\\"rcp45\\\", \\\"rcp85\\\"], name=\\\"scenarios\\\"),\\n# )\\n\\n# dataset[\\\"scenarios\\\"].values.astype(\\\"U\\\") # retrieve scenarios as string\";\n                var nbb_cells = Jupyter.notebook.get_cells();\n                for (var i = 0; i < nbb_cells.length; ++i) {\n                    if (nbb_cells[i].input_prompt_number == nbb_cell_id) {\n                        if (nbb_cells[i].get_text() == nbb_unformatted_code) {\n                             nbb_cells[i].set_text(nbb_formatted_code);\n                        }\n                        break;\n                    }\n                }\n            }, 500);\n            ",
      "text/plain": [
       "<IPython.core.display.Javascript object>"
      ]
     },
     "metadata": {},
     "output_type": "display_data"
    }
   ],
   "source": [
    "# concat datasets along new dimension with index values and name derived from pandas index object, if necessary\n",
    "dataset = xr.concat([ds_26ssp, ds_45ssp, ds_85ssp], dim=\"nscenarios\")\n",
    "dataset = dataset.assign_coords(\n",
    "    scenarios=(\"nscenarios\", np.array([\"SSP1-26\", \"SSP2-45\", \"SSP5-85\"], dtype=\"S\"))\n",
    ")\n",
    "\n",
    "# dataset = xr.concat(\n",
    "#     [dataset_historical, dataset_45rcp, dataset_85rcp],\n",
    "#     pd.Index([\"historical\", \"rcp45\", \"rcp85\"], name=\"scenarios\"),\n",
    "# )\n",
    "\n",
    "# dataset[\"scenarios\"].values.astype(\"U\") # retrieve scenarios as string"
   ]
  },
  {
   "cell_type": "code",
   "execution_count": 16,
   "id": "d46c44d5",
   "metadata": {},
   "outputs": [
    {
     "data": {
      "application/javascript": "\n            setTimeout(function() {\n                var nbb_cell_id = 16;\n                var nbb_unformatted_code = \"# re-order shape of the data variables\\nds_26ssp = ds_26ssp.transpose(\\\"time\\\", \\\"lat\\\", \\\"lon\\\", \\\"ensemble\\\")\\nds_45ssp = ds_45ssp.transpose(\\\"time\\\", \\\"lat\\\", \\\"lon\\\", \\\"ensemble\\\")\\nds_85ssp = ds_85ssp.transpose(\\\"time\\\", \\\"lat\\\", \\\"lon\\\", \\\"ensemble\\\")\\ndataset = dataset.transpose(\\\"nscenarios\\\", \\\"time\\\", \\\"lat\\\", \\\"lon\\\", \\\"ensemble\\\")\\n\\n# add or change certain variable / coordinate attributes\\ndataset_attributes = {\\n    \\\"scenarios\\\": {\\\"long_name\\\": \\\"climate scenarios\\\"}\\n}  # specify custom (CF convention) attributes\\n\\n# add / overwrite attributes\\nfor k, v in dataset_attributes.items():\\n    try:\\n        dataset[k].attrs = dataset_attributes[k]\\n    except:\\n        continue\";\n                var nbb_formatted_code = \"# re-order shape of the data variables\\nds_26ssp = ds_26ssp.transpose(\\\"time\\\", \\\"lat\\\", \\\"lon\\\", \\\"ensemble\\\")\\nds_45ssp = ds_45ssp.transpose(\\\"time\\\", \\\"lat\\\", \\\"lon\\\", \\\"ensemble\\\")\\nds_85ssp = ds_85ssp.transpose(\\\"time\\\", \\\"lat\\\", \\\"lon\\\", \\\"ensemble\\\")\\ndataset = dataset.transpose(\\\"nscenarios\\\", \\\"time\\\", \\\"lat\\\", \\\"lon\\\", \\\"ensemble\\\")\\n\\n# add or change certain variable / coordinate attributes\\ndataset_attributes = {\\n    \\\"scenarios\\\": {\\\"long_name\\\": \\\"climate scenarios\\\"}\\n}  # specify custom (CF convention) attributes\\n\\n# add / overwrite attributes\\nfor k, v in dataset_attributes.items():\\n    try:\\n        dataset[k].attrs = dataset_attributes[k]\\n    except:\\n        continue\";\n                var nbb_cells = Jupyter.notebook.get_cells();\n                for (var i = 0; i < nbb_cells.length; ++i) {\n                    if (nbb_cells[i].input_prompt_number == nbb_cell_id) {\n                        if (nbb_cells[i].get_text() == nbb_unformatted_code) {\n                             nbb_cells[i].set_text(nbb_formatted_code);\n                        }\n                        break;\n                    }\n                }\n            }, 500);\n            ",
      "text/plain": [
       "<IPython.core.display.Javascript object>"
      ]
     },
     "metadata": {},
     "output_type": "display_data"
    }
   ],
   "source": [
    "# re-order shape of the data variables\n",
    "ds_26ssp = ds_26ssp.transpose(\"time\", \"lat\", \"lon\", \"ensemble\")\n",
    "ds_45ssp = ds_45ssp.transpose(\"time\", \"lat\", \"lon\", \"ensemble\")\n",
    "ds_85ssp = ds_85ssp.transpose(\"time\", \"lat\", \"lon\", \"ensemble\")\n",
    "dataset = dataset.transpose(\"nscenarios\", \"time\", \"lat\", \"lon\", \"ensemble\")\n",
    "\n",
    "# add or change certain variable / coordinate attributes\n",
    "dataset_attributes = {\n",
    "    \"scenarios\": {\"long_name\": \"climate scenarios\"}\n",
    "}  # specify custom (CF convention) attributes\n",
    "\n",
    "# add / overwrite attributes\n",
    "for k, v in dataset_attributes.items():\n",
    "    try:\n",
    "        dataset[k].attrs = dataset_attributes[k]\n",
    "    except:\n",
    "        continue"
   ]
  },
  {
   "cell_type": "code",
   "execution_count": 17,
   "id": "81ee4bad",
   "metadata": {},
   "outputs": [
    {
     "data": {
      "application/javascript": "\n            setTimeout(function() {\n                var nbb_cell_id = 17;\n                var nbb_unformatted_code = \"import json\\n\\n# NetCDF attribute alterations by means of metadata template\\nf_global = open(ds_dir.joinpath(\\\"metadata_AR6_slp.json\\\"))\\nmeta_global = json.load(f_global)\\nds_list = [ds_26ssp, ds_45ssp, ds_85ssp, dataset]\\n\\nfor i in ds_list:\\n    for attr_name, attr_val in meta_global.items():\\n        if attr_name == 'PROVIDERS':\\n            attr_val = json.dumps(attr_val)\\n        i.attrs[attr_name] = attr_val\\n\\n    i.attrs['Conventions'] = \\\"CF-1.8\\\"\";\n                var nbb_formatted_code = \"import json\\n\\n# NetCDF attribute alterations by means of metadata template\\nf_global = open(ds_dir.joinpath(\\\"metadata_AR6_slp.json\\\"))\\nmeta_global = json.load(f_global)\\nds_list = [ds_26ssp, ds_45ssp, ds_85ssp, dataset]\\n\\nfor i in ds_list:\\n    for attr_name, attr_val in meta_global.items():\\n        if attr_name == \\\"PROVIDERS\\\":\\n            attr_val = json.dumps(attr_val)\\n        i.attrs[attr_name] = attr_val\\n\\n    i.attrs[\\\"Conventions\\\"] = \\\"CF-1.8\\\"\";\n                var nbb_cells = Jupyter.notebook.get_cells();\n                for (var i = 0; i < nbb_cells.length; ++i) {\n                    if (nbb_cells[i].input_prompt_number == nbb_cell_id) {\n                        if (nbb_cells[i].get_text() == nbb_unformatted_code) {\n                             nbb_cells[i].set_text(nbb_formatted_code);\n                        }\n                        break;\n                    }\n                }\n            }, 500);\n            ",
      "text/plain": [
       "<IPython.core.display.Javascript object>"
      ]
     },
     "metadata": {},
     "output_type": "display_data"
    }
   ],
   "source": [
    "import json\n",
    "\n",
    "# NetCDF attribute alterations by means of metadata template\n",
    "f_global = open(ds_dir.joinpath(\"metadata_AR6_slp.json\"))\n",
    "meta_global = json.load(f_global)\n",
    "ds_list = [ds_26ssp, ds_45ssp, ds_85ssp, dataset]\n",
    "\n",
    "for i in ds_list:\n",
    "    for attr_name, attr_val in meta_global.items():\n",
    "        if attr_name == 'PROVIDERS':\n",
    "            attr_val = json.dumps(attr_val)\n",
    "        i.attrs[attr_name] = attr_val\n",
    "\n",
    "    i.attrs['Conventions'] = \"CF-1.8\""
   ]
  },
  {
   "cell_type": "code",
   "execution_count": 18,
   "id": "9fbc61af",
   "metadata": {},
   "outputs": [
    {
     "data": {
      "text/html": [
       "<div><svg style=\"position: absolute; width: 0; height: 0; overflow: hidden\">\n",
       "<defs>\n",
       "<symbol id=\"icon-database\" viewBox=\"0 0 32 32\">\n",
       "<path d=\"M16 0c-8.837 0-16 2.239-16 5v4c0 2.761 7.163 5 16 5s16-2.239 16-5v-4c0-2.761-7.163-5-16-5z\"></path>\n",
       "<path d=\"M16 17c-8.837 0-16-2.239-16-5v6c0 2.761 7.163 5 16 5s16-2.239 16-5v-6c0 2.761-7.163 5-16 5z\"></path>\n",
       "<path d=\"M16 26c-8.837 0-16-2.239-16-5v6c0 2.761 7.163 5 16 5s16-2.239 16-5v-6c0 2.761-7.163 5-16 5z\"></path>\n",
       "</symbol>\n",
       "<symbol id=\"icon-file-text2\" viewBox=\"0 0 32 32\">\n",
       "<path d=\"M28.681 7.159c-0.694-0.947-1.662-2.053-2.724-3.116s-2.169-2.030-3.116-2.724c-1.612-1.182-2.393-1.319-2.841-1.319h-15.5c-1.378 0-2.5 1.121-2.5 2.5v27c0 1.378 1.122 2.5 2.5 2.5h23c1.378 0 2.5-1.122 2.5-2.5v-19.5c0-0.448-0.137-1.23-1.319-2.841zM24.543 5.457c0.959 0.959 1.712 1.825 2.268 2.543h-4.811v-4.811c0.718 0.556 1.584 1.309 2.543 2.268zM28 29.5c0 0.271-0.229 0.5-0.5 0.5h-23c-0.271 0-0.5-0.229-0.5-0.5v-27c0-0.271 0.229-0.5 0.5-0.5 0 0 15.499-0 15.5 0v7c0 0.552 0.448 1 1 1h7v19.5z\"></path>\n",
       "<path d=\"M23 26h-14c-0.552 0-1-0.448-1-1s0.448-1 1-1h14c0.552 0 1 0.448 1 1s-0.448 1-1 1z\"></path>\n",
       "<path d=\"M23 22h-14c-0.552 0-1-0.448-1-1s0.448-1 1-1h14c0.552 0 1 0.448 1 1s-0.448 1-1 1z\"></path>\n",
       "<path d=\"M23 18h-14c-0.552 0-1-0.448-1-1s0.448-1 1-1h14c0.552 0 1 0.448 1 1s-0.448 1-1 1z\"></path>\n",
       "</symbol>\n",
       "</defs>\n",
       "</svg>\n",
       "<style>/* CSS stylesheet for displaying xarray objects in jupyterlab.\n",
       " *\n",
       " */\n",
       "\n",
       ":root {\n",
       "  --xr-font-color0: var(--jp-content-font-color0, rgba(0, 0, 0, 1));\n",
       "  --xr-font-color2: var(--jp-content-font-color2, rgba(0, 0, 0, 0.54));\n",
       "  --xr-font-color3: var(--jp-content-font-color3, rgba(0, 0, 0, 0.38));\n",
       "  --xr-border-color: var(--jp-border-color2, #e0e0e0);\n",
       "  --xr-disabled-color: var(--jp-layout-color3, #bdbdbd);\n",
       "  --xr-background-color: var(--jp-layout-color0, white);\n",
       "  --xr-background-color-row-even: var(--jp-layout-color1, white);\n",
       "  --xr-background-color-row-odd: var(--jp-layout-color2, #eeeeee);\n",
       "}\n",
       "\n",
       "html[theme=dark],\n",
       "body[data-theme=dark],\n",
       "body.vscode-dark {\n",
       "  --xr-font-color0: rgba(255, 255, 255, 1);\n",
       "  --xr-font-color2: rgba(255, 255, 255, 0.54);\n",
       "  --xr-font-color3: rgba(255, 255, 255, 0.38);\n",
       "  --xr-border-color: #1F1F1F;\n",
       "  --xr-disabled-color: #515151;\n",
       "  --xr-background-color: #111111;\n",
       "  --xr-background-color-row-even: #111111;\n",
       "  --xr-background-color-row-odd: #313131;\n",
       "}\n",
       "\n",
       ".xr-wrap {\n",
       "  display: block !important;\n",
       "  min-width: 300px;\n",
       "  max-width: 700px;\n",
       "}\n",
       "\n",
       ".xr-text-repr-fallback {\n",
       "  /* fallback to plain text repr when CSS is not injected (untrusted notebook) */\n",
       "  display: none;\n",
       "}\n",
       "\n",
       ".xr-header {\n",
       "  padding-top: 6px;\n",
       "  padding-bottom: 6px;\n",
       "  margin-bottom: 4px;\n",
       "  border-bottom: solid 1px var(--xr-border-color);\n",
       "}\n",
       "\n",
       ".xr-header > div,\n",
       ".xr-header > ul {\n",
       "  display: inline;\n",
       "  margin-top: 0;\n",
       "  margin-bottom: 0;\n",
       "}\n",
       "\n",
       ".xr-obj-type,\n",
       ".xr-array-name {\n",
       "  margin-left: 2px;\n",
       "  margin-right: 10px;\n",
       "}\n",
       "\n",
       ".xr-obj-type {\n",
       "  color: var(--xr-font-color2);\n",
       "}\n",
       "\n",
       ".xr-sections {\n",
       "  padding-left: 0 !important;\n",
       "  display: grid;\n",
       "  grid-template-columns: 150px auto auto 1fr 20px 20px;\n",
       "}\n",
       "\n",
       ".xr-section-item {\n",
       "  display: contents;\n",
       "}\n",
       "\n",
       ".xr-section-item input {\n",
       "  display: none;\n",
       "}\n",
       "\n",
       ".xr-section-item input + label {\n",
       "  color: var(--xr-disabled-color);\n",
       "}\n",
       "\n",
       ".xr-section-item input:enabled + label {\n",
       "  cursor: pointer;\n",
       "  color: var(--xr-font-color2);\n",
       "}\n",
       "\n",
       ".xr-section-item input:enabled + label:hover {\n",
       "  color: var(--xr-font-color0);\n",
       "}\n",
       "\n",
       ".xr-section-summary {\n",
       "  grid-column: 1;\n",
       "  color: var(--xr-font-color2);\n",
       "  font-weight: 500;\n",
       "}\n",
       "\n",
       ".xr-section-summary > span {\n",
       "  display: inline-block;\n",
       "  padding-left: 0.5em;\n",
       "}\n",
       "\n",
       ".xr-section-summary-in:disabled + label {\n",
       "  color: var(--xr-font-color2);\n",
       "}\n",
       "\n",
       ".xr-section-summary-in + label:before {\n",
       "  display: inline-block;\n",
       "  content: '►';\n",
       "  font-size: 11px;\n",
       "  width: 15px;\n",
       "  text-align: center;\n",
       "}\n",
       "\n",
       ".xr-section-summary-in:disabled + label:before {\n",
       "  color: var(--xr-disabled-color);\n",
       "}\n",
       "\n",
       ".xr-section-summary-in:checked + label:before {\n",
       "  content: '▼';\n",
       "}\n",
       "\n",
       ".xr-section-summary-in:checked + label > span {\n",
       "  display: none;\n",
       "}\n",
       "\n",
       ".xr-section-summary,\n",
       ".xr-section-inline-details {\n",
       "  padding-top: 4px;\n",
       "  padding-bottom: 4px;\n",
       "}\n",
       "\n",
       ".xr-section-inline-details {\n",
       "  grid-column: 2 / -1;\n",
       "}\n",
       "\n",
       ".xr-section-details {\n",
       "  display: none;\n",
       "  grid-column: 1 / -1;\n",
       "  margin-bottom: 5px;\n",
       "}\n",
       "\n",
       ".xr-section-summary-in:checked ~ .xr-section-details {\n",
       "  display: contents;\n",
       "}\n",
       "\n",
       ".xr-array-wrap {\n",
       "  grid-column: 1 / -1;\n",
       "  display: grid;\n",
       "  grid-template-columns: 20px auto;\n",
       "}\n",
       "\n",
       ".xr-array-wrap > label {\n",
       "  grid-column: 1;\n",
       "  vertical-align: top;\n",
       "}\n",
       "\n",
       ".xr-preview {\n",
       "  color: var(--xr-font-color3);\n",
       "}\n",
       "\n",
       ".xr-array-preview,\n",
       ".xr-array-data {\n",
       "  padding: 0 5px !important;\n",
       "  grid-column: 2;\n",
       "}\n",
       "\n",
       ".xr-array-data,\n",
       ".xr-array-in:checked ~ .xr-array-preview {\n",
       "  display: none;\n",
       "}\n",
       "\n",
       ".xr-array-in:checked ~ .xr-array-data,\n",
       ".xr-array-preview {\n",
       "  display: inline-block;\n",
       "}\n",
       "\n",
       ".xr-dim-list {\n",
       "  display: inline-block !important;\n",
       "  list-style: none;\n",
       "  padding: 0 !important;\n",
       "  margin: 0;\n",
       "}\n",
       "\n",
       ".xr-dim-list li {\n",
       "  display: inline-block;\n",
       "  padding: 0;\n",
       "  margin: 0;\n",
       "}\n",
       "\n",
       ".xr-dim-list:before {\n",
       "  content: '(';\n",
       "}\n",
       "\n",
       ".xr-dim-list:after {\n",
       "  content: ')';\n",
       "}\n",
       "\n",
       ".xr-dim-list li:not(:last-child):after {\n",
       "  content: ',';\n",
       "  padding-right: 5px;\n",
       "}\n",
       "\n",
       ".xr-has-index {\n",
       "  font-weight: bold;\n",
       "}\n",
       "\n",
       ".xr-var-list,\n",
       ".xr-var-item {\n",
       "  display: contents;\n",
       "}\n",
       "\n",
       ".xr-var-item > div,\n",
       ".xr-var-item label,\n",
       ".xr-var-item > .xr-var-name span {\n",
       "  background-color: var(--xr-background-color-row-even);\n",
       "  margin-bottom: 0;\n",
       "}\n",
       "\n",
       ".xr-var-item > .xr-var-name:hover span {\n",
       "  padding-right: 5px;\n",
       "}\n",
       "\n",
       ".xr-var-list > li:nth-child(odd) > div,\n",
       ".xr-var-list > li:nth-child(odd) > label,\n",
       ".xr-var-list > li:nth-child(odd) > .xr-var-name span {\n",
       "  background-color: var(--xr-background-color-row-odd);\n",
       "}\n",
       "\n",
       ".xr-var-name {\n",
       "  grid-column: 1;\n",
       "}\n",
       "\n",
       ".xr-var-dims {\n",
       "  grid-column: 2;\n",
       "}\n",
       "\n",
       ".xr-var-dtype {\n",
       "  grid-column: 3;\n",
       "  text-align: right;\n",
       "  color: var(--xr-font-color2);\n",
       "}\n",
       "\n",
       ".xr-var-preview {\n",
       "  grid-column: 4;\n",
       "}\n",
       "\n",
       ".xr-index-preview {\n",
       "  grid-column: 2 / 5;\n",
       "  color: var(--xr-font-color2);\n",
       "}\n",
       "\n",
       ".xr-var-name,\n",
       ".xr-var-dims,\n",
       ".xr-var-dtype,\n",
       ".xr-preview,\n",
       ".xr-attrs dt {\n",
       "  white-space: nowrap;\n",
       "  overflow: hidden;\n",
       "  text-overflow: ellipsis;\n",
       "  padding-right: 10px;\n",
       "}\n",
       "\n",
       ".xr-var-name:hover,\n",
       ".xr-var-dims:hover,\n",
       ".xr-var-dtype:hover,\n",
       ".xr-attrs dt:hover {\n",
       "  overflow: visible;\n",
       "  width: auto;\n",
       "  z-index: 1;\n",
       "}\n",
       "\n",
       ".xr-var-attrs,\n",
       ".xr-var-data,\n",
       ".xr-index-data {\n",
       "  display: none;\n",
       "  background-color: var(--xr-background-color) !important;\n",
       "  padding-bottom: 5px !important;\n",
       "}\n",
       "\n",
       ".xr-var-attrs-in:checked ~ .xr-var-attrs,\n",
       ".xr-var-data-in:checked ~ .xr-var-data,\n",
       ".xr-index-data-in:checked ~ .xr-index-data {\n",
       "  display: block;\n",
       "}\n",
       "\n",
       ".xr-var-data > table {\n",
       "  float: right;\n",
       "}\n",
       "\n",
       ".xr-var-name span,\n",
       ".xr-var-data,\n",
       ".xr-index-name div,\n",
       ".xr-index-data,\n",
       ".xr-attrs {\n",
       "  padding-left: 25px !important;\n",
       "}\n",
       "\n",
       ".xr-attrs,\n",
       ".xr-var-attrs,\n",
       ".xr-var-data,\n",
       ".xr-index-data {\n",
       "  grid-column: 1 / -1;\n",
       "}\n",
       "\n",
       "dl.xr-attrs {\n",
       "  padding: 0;\n",
       "  margin: 0;\n",
       "  display: grid;\n",
       "  grid-template-columns: 125px auto;\n",
       "}\n",
       "\n",
       ".xr-attrs dt,\n",
       ".xr-attrs dd {\n",
       "  padding: 0;\n",
       "  margin: 0;\n",
       "  float: left;\n",
       "  padding-right: 10px;\n",
       "  width: auto;\n",
       "}\n",
       "\n",
       ".xr-attrs dt {\n",
       "  font-weight: normal;\n",
       "  grid-column: 1;\n",
       "}\n",
       "\n",
       ".xr-attrs dt:hover span {\n",
       "  display: inline-block;\n",
       "  background: var(--xr-background-color);\n",
       "  padding-right: 10px;\n",
       "}\n",
       "\n",
       ".xr-attrs dd {\n",
       "  grid-column: 2;\n",
       "  white-space: pre-wrap;\n",
       "  word-break: break-all;\n",
       "}\n",
       "\n",
       ".xr-icon-database,\n",
       ".xr-icon-file-text2,\n",
       ".xr-no-icon {\n",
       "  display: inline-block;\n",
       "  vertical-align: middle;\n",
       "  width: 1em;\n",
       "  height: 1.5em !important;\n",
       "  stroke-width: 0;\n",
       "  stroke: currentColor;\n",
       "  fill: currentColor;\n",
       "}\n",
       "</style><pre class='xr-text-repr-fallback'>&lt;xarray.Dataset&gt;\n",
       "Dimensions:    (time: 14, ensemble: 107, lat: 181, lon: 360, nscenarios: 3)\n",
       "Coordinates:\n",
       "  * time       (time) int32 2020 2030 2040 2050 2060 ... 2120 2130 2140 2150\n",
       "  * ensemble   (ensemble) float32 0.0 0.1 0.5 1.0 2.0 ... 99.0 99.5 99.9 100.0\n",
       "  * lat        (lat) float32 -90.0 -89.0 -88.0 -87.0 ... 87.0 88.0 89.0 90.0\n",
       "  * lon        (lon) float32 -180.0 -179.0 -178.0 -177.0 ... 177.0 178.0 179.0\n",
       "    scenarios  (nscenarios) |S7 b&#x27;SSP1-26&#x27; b&#x27;SSP2-45&#x27; b&#x27;SSP5-85&#x27;\n",
       "Dimensions without coordinates: nscenarios\n",
       "Data variables:\n",
       "    slr        (nscenarios, time, lat, lon, ensemble) float32 nan ... 6.324e+03\n",
       "Attributes: (12/24)\n",
       "    description:         Combined confidence output file for AR6 sea-level ch...\n",
       "    history:             Created Sat Jul 10 15:19:21 2021\n",
       "    source:              Files Combined: /projects/kopp/ar6/regional/pboxes/p...\n",
       "    TITLE:               AR6 sea level rise projections\n",
       "    TITLE_ABBREVIATION:  ar6_slr\n",
       "    DESCRIPTION:         The global and regional sea level projections from t...\n",
       "    ...                  ...\n",
       "    DOI:                 https://podaac.jpl.nasa.gov/announcements/2021-08-09...\n",
       "    LONG_NAME:           IPCC_AR6_SLR\n",
       "    UNITS:               mm\n",
       "    COMMENT:             The data taken into account only considers the value...\n",
       "    CRS:                 EPSG:4326\n",
       "    Conventions:         CF-1.8</pre><div class='xr-wrap' style='display:none'><div class='xr-header'><div class='xr-obj-type'>xarray.Dataset</div></div><ul class='xr-sections'><li class='xr-section-item'><input id='section-d05c895d-27c4-48af-b481-784f3053948c' class='xr-section-summary-in' type='checkbox' disabled ><label for='section-d05c895d-27c4-48af-b481-784f3053948c' class='xr-section-summary'  title='Expand/collapse section'>Dimensions:</label><div class='xr-section-inline-details'><ul class='xr-dim-list'><li><span class='xr-has-index'>time</span>: 14</li><li><span class='xr-has-index'>ensemble</span>: 107</li><li><span class='xr-has-index'>lat</span>: 181</li><li><span class='xr-has-index'>lon</span>: 360</li><li><span>nscenarios</span>: 3</li></ul></div><div class='xr-section-details'></div></li><li class='xr-section-item'><input id='section-bb79d61b-f796-49a8-a144-3a1b71dba158' class='xr-section-summary-in' type='checkbox'  checked><label for='section-bb79d61b-f796-49a8-a144-3a1b71dba158' class='xr-section-summary' >Coordinates: <span>(5)</span></label><div class='xr-section-inline-details'></div><div class='xr-section-details'><ul class='xr-var-list'><li class='xr-var-item'><div class='xr-var-name'><span class='xr-has-index'>time</span></div><div class='xr-var-dims'>(time)</div><div class='xr-var-dtype'>int32</div><div class='xr-var-preview xr-preview'>2020 2030 2040 ... 2130 2140 2150</div><input id='attrs-04195b35-daef-4aba-a07a-fcbd415206b2' class='xr-var-attrs-in' type='checkbox' ><label for='attrs-04195b35-daef-4aba-a07a-fcbd415206b2' title='Show/Hide attributes'><svg class='icon xr-icon-file-text2'><use xlink:href='#icon-file-text2'></use></svg></label><input id='data-9e51b0a3-5a36-4442-80ee-f5c684a81cba' class='xr-var-data-in' type='checkbox'><label for='data-9e51b0a3-5a36-4442-80ee-f5c684a81cba' title='Show/Hide data repr'><svg class='icon xr-icon-database'><use xlink:href='#icon-database'></use></svg></label><div class='xr-var-attrs'><dl class='xr-attrs'><dt><span>long_name :</span></dt><dd>time</dd><dt><span>units :</span></dt><dd>yr</dd></dl></div><div class='xr-var-data'><pre>array([2020, 2030, 2040, 2050, 2060, 2070, 2080, 2090, 2100, 2110, 2120, 2130,\n",
       "       2140, 2150])</pre></div></li><li class='xr-var-item'><div class='xr-var-name'><span class='xr-has-index'>ensemble</span></div><div class='xr-var-dims'>(ensemble)</div><div class='xr-var-dtype'>float32</div><div class='xr-var-preview xr-preview'>0.0 0.1 0.5 1.0 ... 99.5 99.9 100.0</div><input id='attrs-09ebd4ee-5576-4207-8943-4e9435ff0342' class='xr-var-attrs-in' type='checkbox' ><label for='attrs-09ebd4ee-5576-4207-8943-4e9435ff0342' title='Show/Hide attributes'><svg class='icon xr-icon-file-text2'><use xlink:href='#icon-file-text2'></use></svg></label><input id='data-393ad430-212e-4863-8868-b3ee699f27aa' class='xr-var-data-in' type='checkbox'><label for='data-393ad430-212e-4863-8868-b3ee699f27aa' title='Show/Hide data repr'><svg class='icon xr-icon-database'><use xlink:href='#icon-database'></use></svg></label><div class='xr-var-attrs'><dl class='xr-attrs'><dt><span>long_name :</span></dt><dd>ensemble</dd><dt><span>units :</span></dt><dd>1</dd></dl></div><div class='xr-var-data'><pre>array([  0. ,   0.1,   0.5,   1. ,   2. ,   3. ,   4. ,   5. ,   6. ,   7. ,\n",
       "         8. ,   9. ,  10. ,  11. ,  12. ,  13. ,  14. ,  15. ,  16. ,  16.7,\n",
       "        17. ,  18. ,  19. ,  20. ,  21. ,  22. ,  23. ,  24. ,  25. ,  26. ,\n",
       "        27. ,  28. ,  29. ,  30. ,  31. ,  32. ,  33. ,  34. ,  35. ,  36. ,\n",
       "        37. ,  38. ,  39. ,  40. ,  41. ,  42. ,  43. ,  44. ,  45. ,  46. ,\n",
       "        47. ,  48. ,  49. ,  50. ,  51. ,  52. ,  53. ,  54. ,  55. ,  56. ,\n",
       "        57. ,  58. ,  59. ,  60. ,  61. ,  62. ,  63. ,  64. ,  65. ,  66. ,\n",
       "        67. ,  68. ,  69. ,  70. ,  71. ,  72. ,  73. ,  74. ,  75. ,  76. ,\n",
       "        77. ,  78. ,  79. ,  80. ,  81. ,  82. ,  83. ,  83.3,  84. ,  85. ,\n",
       "        86. ,  87. ,  88. ,  89. ,  90. ,  91. ,  92. ,  93. ,  94. ,  95. ,\n",
       "        96. ,  97. ,  98. ,  99. ,  99.5,  99.9, 100. ], dtype=float32)</pre></div></li><li class='xr-var-item'><div class='xr-var-name'><span class='xr-has-index'>lat</span></div><div class='xr-var-dims'>(lat)</div><div class='xr-var-dtype'>float32</div><div class='xr-var-preview xr-preview'>-90.0 -89.0 -88.0 ... 89.0 90.0</div><input id='attrs-6e2e2bf7-47bf-4049-a402-b441dba15c55' class='xr-var-attrs-in' type='checkbox' ><label for='attrs-6e2e2bf7-47bf-4049-a402-b441dba15c55' title='Show/Hide attributes'><svg class='icon xr-icon-file-text2'><use xlink:href='#icon-file-text2'></use></svg></label><input id='data-fd1c5133-b060-4688-9288-32e18870b728' class='xr-var-data-in' type='checkbox'><label for='data-fd1c5133-b060-4688-9288-32e18870b728' title='Show/Hide data repr'><svg class='icon xr-icon-database'><use xlink:href='#icon-database'></use></svg></label><div class='xr-var-attrs'><dl class='xr-attrs'><dt><span>long_name :</span></dt><dd>latitude</dd><dt><span>standard_name :</span></dt><dd>latitude</dd><dt><span>units :</span></dt><dd>degrees_north</dd></dl></div><div class='xr-var-data'><pre>array([-90., -89., -88., -87., -86., -85., -84., -83., -82., -81., -80., -79.,\n",
       "       -78., -77., -76., -75., -74., -73., -72., -71., -70., -69., -68., -67.,\n",
       "       -66., -65., -64., -63., -62., -61., -60., -59., -58., -57., -56., -55.,\n",
       "       -54., -53., -52., -51., -50., -49., -48., -47., -46., -45., -44., -43.,\n",
       "       -42., -41., -40., -39., -38., -37., -36., -35., -34., -33., -32., -31.,\n",
       "       -30., -29., -28., -27., -26., -25., -24., -23., -22., -21., -20., -19.,\n",
       "       -18., -17., -16., -15., -14., -13., -12., -11., -10.,  -9.,  -8.,  -7.,\n",
       "        -6.,  -5.,  -4.,  -3.,  -2.,  -1.,   0.,   1.,   2.,   3.,   4.,   5.,\n",
       "         6.,   7.,   8.,   9.,  10.,  11.,  12.,  13.,  14.,  15.,  16.,  17.,\n",
       "        18.,  19.,  20.,  21.,  22.,  23.,  24.,  25.,  26.,  27.,  28.,  29.,\n",
       "        30.,  31.,  32.,  33.,  34.,  35.,  36.,  37.,  38.,  39.,  40.,  41.,\n",
       "        42.,  43.,  44.,  45.,  46.,  47.,  48.,  49.,  50.,  51.,  52.,  53.,\n",
       "        54.,  55.,  56.,  57.,  58.,  59.,  60.,  61.,  62.,  63.,  64.,  65.,\n",
       "        66.,  67.,  68.,  69.,  70.,  71.,  72.,  73.,  74.,  75.,  76.,  77.,\n",
       "        78.,  79.,  80.,  81.,  82.,  83.,  84.,  85.,  86.,  87.,  88.,  89.,\n",
       "        90.], dtype=float32)</pre></div></li><li class='xr-var-item'><div class='xr-var-name'><span class='xr-has-index'>lon</span></div><div class='xr-var-dims'>(lon)</div><div class='xr-var-dtype'>float32</div><div class='xr-var-preview xr-preview'>-180.0 -179.0 ... 178.0 179.0</div><input id='attrs-a3aed364-89ed-4735-bfb2-13ddeacc8d63' class='xr-var-attrs-in' type='checkbox' ><label for='attrs-a3aed364-89ed-4735-bfb2-13ddeacc8d63' title='Show/Hide attributes'><svg class='icon xr-icon-file-text2'><use xlink:href='#icon-file-text2'></use></svg></label><input id='data-7451837c-86c1-41d5-9cf2-099e0a9e6924' class='xr-var-data-in' type='checkbox'><label for='data-7451837c-86c1-41d5-9cf2-099e0a9e6924' title='Show/Hide data repr'><svg class='icon xr-icon-database'><use xlink:href='#icon-database'></use></svg></label><div class='xr-var-attrs'><dl class='xr-attrs'><dt><span>long_name :</span></dt><dd>longitude</dd><dt><span>standard_name :</span></dt><dd>longitude</dd><dt><span>units :</span></dt><dd>degrees_east</dd></dl></div><div class='xr-var-data'><pre>array([-180., -179., -178., ...,  177.,  178.,  179.], dtype=float32)</pre></div></li><li class='xr-var-item'><div class='xr-var-name'><span>scenarios</span></div><div class='xr-var-dims'>(nscenarios)</div><div class='xr-var-dtype'>|S7</div><div class='xr-var-preview xr-preview'>b&#x27;SSP1-26&#x27; b&#x27;SSP2-45&#x27; b&#x27;SSP5-85&#x27;</div><input id='attrs-3c79deb1-cd20-4599-9099-3e06769e59f5' class='xr-var-attrs-in' type='checkbox' ><label for='attrs-3c79deb1-cd20-4599-9099-3e06769e59f5' title='Show/Hide attributes'><svg class='icon xr-icon-file-text2'><use xlink:href='#icon-file-text2'></use></svg></label><input id='data-301a0361-2f6a-4053-a3ac-60ec5db85759' class='xr-var-data-in' type='checkbox'><label for='data-301a0361-2f6a-4053-a3ac-60ec5db85759' title='Show/Hide data repr'><svg class='icon xr-icon-database'><use xlink:href='#icon-database'></use></svg></label><div class='xr-var-attrs'><dl class='xr-attrs'><dt><span>long_name :</span></dt><dd>climate scenarios</dd></dl></div><div class='xr-var-data'><pre>array([b&#x27;SSP1-26&#x27;, b&#x27;SSP2-45&#x27;, b&#x27;SSP5-85&#x27;], dtype=&#x27;|S7&#x27;)</pre></div></li></ul></div></li><li class='xr-section-item'><input id='section-07ee09e5-fd96-4797-b903-2424dd27650b' class='xr-section-summary-in' type='checkbox'  checked><label for='section-07ee09e5-fd96-4797-b903-2424dd27650b' class='xr-section-summary' >Data variables: <span>(1)</span></label><div class='xr-section-inline-details'></div><div class='xr-section-details'><ul class='xr-var-list'><li class='xr-var-item'><div class='xr-var-name'><span>slr</span></div><div class='xr-var-dims'>(nscenarios, time, lat, lon, ensemble)</div><div class='xr-var-dtype'>float32</div><div class='xr-var-preview xr-preview'>nan nan nan ... 4.471e+03 6.324e+03</div><input id='attrs-cd338376-3a13-4eab-a6e4-a652ee80ae41' class='xr-var-attrs-in' type='checkbox' ><label for='attrs-cd338376-3a13-4eab-a6e4-a652ee80ae41' title='Show/Hide attributes'><svg class='icon xr-icon-file-text2'><use xlink:href='#icon-file-text2'></use></svg></label><input id='data-ac059a29-9c46-4f4b-9d03-ec3a9fe291e2' class='xr-var-data-in' type='checkbox'><label for='data-ac059a29-9c46-4f4b-9d03-ec3a9fe291e2' title='Show/Hide data repr'><svg class='icon xr-icon-database'><use xlink:href='#icon-database'></use></svg></label><div class='xr-var-attrs'><dl class='xr-attrs'><dt><span>long_name :</span></dt><dd>sea level rise</dd><dt><span>units :</span></dt><dd>mm</dd></dl></div><div class='xr-var-data'><pre>array([[[[[   nan,    nan,    nan, ...,    nan,    nan,    nan],\n",
       "          [   nan,    nan,    nan, ...,    nan,    nan,    nan],\n",
       "          [   nan,    nan,    nan, ...,    nan,    nan,    nan],\n",
       "          ...,\n",
       "          [   nan,    nan,    nan, ...,    nan,    nan,    nan],\n",
       "          [   nan,    nan,    nan, ...,    nan,    nan,    nan],\n",
       "          [   nan,    nan,    nan, ...,    nan,    nan,    nan]],\n",
       "\n",
       "         [[   nan,    nan,    nan, ...,    nan,    nan,    nan],\n",
       "          [   nan,    nan,    nan, ...,    nan,    nan,    nan],\n",
       "          [   nan,    nan,    nan, ...,    nan,    nan,    nan],\n",
       "          ...,\n",
       "          [   nan,    nan,    nan, ...,    nan,    nan,    nan],\n",
       "          [   nan,    nan,    nan, ...,    nan,    nan,    nan],\n",
       "          [   nan,    nan,    nan, ...,    nan,    nan,    nan]],\n",
       "\n",
       "         [[   nan,    nan,    nan, ...,    nan,    nan,    nan],\n",
       "          [   nan,    nan,    nan, ...,    nan,    nan,    nan],\n",
       "          [   nan,    nan,    nan, ...,    nan,    nan,    nan],\n",
       "          ...,\n",
       "...\n",
       "          [-2231., -1451., -1053., ...,  3600.,  4478.,  6403.],\n",
       "          [-2235., -1456., -1056., ...,  3604.,  4480.,  6406.],\n",
       "          [-2239., -1459., -1058., ...,  3609.,  4482.,  6408.]],\n",
       "\n",
       "         [[-2221., -1474., -1067., ...,  3549.,  4441.,  6367.],\n",
       "          [-2226., -1478., -1069., ...,  3550.,  4440.,  6368.],\n",
       "          [-2228., -1480., -1070., ...,  3551.,  4443.,  6370.],\n",
       "          ...,\n",
       "          [-2216., -1468., -1063., ...,  3547.,  4438.,  6364.],\n",
       "          [-2220., -1471., -1066., ...,  3547.,  4437.,  6364.],\n",
       "          [-2220., -1471., -1066., ...,  3549.,  4439.,  6366.]],\n",
       "\n",
       "         [[-2131., -1406., -1014., ...,  3550.,  4471.,  6324.],\n",
       "          [-2131., -1406., -1014., ...,  3550.,  4471.,  6324.],\n",
       "          [-2130., -1405., -1013., ...,  3552.,  4472.,  6325.],\n",
       "          ...,\n",
       "          [-2132., -1408., -1016., ...,  3549.,  4469.,  6322.],\n",
       "          [-2131., -1406., -1014., ...,  3550.,  4471.,  6324.],\n",
       "          [-2131., -1406., -1014., ...,  3550.,  4471.,  6324.]]]]],\n",
       "      dtype=float32)</pre></div></li></ul></div></li><li class='xr-section-item'><input id='section-936cc7a3-5007-41bb-8443-1165d704d77a' class='xr-section-summary-in' type='checkbox'  ><label for='section-936cc7a3-5007-41bb-8443-1165d704d77a' class='xr-section-summary' >Indexes: <span>(4)</span></label><div class='xr-section-inline-details'></div><div class='xr-section-details'><ul class='xr-var-list'><li class='xr-var-item'><div class='xr-index-name'><div>time</div></div><div class='xr-index-preview'>PandasIndex</div><div></div><input id='index-9ef44da4-7ffb-4903-b150-a8f462419773' class='xr-index-data-in' type='checkbox'/><label for='index-9ef44da4-7ffb-4903-b150-a8f462419773' title='Show/Hide index repr'><svg class='icon xr-icon-database'><use xlink:href='#icon-database'></use></svg></label><div class='xr-index-data'><pre>PandasIndex(Index([2020, 2030, 2040, 2050, 2060, 2070, 2080, 2090, 2100, 2110, 2120, 2130,\n",
       "       2140, 2150],\n",
       "      dtype=&#x27;int32&#x27;, name=&#x27;time&#x27;))</pre></div></li><li class='xr-var-item'><div class='xr-index-name'><div>ensemble</div></div><div class='xr-index-preview'>PandasIndex</div><div></div><input id='index-a4bbce70-a97a-4879-a2ae-10c886ec7791' class='xr-index-data-in' type='checkbox'/><label for='index-a4bbce70-a97a-4879-a2ae-10c886ec7791' title='Show/Hide index repr'><svg class='icon xr-icon-database'><use xlink:href='#icon-database'></use></svg></label><div class='xr-index-data'><pre>PandasIndex(Index([                0.0, 0.10000000149011612,                 0.5,\n",
       "                       1.0,                 2.0,                 3.0,\n",
       "                       4.0,                 5.0,                 6.0,\n",
       "                       7.0,\n",
       "       ...\n",
       "                      93.0,                94.0,                95.0,\n",
       "                      96.0,                97.0,                98.0,\n",
       "                      99.0,                99.5,    99.9000015258789,\n",
       "                     100.0],\n",
       "      dtype=&#x27;float32&#x27;, name=&#x27;ensemble&#x27;, length=107))</pre></div></li><li class='xr-var-item'><div class='xr-index-name'><div>lat</div></div><div class='xr-index-preview'>PandasIndex</div><div></div><input id='index-6c338323-5e54-4210-b2d2-dd67cce6402d' class='xr-index-data-in' type='checkbox'/><label for='index-6c338323-5e54-4210-b2d2-dd67cce6402d' title='Show/Hide index repr'><svg class='icon xr-icon-database'><use xlink:href='#icon-database'></use></svg></label><div class='xr-index-data'><pre>PandasIndex(Index([-90.0, -89.0, -88.0, -87.0, -86.0, -85.0, -84.0, -83.0, -82.0, -81.0,\n",
       "       ...\n",
       "        81.0,  82.0,  83.0,  84.0,  85.0,  86.0,  87.0,  88.0,  89.0,  90.0],\n",
       "      dtype=&#x27;float32&#x27;, name=&#x27;lat&#x27;, length=181))</pre></div></li><li class='xr-var-item'><div class='xr-index-name'><div>lon</div></div><div class='xr-index-preview'>PandasIndex</div><div></div><input id='index-f2a9a24a-a8c1-4828-bbac-da05ffea57d2' class='xr-index-data-in' type='checkbox'/><label for='index-f2a9a24a-a8c1-4828-bbac-da05ffea57d2' title='Show/Hide index repr'><svg class='icon xr-icon-database'><use xlink:href='#icon-database'></use></svg></label><div class='xr-index-data'><pre>PandasIndex(Index([-180.0, -179.0, -178.0, -177.0, -176.0, -175.0, -174.0, -173.0, -172.0,\n",
       "       -171.0,\n",
       "       ...\n",
       "        170.0,  171.0,  172.0,  173.0,  174.0,  175.0,  176.0,  177.0,  178.0,\n",
       "        179.0],\n",
       "      dtype=&#x27;float32&#x27;, name=&#x27;lon&#x27;, length=360))</pre></div></li></ul></div></li><li class='xr-section-item'><input id='section-fa879b6b-1b32-47f5-9c22-a6c6b3f33b1b' class='xr-section-summary-in' type='checkbox'  ><label for='section-fa879b6b-1b32-47f5-9c22-a6c6b3f33b1b' class='xr-section-summary' >Attributes: <span>(24)</span></label><div class='xr-section-inline-details'></div><div class='xr-section-details'><dl class='xr-attrs'><dt><span>description :</span></dt><dd>Combined confidence output file for AR6 sea-level change projections</dd><dt><span>history :</span></dt><dd>Created Sat Jul 10 15:19:21 2021</dd><dt><span>source :</span></dt><dd>Files Combined: /projects/kopp/ar6/regional/pboxes/pb_1f/ssp126/total-workflow.nc,/projects/kopp/ar6/regional/pboxes/pb_1e/ssp126/total-workflow.nc</dd><dt><span>TITLE :</span></dt><dd>AR6 sea level rise projections</dd><dt><span>TITLE_ABBREVIATION :</span></dt><dd>ar6_slr</dd><dt><span>DESCRIPTION :</span></dt><dd>The global and regional sea level projections from the IPCC 6th Assessment Report (AR6). The projections cover the time-period from 2020 to 2150 and are provided for all future scenarios covered in the AR6. Projections for individual processes that cause sea level to change are also included in the dataset. Globally averaged projections, regional projections on a regular global grid, and local projections at individual tide gauge locations are all provided.</dd><dt><span>SHORT_DESCRIPTION :</span></dt><dd>Median projections of regional sea level rise from 2020 to 2150, relative to a 1995-2014 baseline.</dd><dt><span>INSTITUTION :</span></dt><dd>NASA Jet Propulsion Laboratory</dd><dt><span>PROVIDERS :</span></dt><dd>[{&quot;name&quot;: &quot;PODAAC NASA JPL&quot;, &quot;url&quot;: &quot;https://podaac.jpl.nasa.gov/&quot;, &quot;roles&quot;: &quot;provider&quot;, &quot;description&quot;: &quot;JPL spacecraft, science instruments, and airborne missions help humanity study and track climate change, manage natural resources, and respond to disasters. And the giant dish antennas of NASA\\u2019s Deep Space Network \\u2013 built and managed by JPL \\u2013 send and receive data from nearly all spacecraft traveling beyond the Moon.&quot;}]</dd><dt><span>HISTORY :</span></dt><dd>[&#x27;Deltares&#x27;, &#x27;NASA JPL&#x27;, &#x27;IPCC WG1 AR6 Chapter 9 Ocean, Cryosphere and Sea Level Change&#x27;]</dd><dt><span>MEDIA_TYPE :</span></dt><dd>APPLICATION/NETCDF</dd><dt><span>SPATIAL_EXTENT :</span></dt><dd>[-180, -90, 180, 90]</dd><dt><span>TEMPORAL_EXTENT :</span></dt><dd>[&#x27;2020-01-01T00:00:00Z&#x27;, &#x27;2150-01-01T00:00:00Z&#x27;]</dd><dt><span>LICENSE :</span></dt><dd>Creative Commons Attribution 4.0 International</dd><dt><span>AUTHOR :</span></dt><dd>Fox-Kemper, B., H. T. Hewitt, C. Xiao, G. Aðalgeirsdóttir, S. S. Drijfhout, T. L. Edwards, N. R. Golledge, M. Hemer, R. E. Kopp, G. Krinner, A. Mix, D. Notz, S. Nowicki, I. S. Nurhati, L. Ruiz, J-B. Sallée, A. B. A. Slangen and Y. Yu</dd><dt><span>KEYWORDS :</span></dt><dd>[&#x27;sea level rise&#x27;, &#x27;projections&#x27;, &#x27;AR6&#x27;, &#x27;IPCC&#x27;]</dd><dt><span>TAGS :</span></dt><dd>[&#x27;sea level rise&#x27;, &#x27;projections&#x27;, &#x27;AR6&#x27;, &#x27;IPCC&#x27;]</dd><dt><span>CITATION :</span></dt><dd>Fox-Kemper, B., H. T. Hewitt, C. Xiao, G. Aðalgeirsdóttir, S. S. Drijfhout, T. L. Edwards, N. R. Golledge, M. Hemer, R. E. Kopp, G. Krinner, A. Mix, D. Notz, S. Nowicki, I. S. Nurhati, L. Ruiz, J-B. Sallée, A. B. A. Slangen, Y. Yu, 2021, Ocean, Cryosphere and Sea Level Change. In: Climate Change 2021: The Physical Science Basis. Contribution of Working Group I to the Sixth Assessment Report of the Intergovernmental Panel on Climate Change [MassonDelmotte, V., P. Zhai, A. Pirani, S. L. Connors, C. Péan, S. Berger, N. Caud, Y. Chen, L. Goldfarb, M. I. Gomis, M. Huang, K. Leitzell, E. Lonnoy, J. B. R. Matthews, T. K. Maycock, T. Waterfield, O. Yelekçi, R. Yu and B. Zhou (eds.)]. Cambridge University Press.</dd><dt><span>DOI :</span></dt><dd>https://podaac.jpl.nasa.gov/announcements/2021-08-09-Sea-level-projections-from-the-IPCC-6th-Assessment-Report</dd><dt><span>LONG_NAME :</span></dt><dd>IPCC_AR6_SLR</dd><dt><span>UNITS :</span></dt><dd>mm</dd><dt><span>COMMENT :</span></dt><dd>The data taken into account only considers the values of the total medium confidence interval regional sea level projections on a regular grid for climate change scenarios SSP-1.26, SSP-2.45 and SSP-5.85.</dd><dt><span>CRS :</span></dt><dd>EPSG:4326</dd><dt><span>Conventions :</span></dt><dd>CF-1.8</dd></dl></div></li></ul></div></div>"
      ],
      "text/plain": [
       "<xarray.Dataset>\n",
       "Dimensions:    (time: 14, ensemble: 107, lat: 181, lon: 360, nscenarios: 3)\n",
       "Coordinates:\n",
       "  * time       (time) int32 2020 2030 2040 2050 2060 ... 2120 2130 2140 2150\n",
       "  * ensemble   (ensemble) float32 0.0 0.1 0.5 1.0 2.0 ... 99.0 99.5 99.9 100.0\n",
       "  * lat        (lat) float32 -90.0 -89.0 -88.0 -87.0 ... 87.0 88.0 89.0 90.0\n",
       "  * lon        (lon) float32 -180.0 -179.0 -178.0 -177.0 ... 177.0 178.0 179.0\n",
       "    scenarios  (nscenarios) |S7 b'SSP1-26' b'SSP2-45' b'SSP5-85'\n",
       "Dimensions without coordinates: nscenarios\n",
       "Data variables:\n",
       "    slr        (nscenarios, time, lat, lon, ensemble) float32 nan ... 6.324e+03\n",
       "Attributes: (12/24)\n",
       "    description:         Combined confidence output file for AR6 sea-level ch...\n",
       "    history:             Created Sat Jul 10 15:19:21 2021\n",
       "    source:              Files Combined: /projects/kopp/ar6/regional/pboxes/p...\n",
       "    TITLE:               AR6 sea level rise projections\n",
       "    TITLE_ABBREVIATION:  ar6_slr\n",
       "    DESCRIPTION:         The global and regional sea level projections from t...\n",
       "    ...                  ...\n",
       "    DOI:                 https://podaac.jpl.nasa.gov/announcements/2021-08-09...\n",
       "    LONG_NAME:           IPCC_AR6_SLR\n",
       "    UNITS:               mm\n",
       "    COMMENT:             The data taken into account only considers the value...\n",
       "    CRS:                 EPSG:4326\n",
       "    Conventions:         CF-1.8"
      ]
     },
     "execution_count": 18,
     "metadata": {},
     "output_type": "execute_result"
    },
    {
     "data": {
      "application/javascript": "\n            setTimeout(function() {\n                var nbb_cell_id = 18;\n                var nbb_unformatted_code = \"# check the xarray dataset, best practice is to have as many as possible bold dimensions (dimension == coordinate name).\\n# in this way, the Front-End can access the variable directly without having to index the variable first\\n\\ndataset\\n# dataset[\\\"nscenarios\\\"]\";\n                var nbb_formatted_code = \"# check the xarray dataset, best practice is to have as many as possible bold dimensions (dimension == coordinate name).\\n# in this way, the Front-End can access the variable directly without having to index the variable first\\n\\ndataset\\n# dataset[\\\"nscenarios\\\"]\";\n                var nbb_cells = Jupyter.notebook.get_cells();\n                for (var i = 0; i < nbb_cells.length; ++i) {\n                    if (nbb_cells[i].input_prompt_number == nbb_cell_id) {\n                        if (nbb_cells[i].get_text() == nbb_unformatted_code) {\n                             nbb_cells[i].set_text(nbb_formatted_code);\n                        }\n                        break;\n                    }\n                }\n            }, 500);\n            ",
      "text/plain": [
       "<IPython.core.display.Javascript object>"
      ]
     },
     "metadata": {},
     "output_type": "display_data"
    }
   ],
   "source": [
    "# check the xarray dataset, best practice is to have as many as possible bold dimensions (dimension == coordinate name).\n",
    "# in this way, the Front-End can access the variable directly without having to index the variable first\n",
    "\n",
    "dataset\n",
    "# dataset[\"nscenarios\"]"
   ]
  },
  {
   "cell_type": "code",
   "execution_count": 19,
   "id": "54b51c64",
   "metadata": {},
   "outputs": [
    {
     "data": {
      "application/javascript": "\n            setTimeout(function() {\n                var nbb_cell_id = 19;\n                var nbb_unformatted_code = \"# save new .nc files\\nds_26ssp.to_netcdf(path=str(ds_ssp26_path).replace(\\\".nc\\\", \\\"_CF.nc\\\"))\\nds_45ssp.to_netcdf(path=str(ds_ssp45_path).replace(\\\".nc\\\", \\\"_CF.nc\\\"))\\nds_85ssp.to_netcdf(path=str(ds_ssp85_path).replace(\\\".nc\\\", \\\"_CF.nc\\\"))\\ndataset.to_netcdf(path=ds_dir.joinpath(ds_out_file + \\\"_CF.nc\\\"))\";\n                var nbb_formatted_code = \"# save new .nc files\\nds_26ssp.to_netcdf(path=str(ds_ssp26_path).replace(\\\".nc\\\", \\\"_CF.nc\\\"))\\nds_45ssp.to_netcdf(path=str(ds_ssp45_path).replace(\\\".nc\\\", \\\"_CF.nc\\\"))\\nds_85ssp.to_netcdf(path=str(ds_ssp85_path).replace(\\\".nc\\\", \\\"_CF.nc\\\"))\\ndataset.to_netcdf(path=ds_dir.joinpath(ds_out_file + \\\"_CF.nc\\\"))\";\n                var nbb_cells = Jupyter.notebook.get_cells();\n                for (var i = 0; i < nbb_cells.length; ++i) {\n                    if (nbb_cells[i].input_prompt_number == nbb_cell_id) {\n                        if (nbb_cells[i].get_text() == nbb_unformatted_code) {\n                             nbb_cells[i].set_text(nbb_formatted_code);\n                        }\n                        break;\n                    }\n                }\n            }, 500);\n            ",
      "text/plain": [
       "<IPython.core.display.Javascript object>"
      ]
     },
     "metadata": {},
     "output_type": "display_data"
    }
   ],
   "source": [
    "# save new .nc files\n",
    "ds_26ssp.to_netcdf(path=str(ds_ssp26_path).replace(\".nc\", \"_CF.nc\"))\n",
    "ds_45ssp.to_netcdf(path=str(ds_ssp45_path).replace(\".nc\", \"_CF.nc\"))\n",
    "ds_85ssp.to_netcdf(path=str(ds_ssp85_path).replace(\".nc\", \"_CF.nc\"))\n",
    "dataset.to_netcdf(path=ds_dir.joinpath(ds_out_file + \"_CF.nc\"))"
   ]
  },
  {
   "attachments": {},
   "cell_type": "markdown",
   "id": "f4db3707",
   "metadata": {},
   "source": [
    "### Check CF compliancy altered NetCDF files"
   ]
  },
  {
   "cell_type": "code",
   "execution_count": 20,
   "id": "088dca7e",
   "metadata": {},
   "outputs": [
    {
     "data": {
      "application/javascript": "\n            setTimeout(function() {\n                var nbb_cell_id = 20;\n                var nbb_unformatted_code = \"%%capture cap --no-stderr\\n# check altered CF compliancy\\n\\ncheck_compliancy(testfile=str(ds_ssp26_path).replace(\\\".nc\\\", \\\"_CF.nc\\\"), working_dir=CF_dir)\";\n                var nbb_formatted_code = \"%%capture cap --no-stderr\\n# check altered CF compliancy\\n\\ncheck_compliancy(testfile=str(ds_ssp26_path).replace(\\\".nc\\\", \\\"_CF.nc\\\"), working_dir=CF_dir)\";\n                var nbb_cells = Jupyter.notebook.get_cells();\n                for (var i = 0; i < nbb_cells.length; ++i) {\n                    if (nbb_cells[i].input_prompt_number == nbb_cell_id) {\n                        if (nbb_cells[i].get_text() == nbb_unformatted_code) {\n                             nbb_cells[i].set_text(nbb_formatted_code);\n                        }\n                        break;\n                    }\n                }\n            }, 500);\n            ",
      "text/plain": [
       "<IPython.core.display.Javascript object>"
      ]
     },
     "metadata": {},
     "output_type": "display_data"
    }
   ],
   "source": [
    "%%capture cap --no-stderr\n",
    "# check altered CF compliancy\n",
    "\n",
    "check_compliancy(testfile=str(ds_ssp26_path).replace(\".nc\", \"_CF.nc\"), working_dir=CF_dir)"
   ]
  },
  {
   "cell_type": "code",
   "execution_count": 21,
   "id": "a9ab416b",
   "metadata": {},
   "outputs": [
    {
     "name": "stdout",
     "output_type": "stream",
     "text": [
      "{'P:\\\\11205479-coclico\\\\FASTTRACK_DATA\\\\17_AR6_SLP_IPCC\\\\total_ssp126_medium_confidence_values_CF.nc': {'warnings': '0', 'errors': '0'}}\n"
     ]
    },
    {
     "data": {
      "application/javascript": "\n            setTimeout(function() {\n                var nbb_cell_id = 21;\n                var nbb_unformatted_code = \"# save altered CF compliancy\\nsave_compliancy(\\n    cap, testfile=str(ds_ssp26_path).replace(\\\".nc\\\", \\\"_CF.nc\\\"), working_dir=CF_dir,\\n)\";\n                var nbb_formatted_code = \"# save altered CF compliancy\\nsave_compliancy(\\n    cap,\\n    testfile=str(ds_ssp26_path).replace(\\\".nc\\\", \\\"_CF.nc\\\"),\\n    working_dir=CF_dir,\\n)\";\n                var nbb_cells = Jupyter.notebook.get_cells();\n                for (var i = 0; i < nbb_cells.length; ++i) {\n                    if (nbb_cells[i].input_prompt_number == nbb_cell_id) {\n                        if (nbb_cells[i].get_text() == nbb_unformatted_code) {\n                             nbb_cells[i].set_text(nbb_formatted_code);\n                        }\n                        break;\n                    }\n                }\n            }, 500);\n            ",
      "text/plain": [
       "<IPython.core.display.Javascript object>"
      ]
     },
     "metadata": {},
     "output_type": "display_data"
    }
   ],
   "source": [
    "# save altered CF compliancy\n",
    "save_compliancy(\n",
    "    cap, testfile=str(ds_ssp26_path).replace(\".nc\", \"_CF.nc\"), working_dir=CF_dir,\n",
    ")"
   ]
  },
  {
   "cell_type": "code",
   "execution_count": 22,
   "id": "e95bd5b5",
   "metadata": {},
   "outputs": [
    {
     "data": {
      "application/javascript": "\n            setTimeout(function() {\n                var nbb_cell_id = 22;\n                var nbb_unformatted_code = \"%%capture cap --no-stderr\\n# check altered CF compliancy\\n\\ncheck_compliancy(testfile=str(ds_ssp45_path).replace(\\\".nc\\\", \\\"_CF.nc\\\"), working_dir=CF_dir)\";\n                var nbb_formatted_code = \"%%capture cap --no-stderr\\n# check altered CF compliancy\\n\\ncheck_compliancy(testfile=str(ds_ssp45_path).replace(\\\".nc\\\", \\\"_CF.nc\\\"), working_dir=CF_dir)\";\n                var nbb_cells = Jupyter.notebook.get_cells();\n                for (var i = 0; i < nbb_cells.length; ++i) {\n                    if (nbb_cells[i].input_prompt_number == nbb_cell_id) {\n                        if (nbb_cells[i].get_text() == nbb_unformatted_code) {\n                             nbb_cells[i].set_text(nbb_formatted_code);\n                        }\n                        break;\n                    }\n                }\n            }, 500);\n            ",
      "text/plain": [
       "<IPython.core.display.Javascript object>"
      ]
     },
     "metadata": {},
     "output_type": "display_data"
    }
   ],
   "source": [
    "%%capture cap --no-stderr\n",
    "# check altered CF compliancy\n",
    "\n",
    "check_compliancy(testfile=str(ds_ssp45_path).replace(\".nc\", \"_CF.nc\"), working_dir=CF_dir)"
   ]
  },
  {
   "cell_type": "code",
   "execution_count": 23,
   "id": "213576cb",
   "metadata": {},
   "outputs": [
    {
     "name": "stdout",
     "output_type": "stream",
     "text": [
      "{'P:\\\\11205479-coclico\\\\FASTTRACK_DATA\\\\17_AR6_SLP_IPCC\\\\total_ssp245_medium_confidence_values_CF.nc': {'warnings': '0', 'errors': '0'}}\n"
     ]
    },
    {
     "data": {
      "application/javascript": "\n            setTimeout(function() {\n                var nbb_cell_id = 23;\n                var nbb_unformatted_code = \"# save altered CF compliancy\\nsave_compliancy(\\n    cap, testfile=str(ds_ssp45_path).replace(\\\".nc\\\", \\\"_CF.nc\\\"), working_dir=CF_dir,\\n)\";\n                var nbb_formatted_code = \"# save altered CF compliancy\\nsave_compliancy(\\n    cap,\\n    testfile=str(ds_ssp45_path).replace(\\\".nc\\\", \\\"_CF.nc\\\"),\\n    working_dir=CF_dir,\\n)\";\n                var nbb_cells = Jupyter.notebook.get_cells();\n                for (var i = 0; i < nbb_cells.length; ++i) {\n                    if (nbb_cells[i].input_prompt_number == nbb_cell_id) {\n                        if (nbb_cells[i].get_text() == nbb_unformatted_code) {\n                             nbb_cells[i].set_text(nbb_formatted_code);\n                        }\n                        break;\n                    }\n                }\n            }, 500);\n            ",
      "text/plain": [
       "<IPython.core.display.Javascript object>"
      ]
     },
     "metadata": {},
     "output_type": "display_data"
    }
   ],
   "source": [
    "# save altered CF compliancy\n",
    "save_compliancy(\n",
    "    cap, testfile=str(ds_ssp45_path).replace(\".nc\", \"_CF.nc\"), working_dir=CF_dir,\n",
    ")"
   ]
  },
  {
   "cell_type": "code",
   "execution_count": 24,
   "id": "55fb58d8",
   "metadata": {},
   "outputs": [
    {
     "data": {
      "application/javascript": "\n            setTimeout(function() {\n                var nbb_cell_id = 24;\n                var nbb_unformatted_code = \"%%capture cap --no-stderr\\n# check altered CF compliancy\\n\\ncheck_compliancy(testfile=str(ds_ssp85_path).replace(\\\".nc\\\", \\\"_CF.nc\\\"), working_dir=CF_dir)\";\n                var nbb_formatted_code = \"%%capture cap --no-stderr\\n# check altered CF compliancy\\n\\ncheck_compliancy(testfile=str(ds_ssp85_path).replace(\\\".nc\\\", \\\"_CF.nc\\\"), working_dir=CF_dir)\";\n                var nbb_cells = Jupyter.notebook.get_cells();\n                for (var i = 0; i < nbb_cells.length; ++i) {\n                    if (nbb_cells[i].input_prompt_number == nbb_cell_id) {\n                        if (nbb_cells[i].get_text() == nbb_unformatted_code) {\n                             nbb_cells[i].set_text(nbb_formatted_code);\n                        }\n                        break;\n                    }\n                }\n            }, 500);\n            ",
      "text/plain": [
       "<IPython.core.display.Javascript object>"
      ]
     },
     "metadata": {},
     "output_type": "display_data"
    }
   ],
   "source": [
    "%%capture cap --no-stderr\n",
    "# check altered CF compliancy\n",
    "\n",
    "check_compliancy(testfile=str(ds_ssp85_path).replace(\".nc\", \"_CF.nc\"), working_dir=CF_dir)"
   ]
  },
  {
   "cell_type": "code",
   "execution_count": 25,
   "id": "f46a214b",
   "metadata": {},
   "outputs": [
    {
     "name": "stdout",
     "output_type": "stream",
     "text": [
      "{'P:\\\\11205479-coclico\\\\FASTTRACK_DATA\\\\17_AR6_SLP_IPCC\\\\total_ssp585_medium_confidence_values_CF.nc': {'warnings': '0', 'errors': '0'}}\n"
     ]
    },
    {
     "data": {
      "application/javascript": "\n            setTimeout(function() {\n                var nbb_cell_id = 25;\n                var nbb_unformatted_code = \"# save altered CF compliancy\\nsave_compliancy(\\n    cap, testfile=str(ds_ssp85_path).replace(\\\".nc\\\", \\\"_CF.nc\\\"), working_dir=CF_dir,\\n)\";\n                var nbb_formatted_code = \"# save altered CF compliancy\\nsave_compliancy(\\n    cap,\\n    testfile=str(ds_ssp85_path).replace(\\\".nc\\\", \\\"_CF.nc\\\"),\\n    working_dir=CF_dir,\\n)\";\n                var nbb_cells = Jupyter.notebook.get_cells();\n                for (var i = 0; i < nbb_cells.length; ++i) {\n                    if (nbb_cells[i].input_prompt_number == nbb_cell_id) {\n                        if (nbb_cells[i].get_text() == nbb_unformatted_code) {\n                             nbb_cells[i].set_text(nbb_formatted_code);\n                        }\n                        break;\n                    }\n                }\n            }, 500);\n            ",
      "text/plain": [
       "<IPython.core.display.Javascript object>"
      ]
     },
     "metadata": {},
     "output_type": "display_data"
    }
   ],
   "source": [
    "# save altered CF compliancy\n",
    "save_compliancy(\n",
    "    cap, testfile=str(ds_ssp85_path).replace(\".nc\", \"_CF.nc\"), working_dir=CF_dir,\n",
    ")"
   ]
  },
  {
   "cell_type": "code",
   "execution_count": 26,
   "id": "93338230",
   "metadata": {},
   "outputs": [
    {
     "data": {
      "application/javascript": "\n            setTimeout(function() {\n                var nbb_cell_id = 26;\n                var nbb_unformatted_code = \"%%capture cap --no-stderr\\n# check altered CF compliancy\\n\\ncheck_compliancy(testfile=ds_dir.joinpath(ds_out_file + \\\"_CF.nc\\\"), working_dir=CF_dir)\";\n                var nbb_formatted_code = \"%%capture cap --no-stderr\\n# check altered CF compliancy\\n\\ncheck_compliancy(testfile=ds_dir.joinpath(ds_out_file + \\\"_CF.nc\\\"), working_dir=CF_dir)\";\n                var nbb_cells = Jupyter.notebook.get_cells();\n                for (var i = 0; i < nbb_cells.length; ++i) {\n                    if (nbb_cells[i].input_prompt_number == nbb_cell_id) {\n                        if (nbb_cells[i].get_text() == nbb_unformatted_code) {\n                             nbb_cells[i].set_text(nbb_formatted_code);\n                        }\n                        break;\n                    }\n                }\n            }, 500);\n            ",
      "text/plain": [
       "<IPython.core.display.Javascript object>"
      ]
     },
     "metadata": {},
     "output_type": "display_data"
    }
   ],
   "source": [
    "%%capture cap --no-stderr\n",
    "# check altered CF compliancy\n",
    "\n",
    "check_compliancy(testfile=ds_dir.joinpath(ds_out_file + \"_CF.nc\"), working_dir=CF_dir)"
   ]
  },
  {
   "cell_type": "code",
   "execution_count": 27,
   "id": "7b988887",
   "metadata": {},
   "outputs": [
    {
     "name": "stdout",
     "output_type": "stream",
     "text": [
      "{'P:\\\\11205479-coclico\\\\FASTTRACK_DATA\\\\17_AR6_SLP_IPCC\\\\slr_medium_confidence_values_CF.nc': {'warnings': '0', 'errors': '0'}}\n"
     ]
    },
    {
     "data": {
      "application/javascript": "\n            setTimeout(function() {\n                var nbb_cell_id = 27;\n                var nbb_unformatted_code = \"# save altered CF compliancy\\nsave_compliancy(\\n    cap, testfile=ds_dir.joinpath(ds_out_file + \\\"_CF.nc\\\"), working_dir=CF_dir,\\n)\";\n                var nbb_formatted_code = \"# save altered CF compliancy\\nsave_compliancy(\\n    cap,\\n    testfile=ds_dir.joinpath(ds_out_file + \\\"_CF.nc\\\"),\\n    working_dir=CF_dir,\\n)\";\n                var nbb_cells = Jupyter.notebook.get_cells();\n                for (var i = 0; i < nbb_cells.length; ++i) {\n                    if (nbb_cells[i].input_prompt_number == nbb_cell_id) {\n                        if (nbb_cells[i].get_text() == nbb_unformatted_code) {\n                             nbb_cells[i].set_text(nbb_formatted_code);\n                        }\n                        break;\n                    }\n                }\n            }, 500);\n            ",
      "text/plain": [
       "<IPython.core.display.Javascript object>"
      ]
     },
     "metadata": {},
     "output_type": "display_data"
    }
   ],
   "source": [
    "# save altered CF compliancy\n",
    "save_compliancy(\n",
    "    cap, testfile=ds_dir.joinpath(ds_out_file + \"_CF.nc\"), working_dir=CF_dir,\n",
    ")"
   ]
  },
  {
   "attachments": {},
   "cell_type": "markdown",
   "id": "beec081e",
   "metadata": {},
   "source": [
    "### write data to Zarr files (not used)"
   ]
  },
  {
   "cell_type": "code",
   "execution_count": 31,
   "id": "6ba75d19",
   "metadata": {},
   "outputs": [
    {
     "data": {
      "application/javascript": "\n            setTimeout(function() {\n                var nbb_cell_id = 31;\n                var nbb_unformatted_code = \"# export to zarr in write mode (to overwrite if exists)\\n#dataset.to_zarr(ds_dir.joinpath(\\\"%s.zarr\\\" % ds_out_file), mode=\\\"w\\\")\";\n                var nbb_formatted_code = \"# export to zarr in write mode (to overwrite if exists)\\n# dataset.to_zarr(ds_dir.joinpath(\\\"%s.zarr\\\" % ds_out_file), mode=\\\"w\\\")\";\n                var nbb_cells = Jupyter.notebook.get_cells();\n                for (var i = 0; i < nbb_cells.length; ++i) {\n                    if (nbb_cells[i].input_prompt_number == nbb_cell_id) {\n                        if (nbb_cells[i].get_text() == nbb_unformatted_code) {\n                             nbb_cells[i].set_text(nbb_formatted_code);\n                        }\n                        break;\n                    }\n                }\n            }, 500);\n            ",
      "text/plain": [
       "<IPython.core.display.Javascript object>"
      ]
     },
     "metadata": {},
     "output_type": "display_data"
    }
   ],
   "source": [
    "# export to zarr in write mode (to overwrite if exists)\n",
    "#dataset.to_zarr(ds_dir.joinpath(\"%s.zarr\" % ds_out_file), mode=\"w\")"
   ]
  },
  {
   "cell_type": "code",
   "execution_count": 32,
   "id": "d9ce96dd",
   "metadata": {},
   "outputs": [
    {
     "data": {
      "application/javascript": "\n            setTimeout(function() {\n                var nbb_cell_id = 32;\n                var nbb_unformatted_code = \"# check dataset\\n#ds_26ssp = xr.open_dataset(r\\\"P:\\\\11205479-coclico\\\\FASTTRACK_DATA\\\\17_AR6_SLP_IPCC\\\\total_ssp126_medium_confidence_values_CF.nc\\\")\";\n                var nbb_formatted_code = \"# check dataset\\n# ds_26ssp = xr.open_dataset(r\\\"P:\\\\11205479-coclico\\\\FASTTRACK_DATA\\\\17_AR6_SLP_IPCC\\\\total_ssp126_medium_confidence_values_CF.nc\\\")\";\n                var nbb_cells = Jupyter.notebook.get_cells();\n                for (var i = 0; i < nbb_cells.length; ++i) {\n                    if (nbb_cells[i].input_prompt_number == nbb_cell_id) {\n                        if (nbb_cells[i].get_text() == nbb_unformatted_code) {\n                             nbb_cells[i].set_text(nbb_formatted_code);\n                        }\n                        break;\n                    }\n                }\n            }, 500);\n            ",
      "text/plain": [
       "<IPython.core.display.Javascript object>"
      ]
     },
     "metadata": {},
     "output_type": "display_data"
    }
   ],
   "source": [
    "# check dataset\n",
    "#ds_26ssp = xr.open_dataset(r\"P:\\11205479-coclico\\FASTTRACK_DATA\\17_AR6_SLP_IPCC\\total_ssp126_medium_confidence_values_CF.nc\")"
   ]
  },
  {
   "attachments": {},
   "cell_type": "markdown",
   "id": "3763c979",
   "metadata": {},
   "source": [
    "### Write data to CoG (CF compliant)"
   ]
  },
  {
   "attachments": {},
   "cell_type": "markdown",
   "id": "1dfee8ee",
   "metadata": {},
   "source": [
    "#### single CoG test"
   ]
  },
  {
   "cell_type": "code",
   "execution_count": 33,
   "id": "4982d237",
   "metadata": {},
   "outputs": [
    {
     "data": {
      "application/javascript": "\n            setTimeout(function() {\n                var nbb_cell_id = 33;\n                var nbb_unformatted_code = \"# check CoG for one set of params\\n\\n# hard-coded input params\\nENSEMBLE = 50.0 # select ensemble\\nTIME = 0 # select timestep (indices)\\nVARIABLE = \\\"slr\\\" # select variable\\nSSP = 0 # select scenario (indices)\\n\\n# open the dataset\\nds_fp = ds_dir.joinpath(ds_out_file + \\\"_CF.nc\\\")\\nds = xr.open_dataset(ds_fp)\\n\\n# make array 2d and fix spatial dimensions and crs\\nrds = ds.sel({\\\"ensemble\\\": ENSEMBLE, \\\"nscenarios\\\": SSP}).isel(time=TIME)[VARIABLE] \\n\\nrds.rio.set_spatial_dims(x_dim=\\\"lon\\\", y_dim=\\\"lat\\\")\\nif not rds.rio.crs:\\n    rds = rds.rio.write_crs(\\\"EPSG:4326\\\")\\n\\n# convert to dataset\\nrdsd = rds.to_dataset()\\n\\n# add all attributes (again)\\nfor attr_name, attr_val in meta_global.items():\\n    if attr_name == 'PROVIDERS':\\n        attr_val = json.dumps(attr_val)\\n    if attr_name == \\\"MEDIA_TYPE\\\": # change media type to tiff, leave the rest as is\\n        attr_val = \\\"IMAGE/TIFF\\\"\\n    rdsd.attrs[attr_name] = attr_val\\n\\nrdsd.attrs['Conventions'] = \\\"CF-1.8\\\"\\n\\n# export file\\nssp_str = rdsd[\\\"scenarios\\\"].item().decode(\\\"utf-8\\\") # fix scenario string \\nfname = f\\\"{VARIABLE}_{ssp_str}_ens{float(ENSEMBLE)}_time{TIME}_CF.GeoTiff\\\"\\noutpath = cog_dir.joinpath(fname)\\nrdsd.rio.to_raster(outpath, driver=\\\"GTiff\\\")\";\n                var nbb_formatted_code = \"# check CoG for one set of params\\n\\n# hard-coded input params\\nENSEMBLE = 50.0  # select ensemble\\nTIME = 0  # select timestep (indices)\\nVARIABLE = \\\"slr\\\"  # select variable\\nSSP = 0  # select scenario (indices)\\n\\n# open the dataset\\nds_fp = ds_dir.joinpath(ds_out_file + \\\"_CF.nc\\\")\\nds = xr.open_dataset(ds_fp)\\n\\n# make array 2d and fix spatial dimensions and crs\\nrds = ds.sel({\\\"ensemble\\\": ENSEMBLE, \\\"nscenarios\\\": SSP}).isel(time=TIME)[VARIABLE]\\n\\nrds.rio.set_spatial_dims(x_dim=\\\"lon\\\", y_dim=\\\"lat\\\")\\nif not rds.rio.crs:\\n    rds = rds.rio.write_crs(\\\"EPSG:4326\\\")\\n\\n# convert to dataset\\nrdsd = rds.to_dataset()\\n\\n# add all attributes (again)\\nfor attr_name, attr_val in meta_global.items():\\n    if attr_name == \\\"PROVIDERS\\\":\\n        attr_val = json.dumps(attr_val)\\n    if attr_name == \\\"MEDIA_TYPE\\\":  # change media type to tiff, leave the rest as is\\n        attr_val = \\\"IMAGE/TIFF\\\"\\n    rdsd.attrs[attr_name] = attr_val\\n\\nrdsd.attrs[\\\"Conventions\\\"] = \\\"CF-1.8\\\"\\n\\n# export file\\nssp_str = rdsd[\\\"scenarios\\\"].item().decode(\\\"utf-8\\\")  # fix scenario string\\nfname = f\\\"{VARIABLE}_{ssp_str}_ens{float(ENSEMBLE)}_time{TIME}_CF.GeoTiff\\\"\\noutpath = cog_dir.joinpath(fname)\\nrdsd.rio.to_raster(outpath, driver=\\\"GTiff\\\")\";\n                var nbb_cells = Jupyter.notebook.get_cells();\n                for (var i = 0; i < nbb_cells.length; ++i) {\n                    if (nbb_cells[i].input_prompt_number == nbb_cell_id) {\n                        if (nbb_cells[i].get_text() == nbb_unformatted_code) {\n                             nbb_cells[i].set_text(nbb_formatted_code);\n                        }\n                        break;\n                    }\n                }\n            }, 500);\n            ",
      "text/plain": [
       "<IPython.core.display.Javascript object>"
      ]
     },
     "metadata": {},
     "output_type": "display_data"
    }
   ],
   "source": [
    "# check CoG for one set of params\n",
    "\n",
    "# hard-coded input params\n",
    "ENSEMBLE = 50.0 # select ensemble\n",
    "TIME = 0 # select timestep (indices)\n",
    "VARIABLE = \"slr\" # select variable\n",
    "SSP = 0 # select scenario (indices)\n",
    "\n",
    "# open the dataset\n",
    "ds_fp = ds_dir.joinpath(ds_out_file + \"_CF.nc\")\n",
    "ds = xr.open_dataset(ds_fp)\n",
    "\n",
    "# make array 2d and fix spatial dimensions and crs\n",
    "rds = ds.sel({\"ensemble\": ENSEMBLE, \"nscenarios\": SSP}).isel(time=TIME)[VARIABLE] \n",
    "\n",
    "rds.rio.set_spatial_dims(x_dim=\"lon\", y_dim=\"lat\")\n",
    "if not rds.rio.crs:\n",
    "    rds = rds.rio.write_crs(\"EPSG:4326\")\n",
    "\n",
    "# convert to dataset\n",
    "rdsd = rds.to_dataset()\n",
    "\n",
    "# add all attributes (again)\n",
    "for attr_name, attr_val in meta_global.items():\n",
    "    if attr_name == 'PROVIDERS':\n",
    "        attr_val = json.dumps(attr_val)\n",
    "    if attr_name == \"MEDIA_TYPE\": # change media type to tiff, leave the rest as is\n",
    "        attr_val = \"IMAGE/TIFF\"\n",
    "    rdsd.attrs[attr_name] = attr_val\n",
    "\n",
    "rdsd.attrs['Conventions'] = \"CF-1.8\"\n",
    "\n",
    "# export file\n",
    "ssp_str = rdsd[\"scenarios\"].item().decode(\"utf-8\") # fix scenario string \n",
    "fname = f\"{VARIABLE}_{ssp_str}_ens{float(ENSEMBLE)}_time{TIME}_CF.GeoTiff\"\n",
    "outpath = cog_dir.joinpath(fname)\n",
    "rdsd.rio.to_raster(outpath, driver=\"GTiff\")"
   ]
  },
  {
   "cell_type": "code",
   "execution_count": 34,
   "id": "522787fd",
   "metadata": {},
   "outputs": [
    {
     "data": {
      "application/javascript": "\n            setTimeout(function() {\n                var nbb_cell_id = 34;\n                var nbb_unformatted_code = \"# export to nc for quick CF compliancy check..\\nrdsd.to_netcdf(path=cog_dir.joinpath(fname.replace(\\\".GeoTiff\\\", \\\".nc\\\")))\\nCF_dir = coclico_data_dir.joinpath(r\\\"CF\\\")\";\n                var nbb_formatted_code = \"# export to nc for quick CF compliancy check..\\nrdsd.to_netcdf(path=cog_dir.joinpath(fname.replace(\\\".GeoTiff\\\", \\\".nc\\\")))\\nCF_dir = coclico_data_dir.joinpath(r\\\"CF\\\")\";\n                var nbb_cells = Jupyter.notebook.get_cells();\n                for (var i = 0; i < nbb_cells.length; ++i) {\n                    if (nbb_cells[i].input_prompt_number == nbb_cell_id) {\n                        if (nbb_cells[i].get_text() == nbb_unformatted_code) {\n                             nbb_cells[i].set_text(nbb_formatted_code);\n                        }\n                        break;\n                    }\n                }\n            }, 500);\n            ",
      "text/plain": [
       "<IPython.core.display.Javascript object>"
      ]
     },
     "metadata": {},
     "output_type": "display_data"
    }
   ],
   "source": [
    "# export to nc for quick CF compliancy check..\n",
    "rdsd.to_netcdf(path=cog_dir.joinpath(fname.replace(\".GeoTiff\", \".nc\")))\n",
    "CF_dir = coclico_data_dir.joinpath(r\"CF\")"
   ]
  },
  {
   "cell_type": "code",
   "execution_count": 35,
   "id": "0c649388",
   "metadata": {},
   "outputs": [
    {
     "data": {
      "application/javascript": "\n            setTimeout(function() {\n                var nbb_cell_id = 35;\n                var nbb_unformatted_code = \"%%capture cap --no-stderr\\n# check original CF compliancy\\n\\ncheck_compliancy(testfile=cog_dir.joinpath(fname.replace(\\\".GeoTiff\\\", \\\".nc\\\")), working_dir=CF_dir)\";\n                var nbb_formatted_code = \"%%capture cap --no-stderr\\n# check original CF compliancy\\n\\ncheck_compliancy(testfile=cog_dir.joinpath(fname.replace(\\\".GeoTiff\\\", \\\".nc\\\")), working_dir=CF_dir)\";\n                var nbb_cells = Jupyter.notebook.get_cells();\n                for (var i = 0; i < nbb_cells.length; ++i) {\n                    if (nbb_cells[i].input_prompt_number == nbb_cell_id) {\n                        if (nbb_cells[i].get_text() == nbb_unformatted_code) {\n                             nbb_cells[i].set_text(nbb_formatted_code);\n                        }\n                        break;\n                    }\n                }\n            }, 500);\n            ",
      "text/plain": [
       "<IPython.core.display.Javascript object>"
      ]
     },
     "metadata": {},
     "output_type": "display_data"
    }
   ],
   "source": [
    "%%capture cap --no-stderr\n",
    "# check original CF compliancy\n",
    "\n",
    "check_compliancy(testfile=cog_dir.joinpath(fname.replace(\".GeoTiff\", \".nc\")), working_dir=CF_dir)"
   ]
  },
  {
   "cell_type": "code",
   "execution_count": 36,
   "id": "dda9262c",
   "metadata": {},
   "outputs": [
    {
     "name": "stdout",
     "output_type": "stream",
     "text": [
      "{'P:\\\\11205479-coclico\\\\FASTTRACK_DATA\\\\17_AR6_SLP_IPCC\\\\cog\\\\slr_SSP1-26_ens50.0_time0_CF.nc': {'warnings': '0', 'errors': '0'}}\n"
     ]
    },
    {
     "data": {
      "application/javascript": "\n            setTimeout(function() {\n                var nbb_cell_id = 36;\n                var nbb_unformatted_code = \"# save original CF compliancy\\nsave_compliancy(cap, testfile=cog_dir.joinpath(fname.replace(\\\".GeoTiff\\\", \\\".nc\\\")), working_dir=CF_dir)\";\n                var nbb_formatted_code = \"# save original CF compliancy\\nsave_compliancy(\\n    cap, testfile=cog_dir.joinpath(fname.replace(\\\".GeoTiff\\\", \\\".nc\\\")), working_dir=CF_dir\\n)\";\n                var nbb_cells = Jupyter.notebook.get_cells();\n                for (var i = 0; i < nbb_cells.length; ++i) {\n                    if (nbb_cells[i].input_prompt_number == nbb_cell_id) {\n                        if (nbb_cells[i].get_text() == nbb_unformatted_code) {\n                             nbb_cells[i].set_text(nbb_formatted_code);\n                        }\n                        break;\n                    }\n                }\n            }, 500);\n            ",
      "text/plain": [
       "<IPython.core.display.Javascript object>"
      ]
     },
     "metadata": {},
     "output_type": "display_data"
    }
   ],
   "source": [
    "# save original CF compliancy\n",
    "save_compliancy(cap, testfile=cog_dir.joinpath(fname.replace(\".GeoTiff\", \".nc\")), working_dir=CF_dir)"
   ]
  },
  {
   "cell_type": "code",
   "execution_count": 39,
   "id": "d237733e",
   "metadata": {},
   "outputs": [
    {
     "data": {
      "text/plain": [
       "<matplotlib.collections.QuadMesh at 0x20a0dbce790>"
      ]
     },
     "execution_count": 39,
     "metadata": {},
     "output_type": "execute_result"
    },
    {
     "data": {
      "image/png": "[encoded data removed]",
      "text/plain": [
       "<Figure size 640x480 with 2 Axes>"
      ]
     },
     "metadata": {},
     "output_type": "display_data"
    },
    {
     "data": {
      "application/javascript": "\n            setTimeout(function() {\n                var nbb_cell_id = 39;\n                var nbb_unformatted_code = \"data = rio.open_rasterio(outpath, masked=True)\\n#data.plot()\\nrds.plot()\";\n                var nbb_formatted_code = \"data = rio.open_rasterio(outpath, masked=True)\\n# data.plot()\\nrds.plot()\";\n                var nbb_cells = Jupyter.notebook.get_cells();\n                for (var i = 0; i < nbb_cells.length; ++i) {\n                    if (nbb_cells[i].input_prompt_number == nbb_cell_id) {\n                        if (nbb_cells[i].get_text() == nbb_unformatted_code) {\n                             nbb_cells[i].set_text(nbb_formatted_code);\n                        }\n                        break;\n                    }\n                }\n            }, 500);\n            ",
      "text/plain": [
       "<IPython.core.display.Javascript object>"
      ]
     },
     "metadata": {},
     "output_type": "display_data"
    }
   ],
   "source": [
    "data = rio.open_rasterio(outpath, masked=True)\n",
    "#data.plot()\n",
    "rds.plot()"
   ]
  },
  {
   "attachments": {},
   "cell_type": "markdown",
   "id": "d1fb3349",
   "metadata": {},
   "source": [
    "#### Multiple CoGs"
   ]
  },
  {
   "cell_type": "code",
   "execution_count": 54,
   "id": "c1b4e751",
   "metadata": {},
   "outputs": [
    {
     "name": "stdout",
     "output_type": "stream",
     "text": [
      "ssp=1-26\n"
     ]
    }
   ],
   "source": [
    "# do for all CoGs (CF compliant)\n",
    "\n",
    "# open the dataset\n",
    "ds_fp = ds_dir.joinpath(ds_out_file + \"_CF.nc\")\n",
    "ds = xr.open_dataset(ds_fp)\n",
    "\n",
    "for idx, scen in enumerate(ds[\"scenarios\"].values):\n",
    "    ssp = scen.decode(\"utf-8\")\n",
    "\n",
    "    # format rcp name for filenaming\n",
    "    ssp_name = \"ssp=%s\"%ssp.strip(\"SSP\")\n",
    "    print(ssp_name)\n",
    "\n",
    "    # extract list of data variables\n",
    "    variables = set(ds.variables) - set(ds.dims) - set(ds.coords)\n",
    "    #print(variables)\n",
    "\n",
    "    ntimes = ds.dims[\"time\"]\n",
    "    for ntime in range(ntimes):\n",
    "        ds2 = ds.copy()\n",
    "        ds2 = ds2.isel({\"time\": ntime})\n",
    "\n",
    "        # extract time for use tif naming (dataset specific)\n",
    "        time_name = str(ds2.time.values)\n",
    "\n",
    "        for var_name in variables:\n",
    "            da = ds2.sel({\"nscenarios\": idx})[var_name]\n",
    "\n",
    "            for idv, ens in enumerate(da[\"ensemble\"].values):\n",
    "                da2 = da.isel({\"ensemble\": idv})\n",
    "\n",
    "                # add crs and spatial dims\n",
    "                da2.rio.set_spatial_dims(x_dim=\"lon\", y_dim=\"lat\")\n",
    "                if not da2.rio.crs:\n",
    "                    da2 = da2.rio.write_crs(\"EPSG:4326\")\n",
    "\n",
    "                # compose tif name\n",
    "                fname = time_name + \".tif\"\n",
    "                blob_name = pathlib.Path(ssp_name, var_name + \"_ens%s\"%np.around(ens, decimals=2), fname)\n",
    "                outpath = cog_dirs.joinpath(blob_name)\n",
    "\n",
    "                # convert to dataset and save as geotiff & nc to check the CF compliancy\n",
    "                # dads = da2.to_dataset()\n",
    "\n",
    "                # # add all attributes (again)\n",
    "                # for attr_name, attr_val in meta_global.items():\n",
    "                #     if attr_name == 'PROVIDERS':\n",
    "                #         attr_val = json.dumps(attr_val)\n",
    "                #     if attr_name == \"MEDIA_TYPE\": # change media type to tiff, leave the rest as is\n",
    "                #         attr_val = \"IMAGE/TIFF\"\n",
    "                #     dads.attrs[attr_name] = attr_val\n",
    "\n",
    "                # dads.attrs['Conventions'] = \"CF-1.8\"\n",
    "\n",
    "                # save to .nc & geotiff\n",
    "                # fname = f\"{var_name}_{ssp}_ens{np.around(ens, decimals=2)}_time{ntime}_CF.GeoTiff\"\n",
    "                # outpath = cog_dir.joinpath(fname)\n",
    "                # dads.rio.to_raster(outpath, driver=\"GTiff\")\n",
    "                # dads.to_netcdf(path=cog_dir.joinpath(fname.replace(\".GeoTiff\", \".nc\")))\n",
    "                # CF_dir = coclico_data_dir.joinpath(r\"CF\")\n",
    "                \n",
    "                # make parent dir if not exists\n",
    "                outpath.parent.mkdir(parents=True, exist_ok=True)\n",
    "\n",
    "                # set overwrite is false because tifs should be unique\n",
    "                try:\n",
    "                    write_cog(da2, fname=outpath, overwrite=False)\n",
    "                except OSError as e:\n",
    "                    continue"
   ]
  },
  {
   "cell_type": "code",
   "execution_count": 51,
   "id": "2665c4d2",
   "metadata": {},
   "outputs": [
    {
     "data": {
      "application/javascript": "\n            setTimeout(function() {\n                var nbb_cell_id = 51;\n                var nbb_unformatted_code = \"%%capture cap --no-stderr\\n# check original CF compliancy\\n\\ncheck_compliancy(testfile=cog_dir.joinpath(fname.replace(\\\".GeoTiff\\\", \\\".nc\\\")), working_dir=CF_dir)\";\n                var nbb_formatted_code = \"%%capture cap --no-stderr\\n# check original CF compliancy\\n\\ncheck_compliancy(testfile=cog_dir.joinpath(fname.replace(\\\".GeoTiff\\\", \\\".nc\\\")), working_dir=CF_dir)\";\n                var nbb_cells = Jupyter.notebook.get_cells();\n                for (var i = 0; i < nbb_cells.length; ++i) {\n                    if (nbb_cells[i].input_prompt_number == nbb_cell_id) {\n                        if (nbb_cells[i].get_text() == nbb_unformatted_code) {\n                             nbb_cells[i].set_text(nbb_formatted_code);\n                        }\n                        break;\n                    }\n                }\n            }, 500);\n            ",
      "text/plain": [
       "<IPython.core.display.Javascript object>"
      ]
     },
     "metadata": {},
     "output_type": "display_data"
    }
   ],
   "source": [
    "# %%capture cap --no-stderr\n",
    "# # check original CF compliancy\n",
    "\n",
    "# check_compliancy(testfile=cog_dir.joinpath(fname.replace(\".GeoTiff\", \".nc\")), working_dir=CF_dir)"
   ]
  },
  {
   "cell_type": "code",
   "execution_count": 52,
   "id": "9694bc7c",
   "metadata": {},
   "outputs": [
    {
     "name": "stdout",
     "output_type": "stream",
     "text": [
      "{'P:\\\\11205479-coclico\\\\FASTTRACK_DATA\\\\17_AR6_SLP_IPCC\\\\cog\\\\slr_SSP1-26_ens0.0_time0_CF.nc': {'warnings': '0', 'errors': '0'}}\n"
     ]
    },
    {
     "data": {
      "application/javascript": "\n            setTimeout(function() {\n                var nbb_cell_id = 52;\n                var nbb_unformatted_code = \"# save original CF compliancy\\nsave_compliancy(cap, testfile=cog_dir.joinpath(fname.replace(\\\".GeoTiff\\\", \\\".nc\\\")), working_dir=CF_dir)\";\n                var nbb_formatted_code = \"# save original CF compliancy\\nsave_compliancy(\\n    cap, testfile=cog_dir.joinpath(fname.replace(\\\".GeoTiff\\\", \\\".nc\\\")), working_dir=CF_dir\\n)\";\n                var nbb_cells = Jupyter.notebook.get_cells();\n                for (var i = 0; i < nbb_cells.length; ++i) {\n                    if (nbb_cells[i].input_prompt_number == nbb_cell_id) {\n                        if (nbb_cells[i].get_text() == nbb_unformatted_code) {\n                             nbb_cells[i].set_text(nbb_formatted_code);\n                        }\n                        break;\n                    }\n                }\n            }, 500);\n            ",
      "text/plain": [
       "<IPython.core.display.Javascript object>"
      ]
     },
     "metadata": {},
     "output_type": "display_data"
    }
   ],
   "source": [
    "# save original CF compliancy\n",
    "# save_compliancy(cap, testfile=cog_dir.joinpath(fname.replace(\".GeoTiff\", \".nc\")), working_dir=CF_dir)"
   ]
  },
  {
   "cell_type": "code",
   "execution_count": null,
   "id": "22439946",
   "metadata": {},
   "outputs": [],
   "source": []
  }
 ],
 "metadata": {
  "kernelspec": {
   "display_name": "Python 3 (ipykernel)",
   "language": "python",
   "name": "python3"
  },
  "language_info": {
   "codemirror_mode": {
    "name": "ipython",
    "version": 3
   },
   "file_extension": ".py",
   "mimetype": "text/x-python",
   "name": "python",
   "nbconvert_exporter": "python",
   "pygments_lexer": "ipython3",
   "version": "3.11.4"
  },
  "vscode": {
   "interpreter": {
    "hash": "d52b8dfbdab1c939c3c4b10b0d762f4c8139583e350f28e123ee37db8f80dd50"
   }
  }
 },
 "nbformat": 4,
 "nbformat_minor": 5
}
