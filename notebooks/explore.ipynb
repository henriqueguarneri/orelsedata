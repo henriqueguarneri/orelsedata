{
 "cells": [
  {
   "cell_type": "code",
   "execution_count": 1,
   "id": "b576a4c7",
   "metadata": {},
   "outputs": [],
   "source": [
    "%load_ext lab_black"
   ]
  },
  {
   "cell_type": "code",
   "execution_count": 2,
   "id": "d121945d",
   "metadata": {},
   "outputs": [],
   "source": [
    "import pathlib\n",
    "import subprocess\n",
    "import os\n",
    "import sys\n",
    "\n",
    "# make root directories importable by appending root to path\n",
    "cwd = pathlib.Path().resolve()\n",
    "sys.path.append(os.path.dirname(cwd))"
   ]
  },
  {
   "cell_type": "code",
   "execution_count": 3,
   "id": "bc025cab",
   "metadata": {},
   "outputs": [
    {
     "ename": "ModuleNotFoundError",
     "evalue": "No module named 'etl'",
     "output_type": "error",
     "traceback": [
      "\u001b[1;31m---------------------------------------------------------------------------\u001b[0m",
      "\u001b[1;31mModuleNotFoundError\u001b[0m                       Traceback (most recent call last)",
      "Cell \u001b[1;32mIn[3], line 1\u001b[0m\n\u001b[1;32m----> 1\u001b[0m \u001b[38;5;28;01mfrom\u001b[39;00m \u001b[38;5;21;01metl\u001b[39;00m\u001b[38;5;21;01m.\u001b[39;00m\u001b[38;5;21;01mkeys\u001b[39;00m \u001b[38;5;28;01mimport\u001b[39;00m load_env_variables\n\u001b[0;32m      3\u001b[0m load_env_variables([\u001b[38;5;124m\"\u001b[39m\u001b[38;5;124mMAPBOX_ACCESS_TOKEN\u001b[39m\u001b[38;5;124m\"\u001b[39m])\n",
      "\u001b[1;31mModuleNotFoundError\u001b[0m: No module named 'etl'"
     ]
    }
   ],
   "source": [
    "from etl.keys import load_env_variables\n",
    "\n",
    "load_env_variables([\"MAPBOX_ACCESS_TOKEN\"])"
   ]
  },
  {
   "cell_type": "code",
   "execution_count": null,
   "id": "8dbaae4b",
   "metadata": {},
   "outputs": [],
   "source": [
    "import rioxarray\n",
    "import xarray as xr\n",
    "\n",
    "zarr_fp = pathlib.Path.home().joinpath(\"ddata\", \"temp\", \"CoastAlRisk_Europe_EESSL.zarr\")\n",
    "ds = xr.open_dataset(zarr_fp, engine=\"zarr\")"
   ]
  },
  {
   "cell_type": "code",
   "execution_count": null,
   "id": "d2e447ca",
   "metadata": {},
   "outputs": [],
   "source": [
    "crap_dir = pathlib.Path.home().joinpath(\"ddata\", \"crap\")"
   ]
  },
  {
   "cell_type": "code",
   "execution_count": null,
   "id": "e2766f82",
   "metadata": {},
   "outputs": [],
   "source": [
    "import pathlib\n",
    "import xarray as xr\n",
    "import urllib.request\n",
    "\n",
    "url = \"http://berkeleyearth.lbl.gov/auto/Global/Gridded/Complete_TMAX_EqualArea.nc\"\n",
    "file = \"Complete_TMAX_EqualArea.nc\"\n",
    "\n",
    "if not pathlib.Path(crap_dir, file).exists():\n",
    "    print(\"Downloading..\")\n",
    "    urllib.request.urlretrieve(url, crap_dir.joinpath(file))\n",
    "\n",
    "ds = xr.open_dataset(file)"
   ]
  }
 ],
 "metadata": {
  "interpreter": {
   "hash": "d52b8dfbdab1c939c3c4b10b0d762f4c8139583e350f28e123ee37db8f80dd50"
  },
  "kernelspec": {
   "display_name": "Python 3.10.4 ('base')",
   "language": "python",
   "name": "python3"
  },
  "language_info": {
   "codemirror_mode": {
    "name": "ipython",
    "version": 3
   },
   "file_extension": ".py",
   "mimetype": "text/x-python",
   "name": "python",
   "nbconvert_exporter": "python",
   "pygments_lexer": "ipython3",
   "version": "3.11.7"
  }
 },
 "nbformat": 4,
 "nbformat_minor": 5
}
