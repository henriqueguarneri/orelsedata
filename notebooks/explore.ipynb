{
 "cells": [
  {
   "cell_type": "code",
   "execution_count": null,
   "id": "b576a4c7",
   "metadata": {},
   "outputs": [],
   "source": [
    "%load_ext lab_black"
   ]
  },
  {
   "cell_type": "code",
   "execution_count": null,
   "id": "d121945d",
   "metadata": {},
   "outputs": [],
   "source": [
    "import pathlib\n",
    "import subprocess\n",
    "import os\n",
    "import sys\n",
    "\n",
    "# make root directories importable by appending root to path\n",
    "cwd = pathlib.Path().resolve()\n",
    "sys.path.append(os.path.dirname(cwd))"
   ]
  },
  {
   "cell_type": "code",
   "execution_count": null,
   "id": "bc025cab",
   "metadata": {},
   "outputs": [],
   "source": [
    "from etl.keys import load_env_variables\n",
    "\n",
    "load_env_variables([\"MAPBOX_ACCESS_TOKEN\"])"
   ]
  },
  {
   "cell_type": "code",
   "execution_count": null,
   "id": "8dbaae4b",
   "metadata": {},
   "outputs": [],
   "source": [
    "import rioxarray\n",
    "import xarray as xr\n",
    "\n",
    "zarr_fp = pathlib.Path.home().joinpath(\"ddata\", \"temp\", \"CoastAlRisk_Europe_EESSL.zarr\")\n",
    "ds = xr.open_dataset(zarr_fp, engine=\"zarr\")"
   ]
  },
  {
   "cell_type": "code",
   "execution_count": null,
   "id": "d2e447ca",
   "metadata": {},
   "outputs": [],
   "source": [
    "crap_dir = pathlib.Path.home().joinpath(\"ddata\", \"crap\")"
   ]
  },
  {
   "cell_type": "code",
   "execution_count": null,
   "id": "e2766f82",
   "metadata": {},
   "outputs": [],
   "source": [
    "import pathlib\n",
    "import xarray as xr\n",
    "import urllib.request\n",
    "\n",
    "url = \"http://berkeleyearth.lbl.gov/auto/Global/Gridded/Complete_TMAX_EqualArea.nc\"\n",
    "file = \"Complete_TMAX_EqualArea.nc\"\n",
    "\n",
    "if not pathlib.Path(crap_dir, file).exists():\n",
    "    print(\"Downloading..\")\n",
    "    urllib.request.urlretrieve(url, crap_dir.joinpath(file))\n",
    "\n",
    "ds = xr.open_dataset(file)"
   ]
  }
 ],
 "metadata": {
  "interpreter": {
   "hash": "d52b8dfbdab1c939c3c4b10b0d762f4c8139583e350f28e123ee37db8f80dd50"
  },
  "kernelspec": {
   "display_name": "Python 3.10.4 ('base')",
   "language": "python",
   "name": "python3"
  },
  "language_info": {
   "codemirror_mode": {
    "name": "ipython",
    "version": 3
   },
   "file_extension": ".py",
   "mimetype": "text/x-python",
   "name": "python",
   "nbconvert_exporter": "python",
   "pygments_lexer": "ipython3",
   "version": "3.10.4"
  }
 },
 "nbformat": 4,
 "nbformat_minor": 5
}
