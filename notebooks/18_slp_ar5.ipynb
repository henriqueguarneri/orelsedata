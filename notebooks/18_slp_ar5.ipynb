{
 "cells": [
  {
   "attachments": {},
   "cell_type": "markdown",
   "id": "c91b40e6",
   "metadata": {},
   "source": [
    "# Sea Level Rise AR5\n",
    "Notebook environment to migrate netcdf files to CF compliant zarr & CoG"
   ]
  },
  {
   "cell_type": "code",
   "execution_count": 1,
   "id": "f1aef40e",
   "metadata": {},
   "outputs": [
    {
     "data": {
      "application/javascript": "\n            setTimeout(function() {\n                var nbb_cell_id = 1;\n                var nbb_unformatted_code = \"# Optional; code formatter, installed as jupyter lab extension\\n#%load_ext lab_black\\n# Optional; code formatter, installed as jupyter notebook extension\\n%load_ext nb_black\";\n                var nbb_formatted_code = \"# Optional; code formatter, installed as jupyter lab extension\\n# %load_ext lab_black\\n# Optional; code formatter, installed as jupyter notebook extension\\n%load_ext nb_black\";\n                var nbb_cells = Jupyter.notebook.get_cells();\n                for (var i = 0; i < nbb_cells.length; ++i) {\n                    if (nbb_cells[i].input_prompt_number == nbb_cell_id) {\n                        if (nbb_cells[i].get_text() == nbb_unformatted_code) {\n                             nbb_cells[i].set_text(nbb_formatted_code);\n                        }\n                        break;\n                    }\n                }\n            }, 500);\n            ",
      "text/plain": [
       "<IPython.core.display.Javascript object>"
      ]
     },
     "metadata": {},
     "output_type": "display_data"
    }
   ],
   "source": [
    "# Optional; code formatter, installed as jupyter lab extension\n",
    "#%load_ext lab_black\n",
    "# Optional; code formatter, installed as jupyter notebook extension\n",
    "%load_ext nb_black"
   ]
  },
  {
   "attachments": {},
   "cell_type": "markdown",
   "id": "f3f67518",
   "metadata": {},
   "source": [
    "### Configure OS independent paths"
   ]
  },
  {
   "cell_type": "code",
   "execution_count": 37,
   "id": "77b089ea",
   "metadata": {},
   "outputs": [
    {
     "data": {
      "application/javascript": "\n            setTimeout(function() {\n                var nbb_cell_id = 37;\n                var nbb_unformatted_code = \"# Import standard packages\\nimport os\\nimport pathlib\\nimport sys\\nimport numpy as np\\nimport geopandas as gpd\\nimport pandas as pd\\nimport matplotlib.pyplot as plt\\nimport xarray as xr\\nimport netCDF4 as nc\\nimport numpy.ma as ma\\nimport rasterio\\nimport rioxarray as rio\\nfrom datacube.utils.cog import write_cog\\n\\n# Make root directories importable by appending root to path\\ncwd = pathlib.Path().resolve()\\nsys.path.append(os.path.dirname(cwd))\\n\\n# Get root paths\\nhome = pathlib.Path().home()\\nroot = home.root\\ntmp_dir = home.joinpath(\\\"data\\\", \\\"tmp\\\")\\n\\n# Import custom functionality\\nfrom etl import p_drive\\nfrom etl.CF_compliancy_checker import check_compliancy, save_compliancy\\n\\n# Define (local and) remote drives\\ncoclico_data_dir = p_drive.joinpath(\\\"11205479-coclico\\\", \\\"FASTTRACK_DATA\\\")\\n\\n# Workaround to the Windows OS (10) udunits error after installation of cfchecker: https://github.com/SciTools/iris/issues/404\\nos.environ[\\\"UDUNITS2_XML_PATH\\\"] = str(\\n    home.joinpath(  # change to the udunits2.xml file dir in your Python installation\\n        r\\\"Anaconda3\\\\pkgs\\\\udunits2-2.2.28-h892ecd3_0\\\\Library\\\\share\\\\udunits\\\\udunits2.xml\\\"\\n    )\\n)\\n\\n# use local or remote data dir\\nuse_local_data = False\\nds_dirname = \\\"18_AR5_SLP_IPCC\\\"\\n\\nif use_local_data: \\n    ds_dir = tmp_dir.joinpath(ds_dirname)\\nelse: \\n    ds_dir = coclico_data_dir.joinpath(ds_dirname)\\n\\nif not ds_dir.exists():\\n    raise FileNotFoundError(\\\"Directory with data does not exist.\\\")\\n\\n# directory to export result (make if not exists)\\ncog_dir = ds_dir.joinpath(\\\"cog\\\") # for checking CF compliancy\\ncog_dirs = ds_dir.joinpath(\\\"cogs\\\") # for making all files CF compliant\\ncog_dir.mkdir(parents=True, exist_ok=True)\";\n                var nbb_formatted_code = \"# Import standard packages\\nimport os\\nimport pathlib\\nimport sys\\nimport numpy as np\\nimport geopandas as gpd\\nimport pandas as pd\\nimport matplotlib.pyplot as plt\\nimport xarray as xr\\nimport netCDF4 as nc\\nimport numpy.ma as ma\\nimport rasterio\\nimport rioxarray as rio\\nfrom datacube.utils.cog import write_cog\\n\\n# Make root directories importable by appending root to path\\ncwd = pathlib.Path().resolve()\\nsys.path.append(os.path.dirname(cwd))\\n\\n# Get root paths\\nhome = pathlib.Path().home()\\nroot = home.root\\ntmp_dir = home.joinpath(\\\"data\\\", \\\"tmp\\\")\\n\\n# Import custom functionality\\nfrom etl import p_drive\\nfrom etl.CF_compliancy_checker import check_compliancy, save_compliancy\\n\\n# Define (local and) remote drives\\ncoclico_data_dir = p_drive.joinpath(\\\"11205479-coclico\\\", \\\"FASTTRACK_DATA\\\")\\n\\n# Workaround to the Windows OS (10) udunits error after installation of cfchecker: https://github.com/SciTools/iris/issues/404\\nos.environ[\\\"UDUNITS2_XML_PATH\\\"] = str(\\n    home.joinpath(  # change to the udunits2.xml file dir in your Python installation\\n        r\\\"Anaconda3\\\\pkgs\\\\udunits2-2.2.28-h892ecd3_0\\\\Library\\\\share\\\\udunits\\\\udunits2.xml\\\"\\n    )\\n)\\n\\n# use local or remote data dir\\nuse_local_data = False\\nds_dirname = \\\"18_AR5_SLP_IPCC\\\"\\n\\nif use_local_data:\\n    ds_dir = tmp_dir.joinpath(ds_dirname)\\nelse:\\n    ds_dir = coclico_data_dir.joinpath(ds_dirname)\\n\\nif not ds_dir.exists():\\n    raise FileNotFoundError(\\\"Directory with data does not exist.\\\")\\n\\n# directory to export result (make if not exists)\\ncog_dir = ds_dir.joinpath(\\\"cog\\\")  # for checking CF compliancy\\ncog_dirs = ds_dir.joinpath(\\\"cogs\\\")  # for making all files CF compliant\\ncog_dir.mkdir(parents=True, exist_ok=True)\";\n                var nbb_cells = Jupyter.notebook.get_cells();\n                for (var i = 0; i < nbb_cells.length; ++i) {\n                    if (nbb_cells[i].input_prompt_number == nbb_cell_id) {\n                        if (nbb_cells[i].get_text() == nbb_unformatted_code) {\n                             nbb_cells[i].set_text(nbb_formatted_code);\n                        }\n                        break;\n                    }\n                }\n            }, 500);\n            ",
      "text/plain": [
       "<IPython.core.display.Javascript object>"
      ]
     },
     "metadata": {},
     "output_type": "display_data"
    }
   ],
   "source": [
    "# Import standard packages\n",
    "import os\n",
    "import pathlib\n",
    "import sys\n",
    "import numpy as np\n",
    "import geopandas as gpd\n",
    "import pandas as pd\n",
    "import matplotlib.pyplot as plt\n",
    "import xarray as xr\n",
    "import netCDF4 as nc\n",
    "import numpy.ma as ma\n",
    "import rasterio\n",
    "import rioxarray as rio\n",
    "from datacube.utils.cog import write_cog\n",
    "\n",
    "# Make root directories importable by appending root to path\n",
    "cwd = pathlib.Path().resolve()\n",
    "sys.path.append(os.path.dirname(cwd))\n",
    "\n",
    "# Get root paths\n",
    "home = pathlib.Path().home()\n",
    "root = home.root\n",
    "tmp_dir = home.joinpath(\"data\", \"tmp\")\n",
    "\n",
    "# Import custom functionality\n",
    "from etl import p_drive\n",
    "from etl.CF_compliancy_checker import check_compliancy, save_compliancy\n",
    "\n",
    "# Define (local and) remote drives\n",
    "coclico_data_dir = p_drive.joinpath(\"11205479-coclico\", \"FASTTRACK_DATA\")\n",
    "\n",
    "# Workaround to the Windows OS (10) udunits error after installation of cfchecker: https://github.com/SciTools/iris/issues/404\n",
    "os.environ[\"UDUNITS2_XML_PATH\"] = str(\n",
    "    home.joinpath(  # change to the udunits2.xml file dir in your Python installation\n",
    "        r\"Anaconda3\\pkgs\\udunits2-2.2.28-h892ecd3_0\\Library\\share\\udunits\\udunits2.xml\"\n",
    "    )\n",
    ")\n",
    "\n",
    "# use local or remote data dir\n",
    "use_local_data = False\n",
    "ds_dirname = \"18_AR5_SLP_IPCC\"\n",
    "\n",
    "if use_local_data: \n",
    "    ds_dir = tmp_dir.joinpath(ds_dirname)\n",
    "else: \n",
    "    ds_dir = coclico_data_dir.joinpath(ds_dirname)\n",
    "\n",
    "if not ds_dir.exists():\n",
    "    raise FileNotFoundError(\"Directory with data does not exist.\")\n",
    "\n",
    "# directory to export result (make if not exists)\n",
    "cog_dir = ds_dir.joinpath(\"cog\") # for checking CF compliancy\n",
    "cog_dirs = ds_dir.joinpath(\"cogs\") # for making all files CF compliant\n",
    "cog_dir.mkdir(parents=True, exist_ok=True)"
   ]
  },
  {
   "cell_type": "code",
   "execution_count": 3,
   "id": "aef15534",
   "metadata": {},
   "outputs": [
    {
     "data": {
      "application/javascript": "\n            setTimeout(function() {\n                var nbb_cell_id = 3;\n                var nbb_unformatted_code = \"# Project paths & files (manual input)\\nds_dir = coclico_data_dir.joinpath(\\\"18_AR5_SLP_IPCC\\\")\\nds_rcp26_path = ds_dir.joinpath(\\\"total-ens-slr-26-5.nc\\\")\\nds_rcp45_path = ds_dir.joinpath(\\\"total-ens-slr-45-5.nc\\\")\\nds_rcp85_path = ds_dir.joinpath(\\\"total-ens-slr-85-5.nc\\\")\\nds_out_file = \\\"total-ens-slr\\\"\\nCF_dir = coclico_data_dir.joinpath(r\\\"CF\\\")  # directory to save output CF check files\";\n                var nbb_formatted_code = \"# Project paths & files (manual input)\\nds_dir = coclico_data_dir.joinpath(\\\"18_AR5_SLP_IPCC\\\")\\nds_rcp26_path = ds_dir.joinpath(\\\"total-ens-slr-26-5.nc\\\")\\nds_rcp45_path = ds_dir.joinpath(\\\"total-ens-slr-45-5.nc\\\")\\nds_rcp85_path = ds_dir.joinpath(\\\"total-ens-slr-85-5.nc\\\")\\nds_out_file = \\\"total-ens-slr\\\"\\nCF_dir = coclico_data_dir.joinpath(r\\\"CF\\\")  # directory to save output CF check files\";\n                var nbb_cells = Jupyter.notebook.get_cells();\n                for (var i = 0; i < nbb_cells.length; ++i) {\n                    if (nbb_cells[i].input_prompt_number == nbb_cell_id) {\n                        if (nbb_cells[i].get_text() == nbb_unformatted_code) {\n                             nbb_cells[i].set_text(nbb_formatted_code);\n                        }\n                        break;\n                    }\n                }\n            }, 500);\n            ",
      "text/plain": [
       "<IPython.core.display.Javascript object>"
      ]
     },
     "metadata": {},
     "output_type": "display_data"
    }
   ],
   "source": [
    "# Project paths & files (manual input)\n",
    "ds_dir = coclico_data_dir.joinpath(\"18_AR5_SLP_IPCC\")\n",
    "ds_rcp26_path = ds_dir.joinpath(\"total-ens-slr-26-5.nc\")\n",
    "ds_rcp45_path = ds_dir.joinpath(\"total-ens-slr-45-5.nc\")\n",
    "ds_rcp85_path = ds_dir.joinpath(\"total-ens-slr-85-5.nc\")\n",
    "ds_out_file = \"total-ens-slr\"\n",
    "CF_dir = coclico_data_dir.joinpath(r\"CF\")  # directory to save output CF check files"
   ]
  },
  {
   "attachments": {},
   "cell_type": "markdown",
   "id": "4d9d1359",
   "metadata": {},
   "source": [
    "### Check CF compliancy original NetCDF files"
   ]
  },
  {
   "cell_type": "code",
   "execution_count": 4,
   "id": "4e88de5e",
   "metadata": {},
   "outputs": [
    {
     "name": "stderr",
     "output_type": "stream",
     "text": [
      "c:\\Users\\kras\\AppData\\Local\\mambaforge\\envs\\coclico\\Lib\\site-packages\\xarray\\conventions.py:431: SerializationWarning: variable 'totslr_ens' has multiple fill values {1e+20, 1e+20}, decoding all values to NaN.\n",
      "  new_vars[k] = decode_cf_variable(\n",
      "c:\\Users\\kras\\AppData\\Local\\mambaforge\\envs\\coclico\\Lib\\site-packages\\xarray\\conventions.py:431: SerializationWarning: variable 'totslr' has multiple fill values {1e+20, 1e+20}, decoding all values to NaN.\n",
      "  new_vars[k] = decode_cf_variable(\n",
      "c:\\Users\\kras\\AppData\\Local\\mambaforge\\envs\\coclico\\Lib\\site-packages\\xarray\\conventions.py:431: SerializationWarning: variable 'loerr' has multiple fill values {1e+20, 1e+20}, decoding all values to NaN.\n",
      "  new_vars[k] = decode_cf_variable(\n",
      "c:\\Users\\kras\\AppData\\Local\\mambaforge\\envs\\coclico\\Lib\\site-packages\\xarray\\conventions.py:431: SerializationWarning: variable 'hierr' has multiple fill values {1e+20, 1e+20}, decoding all values to NaN.\n",
      "  new_vars[k] = decode_cf_variable(\n",
      "c:\\Users\\kras\\AppData\\Local\\mambaforge\\envs\\coclico\\Lib\\site-packages\\xarray\\conventions.py:431: SerializationWarning: variable 'totslr_ens' has multiple fill values {1e+20, 1e+20}, decoding all values to NaN.\n",
      "  new_vars[k] = decode_cf_variable(\n",
      "c:\\Users\\kras\\AppData\\Local\\mambaforge\\envs\\coclico\\Lib\\site-packages\\xarray\\conventions.py:431: SerializationWarning: variable 'totslr' has multiple fill values {1e+20, 1e+20}, decoding all values to NaN.\n",
      "  new_vars[k] = decode_cf_variable(\n",
      "c:\\Users\\kras\\AppData\\Local\\mambaforge\\envs\\coclico\\Lib\\site-packages\\xarray\\conventions.py:431: SerializationWarning: variable 'loerr' has multiple fill values {1e+20, 1e+20}, decoding all values to NaN.\n",
      "  new_vars[k] = decode_cf_variable(\n",
      "c:\\Users\\kras\\AppData\\Local\\mambaforge\\envs\\coclico\\Lib\\site-packages\\xarray\\conventions.py:431: SerializationWarning: variable 'hierr' has multiple fill values {1e+20, 1e+20}, decoding all values to NaN.\n",
      "  new_vars[k] = decode_cf_variable(\n"
     ]
    },
    {
     "data": {
      "text/html": [
       "<div><svg style=\"position: absolute; width: 0; height: 0; overflow: hidden\">\n",
       "<defs>\n",
       "<symbol id=\"icon-database\" viewBox=\"0 0 32 32\">\n",
       "<path d=\"M16 0c-8.837 0-16 2.239-16 5v4c0 2.761 7.163 5 16 5s16-2.239 16-5v-4c0-2.761-7.163-5-16-5z\"></path>\n",
       "<path d=\"M16 17c-8.837 0-16-2.239-16-5v6c0 2.761 7.163 5 16 5s16-2.239 16-5v-6c0 2.761-7.163 5-16 5z\"></path>\n",
       "<path d=\"M16 26c-8.837 0-16-2.239-16-5v6c0 2.761 7.163 5 16 5s16-2.239 16-5v-6c0 2.761-7.163 5-16 5z\"></path>\n",
       "</symbol>\n",
       "<symbol id=\"icon-file-text2\" viewBox=\"0 0 32 32\">\n",
       "<path d=\"M28.681 7.159c-0.694-0.947-1.662-2.053-2.724-3.116s-2.169-2.030-3.116-2.724c-1.612-1.182-2.393-1.319-2.841-1.319h-15.5c-1.378 0-2.5 1.121-2.5 2.5v27c0 1.378 1.122 2.5 2.5 2.5h23c1.378 0 2.5-1.122 2.5-2.5v-19.5c0-0.448-0.137-1.23-1.319-2.841zM24.543 5.457c0.959 0.959 1.712 1.825 2.268 2.543h-4.811v-4.811c0.718 0.556 1.584 1.309 2.543 2.268zM28 29.5c0 0.271-0.229 0.5-0.5 0.5h-23c-0.271 0-0.5-0.229-0.5-0.5v-27c0-0.271 0.229-0.5 0.5-0.5 0 0 15.499-0 15.5 0v7c0 0.552 0.448 1 1 1h7v19.5z\"></path>\n",
       "<path d=\"M23 26h-14c-0.552 0-1-0.448-1-1s0.448-1 1-1h14c0.552 0 1 0.448 1 1s-0.448 1-1 1z\"></path>\n",
       "<path d=\"M23 22h-14c-0.552 0-1-0.448-1-1s0.448-1 1-1h14c0.552 0 1 0.448 1 1s-0.448 1-1 1z\"></path>\n",
       "<path d=\"M23 18h-14c-0.552 0-1-0.448-1-1s0.448-1 1-1h14c0.552 0 1 0.448 1 1s-0.448 1-1 1z\"></path>\n",
       "</symbol>\n",
       "</defs>\n",
       "</svg>\n",
       "<style>/* CSS stylesheet for displaying xarray objects in jupyterlab.\n",
       " *\n",
       " */\n",
       "\n",
       ":root {\n",
       "  --xr-font-color0: var(--jp-content-font-color0, rgba(0, 0, 0, 1));\n",
       "  --xr-font-color2: var(--jp-content-font-color2, rgba(0, 0, 0, 0.54));\n",
       "  --xr-font-color3: var(--jp-content-font-color3, rgba(0, 0, 0, 0.38));\n",
       "  --xr-border-color: var(--jp-border-color2, #e0e0e0);\n",
       "  --xr-disabled-color: var(--jp-layout-color3, #bdbdbd);\n",
       "  --xr-background-color: var(--jp-layout-color0, white);\n",
       "  --xr-background-color-row-even: var(--jp-layout-color1, white);\n",
       "  --xr-background-color-row-odd: var(--jp-layout-color2, #eeeeee);\n",
       "}\n",
       "\n",
       "html[theme=dark],\n",
       "body[data-theme=dark],\n",
       "body.vscode-dark {\n",
       "  --xr-font-color0: rgba(255, 255, 255, 1);\n",
       "  --xr-font-color2: rgba(255, 255, 255, 0.54);\n",
       "  --xr-font-color3: rgba(255, 255, 255, 0.38);\n",
       "  --xr-border-color: #1F1F1F;\n",
       "  --xr-disabled-color: #515151;\n",
       "  --xr-background-color: #111111;\n",
       "  --xr-background-color-row-even: #111111;\n",
       "  --xr-background-color-row-odd: #313131;\n",
       "}\n",
       "\n",
       ".xr-wrap {\n",
       "  display: block !important;\n",
       "  min-width: 300px;\n",
       "  max-width: 700px;\n",
       "}\n",
       "\n",
       ".xr-text-repr-fallback {\n",
       "  /* fallback to plain text repr when CSS is not injected (untrusted notebook) */\n",
       "  display: none;\n",
       "}\n",
       "\n",
       ".xr-header {\n",
       "  padding-top: 6px;\n",
       "  padding-bottom: 6px;\n",
       "  margin-bottom: 4px;\n",
       "  border-bottom: solid 1px var(--xr-border-color);\n",
       "}\n",
       "\n",
       ".xr-header > div,\n",
       ".xr-header > ul {\n",
       "  display: inline;\n",
       "  margin-top: 0;\n",
       "  margin-bottom: 0;\n",
       "}\n",
       "\n",
       ".xr-obj-type,\n",
       ".xr-array-name {\n",
       "  margin-left: 2px;\n",
       "  margin-right: 10px;\n",
       "}\n",
       "\n",
       ".xr-obj-type {\n",
       "  color: var(--xr-font-color2);\n",
       "}\n",
       "\n",
       ".xr-sections {\n",
       "  padding-left: 0 !important;\n",
       "  display: grid;\n",
       "  grid-template-columns: 150px auto auto 1fr 20px 20px;\n",
       "}\n",
       "\n",
       ".xr-section-item {\n",
       "  display: contents;\n",
       "}\n",
       "\n",
       ".xr-section-item input {\n",
       "  display: none;\n",
       "}\n",
       "\n",
       ".xr-section-item input + label {\n",
       "  color: var(--xr-disabled-color);\n",
       "}\n",
       "\n",
       ".xr-section-item input:enabled + label {\n",
       "  cursor: pointer;\n",
       "  color: var(--xr-font-color2);\n",
       "}\n",
       "\n",
       ".xr-section-item input:enabled + label:hover {\n",
       "  color: var(--xr-font-color0);\n",
       "}\n",
       "\n",
       ".xr-section-summary {\n",
       "  grid-column: 1;\n",
       "  color: var(--xr-font-color2);\n",
       "  font-weight: 500;\n",
       "}\n",
       "\n",
       ".xr-section-summary > span {\n",
       "  display: inline-block;\n",
       "  padding-left: 0.5em;\n",
       "}\n",
       "\n",
       ".xr-section-summary-in:disabled + label {\n",
       "  color: var(--xr-font-color2);\n",
       "}\n",
       "\n",
       ".xr-section-summary-in + label:before {\n",
       "  display: inline-block;\n",
       "  content: '►';\n",
       "  font-size: 11px;\n",
       "  width: 15px;\n",
       "  text-align: center;\n",
       "}\n",
       "\n",
       ".xr-section-summary-in:disabled + label:before {\n",
       "  color: var(--xr-disabled-color);\n",
       "}\n",
       "\n",
       ".xr-section-summary-in:checked + label:before {\n",
       "  content: '▼';\n",
       "}\n",
       "\n",
       ".xr-section-summary-in:checked + label > span {\n",
       "  display: none;\n",
       "}\n",
       "\n",
       ".xr-section-summary,\n",
       ".xr-section-inline-details {\n",
       "  padding-top: 4px;\n",
       "  padding-bottom: 4px;\n",
       "}\n",
       "\n",
       ".xr-section-inline-details {\n",
       "  grid-column: 2 / -1;\n",
       "}\n",
       "\n",
       ".xr-section-details {\n",
       "  display: none;\n",
       "  grid-column: 1 / -1;\n",
       "  margin-bottom: 5px;\n",
       "}\n",
       "\n",
       ".xr-section-summary-in:checked ~ .xr-section-details {\n",
       "  display: contents;\n",
       "}\n",
       "\n",
       ".xr-array-wrap {\n",
       "  grid-column: 1 / -1;\n",
       "  display: grid;\n",
       "  grid-template-columns: 20px auto;\n",
       "}\n",
       "\n",
       ".xr-array-wrap > label {\n",
       "  grid-column: 1;\n",
       "  vertical-align: top;\n",
       "}\n",
       "\n",
       ".xr-preview {\n",
       "  color: var(--xr-font-color3);\n",
       "}\n",
       "\n",
       ".xr-array-preview,\n",
       ".xr-array-data {\n",
       "  padding: 0 5px !important;\n",
       "  grid-column: 2;\n",
       "}\n",
       "\n",
       ".xr-array-data,\n",
       ".xr-array-in:checked ~ .xr-array-preview {\n",
       "  display: none;\n",
       "}\n",
       "\n",
       ".xr-array-in:checked ~ .xr-array-data,\n",
       ".xr-array-preview {\n",
       "  display: inline-block;\n",
       "}\n",
       "\n",
       ".xr-dim-list {\n",
       "  display: inline-block !important;\n",
       "  list-style: none;\n",
       "  padding: 0 !important;\n",
       "  margin: 0;\n",
       "}\n",
       "\n",
       ".xr-dim-list li {\n",
       "  display: inline-block;\n",
       "  padding: 0;\n",
       "  margin: 0;\n",
       "}\n",
       "\n",
       ".xr-dim-list:before {\n",
       "  content: '(';\n",
       "}\n",
       "\n",
       ".xr-dim-list:after {\n",
       "  content: ')';\n",
       "}\n",
       "\n",
       ".xr-dim-list li:not(:last-child):after {\n",
       "  content: ',';\n",
       "  padding-right: 5px;\n",
       "}\n",
       "\n",
       ".xr-has-index {\n",
       "  font-weight: bold;\n",
       "}\n",
       "\n",
       ".xr-var-list,\n",
       ".xr-var-item {\n",
       "  display: contents;\n",
       "}\n",
       "\n",
       ".xr-var-item > div,\n",
       ".xr-var-item label,\n",
       ".xr-var-item > .xr-var-name span {\n",
       "  background-color: var(--xr-background-color-row-even);\n",
       "  margin-bottom: 0;\n",
       "}\n",
       "\n",
       ".xr-var-item > .xr-var-name:hover span {\n",
       "  padding-right: 5px;\n",
       "}\n",
       "\n",
       ".xr-var-list > li:nth-child(odd) > div,\n",
       ".xr-var-list > li:nth-child(odd) > label,\n",
       ".xr-var-list > li:nth-child(odd) > .xr-var-name span {\n",
       "  background-color: var(--xr-background-color-row-odd);\n",
       "}\n",
       "\n",
       ".xr-var-name {\n",
       "  grid-column: 1;\n",
       "}\n",
       "\n",
       ".xr-var-dims {\n",
       "  grid-column: 2;\n",
       "}\n",
       "\n",
       ".xr-var-dtype {\n",
       "  grid-column: 3;\n",
       "  text-align: right;\n",
       "  color: var(--xr-font-color2);\n",
       "}\n",
       "\n",
       ".xr-var-preview {\n",
       "  grid-column: 4;\n",
       "}\n",
       "\n",
       ".xr-index-preview {\n",
       "  grid-column: 2 / 5;\n",
       "  color: var(--xr-font-color2);\n",
       "}\n",
       "\n",
       ".xr-var-name,\n",
       ".xr-var-dims,\n",
       ".xr-var-dtype,\n",
       ".xr-preview,\n",
       ".xr-attrs dt {\n",
       "  white-space: nowrap;\n",
       "  overflow: hidden;\n",
       "  text-overflow: ellipsis;\n",
       "  padding-right: 10px;\n",
       "}\n",
       "\n",
       ".xr-var-name:hover,\n",
       ".xr-var-dims:hover,\n",
       ".xr-var-dtype:hover,\n",
       ".xr-attrs dt:hover {\n",
       "  overflow: visible;\n",
       "  width: auto;\n",
       "  z-index: 1;\n",
       "}\n",
       "\n",
       ".xr-var-attrs,\n",
       ".xr-var-data,\n",
       ".xr-index-data {\n",
       "  display: none;\n",
       "  background-color: var(--xr-background-color) !important;\n",
       "  padding-bottom: 5px !important;\n",
       "}\n",
       "\n",
       ".xr-var-attrs-in:checked ~ .xr-var-attrs,\n",
       ".xr-var-data-in:checked ~ .xr-var-data,\n",
       ".xr-index-data-in:checked ~ .xr-index-data {\n",
       "  display: block;\n",
       "}\n",
       "\n",
       ".xr-var-data > table {\n",
       "  float: right;\n",
       "}\n",
       "\n",
       ".xr-var-name span,\n",
       ".xr-var-data,\n",
       ".xr-index-name div,\n",
       ".xr-index-data,\n",
       ".xr-attrs {\n",
       "  padding-left: 25px !important;\n",
       "}\n",
       "\n",
       ".xr-attrs,\n",
       ".xr-var-attrs,\n",
       ".xr-var-data,\n",
       ".xr-index-data {\n",
       "  grid-column: 1 / -1;\n",
       "}\n",
       "\n",
       "dl.xr-attrs {\n",
       "  padding: 0;\n",
       "  margin: 0;\n",
       "  display: grid;\n",
       "  grid-template-columns: 125px auto;\n",
       "}\n",
       "\n",
       ".xr-attrs dt,\n",
       ".xr-attrs dd {\n",
       "  padding: 0;\n",
       "  margin: 0;\n",
       "  float: left;\n",
       "  padding-right: 10px;\n",
       "  width: auto;\n",
       "}\n",
       "\n",
       ".xr-attrs dt {\n",
       "  font-weight: normal;\n",
       "  grid-column: 1;\n",
       "}\n",
       "\n",
       ".xr-attrs dt:hover span {\n",
       "  display: inline-block;\n",
       "  background: var(--xr-background-color);\n",
       "  padding-right: 10px;\n",
       "}\n",
       "\n",
       ".xr-attrs dd {\n",
       "  grid-column: 2;\n",
       "  white-space: pre-wrap;\n",
       "  word-break: break-all;\n",
       "}\n",
       "\n",
       ".xr-icon-database,\n",
       ".xr-icon-file-text2,\n",
       ".xr-no-icon {\n",
       "  display: inline-block;\n",
       "  vertical-align: middle;\n",
       "  width: 1em;\n",
       "  height: 1.5em !important;\n",
       "  stroke-width: 0;\n",
       "  stroke: currentColor;\n",
       "  fill: currentColor;\n",
       "}\n",
       "</style><pre class='xr-text-repr-fallback'>&lt;xarray.Dataset&gt;\n",
       "Dimensions:     (time: 94, bnds: 2, lat: 180, lon: 360, ens: 16)\n",
       "Coordinates:\n",
       "  * time        (time) object 2007-07-02 12:00:00 ... 2100-07-02 12:00:00\n",
       "  * lat         (lat) float64 -89.5 -88.5 -87.5 -86.5 ... 86.5 87.5 88.5 89.5\n",
       "  * lon         (lon) float64 0.5 1.5 2.5 3.5 4.5 ... 356.5 357.5 358.5 359.5\n",
       "Dimensions without coordinates: bnds, ens\n",
       "Data variables:\n",
       "    time_bnds   (time, bnds) object ...\n",
       "    totslr_ens  (ens, time, lat, lon) float32 ...\n",
       "    totslr      (time, lat, lon) float32 ...\n",
       "    loerr       (time, lat, lon) float32 ...\n",
       "    hierr       (time, lat, lon) float32 ...\n",
       "    modelname   (ens) |S16 ...\n",
       "Attributes:\n",
       "    history:     version 5, 27-March-2014\n",
       "    contact:     mark.carson@zmaw.de\n",
       "    references:  IPCC AR5 WGI, Chapter 13, and Chapter 13: Supplementary Mate...</pre><div class='xr-wrap' style='display:none'><div class='xr-header'><div class='xr-obj-type'>xarray.Dataset</div></div><ul class='xr-sections'><li class='xr-section-item'><input id='section-3c288254-de84-4ee2-88b2-eda5c5bed27e' class='xr-section-summary-in' type='checkbox' disabled ><label for='section-3c288254-de84-4ee2-88b2-eda5c5bed27e' class='xr-section-summary'  title='Expand/collapse section'>Dimensions:</label><div class='xr-section-inline-details'><ul class='xr-dim-list'><li><span class='xr-has-index'>time</span>: 94</li><li><span>bnds</span>: 2</li><li><span class='xr-has-index'>lat</span>: 180</li><li><span class='xr-has-index'>lon</span>: 360</li><li><span>ens</span>: 16</li></ul></div><div class='xr-section-details'></div></li><li class='xr-section-item'><input id='section-968dec58-f1c0-491c-b219-6eb7b53df45d' class='xr-section-summary-in' type='checkbox'  checked><label for='section-968dec58-f1c0-491c-b219-6eb7b53df45d' class='xr-section-summary' >Coordinates: <span>(3)</span></label><div class='xr-section-inline-details'></div><div class='xr-section-details'><ul class='xr-var-list'><li class='xr-var-item'><div class='xr-var-name'><span class='xr-has-index'>time</span></div><div class='xr-var-dims'>(time)</div><div class='xr-var-dtype'>object</div><div class='xr-var-preview xr-preview'>2007-07-02 12:00:00 ... 2100-07-...</div><input id='attrs-001740c7-f208-4d1e-8836-e1ea6ace4abf' class='xr-var-attrs-in' type='checkbox' ><label for='attrs-001740c7-f208-4d1e-8836-e1ea6ace4abf' title='Show/Hide attributes'><svg class='icon xr-icon-file-text2'><use xlink:href='#icon-file-text2'></use></svg></label><input id='data-5f51d0a8-6747-481b-8096-26cce2937bca' class='xr-var-data-in' type='checkbox'><label for='data-5f51d0a8-6747-481b-8096-26cce2937bca' title='Show/Hide data repr'><svg class='icon xr-icon-database'><use xlink:href='#icon-database'></use></svg></label><div class='xr-var-attrs'><dl class='xr-attrs'><dt><span>long_name :</span></dt><dd>time</dd><dt><span>bounds :</span></dt><dd>time_bnds</dd><dt><span>axis :</span></dt><dd>T</dd></dl></div><div class='xr-var-data'><pre>array([cftime.DatetimeNoLeap(2007, 7, 2, 12, 0, 0, 0, has_year_zero=True),\n",
       "       cftime.DatetimeNoLeap(2008, 7, 2, 0, 0, 0, 0, has_year_zero=True),\n",
       "       cftime.DatetimeNoLeap(2009, 7, 2, 12, 0, 0, 0, has_year_zero=True),\n",
       "       cftime.DatetimeNoLeap(2010, 7, 2, 12, 0, 0, 0, has_year_zero=True),\n",
       "       cftime.DatetimeNoLeap(2011, 7, 2, 12, 0, 0, 0, has_year_zero=True),\n",
       "       cftime.DatetimeNoLeap(2012, 7, 2, 0, 0, 0, 0, has_year_zero=True),\n",
       "       cftime.DatetimeNoLeap(2013, 7, 2, 12, 0, 0, 0, has_year_zero=True),\n",
       "       cftime.DatetimeNoLeap(2014, 7, 2, 12, 0, 0, 0, has_year_zero=True),\n",
       "       cftime.DatetimeNoLeap(2015, 7, 2, 12, 0, 0, 0, has_year_zero=True),\n",
       "       cftime.DatetimeNoLeap(2016, 7, 2, 0, 0, 0, 0, has_year_zero=True),\n",
       "       cftime.DatetimeNoLeap(2017, 7, 2, 12, 0, 0, 0, has_year_zero=True),\n",
       "       cftime.DatetimeNoLeap(2018, 7, 2, 12, 0, 0, 0, has_year_zero=True),\n",
       "       cftime.DatetimeNoLeap(2019, 7, 2, 12, 0, 0, 0, has_year_zero=True),\n",
       "       cftime.DatetimeNoLeap(2020, 7, 2, 0, 0, 0, 0, has_year_zero=True),\n",
       "       cftime.DatetimeNoLeap(2021, 7, 2, 12, 0, 0, 0, has_year_zero=True),\n",
       "       cftime.DatetimeNoLeap(2022, 7, 2, 12, 0, 0, 0, has_year_zero=True),\n",
       "       cftime.DatetimeNoLeap(2023, 7, 2, 12, 0, 0, 0, has_year_zero=True),\n",
       "       cftime.DatetimeNoLeap(2024, 7, 2, 0, 0, 0, 0, has_year_zero=True),\n",
       "       cftime.DatetimeNoLeap(2025, 7, 2, 12, 0, 0, 0, has_year_zero=True),\n",
       "       cftime.DatetimeNoLeap(2026, 7, 2, 12, 0, 0, 0, has_year_zero=True),\n",
       "       cftime.DatetimeNoLeap(2027, 7, 2, 12, 0, 0, 0, has_year_zero=True),\n",
       "       cftime.DatetimeNoLeap(2028, 7, 2, 0, 0, 0, 0, has_year_zero=True),\n",
       "       cftime.DatetimeNoLeap(2029, 7, 2, 12, 0, 0, 0, has_year_zero=True),\n",
       "       cftime.DatetimeNoLeap(2030, 7, 2, 12, 0, 0, 0, has_year_zero=True),\n",
       "       cftime.DatetimeNoLeap(2031, 7, 2, 12, 0, 0, 0, has_year_zero=True),\n",
       "       cftime.DatetimeNoLeap(2032, 7, 2, 0, 0, 0, 0, has_year_zero=True),\n",
       "       cftime.DatetimeNoLeap(2033, 7, 2, 12, 0, 0, 0, has_year_zero=True),\n",
       "       cftime.DatetimeNoLeap(2034, 7, 2, 12, 0, 0, 0, has_year_zero=True),\n",
       "       cftime.DatetimeNoLeap(2035, 7, 2, 12, 0, 0, 0, has_year_zero=True),\n",
       "       cftime.DatetimeNoLeap(2036, 7, 2, 0, 0, 0, 0, has_year_zero=True),\n",
       "       cftime.DatetimeNoLeap(2037, 7, 2, 12, 0, 0, 0, has_year_zero=True),\n",
       "       cftime.DatetimeNoLeap(2038, 7, 2, 12, 0, 0, 0, has_year_zero=True),\n",
       "       cftime.DatetimeNoLeap(2039, 7, 2, 12, 0, 0, 0, has_year_zero=True),\n",
       "       cftime.DatetimeNoLeap(2040, 7, 2, 0, 0, 0, 0, has_year_zero=True),\n",
       "       cftime.DatetimeNoLeap(2041, 7, 2, 12, 0, 0, 0, has_year_zero=True),\n",
       "       cftime.DatetimeNoLeap(2042, 7, 2, 12, 0, 0, 0, has_year_zero=True),\n",
       "       cftime.DatetimeNoLeap(2043, 7, 2, 12, 0, 0, 0, has_year_zero=True),\n",
       "       cftime.DatetimeNoLeap(2044, 7, 2, 0, 0, 0, 0, has_year_zero=True),\n",
       "       cftime.DatetimeNoLeap(2045, 7, 2, 12, 0, 0, 0, has_year_zero=True),\n",
       "       cftime.DatetimeNoLeap(2046, 7, 2, 12, 0, 0, 0, has_year_zero=True),\n",
       "       cftime.DatetimeNoLeap(2047, 7, 2, 12, 0, 0, 0, has_year_zero=True),\n",
       "       cftime.DatetimeNoLeap(2048, 7, 2, 0, 0, 0, 0, has_year_zero=True),\n",
       "       cftime.DatetimeNoLeap(2049, 7, 2, 12, 0, 0, 0, has_year_zero=True),\n",
       "       cftime.DatetimeNoLeap(2050, 7, 2, 12, 0, 0, 0, has_year_zero=True),\n",
       "       cftime.DatetimeNoLeap(2051, 7, 2, 12, 0, 0, 0, has_year_zero=True),\n",
       "       cftime.DatetimeNoLeap(2052, 7, 2, 0, 0, 0, 0, has_year_zero=True),\n",
       "       cftime.DatetimeNoLeap(2053, 7, 2, 12, 0, 0, 0, has_year_zero=True),\n",
       "       cftime.DatetimeNoLeap(2054, 7, 2, 12, 0, 0, 0, has_year_zero=True),\n",
       "       cftime.DatetimeNoLeap(2055, 7, 2, 12, 0, 0, 0, has_year_zero=True),\n",
       "       cftime.DatetimeNoLeap(2056, 7, 2, 0, 0, 0, 0, has_year_zero=True),\n",
       "       cftime.DatetimeNoLeap(2057, 7, 2, 12, 0, 0, 0, has_year_zero=True),\n",
       "       cftime.DatetimeNoLeap(2058, 7, 2, 12, 0, 0, 0, has_year_zero=True),\n",
       "       cftime.DatetimeNoLeap(2059, 7, 2, 12, 0, 0, 0, has_year_zero=True),\n",
       "       cftime.DatetimeNoLeap(2060, 7, 2, 0, 0, 0, 0, has_year_zero=True),\n",
       "       cftime.DatetimeNoLeap(2061, 7, 2, 12, 0, 0, 0, has_year_zero=True),\n",
       "       cftime.DatetimeNoLeap(2062, 7, 2, 12, 0, 0, 0, has_year_zero=True),\n",
       "       cftime.DatetimeNoLeap(2063, 7, 2, 12, 0, 0, 0, has_year_zero=True),\n",
       "       cftime.DatetimeNoLeap(2064, 7, 2, 0, 0, 0, 0, has_year_zero=True),\n",
       "       cftime.DatetimeNoLeap(2065, 7, 2, 12, 0, 0, 0, has_year_zero=True),\n",
       "       cftime.DatetimeNoLeap(2066, 7, 2, 12, 0, 0, 0, has_year_zero=True),\n",
       "       cftime.DatetimeNoLeap(2067, 7, 2, 12, 0, 0, 0, has_year_zero=True),\n",
       "       cftime.DatetimeNoLeap(2068, 7, 2, 0, 0, 0, 0, has_year_zero=True),\n",
       "       cftime.DatetimeNoLeap(2069, 7, 2, 12, 0, 0, 0, has_year_zero=True),\n",
       "       cftime.DatetimeNoLeap(2070, 7, 2, 12, 0, 0, 0, has_year_zero=True),\n",
       "       cftime.DatetimeNoLeap(2071, 7, 2, 12, 0, 0, 0, has_year_zero=True),\n",
       "       cftime.DatetimeNoLeap(2072, 7, 2, 0, 0, 0, 0, has_year_zero=True),\n",
       "       cftime.DatetimeNoLeap(2073, 7, 2, 12, 0, 0, 0, has_year_zero=True),\n",
       "       cftime.DatetimeNoLeap(2074, 7, 2, 12, 0, 0, 0, has_year_zero=True),\n",
       "       cftime.DatetimeNoLeap(2075, 7, 2, 12, 0, 0, 0, has_year_zero=True),\n",
       "       cftime.DatetimeNoLeap(2076, 7, 2, 0, 0, 0, 0, has_year_zero=True),\n",
       "       cftime.DatetimeNoLeap(2077, 7, 2, 12, 0, 0, 0, has_year_zero=True),\n",
       "       cftime.DatetimeNoLeap(2078, 7, 2, 12, 0, 0, 0, has_year_zero=True),\n",
       "       cftime.DatetimeNoLeap(2079, 7, 2, 12, 0, 0, 0, has_year_zero=True),\n",
       "       cftime.DatetimeNoLeap(2080, 7, 2, 0, 0, 0, 0, has_year_zero=True),\n",
       "       cftime.DatetimeNoLeap(2081, 7, 2, 12, 0, 0, 0, has_year_zero=True),\n",
       "       cftime.DatetimeNoLeap(2082, 7, 2, 12, 0, 0, 0, has_year_zero=True),\n",
       "       cftime.DatetimeNoLeap(2083, 7, 2, 12, 0, 0, 0, has_year_zero=True),\n",
       "       cftime.DatetimeNoLeap(2084, 7, 2, 0, 0, 0, 0, has_year_zero=True),\n",
       "       cftime.DatetimeNoLeap(2085, 7, 2, 12, 0, 0, 0, has_year_zero=True),\n",
       "       cftime.DatetimeNoLeap(2086, 7, 2, 12, 0, 0, 0, has_year_zero=True),\n",
       "       cftime.DatetimeNoLeap(2087, 7, 2, 12, 0, 0, 0, has_year_zero=True),\n",
       "       cftime.DatetimeNoLeap(2088, 7, 2, 0, 0, 0, 0, has_year_zero=True),\n",
       "       cftime.DatetimeNoLeap(2089, 7, 2, 12, 0, 0, 0, has_year_zero=True),\n",
       "       cftime.DatetimeNoLeap(2090, 7, 2, 12, 0, 0, 0, has_year_zero=True),\n",
       "       cftime.DatetimeNoLeap(2091, 7, 2, 12, 0, 0, 0, has_year_zero=True),\n",
       "       cftime.DatetimeNoLeap(2092, 7, 2, 0, 0, 0, 0, has_year_zero=True),\n",
       "       cftime.DatetimeNoLeap(2093, 7, 2, 12, 0, 0, 0, has_year_zero=True),\n",
       "       cftime.DatetimeNoLeap(2094, 7, 2, 12, 0, 0, 0, has_year_zero=True),\n",
       "       cftime.DatetimeNoLeap(2095, 7, 2, 12, 0, 0, 0, has_year_zero=True),\n",
       "       cftime.DatetimeNoLeap(2096, 7, 2, 0, 0, 0, 0, has_year_zero=True),\n",
       "       cftime.DatetimeNoLeap(2097, 7, 2, 12, 0, 0, 0, has_year_zero=True),\n",
       "       cftime.DatetimeNoLeap(2098, 7, 2, 12, 0, 0, 0, has_year_zero=True),\n",
       "       cftime.DatetimeNoLeap(2099, 7, 2, 12, 0, 0, 0, has_year_zero=True),\n",
       "       cftime.DatetimeNoLeap(2100, 7, 2, 12, 0, 0, 0, has_year_zero=True)],\n",
       "      dtype=object)</pre></div></li><li class='xr-var-item'><div class='xr-var-name'><span class='xr-has-index'>lat</span></div><div class='xr-var-dims'>(lat)</div><div class='xr-var-dtype'>float64</div><div class='xr-var-preview xr-preview'>-89.5 -88.5 -87.5 ... 88.5 89.5</div><input id='attrs-43cbf9f6-6bdc-4a6f-9840-e43fcba23698' class='xr-var-attrs-in' type='checkbox' ><label for='attrs-43cbf9f6-6bdc-4a6f-9840-e43fcba23698' title='Show/Hide attributes'><svg class='icon xr-icon-file-text2'><use xlink:href='#icon-file-text2'></use></svg></label><input id='data-cb8a4628-6f8d-468d-aa44-0f7cb50c08bf' class='xr-var-data-in' type='checkbox'><label for='data-cb8a4628-6f8d-468d-aa44-0f7cb50c08bf' title='Show/Hide data repr'><svg class='icon xr-icon-database'><use xlink:href='#icon-database'></use></svg></label><div class='xr-var-attrs'><dl class='xr-attrs'><dt><span>standard_name :</span></dt><dd>latitude</dd><dt><span>long_name :</span></dt><dd>latitude coordinate</dd><dt><span>units :</span></dt><dd>degrees_north</dd><dt><span>axis :</span></dt><dd>Y</dd></dl></div><div class='xr-var-data'><pre>array([-89.5, -88.5, -87.5, -86.5, -85.5, -84.5, -83.5, -82.5, -81.5, -80.5,\n",
       "       -79.5, -78.5, -77.5, -76.5, -75.5, -74.5, -73.5, -72.5, -71.5, -70.5,\n",
       "       -69.5, -68.5, -67.5, -66.5, -65.5, -64.5, -63.5, -62.5, -61.5, -60.5,\n",
       "       -59.5, -58.5, -57.5, -56.5, -55.5, -54.5, -53.5, -52.5, -51.5, -50.5,\n",
       "       -49.5, -48.5, -47.5, -46.5, -45.5, -44.5, -43.5, -42.5, -41.5, -40.5,\n",
       "       -39.5, -38.5, -37.5, -36.5, -35.5, -34.5, -33.5, -32.5, -31.5, -30.5,\n",
       "       -29.5, -28.5, -27.5, -26.5, -25.5, -24.5, -23.5, -22.5, -21.5, -20.5,\n",
       "       -19.5, -18.5, -17.5, -16.5, -15.5, -14.5, -13.5, -12.5, -11.5, -10.5,\n",
       "        -9.5,  -8.5,  -7.5,  -6.5,  -5.5,  -4.5,  -3.5,  -2.5,  -1.5,  -0.5,\n",
       "         0.5,   1.5,   2.5,   3.5,   4.5,   5.5,   6.5,   7.5,   8.5,   9.5,\n",
       "        10.5,  11.5,  12.5,  13.5,  14.5,  15.5,  16.5,  17.5,  18.5,  19.5,\n",
       "        20.5,  21.5,  22.5,  23.5,  24.5,  25.5,  26.5,  27.5,  28.5,  29.5,\n",
       "        30.5,  31.5,  32.5,  33.5,  34.5,  35.5,  36.5,  37.5,  38.5,  39.5,\n",
       "        40.5,  41.5,  42.5,  43.5,  44.5,  45.5,  46.5,  47.5,  48.5,  49.5,\n",
       "        50.5,  51.5,  52.5,  53.5,  54.5,  55.5,  56.5,  57.5,  58.5,  59.5,\n",
       "        60.5,  61.5,  62.5,  63.5,  64.5,  65.5,  66.5,  67.5,  68.5,  69.5,\n",
       "        70.5,  71.5,  72.5,  73.5,  74.5,  75.5,  76.5,  77.5,  78.5,  79.5,\n",
       "        80.5,  81.5,  82.5,  83.5,  84.5,  85.5,  86.5,  87.5,  88.5,  89.5])</pre></div></li><li class='xr-var-item'><div class='xr-var-name'><span class='xr-has-index'>lon</span></div><div class='xr-var-dims'>(lon)</div><div class='xr-var-dtype'>float64</div><div class='xr-var-preview xr-preview'>0.5 1.5 2.5 ... 357.5 358.5 359.5</div><input id='attrs-49ca2dfb-be23-40a9-94bf-b99f7f2b7e42' class='xr-var-attrs-in' type='checkbox' ><label for='attrs-49ca2dfb-be23-40a9-94bf-b99f7f2b7e42' title='Show/Hide attributes'><svg class='icon xr-icon-file-text2'><use xlink:href='#icon-file-text2'></use></svg></label><input id='data-71126b64-e624-4919-b50f-0bf1c3d68cb2' class='xr-var-data-in' type='checkbox'><label for='data-71126b64-e624-4919-b50f-0bf1c3d68cb2' title='Show/Hide data repr'><svg class='icon xr-icon-database'><use xlink:href='#icon-database'></use></svg></label><div class='xr-var-attrs'><dl class='xr-attrs'><dt><span>standard_name :</span></dt><dd>longitude</dd><dt><span>long_name :</span></dt><dd>longitude coordinate</dd><dt><span>units :</span></dt><dd>degrees_east</dd><dt><span>axis :</span></dt><dd>X</dd></dl></div><div class='xr-var-data'><pre>array([  0.5,   1.5,   2.5, ..., 357.5, 358.5, 359.5])</pre></div></li></ul></div></li><li class='xr-section-item'><input id='section-2c3ce72c-42b7-48c0-ab63-7f3e90df195a' class='xr-section-summary-in' type='checkbox'  checked><label for='section-2c3ce72c-42b7-48c0-ab63-7f3e90df195a' class='xr-section-summary' >Data variables: <span>(6)</span></label><div class='xr-section-inline-details'></div><div class='xr-section-details'><ul class='xr-var-list'><li class='xr-var-item'><div class='xr-var-name'><span>time_bnds</span></div><div class='xr-var-dims'>(time, bnds)</div><div class='xr-var-dtype'>object</div><div class='xr-var-preview xr-preview'>...</div><input id='attrs-5a7f0d11-798b-40ca-aa16-9a83a03a3f70' class='xr-var-attrs-in' type='checkbox' disabled><label for='attrs-5a7f0d11-798b-40ca-aa16-9a83a03a3f70' title='Show/Hide attributes'><svg class='icon xr-icon-file-text2'><use xlink:href='#icon-file-text2'></use></svg></label><input id='data-98eedde4-905a-44cf-9642-6a318b3a0d76' class='xr-var-data-in' type='checkbox'><label for='data-98eedde4-905a-44cf-9642-6a318b3a0d76' title='Show/Hide data repr'><svg class='icon xr-icon-database'><use xlink:href='#icon-database'></use></svg></label><div class='xr-var-attrs'><dl class='xr-attrs'></dl></div><div class='xr-var-data'><pre>[188 values with dtype=object]</pre></div></li><li class='xr-var-item'><div class='xr-var-name'><span>totslr_ens</span></div><div class='xr-var-dims'>(ens, time, lat, lon)</div><div class='xr-var-dtype'>float32</div><div class='xr-var-preview xr-preview'>...</div><input id='attrs-d8e076b8-113a-45b4-91fc-c88c9e20a64a' class='xr-var-attrs-in' type='checkbox' ><label for='attrs-d8e076b8-113a-45b4-91fc-c88c9e20a64a' title='Show/Hide attributes'><svg class='icon xr-icon-file-text2'><use xlink:href='#icon-file-text2'></use></svg></label><input id='data-5c473327-65d2-40c7-b73d-68793c63712a' class='xr-var-data-in' type='checkbox'><label for='data-5c473327-65d2-40c7-b73d-68793c63712a' title='Show/Hide data repr'><svg class='icon xr-icon-database'><use xlink:href='#icon-database'></use></svg></label><div class='xr-var-attrs'><dl class='xr-attrs'><dt><span>long_name :</span></dt><dd>RCP2.6 ensemble ssh ts</dd><dt><span>units :</span></dt><dd>m</dd><dt><span>comment :</span></dt><dd>orig. global mean removed; zossga, historical added back in; ocean-only data + jmg ice and groundwater</dd></dl></div><div class='xr-var-data'><pre>[97459200 values with dtype=float32]</pre></div></li><li class='xr-var-item'><div class='xr-var-name'><span>totslr</span></div><div class='xr-var-dims'>(time, lat, lon)</div><div class='xr-var-dtype'>float32</div><div class='xr-var-preview xr-preview'>...</div><input id='attrs-d1fe78ba-e762-4a5d-8d8b-f44f631e87b3' class='xr-var-attrs-in' type='checkbox' ><label for='attrs-d1fe78ba-e762-4a5d-8d8b-f44f631e87b3' title='Show/Hide attributes'><svg class='icon xr-icon-file-text2'><use xlink:href='#icon-file-text2'></use></svg></label><input id='data-67c48f93-cb54-472a-bbdb-c1c1cf6ebdfc' class='xr-var-data-in' type='checkbox'><label for='data-67c48f93-cb54-472a-bbdb-c1c1cf6ebdfc' title='Show/Hide data repr'><svg class='icon xr-icon-database'><use xlink:href='#icon-database'></use></svg></label><div class='xr-var-attrs'><dl class='xr-attrs'><dt><span>long_name :</span></dt><dd>total RCP2.6 ensemble mean ssh ts</dd><dt><span>units :</span></dt><dd>m</dd><dt><span>comment :</span></dt><dd>orig. global mean removed; zossga, historical added back in; ocean-only data + jmg ice and groundwater</dd></dl></div><div class='xr-var-data'><pre>[6091200 values with dtype=float32]</pre></div></li><li class='xr-var-item'><div class='xr-var-name'><span>loerr</span></div><div class='xr-var-dims'>(time, lat, lon)</div><div class='xr-var-dtype'>float32</div><div class='xr-var-preview xr-preview'>...</div><input id='attrs-62f8420e-67d3-4df8-9636-912d89d1d08c' class='xr-var-attrs-in' type='checkbox' ><label for='attrs-62f8420e-67d3-4df8-9636-912d89d1d08c' title='Show/Hide attributes'><svg class='icon xr-icon-file-text2'><use xlink:href='#icon-file-text2'></use></svg></label><input id='data-ab2d7155-8280-452d-9ba0-088b5ed5d616' class='xr-var-data-in' type='checkbox'><label for='data-ab2d7155-8280-452d-9ba0-088b5ed5d616' title='Show/Hide data repr'><svg class='icon xr-icon-database'><use xlink:href='#icon-database'></use></svg></label><div class='xr-var-attrs'><dl class='xr-attrs'><dt><span>long_name :</span></dt><dd>RCP2.6 5% uncertainty ssh ts</dd><dt><span>units :</span></dt><dd>m</dd><dt><span>comment :</span></dt><dd>orig. global mean removed; zossga, historical added back in; ocean-only data + jmg ice and groundwater</dd></dl></div><div class='xr-var-data'><pre>[6091200 values with dtype=float32]</pre></div></li><li class='xr-var-item'><div class='xr-var-name'><span>hierr</span></div><div class='xr-var-dims'>(time, lat, lon)</div><div class='xr-var-dtype'>float32</div><div class='xr-var-preview xr-preview'>...</div><input id='attrs-860dbd72-13e0-4b1e-94a7-cb423e124706' class='xr-var-attrs-in' type='checkbox' ><label for='attrs-860dbd72-13e0-4b1e-94a7-cb423e124706' title='Show/Hide attributes'><svg class='icon xr-icon-file-text2'><use xlink:href='#icon-file-text2'></use></svg></label><input id='data-a14d4f1e-3547-4b7b-86d8-e5c8bfb97ecc' class='xr-var-data-in' type='checkbox'><label for='data-a14d4f1e-3547-4b7b-86d8-e5c8bfb97ecc' title='Show/Hide data repr'><svg class='icon xr-icon-database'><use xlink:href='#icon-database'></use></svg></label><div class='xr-var-attrs'><dl class='xr-attrs'><dt><span>long_name :</span></dt><dd>RCP2.6 95% uncertainty ssh ts</dd><dt><span>units :</span></dt><dd>m</dd><dt><span>comment :</span></dt><dd>orig. global mean removed; zossga, historical added back in; ocean-only data + jmg ice and groundwater</dd></dl></div><div class='xr-var-data'><pre>[6091200 values with dtype=float32]</pre></div></li><li class='xr-var-item'><div class='xr-var-name'><span>modelname</span></div><div class='xr-var-dims'>(ens)</div><div class='xr-var-dtype'>|S16</div><div class='xr-var-preview xr-preview'>...</div><input id='attrs-08503fb4-c959-4197-97f5-3e6c8263213d' class='xr-var-attrs-in' type='checkbox' ><label for='attrs-08503fb4-c959-4197-97f5-3e6c8263213d' title='Show/Hide attributes'><svg class='icon xr-icon-file-text2'><use xlink:href='#icon-file-text2'></use></svg></label><input id='data-5b50bd50-4249-48df-bbf1-4974294c71ad' class='xr-var-data-in' type='checkbox'><label for='data-5b50bd50-4249-48df-bbf1-4974294c71ad' title='Show/Hide data repr'><svg class='icon xr-icon-database'><use xlink:href='#icon-database'></use></svg></label><div class='xr-var-attrs'><dl class='xr-attrs'><dt><span>long_name :</span></dt><dd>Model names in the same order as in totslr_ens var</dd></dl></div><div class='xr-var-data'><pre>[16 values with dtype=|S16]</pre></div></li></ul></div></li><li class='xr-section-item'><input id='section-69fcba50-ab14-4053-808c-28a1cf096dd9' class='xr-section-summary-in' type='checkbox'  ><label for='section-69fcba50-ab14-4053-808c-28a1cf096dd9' class='xr-section-summary' >Indexes: <span>(3)</span></label><div class='xr-section-inline-details'></div><div class='xr-section-details'><ul class='xr-var-list'><li class='xr-var-item'><div class='xr-index-name'><div>time</div></div><div class='xr-index-preview'>PandasIndex</div><div></div><input id='index-7407ff2d-8335-49c0-b8e1-4454f5989327' class='xr-index-data-in' type='checkbox'/><label for='index-7407ff2d-8335-49c0-b8e1-4454f5989327' title='Show/Hide index repr'><svg class='icon xr-icon-database'><use xlink:href='#icon-database'></use></svg></label><div class='xr-index-data'><pre>PandasIndex(CFTimeIndex([2007-07-02 12:00:00, 2008-07-02 00:00:00, 2009-07-02 12:00:00,\n",
       "             2010-07-02 12:00:00, 2011-07-02 12:00:00, 2012-07-02 00:00:00,\n",
       "             2013-07-02 12:00:00, 2014-07-02 12:00:00, 2015-07-02 12:00:00,\n",
       "             2016-07-02 00:00:00, 2017-07-02 12:00:00, 2018-07-02 12:00:00,\n",
       "             2019-07-02 12:00:00, 2020-07-02 00:00:00, 2021-07-02 12:00:00,\n",
       "             2022-07-02 12:00:00, 2023-07-02 12:00:00, 2024-07-02 00:00:00,\n",
       "             2025-07-02 12:00:00, 2026-07-02 12:00:00, 2027-07-02 12:00:00,\n",
       "             2028-07-02 00:00:00, 2029-07-02 12:00:00, 2030-07-02 12:00:00,\n",
       "             2031-07-02 12:00:00, 2032-07-02 00:00:00, 2033-07-02 12:00:00,\n",
       "             2034-07-02 12:00:00, 2035-07-02 12:00:00, 2036-07-02 00:00:00,\n",
       "             2037-07-02 12:00:00, 2038-07-02 12:00:00, 2039-07-02 12:00:00,\n",
       "             2040-07-02 00:00:00, 2041-07-02 12:00:00, 2042-07-02 12:00:00,\n",
       "             2043-07-02 12:00:00, 2044-07-02 00:00:00, 2045-07-02 12:00:00,\n",
       "             2046-07-02 12:00:00, 2047-07-02 12:00:00, 2048-07-02 00:00:00,\n",
       "             2049-07-02 12:00:00, 2050-07-02 12:00:00, 2051-07-02 12:00:00,\n",
       "             2052-07-02 00:00:00, 2053-07-02 12:00:00, 2054-07-02 12:00:00,\n",
       "             2055-07-02 12:00:00, 2056-07-02 00:00:00, 2057-07-02 12:00:00,\n",
       "             2058-07-02 12:00:00, 2059-07-02 12:00:00, 2060-07-02 00:00:00,\n",
       "             2061-07-02 12:00:00, 2062-07-02 12:00:00, 2063-07-02 12:00:00,\n",
       "             2064-07-02 00:00:00, 2065-07-02 12:00:00, 2066-07-02 12:00:00,\n",
       "             2067-07-02 12:00:00, 2068-07-02 00:00:00, 2069-07-02 12:00:00,\n",
       "             2070-07-02 12:00:00, 2071-07-02 12:00:00, 2072-07-02 00:00:00,\n",
       "             2073-07-02 12:00:00, 2074-07-02 12:00:00, 2075-07-02 12:00:00,\n",
       "             2076-07-02 00:00:00, 2077-07-02 12:00:00, 2078-07-02 12:00:00,\n",
       "             2079-07-02 12:00:00, 2080-07-02 00:00:00, 2081-07-02 12:00:00,\n",
       "             2082-07-02 12:00:00, 2083-07-02 12:00:00, 2084-07-02 00:00:00,\n",
       "             2085-07-02 12:00:00, 2086-07-02 12:00:00, 2087-07-02 12:00:00,\n",
       "             2088-07-02 00:00:00, 2089-07-02 12:00:00, 2090-07-02 12:00:00,\n",
       "             2091-07-02 12:00:00, 2092-07-02 00:00:00, 2093-07-02 12:00:00,\n",
       "             2094-07-02 12:00:00, 2095-07-02 12:00:00, 2096-07-02 00:00:00,\n",
       "             2097-07-02 12:00:00, 2098-07-02 12:00:00, 2099-07-02 12:00:00,\n",
       "             2100-07-02 12:00:00],\n",
       "            dtype=&#x27;object&#x27;, length=94, calendar=&#x27;noleap&#x27;, freq=&#x27;None&#x27;))</pre></div></li><li class='xr-var-item'><div class='xr-index-name'><div>lat</div></div><div class='xr-index-preview'>PandasIndex</div><div></div><input id='index-9a0b68fb-416c-4ead-bd29-c37a27ada627' class='xr-index-data-in' type='checkbox'/><label for='index-9a0b68fb-416c-4ead-bd29-c37a27ada627' title='Show/Hide index repr'><svg class='icon xr-icon-database'><use xlink:href='#icon-database'></use></svg></label><div class='xr-index-data'><pre>PandasIndex(Index([-89.5, -88.5, -87.5, -86.5, -85.5, -84.5, -83.5, -82.5, -81.5, -80.5,\n",
       "       ...\n",
       "        80.5,  81.5,  82.5,  83.5,  84.5,  85.5,  86.5,  87.5,  88.5,  89.5],\n",
       "      dtype=&#x27;float64&#x27;, name=&#x27;lat&#x27;, length=180))</pre></div></li><li class='xr-var-item'><div class='xr-index-name'><div>lon</div></div><div class='xr-index-preview'>PandasIndex</div><div></div><input id='index-df49d3e9-ec69-45d1-abb0-4fa8bffee6d3' class='xr-index-data-in' type='checkbox'/><label for='index-df49d3e9-ec69-45d1-abb0-4fa8bffee6d3' title='Show/Hide index repr'><svg class='icon xr-icon-database'><use xlink:href='#icon-database'></use></svg></label><div class='xr-index-data'><pre>PandasIndex(Index([  0.5,   1.5,   2.5,   3.5,   4.5,   5.5,   6.5,   7.5,   8.5,   9.5,\n",
       "       ...\n",
       "       350.5, 351.5, 352.5, 353.5, 354.5, 355.5, 356.5, 357.5, 358.5, 359.5],\n",
       "      dtype=&#x27;float64&#x27;, name=&#x27;lon&#x27;, length=360))</pre></div></li></ul></div></li><li class='xr-section-item'><input id='section-a7c1bf27-97e9-48cf-b685-f67f7e34283a' class='xr-section-summary-in' type='checkbox'  checked><label for='section-a7c1bf27-97e9-48cf-b685-f67f7e34283a' class='xr-section-summary' >Attributes: <span>(3)</span></label><div class='xr-section-inline-details'></div><div class='xr-section-details'><dl class='xr-attrs'><dt><span>history :</span></dt><dd>version 5, 27-March-2014</dd><dt><span>contact :</span></dt><dd>mark.carson@zmaw.de</dd><dt><span>references :</span></dt><dd>IPCC AR5 WGI, Chapter 13, and Chapter 13: Supplementary Material; www.climatechange2013.org</dd></dl></div></li></ul></div></div>"
      ],
      "text/plain": [
       "<xarray.Dataset>\n",
       "Dimensions:     (time: 94, bnds: 2, lat: 180, lon: 360, ens: 16)\n",
       "Coordinates:\n",
       "  * time        (time) object 2007-07-02 12:00:00 ... 2100-07-02 12:00:00\n",
       "  * lat         (lat) float64 -89.5 -88.5 -87.5 -86.5 ... 86.5 87.5 88.5 89.5\n",
       "  * lon         (lon) float64 0.5 1.5 2.5 3.5 4.5 ... 356.5 357.5 358.5 359.5\n",
       "Dimensions without coordinates: bnds, ens\n",
       "Data variables:\n",
       "    time_bnds   (time, bnds) object ...\n",
       "    totslr_ens  (ens, time, lat, lon) float32 ...\n",
       "    totslr      (time, lat, lon) float32 ...\n",
       "    loerr       (time, lat, lon) float32 ...\n",
       "    hierr       (time, lat, lon) float32 ...\n",
       "    modelname   (ens) |S16 ...\n",
       "Attributes:\n",
       "    history:     version 5, 27-March-2014\n",
       "    contact:     mark.carson@zmaw.de\n",
       "    references:  IPCC AR5 WGI, Chapter 13, and Chapter 13: Supplementary Mate..."
      ]
     },
     "execution_count": 4,
     "metadata": {},
     "output_type": "execute_result"
    },
    {
     "data": {
      "application/javascript": "\n            setTimeout(function() {\n                var nbb_cell_id = 4;\n                var nbb_unformatted_code = \"# open datasets\\nds_26rcp = xr.open_dataset(ds_rcp26_path)\\nds_45rcp = xr.open_dataset(ds_rcp45_path)\\nds_85rcp = xr.open_dataset(ds_rcp85_path)\\n\\n# check original dataset\\nds_26rcp\";\n                var nbb_formatted_code = \"# open datasets\\nds_26rcp = xr.open_dataset(ds_rcp26_path)\\nds_45rcp = xr.open_dataset(ds_rcp45_path)\\nds_85rcp = xr.open_dataset(ds_rcp85_path)\\n\\n# check original dataset\\nds_26rcp\";\n                var nbb_cells = Jupyter.notebook.get_cells();\n                for (var i = 0; i < nbb_cells.length; ++i) {\n                    if (nbb_cells[i].input_prompt_number == nbb_cell_id) {\n                        if (nbb_cells[i].get_text() == nbb_unformatted_code) {\n                             nbb_cells[i].set_text(nbb_formatted_code);\n                        }\n                        break;\n                    }\n                }\n            }, 500);\n            ",
      "text/plain": [
       "<IPython.core.display.Javascript object>"
      ]
     },
     "metadata": {},
     "output_type": "display_data"
    }
   ],
   "source": [
    "# open datasets\n",
    "ds_26rcp = xr.open_dataset(ds_rcp26_path)\n",
    "ds_45rcp = xr.open_dataset(ds_rcp45_path)\n",
    "ds_85rcp = xr.open_dataset(ds_rcp85_path)\n",
    "\n",
    "# check original dataset\n",
    "ds_26rcp"
   ]
  },
  {
   "cell_type": "code",
   "execution_count": 5,
   "id": "d19468d7",
   "metadata": {},
   "outputs": [
    {
     "data": {
      "application/javascript": "\n            setTimeout(function() {\n                var nbb_cell_id = 5;\n                var nbb_unformatted_code = \"%%capture cap --no-stderr\\n# check original CF compliancy\\n\\ncheck_compliancy(testfile=ds_rcp26_path, working_dir=CF_dir)\";\n                var nbb_formatted_code = \"%%capture cap --no-stderr\\n# check original CF compliancy\\n\\ncheck_compliancy(testfile=ds_rcp26_path, working_dir=CF_dir)\";\n                var nbb_cells = Jupyter.notebook.get_cells();\n                for (var i = 0; i < nbb_cells.length; ++i) {\n                    if (nbb_cells[i].input_prompt_number == nbb_cell_id) {\n                        if (nbb_cells[i].get_text() == nbb_unformatted_code) {\n                             nbb_cells[i].set_text(nbb_formatted_code);\n                        }\n                        break;\n                    }\n                }\n            }, 500);\n            ",
      "text/plain": [
       "<IPython.core.display.Javascript object>"
      ]
     },
     "metadata": {},
     "output_type": "display_data"
    }
   ],
   "source": [
    "%%capture cap --no-stderr\n",
    "# check original CF compliancy\n",
    "\n",
    "check_compliancy(testfile=ds_rcp26_path, working_dir=CF_dir)"
   ]
  },
  {
   "cell_type": "code",
   "execution_count": 6,
   "id": "71a038bc",
   "metadata": {},
   "outputs": [
    {
     "name": "stdout",
     "output_type": "stream",
     "text": [
      "{'P:\\\\11205479-coclico\\\\FASTTRACK_DATA\\\\18_AR5_SLP_IPCC\\\\total-ens-slr-26-5.nc': {'warnings': '1', 'errors': '0'}}\n"
     ]
    },
    {
     "data": {
      "application/javascript": "\n            setTimeout(function() {\n                var nbb_cell_id = 6;\n                var nbb_unformatted_code = \"# save original CF compliancy\\nsave_compliancy(cap, testfile=ds_rcp26_path, working_dir=CF_dir)\";\n                var nbb_formatted_code = \"# save original CF compliancy\\nsave_compliancy(cap, testfile=ds_rcp26_path, working_dir=CF_dir)\";\n                var nbb_cells = Jupyter.notebook.get_cells();\n                for (var i = 0; i < nbb_cells.length; ++i) {\n                    if (nbb_cells[i].input_prompt_number == nbb_cell_id) {\n                        if (nbb_cells[i].get_text() == nbb_unformatted_code) {\n                             nbb_cells[i].set_text(nbb_formatted_code);\n                        }\n                        break;\n                    }\n                }\n            }, 500);\n            ",
      "text/plain": [
       "<IPython.core.display.Javascript object>"
      ]
     },
     "metadata": {},
     "output_type": "display_data"
    }
   ],
   "source": [
    "# save original CF compliancy\n",
    "save_compliancy(cap, testfile=ds_rcp26_path, working_dir=CF_dir)"
   ]
  },
  {
   "cell_type": "code",
   "execution_count": 7,
   "id": "238f34a2",
   "metadata": {},
   "outputs": [
    {
     "data": {
      "application/javascript": "\n            setTimeout(function() {\n                var nbb_cell_id = 7;\n                var nbb_unformatted_code = \"%%capture cap --no-stderr\\n# check original CF compliancy\\n\\ncheck_compliancy(testfile=ds_rcp45_path, working_dir=CF_dir)\";\n                var nbb_formatted_code = \"%%capture cap --no-stderr\\n# check original CF compliancy\\n\\ncheck_compliancy(testfile=ds_rcp45_path, working_dir=CF_dir)\";\n                var nbb_cells = Jupyter.notebook.get_cells();\n                for (var i = 0; i < nbb_cells.length; ++i) {\n                    if (nbb_cells[i].input_prompt_number == nbb_cell_id) {\n                        if (nbb_cells[i].get_text() == nbb_unformatted_code) {\n                             nbb_cells[i].set_text(nbb_formatted_code);\n                        }\n                        break;\n                    }\n                }\n            }, 500);\n            ",
      "text/plain": [
       "<IPython.core.display.Javascript object>"
      ]
     },
     "metadata": {},
     "output_type": "display_data"
    }
   ],
   "source": [
    "%%capture cap --no-stderr\n",
    "# check original CF compliancy\n",
    "\n",
    "check_compliancy(testfile=ds_rcp45_path, working_dir=CF_dir)"
   ]
  },
  {
   "cell_type": "code",
   "execution_count": 8,
   "id": "9cadb3d4",
   "metadata": {},
   "outputs": [
    {
     "name": "stdout",
     "output_type": "stream",
     "text": [
      "{'P:\\\\11205479-coclico\\\\FASTTRACK_DATA\\\\18_AR5_SLP_IPCC\\\\total-ens-slr-45-5.nc': {'warnings': '5', 'errors': '4'}}\n"
     ]
    },
    {
     "data": {
      "application/javascript": "\n            setTimeout(function() {\n                var nbb_cell_id = 8;\n                var nbb_unformatted_code = \"# save original CF compliancy\\nsave_compliancy(cap, testfile=ds_rcp45_path, working_dir=CF_dir)\";\n                var nbb_formatted_code = \"# save original CF compliancy\\nsave_compliancy(cap, testfile=ds_rcp45_path, working_dir=CF_dir)\";\n                var nbb_cells = Jupyter.notebook.get_cells();\n                for (var i = 0; i < nbb_cells.length; ++i) {\n                    if (nbb_cells[i].input_prompt_number == nbb_cell_id) {\n                        if (nbb_cells[i].get_text() == nbb_unformatted_code) {\n                             nbb_cells[i].set_text(nbb_formatted_code);\n                        }\n                        break;\n                    }\n                }\n            }, 500);\n            ",
      "text/plain": [
       "<IPython.core.display.Javascript object>"
      ]
     },
     "metadata": {},
     "output_type": "display_data"
    }
   ],
   "source": [
    "# save original CF compliancy\n",
    "save_compliancy(cap, testfile=ds_rcp45_path, working_dir=CF_dir)"
   ]
  },
  {
   "cell_type": "code",
   "execution_count": 9,
   "id": "8720145b",
   "metadata": {},
   "outputs": [
    {
     "data": {
      "application/javascript": "\n            setTimeout(function() {\n                var nbb_cell_id = 9;\n                var nbb_unformatted_code = \"%%capture cap --no-stderr\\n# check original CF compliancy\\n\\ncheck_compliancy(testfile=ds_rcp85_path, working_dir=CF_dir)\";\n                var nbb_formatted_code = \"%%capture cap --no-stderr\\n# check original CF compliancy\\n\\ncheck_compliancy(testfile=ds_rcp85_path, working_dir=CF_dir)\";\n                var nbb_cells = Jupyter.notebook.get_cells();\n                for (var i = 0; i < nbb_cells.length; ++i) {\n                    if (nbb_cells[i].input_prompt_number == nbb_cell_id) {\n                        if (nbb_cells[i].get_text() == nbb_unformatted_code) {\n                             nbb_cells[i].set_text(nbb_formatted_code);\n                        }\n                        break;\n                    }\n                }\n            }, 500);\n            ",
      "text/plain": [
       "<IPython.core.display.Javascript object>"
      ]
     },
     "metadata": {},
     "output_type": "display_data"
    }
   ],
   "source": [
    "%%capture cap --no-stderr\n",
    "# check original CF compliancy\n",
    "\n",
    "check_compliancy(testfile=ds_rcp85_path, working_dir=CF_dir)"
   ]
  },
  {
   "cell_type": "code",
   "execution_count": 10,
   "id": "c310346a",
   "metadata": {},
   "outputs": [
    {
     "name": "stdout",
     "output_type": "stream",
     "text": [
      "{'P:\\\\11205479-coclico\\\\FASTTRACK_DATA\\\\18_AR5_SLP_IPCC\\\\total-ens-slr-85-5.nc': {'warnings': '5', 'errors': '4'}}\n"
     ]
    },
    {
     "data": {
      "application/javascript": "\n            setTimeout(function() {\n                var nbb_cell_id = 10;\n                var nbb_unformatted_code = \"# save original CF compliancy\\nsave_compliancy(cap, testfile=ds_rcp85_path, working_dir=CF_dir)\";\n                var nbb_formatted_code = \"# save original CF compliancy\\nsave_compliancy(cap, testfile=ds_rcp85_path, working_dir=CF_dir)\";\n                var nbb_cells = Jupyter.notebook.get_cells();\n                for (var i = 0; i < nbb_cells.length; ++i) {\n                    if (nbb_cells[i].input_prompt_number == nbb_cell_id) {\n                        if (nbb_cells[i].get_text() == nbb_unformatted_code) {\n                             nbb_cells[i].set_text(nbb_formatted_code);\n                        }\n                        break;\n                    }\n                }\n            }, 500);\n            ",
      "text/plain": [
       "<IPython.core.display.Javascript object>"
      ]
     },
     "metadata": {},
     "output_type": "display_data"
    }
   ],
   "source": [
    "# save original CF compliancy\n",
    "save_compliancy(cap, testfile=ds_rcp85_path, working_dir=CF_dir)"
   ]
  },
  {
   "attachments": {},
   "cell_type": "markdown",
   "id": "0c557e90",
   "metadata": {},
   "source": [
    "### Make CF compliant alterations to the NetCDF files (dataset dependent)"
   ]
  },
  {
   "cell_type": "code",
   "execution_count": 11,
   "id": "51642e7d",
   "metadata": {},
   "outputs": [
    {
     "data": {
      "application/javascript": "\n            setTimeout(function() {\n                var nbb_cell_id = 11;\n                var nbb_unformatted_code = \"# NetCDF variable and dimension alterations\\n\\n# rename or swap dimension names, the latter in case the name already exists as coordinate\\nds_26rcp = ds_26rcp.rename_dims(\\n    {\\\"ens\\\": \\\"nmodelname\\\", \\\"bnds\\\": \\\"nv\\\"}  # nv = number of vertices\\n)\\nds_45rcp = ds_45rcp.rename_dims({\\\"ens\\\": \\\"nmodelname\\\", \\\"bnds\\\": \\\"nv\\\"})\\nds_85rcp = ds_85rcp.rename_dims({\\\"ens\\\": \\\"nmodelname\\\", \\\"bnds\\\": \\\"nv\\\"})\\n\\n# # rename variables, if necessary\\n# ds_26rcp = ds_26rcp.rename_vars({\\\"modelname\\\": \\\"ensemble\\\"})\\n# ds_45rcp = ds_45rcp.rename_vars({\\\"modelname\\\": \\\"ensemble\\\"})\\n# ds_85rcp = ds_85rcp.rename_vars({\\\"modelname\\\": \\\"ensemble\\\"})\\n\\n# # set some data variables to coordinates to avoid duplication of dimensions in later stage\\nds_26rcp = ds_26rcp.set_coords([\\\"modelname\\\", \\\"time_bnds\\\"])\\nds_45rcp = ds_45rcp.set_coords([\\\"modelname\\\", \\\"time_bnds\\\"])\\nds_85rcp = ds_85rcp.set_coords([\\\"modelname\\\", \\\"time_bnds\\\"])\\n\\n# encoding settings\\nds_26rcp.time_bnds.encoding[\\n    \\\"_FillValue\\\"\\n] = None  # xarray sets _FillValue automatically to None for float types, prevent this when needed\\nds_45rcp.time_bnds.encoding[\\n    \\\"_FillValue\\\"\\n] = None  # xarray sets _FillValue automatically to None for float types, prevent this when needed\\nds_85rcp.time_bnds.encoding[\\n    \\\"_FillValue\\\"\\n] = None  # xarray sets _FillValue automatically to None for float types, prevent this when needed\\n\\n# construct equal dimensions in ensembles\\n# note, has to be partly manual as nensemble has to be indexed by ensemble strings\\nstrip_ensembles = list(\\n    set([s.strip() for s in ds_85rcp[\\\"modelname\\\"].astype(str).values]).difference(\\n        [s.strip() for s in ds_26rcp[\\\"modelname\\\"].astype(str).values]\\n    )\\n)  # remove these at correct positions in the data from RCP45 & RCP85\\nstrip_ensembles_idx = [\\n    idx\\n    for idx, j in enumerate(\\n        [s.strip() for s in ds_85rcp[\\\"modelname\\\"].astype(str).values]\\n    )\\n    if j in strip_ensembles\\n]\\nds_45rcp = ds_45rcp.drop_sel(\\n    nmodelname=strip_ensembles_idx\\n)  # remove indexed ensembles from RCP45\\nds_85rcp = ds_85rcp.drop_sel(\\n    nmodelname=strip_ensembles_idx\\n)  # remove indexed ensembles from RCP85\\n\\n# rework ensemble lists to get rid of excessive spaces\\nds_26rcp[\\\"modelname\\\"] = np.array(\\n    [s.strip() for s in ds_26rcp[\\\"modelname\\\"].astype(str).values], dtype=\\\"S\\\"\\n)\\nds_26rcp = ds_26rcp.swap_dims({\\\"modelname\\\": \\\"nmodelname\\\"})\\nds_45rcp[\\\"modelname\\\"] = np.array(\\n    [s.strip() for s in ds_45rcp[\\\"modelname\\\"].astype(str).values], dtype=\\\"S\\\"\\n)\\nds_45rcp = ds_45rcp.swap_dims({\\\"modelname\\\": \\\"nmodelname\\\"})\\nds_85rcp[\\\"modelname\\\"] = np.array(\\n    [s.strip() for s in ds_85rcp[\\\"modelname\\\"].astype(str).values], dtype=\\\"S\\\"\\n)\\nds_85rcp = ds_85rcp.swap_dims({\\\"modelname\\\": \\\"nmodelname\\\"})\\nds_26rcp[\\\"modelname\\\"].attrs[\\n    \\\"long_name\\\"\\n] = \\\"Model names in the same order as in totslr_ens var\\\"\\nds_45rcp[\\\"modelname\\\"].attrs[\\n    \\\"long_name\\\"\\n] = \\\"Model names in the same order as in totslr_ens var\\\"\\nds_85rcp[\\\"modelname\\\"].attrs[\\n    \\\"long_name\\\"\\n] = \\\"Model names in the same order as in totslr_ens var\\\"\\n\\n# info on all attributes\\n# !ncinfo -v totslr {ds_rcp26_path}\";\n                var nbb_formatted_code = \"# NetCDF variable and dimension alterations\\n\\n# rename or swap dimension names, the latter in case the name already exists as coordinate\\nds_26rcp = ds_26rcp.rename_dims(\\n    {\\\"ens\\\": \\\"nmodelname\\\", \\\"bnds\\\": \\\"nv\\\"}  # nv = number of vertices\\n)\\nds_45rcp = ds_45rcp.rename_dims({\\\"ens\\\": \\\"nmodelname\\\", \\\"bnds\\\": \\\"nv\\\"})\\nds_85rcp = ds_85rcp.rename_dims({\\\"ens\\\": \\\"nmodelname\\\", \\\"bnds\\\": \\\"nv\\\"})\\n\\n# # rename variables, if necessary\\n# ds_26rcp = ds_26rcp.rename_vars({\\\"modelname\\\": \\\"ensemble\\\"})\\n# ds_45rcp = ds_45rcp.rename_vars({\\\"modelname\\\": \\\"ensemble\\\"})\\n# ds_85rcp = ds_85rcp.rename_vars({\\\"modelname\\\": \\\"ensemble\\\"})\\n\\n# # set some data variables to coordinates to avoid duplication of dimensions in later stage\\nds_26rcp = ds_26rcp.set_coords([\\\"modelname\\\", \\\"time_bnds\\\"])\\nds_45rcp = ds_45rcp.set_coords([\\\"modelname\\\", \\\"time_bnds\\\"])\\nds_85rcp = ds_85rcp.set_coords([\\\"modelname\\\", \\\"time_bnds\\\"])\\n\\n# encoding settings\\nds_26rcp.time_bnds.encoding[\\n    \\\"_FillValue\\\"\\n] = None  # xarray sets _FillValue automatically to None for float types, prevent this when needed\\nds_45rcp.time_bnds.encoding[\\n    \\\"_FillValue\\\"\\n] = None  # xarray sets _FillValue automatically to None for float types, prevent this when needed\\nds_85rcp.time_bnds.encoding[\\n    \\\"_FillValue\\\"\\n] = None  # xarray sets _FillValue automatically to None for float types, prevent this when needed\\n\\n# construct equal dimensions in ensembles\\n# note, has to be partly manual as nensemble has to be indexed by ensemble strings\\nstrip_ensembles = list(\\n    set([s.strip() for s in ds_85rcp[\\\"modelname\\\"].astype(str).values]).difference(\\n        [s.strip() for s in ds_26rcp[\\\"modelname\\\"].astype(str).values]\\n    )\\n)  # remove these at correct positions in the data from RCP45 & RCP85\\nstrip_ensembles_idx = [\\n    idx\\n    for idx, j in enumerate(\\n        [s.strip() for s in ds_85rcp[\\\"modelname\\\"].astype(str).values]\\n    )\\n    if j in strip_ensembles\\n]\\nds_45rcp = ds_45rcp.drop_sel(\\n    nmodelname=strip_ensembles_idx\\n)  # remove indexed ensembles from RCP45\\nds_85rcp = ds_85rcp.drop_sel(\\n    nmodelname=strip_ensembles_idx\\n)  # remove indexed ensembles from RCP85\\n\\n# rework ensemble lists to get rid of excessive spaces\\nds_26rcp[\\\"modelname\\\"] = np.array(\\n    [s.strip() for s in ds_26rcp[\\\"modelname\\\"].astype(str).values], dtype=\\\"S\\\"\\n)\\nds_26rcp = ds_26rcp.swap_dims({\\\"modelname\\\": \\\"nmodelname\\\"})\\nds_45rcp[\\\"modelname\\\"] = np.array(\\n    [s.strip() for s in ds_45rcp[\\\"modelname\\\"].astype(str).values], dtype=\\\"S\\\"\\n)\\nds_45rcp = ds_45rcp.swap_dims({\\\"modelname\\\": \\\"nmodelname\\\"})\\nds_85rcp[\\\"modelname\\\"] = np.array(\\n    [s.strip() for s in ds_85rcp[\\\"modelname\\\"].astype(str).values], dtype=\\\"S\\\"\\n)\\nds_85rcp = ds_85rcp.swap_dims({\\\"modelname\\\": \\\"nmodelname\\\"})\\nds_26rcp[\\\"modelname\\\"].attrs[\\n    \\\"long_name\\\"\\n] = \\\"Model names in the same order as in totslr_ens var\\\"\\nds_45rcp[\\\"modelname\\\"].attrs[\\n    \\\"long_name\\\"\\n] = \\\"Model names in the same order as in totslr_ens var\\\"\\nds_85rcp[\\\"modelname\\\"].attrs[\\n    \\\"long_name\\\"\\n] = \\\"Model names in the same order as in totslr_ens var\\\"\\n\\n# info on all attributes\\n# !ncinfo -v totslr {ds_rcp26_path}\";\n                var nbb_cells = Jupyter.notebook.get_cells();\n                for (var i = 0; i < nbb_cells.length; ++i) {\n                    if (nbb_cells[i].input_prompt_number == nbb_cell_id) {\n                        if (nbb_cells[i].get_text() == nbb_unformatted_code) {\n                             nbb_cells[i].set_text(nbb_formatted_code);\n                        }\n                        break;\n                    }\n                }\n            }, 500);\n            ",
      "text/plain": [
       "<IPython.core.display.Javascript object>"
      ]
     },
     "metadata": {},
     "output_type": "display_data"
    }
   ],
   "source": [
    "# NetCDF variable and dimension alterations\n",
    "\n",
    "# rename or swap dimension names, the latter in case the name already exists as coordinate\n",
    "ds_26rcp = ds_26rcp.rename_dims(\n",
    "    {\"ens\": \"nmodelname\", \"bnds\": \"nv\"}  # nv = number of vertices\n",
    ")\n",
    "ds_45rcp = ds_45rcp.rename_dims({\"ens\": \"nmodelname\", \"bnds\": \"nv\"})\n",
    "ds_85rcp = ds_85rcp.rename_dims({\"ens\": \"nmodelname\", \"bnds\": \"nv\"})\n",
    "\n",
    "# # rename variables, if necessary\n",
    "# ds_26rcp = ds_26rcp.rename_vars({\"modelname\": \"ensemble\"})\n",
    "# ds_45rcp = ds_45rcp.rename_vars({\"modelname\": \"ensemble\"})\n",
    "# ds_85rcp = ds_85rcp.rename_vars({\"modelname\": \"ensemble\"})\n",
    "\n",
    "# # set some data variables to coordinates to avoid duplication of dimensions in later stage\n",
    "ds_26rcp = ds_26rcp.set_coords([\"modelname\", \"time_bnds\"])\n",
    "ds_45rcp = ds_45rcp.set_coords([\"modelname\", \"time_bnds\"])\n",
    "ds_85rcp = ds_85rcp.set_coords([\"modelname\", \"time_bnds\"])\n",
    "\n",
    "# encoding settings\n",
    "ds_26rcp.time_bnds.encoding[\n",
    "    \"_FillValue\"\n",
    "] = None  # xarray sets _FillValue automatically to None for float types, prevent this when needed\n",
    "ds_45rcp.time_bnds.encoding[\n",
    "    \"_FillValue\"\n",
    "] = None  # xarray sets _FillValue automatically to None for float types, prevent this when needed\n",
    "ds_85rcp.time_bnds.encoding[\n",
    "    \"_FillValue\"\n",
    "] = None  # xarray sets _FillValue automatically to None for float types, prevent this when needed\n",
    "\n",
    "# construct equal dimensions in ensembles\n",
    "# note, has to be partly manual as nensemble has to be indexed by ensemble strings\n",
    "strip_ensembles = list(\n",
    "    set([s.strip() for s in ds_85rcp[\"modelname\"].astype(str).values]).difference(\n",
    "        [s.strip() for s in ds_26rcp[\"modelname\"].astype(str).values]\n",
    "    )\n",
    ")  # remove these at correct positions in the data from RCP45 & RCP85\n",
    "strip_ensembles_idx = [\n",
    "    idx\n",
    "    for idx, j in enumerate(\n",
    "        [s.strip() for s in ds_85rcp[\"modelname\"].astype(str).values]\n",
    "    )\n",
    "    if j in strip_ensembles\n",
    "]\n",
    "ds_45rcp = ds_45rcp.drop_sel(\n",
    "    nmodelname=strip_ensembles_idx\n",
    ")  # remove indexed ensembles from RCP45\n",
    "ds_85rcp = ds_85rcp.drop_sel(\n",
    "    nmodelname=strip_ensembles_idx\n",
    ")  # remove indexed ensembles from RCP85\n",
    "\n",
    "# rework ensemble lists to get rid of excessive spaces\n",
    "ds_26rcp[\"modelname\"] = np.array(\n",
    "    [s.strip() for s in ds_26rcp[\"modelname\"].astype(str).values], dtype=\"S\"\n",
    ")\n",
    "ds_26rcp = ds_26rcp.swap_dims({\"modelname\": \"nmodelname\"})\n",
    "ds_45rcp[\"modelname\"] = np.array(\n",
    "    [s.strip() for s in ds_45rcp[\"modelname\"].astype(str).values], dtype=\"S\"\n",
    ")\n",
    "ds_45rcp = ds_45rcp.swap_dims({\"modelname\": \"nmodelname\"})\n",
    "ds_85rcp[\"modelname\"] = np.array(\n",
    "    [s.strip() for s in ds_85rcp[\"modelname\"].astype(str).values], dtype=\"S\"\n",
    ")\n",
    "ds_85rcp = ds_85rcp.swap_dims({\"modelname\": \"nmodelname\"})\n",
    "ds_26rcp[\"modelname\"].attrs[\n",
    "    \"long_name\"\n",
    "] = \"Model names in the same order as in totslr_ens var\"\n",
    "ds_45rcp[\"modelname\"].attrs[\n",
    "    \"long_name\"\n",
    "] = \"Model names in the same order as in totslr_ens var\"\n",
    "ds_85rcp[\"modelname\"].attrs[\n",
    "    \"long_name\"\n",
    "] = \"Model names in the same order as in totslr_ens var\"\n",
    "\n",
    "# info on all attributes\n",
    "# !ncinfo -v totslr {ds_rcp26_path}"
   ]
  },
  {
   "cell_type": "code",
   "execution_count": 12,
   "id": "00c63076",
   "metadata": {},
   "outputs": [
    {
     "data": {
      "application/javascript": "\n            setTimeout(function() {\n                var nbb_cell_id = 12;\n                var nbb_unformatted_code = \"# concat datasets along new dimension with index values and name derived from pandas index object, if necessary\\ndataset = xr.concat([ds_26rcp, ds_45rcp, ds_85rcp], dim=\\\"nscenarios\\\")\\ndataset = dataset.assign_coords(\\n    scenarios=(\\\"nscenarios\\\", np.array([\\\"RCP26\\\", \\\"RCP45\\\", \\\"RCP85\\\"], dtype=\\\"S\\\"))\\n)\\n\\n# dataset = xr.concat(\\n#     [dataset_historical, dataset_45rcp, dataset_85rcp],\\n#     pd.Index([\\\"historical\\\", \\\"rcp45\\\", \\\"rcp85\\\"], name=\\\"scenarios\\\"),\\n# )\\n\\n# dataset[\\\"scenarios\\\"].values.astype(\\\"U\\\") # retrieve scenarios as string\";\n                var nbb_formatted_code = \"# concat datasets along new dimension with index values and name derived from pandas index object, if necessary\\ndataset = xr.concat([ds_26rcp, ds_45rcp, ds_85rcp], dim=\\\"nscenarios\\\")\\ndataset = dataset.assign_coords(\\n    scenarios=(\\\"nscenarios\\\", np.array([\\\"RCP26\\\", \\\"RCP45\\\", \\\"RCP85\\\"], dtype=\\\"S\\\"))\\n)\\n\\n# dataset = xr.concat(\\n#     [dataset_historical, dataset_45rcp, dataset_85rcp],\\n#     pd.Index([\\\"historical\\\", \\\"rcp45\\\", \\\"rcp85\\\"], name=\\\"scenarios\\\"),\\n# )\\n\\n# dataset[\\\"scenarios\\\"].values.astype(\\\"U\\\") # retrieve scenarios as string\";\n                var nbb_cells = Jupyter.notebook.get_cells();\n                for (var i = 0; i < nbb_cells.length; ++i) {\n                    if (nbb_cells[i].input_prompt_number == nbb_cell_id) {\n                        if (nbb_cells[i].get_text() == nbb_unformatted_code) {\n                             nbb_cells[i].set_text(nbb_formatted_code);\n                        }\n                        break;\n                    }\n                }\n            }, 500);\n            ",
      "text/plain": [
       "<IPython.core.display.Javascript object>"
      ]
     },
     "metadata": {},
     "output_type": "display_data"
    }
   ],
   "source": [
    "# concat datasets along new dimension with index values and name derived from pandas index object, if necessary\n",
    "dataset = xr.concat([ds_26rcp, ds_45rcp, ds_85rcp], dim=\"nscenarios\")\n",
    "dataset = dataset.assign_coords(\n",
    "    scenarios=(\"nscenarios\", np.array([\"RCP26\", \"RCP45\", \"RCP85\"], dtype=\"S\"))\n",
    ")\n",
    "\n",
    "# dataset = xr.concat(\n",
    "#     [dataset_historical, dataset_45rcp, dataset_85rcp],\n",
    "#     pd.Index([\"historical\", \"rcp45\", \"rcp85\"], name=\"scenarios\"),\n",
    "# )\n",
    "\n",
    "# dataset[\"scenarios\"].values.astype(\"U\") # retrieve scenarios as string"
   ]
  },
  {
   "cell_type": "code",
   "execution_count": 13,
   "id": "d46c44d5",
   "metadata": {},
   "outputs": [
    {
     "data": {
      "application/javascript": "\n            setTimeout(function() {\n                var nbb_cell_id = 13;\n                var nbb_unformatted_code = \"# re-order shape of the data variables\\nds_26rcp = ds_26rcp.transpose(\\\"time\\\", \\\"lat\\\", \\\"lon\\\", \\\"nv\\\", \\\"nmodelname\\\")\\nds_45rcp = ds_45rcp.transpose(\\\"time\\\", \\\"lat\\\", \\\"lon\\\", \\\"nv\\\", \\\"nmodelname\\\")\\nds_85rcp = ds_85rcp.transpose(\\\"time\\\", \\\"lat\\\", \\\"lon\\\", \\\"nv\\\", \\\"nmodelname\\\")\\ndataset = dataset.transpose(\\\"nscenarios\\\", \\\"time\\\", \\\"lat\\\", \\\"lon\\\", \\\"nv\\\", \\\"nmodelname\\\")\\n\\n# add or change certain variable / coordinate attributes\\ndataset_attributes = {\\n    \\\"scenarios\\\": {\\\"long_name\\\": \\\"climate scenarios\\\"},\\n    \\\"modelname\\\": {\\\"long_name\\\": \\\"Model names in the same order as in totslr_ens var\\\"},\\n}  # specify custom (CF convention) attributes\\n\\n# add / overwrite attributes\\nfor k, v in dataset_attributes.items():\\n    try:\\n        dataset[k].attrs = dataset_attributes[k]\\n    except:\\n        continue\";\n                var nbb_formatted_code = \"# re-order shape of the data variables\\nds_26rcp = ds_26rcp.transpose(\\\"time\\\", \\\"lat\\\", \\\"lon\\\", \\\"nv\\\", \\\"nmodelname\\\")\\nds_45rcp = ds_45rcp.transpose(\\\"time\\\", \\\"lat\\\", \\\"lon\\\", \\\"nv\\\", \\\"nmodelname\\\")\\nds_85rcp = ds_85rcp.transpose(\\\"time\\\", \\\"lat\\\", \\\"lon\\\", \\\"nv\\\", \\\"nmodelname\\\")\\ndataset = dataset.transpose(\\\"nscenarios\\\", \\\"time\\\", \\\"lat\\\", \\\"lon\\\", \\\"nv\\\", \\\"nmodelname\\\")\\n\\n# add or change certain variable / coordinate attributes\\ndataset_attributes = {\\n    \\\"scenarios\\\": {\\\"long_name\\\": \\\"climate scenarios\\\"},\\n    \\\"modelname\\\": {\\\"long_name\\\": \\\"Model names in the same order as in totslr_ens var\\\"},\\n}  # specify custom (CF convention) attributes\\n\\n# add / overwrite attributes\\nfor k, v in dataset_attributes.items():\\n    try:\\n        dataset[k].attrs = dataset_attributes[k]\\n    except:\\n        continue\";\n                var nbb_cells = Jupyter.notebook.get_cells();\n                for (var i = 0; i < nbb_cells.length; ++i) {\n                    if (nbb_cells[i].input_prompt_number == nbb_cell_id) {\n                        if (nbb_cells[i].get_text() == nbb_unformatted_code) {\n                             nbb_cells[i].set_text(nbb_formatted_code);\n                        }\n                        break;\n                    }\n                }\n            }, 500);\n            ",
      "text/plain": [
       "<IPython.core.display.Javascript object>"
      ]
     },
     "metadata": {},
     "output_type": "display_data"
    }
   ],
   "source": [
    "# re-order shape of the data variables\n",
    "ds_26rcp = ds_26rcp.transpose(\"time\", \"lat\", \"lon\", \"nv\", \"nmodelname\")\n",
    "ds_45rcp = ds_45rcp.transpose(\"time\", \"lat\", \"lon\", \"nv\", \"nmodelname\")\n",
    "ds_85rcp = ds_85rcp.transpose(\"time\", \"lat\", \"lon\", \"nv\", \"nmodelname\")\n",
    "dataset = dataset.transpose(\"nscenarios\", \"time\", \"lat\", \"lon\", \"nv\", \"nmodelname\")\n",
    "\n",
    "# add or change certain variable / coordinate attributes\n",
    "dataset_attributes = {\n",
    "    \"scenarios\": {\"long_name\": \"climate scenarios\"},\n",
    "    \"modelname\": {\"long_name\": \"Model names in the same order as in totslr_ens var\"},\n",
    "}  # specify custom (CF convention) attributes\n",
    "\n",
    "# add / overwrite attributes\n",
    "for k, v in dataset_attributes.items():\n",
    "    try:\n",
    "        dataset[k].attrs = dataset_attributes[k]\n",
    "    except:\n",
    "        continue"
   ]
  },
  {
   "cell_type": "code",
   "execution_count": 14,
   "id": "af852f34",
   "metadata": {},
   "outputs": [
    {
     "data": {
      "application/javascript": "\n            setTimeout(function() {\n                var nbb_cell_id = 14;\n                var nbb_unformatted_code = \"import json\\n\\n# NetCDF attribute alterations by means of metadata template\\nf_global = open(ds_dir.joinpath(\\\"metadata_AR5_slp.json\\\"))\\nmeta_global = json.load(f_global)\\n\\nds_list = [ds_26rcp, ds_45rcp, ds_85rcp, dataset]\\nfor i in ds_list:\\n    for attr_name, attr_val in meta_global.items():\\n        if attr_name == 'PROVIDERS':\\n            attr_val = json.dumps(attr_val)\\n        i.attrs[attr_name] = attr_val\\n\\n    i.attrs['Conventions'] = \\\"CF-1.8\\\"\";\n                var nbb_formatted_code = \"import json\\n\\n# NetCDF attribute alterations by means of metadata template\\nf_global = open(ds_dir.joinpath(\\\"metadata_AR5_slp.json\\\"))\\nmeta_global = json.load(f_global)\\n\\nds_list = [ds_26rcp, ds_45rcp, ds_85rcp, dataset]\\nfor i in ds_list:\\n    for attr_name, attr_val in meta_global.items():\\n        if attr_name == \\\"PROVIDERS\\\":\\n            attr_val = json.dumps(attr_val)\\n        i.attrs[attr_name] = attr_val\\n\\n    i.attrs[\\\"Conventions\\\"] = \\\"CF-1.8\\\"\";\n                var nbb_cells = Jupyter.notebook.get_cells();\n                for (var i = 0; i < nbb_cells.length; ++i) {\n                    if (nbb_cells[i].input_prompt_number == nbb_cell_id) {\n                        if (nbb_cells[i].get_text() == nbb_unformatted_code) {\n                             nbb_cells[i].set_text(nbb_formatted_code);\n                        }\n                        break;\n                    }\n                }\n            }, 500);\n            ",
      "text/plain": [
       "<IPython.core.display.Javascript object>"
      ]
     },
     "metadata": {},
     "output_type": "display_data"
    }
   ],
   "source": [
    "import json\n",
    "\n",
    "# NetCDF attribute alterations by means of metadata template\n",
    "f_global = open(ds_dir.joinpath(\"metadata_AR5_slp.json\"))\n",
    "meta_global = json.load(f_global)\n",
    "\n",
    "ds_list = [ds_26rcp, ds_45rcp, ds_85rcp, dataset]\n",
    "for i in ds_list:\n",
    "    for attr_name, attr_val in meta_global.items():\n",
    "        if attr_name == 'PROVIDERS':\n",
    "            attr_val = json.dumps(attr_val)\n",
    "        i.attrs[attr_name] = attr_val\n",
    "\n",
    "    i.attrs['Conventions'] = \"CF-1.8\""
   ]
  },
  {
   "cell_type": "code",
   "execution_count": 15,
   "id": "b102cbc3",
   "metadata": {},
   "outputs": [
    {
     "data": {
      "application/javascript": "\n            setTimeout(function() {\n                var nbb_cell_id = 15;\n                var nbb_unformatted_code = \"# drop the model dimension, will not be used in the platform. Use the average of the 16 models ('totslr')\\nds_26rcp = ds_26rcp.drop_dims(\\\"nmodelname\\\")\\nds_45rcp = ds_45rcp.drop_dims(\\\"nmodelname\\\")\\nds_85rcp = ds_85rcp.drop_dims(\\\"nmodelname\\\")\\ndataset = dataset.drop_dims(\\\"nmodelname\\\")\\n\\n# iterate over ds_list and replace variables by merging them together\\nds_list_new = []\\nfor i in [ds_26rcp, ds_45rcp, ds_85rcp, dataset]:\\n\\n    # merge loerr, totslr & hierr as ensembles (5%, 50% 95%) and assign new variable called 'slr'\\n    i_arr = xr.concat([i[\\\"loerr\\\"], i[\\\"totslr\\\"], i[\\\"hierr\\\"]], pd.Index([5.0, 50.0, 95.0], name=\\\"ensemble\\\"))\\n    i = i.drop_vars([\\\"loerr\\\", \\\"totslr\\\", \\\"hierr\\\"])\\n    i = i.assign(slr = i_arr)\\n\\n    # add / replace metadata names\\n    i[\\\"time_bnds\\\"].attrs[\\\"long_name\\\"] = \\\"time boundaries\\\"\\n    i[\\\"lon\\\"].attrs[\\\"long_name\\\"] = \\\"longitude\\\"\\n    i[\\\"lat\\\"].attrs[\\\"long_name\\\"] = \\\"latitude\\\"\\n    i[\\\"slr\\\"].attrs[\\\"long_name\\\"] = \\\"sea level rise\\\"\\n    i[\\\"ensemble\\\"].attrs[\\\"long_name\\\"] = \\\"ensemble\\\"\\n    i[\\\"ensemble\\\"].attrs[\\\"units\\\"] = \\\"1\\\"\\n    ds_list_new.append(i)\";\n                var nbb_formatted_code = \"# drop the model dimension, will not be used in the platform. Use the average of the 16 models ('totslr')\\nds_26rcp = ds_26rcp.drop_dims(\\\"nmodelname\\\")\\nds_45rcp = ds_45rcp.drop_dims(\\\"nmodelname\\\")\\nds_85rcp = ds_85rcp.drop_dims(\\\"nmodelname\\\")\\ndataset = dataset.drop_dims(\\\"nmodelname\\\")\\n\\n# iterate over ds_list and replace variables by merging them together\\nds_list_new = []\\nfor i in [ds_26rcp, ds_45rcp, ds_85rcp, dataset]:\\n    # merge loerr, totslr & hierr as ensembles (5%, 50% 95%) and assign new variable called 'slr'\\n    i_arr = xr.concat(\\n        [i[\\\"loerr\\\"], i[\\\"totslr\\\"], i[\\\"hierr\\\"]],\\n        pd.Index([5.0, 50.0, 95.0], name=\\\"ensemble\\\"),\\n    )\\n    i = i.drop_vars([\\\"loerr\\\", \\\"totslr\\\", \\\"hierr\\\"])\\n    i = i.assign(slr=i_arr)\\n\\n    # add / replace metadata names\\n    i[\\\"time_bnds\\\"].attrs[\\\"long_name\\\"] = \\\"time boundaries\\\"\\n    i[\\\"lon\\\"].attrs[\\\"long_name\\\"] = \\\"longitude\\\"\\n    i[\\\"lat\\\"].attrs[\\\"long_name\\\"] = \\\"latitude\\\"\\n    i[\\\"slr\\\"].attrs[\\\"long_name\\\"] = \\\"sea level rise\\\"\\n    i[\\\"ensemble\\\"].attrs[\\\"long_name\\\"] = \\\"ensemble\\\"\\n    i[\\\"ensemble\\\"].attrs[\\\"units\\\"] = \\\"1\\\"\\n    ds_list_new.append(i)\";\n                var nbb_cells = Jupyter.notebook.get_cells();\n                for (var i = 0; i < nbb_cells.length; ++i) {\n                    if (nbb_cells[i].input_prompt_number == nbb_cell_id) {\n                        if (nbb_cells[i].get_text() == nbb_unformatted_code) {\n                             nbb_cells[i].set_text(nbb_formatted_code);\n                        }\n                        break;\n                    }\n                }\n            }, 500);\n            ",
      "text/plain": [
       "<IPython.core.display.Javascript object>"
      ]
     },
     "metadata": {},
     "output_type": "display_data"
    }
   ],
   "source": [
    "# drop the model dimension, will not be used in the platform. Use the average of the 16 models ('totslr')\n",
    "ds_26rcp = ds_26rcp.drop_dims(\"nmodelname\")\n",
    "ds_45rcp = ds_45rcp.drop_dims(\"nmodelname\")\n",
    "ds_85rcp = ds_85rcp.drop_dims(\"nmodelname\")\n",
    "dataset = dataset.drop_dims(\"nmodelname\")\n",
    "\n",
    "# iterate over ds_list and replace variables by merging them together\n",
    "ds_list_new = []\n",
    "for i in [ds_26rcp, ds_45rcp, ds_85rcp, dataset]:\n",
    "\n",
    "    # merge loerr, totslr & hierr as ensembles (5%, 50% 95%) and assign new variable called 'slr'\n",
    "    i_arr = xr.concat([i[\"loerr\"], i[\"totslr\"], i[\"hierr\"]], pd.Index([5.0, 50.0, 95.0], name=\"ensemble\"))\n",
    "    i = i.drop_vars([\"loerr\", \"totslr\", \"hierr\"])\n",
    "    i = i.assign(slr = i_arr)\n",
    "\n",
    "    # add / replace metadata names\n",
    "    i[\"time_bnds\"].attrs[\"long_name\"] = \"time boundaries\"\n",
    "    i[\"lon\"].attrs[\"long_name\"] = \"longitude\"\n",
    "    i[\"lat\"].attrs[\"long_name\"] = \"latitude\"\n",
    "    i[\"slr\"].attrs[\"long_name\"] = \"sea level rise\"\n",
    "    i[\"ensemble\"].attrs[\"long_name\"] = \"ensemble\"\n",
    "    i[\"ensemble\"].attrs[\"units\"] = \"1\"\n",
    "    ds_list_new.append(i)"
   ]
  },
  {
   "cell_type": "code",
   "execution_count": 16,
   "id": "9fbc61af",
   "metadata": {},
   "outputs": [
    {
     "data": {
      "text/html": [
       "<div><svg style=\"position: absolute; width: 0; height: 0; overflow: hidden\">\n",
       "<defs>\n",
       "<symbol id=\"icon-database\" viewBox=\"0 0 32 32\">\n",
       "<path d=\"M16 0c-8.837 0-16 2.239-16 5v4c0 2.761 7.163 5 16 5s16-2.239 16-5v-4c0-2.761-7.163-5-16-5z\"></path>\n",
       "<path d=\"M16 17c-8.837 0-16-2.239-16-5v6c0 2.761 7.163 5 16 5s16-2.239 16-5v-6c0 2.761-7.163 5-16 5z\"></path>\n",
       "<path d=\"M16 26c-8.837 0-16-2.239-16-5v6c0 2.761 7.163 5 16 5s16-2.239 16-5v-6c0 2.761-7.163 5-16 5z\"></path>\n",
       "</symbol>\n",
       "<symbol id=\"icon-file-text2\" viewBox=\"0 0 32 32\">\n",
       "<path d=\"M28.681 7.159c-0.694-0.947-1.662-2.053-2.724-3.116s-2.169-2.030-3.116-2.724c-1.612-1.182-2.393-1.319-2.841-1.319h-15.5c-1.378 0-2.5 1.121-2.5 2.5v27c0 1.378 1.122 2.5 2.5 2.5h23c1.378 0 2.5-1.122 2.5-2.5v-19.5c0-0.448-0.137-1.23-1.319-2.841zM24.543 5.457c0.959 0.959 1.712 1.825 2.268 2.543h-4.811v-4.811c0.718 0.556 1.584 1.309 2.543 2.268zM28 29.5c0 0.271-0.229 0.5-0.5 0.5h-23c-0.271 0-0.5-0.229-0.5-0.5v-27c0-0.271 0.229-0.5 0.5-0.5 0 0 15.499-0 15.5 0v7c0 0.552 0.448 1 1 1h7v19.5z\"></path>\n",
       "<path d=\"M23 26h-14c-0.552 0-1-0.448-1-1s0.448-1 1-1h14c0.552 0 1 0.448 1 1s-0.448 1-1 1z\"></path>\n",
       "<path d=\"M23 22h-14c-0.552 0-1-0.448-1-1s0.448-1 1-1h14c0.552 0 1 0.448 1 1s-0.448 1-1 1z\"></path>\n",
       "<path d=\"M23 18h-14c-0.552 0-1-0.448-1-1s0.448-1 1-1h14c0.552 0 1 0.448 1 1s-0.448 1-1 1z\"></path>\n",
       "</symbol>\n",
       "</defs>\n",
       "</svg>\n",
       "<style>/* CSS stylesheet for displaying xarray objects in jupyterlab.\n",
       " *\n",
       " */\n",
       "\n",
       ":root {\n",
       "  --xr-font-color0: var(--jp-content-font-color0, rgba(0, 0, 0, 1));\n",
       "  --xr-font-color2: var(--jp-content-font-color2, rgba(0, 0, 0, 0.54));\n",
       "  --xr-font-color3: var(--jp-content-font-color3, rgba(0, 0, 0, 0.38));\n",
       "  --xr-border-color: var(--jp-border-color2, #e0e0e0);\n",
       "  --xr-disabled-color: var(--jp-layout-color3, #bdbdbd);\n",
       "  --xr-background-color: var(--jp-layout-color0, white);\n",
       "  --xr-background-color-row-even: var(--jp-layout-color1, white);\n",
       "  --xr-background-color-row-odd: var(--jp-layout-color2, #eeeeee);\n",
       "}\n",
       "\n",
       "html[theme=dark],\n",
       "body[data-theme=dark],\n",
       "body.vscode-dark {\n",
       "  --xr-font-color0: rgba(255, 255, 255, 1);\n",
       "  --xr-font-color2: rgba(255, 255, 255, 0.54);\n",
       "  --xr-font-color3: rgba(255, 255, 255, 0.38);\n",
       "  --xr-border-color: #1F1F1F;\n",
       "  --xr-disabled-color: #515151;\n",
       "  --xr-background-color: #111111;\n",
       "  --xr-background-color-row-even: #111111;\n",
       "  --xr-background-color-row-odd: #313131;\n",
       "}\n",
       "\n",
       ".xr-wrap {\n",
       "  display: block !important;\n",
       "  min-width: 300px;\n",
       "  max-width: 700px;\n",
       "}\n",
       "\n",
       ".xr-text-repr-fallback {\n",
       "  /* fallback to plain text repr when CSS is not injected (untrusted notebook) */\n",
       "  display: none;\n",
       "}\n",
       "\n",
       ".xr-header {\n",
       "  padding-top: 6px;\n",
       "  padding-bottom: 6px;\n",
       "  margin-bottom: 4px;\n",
       "  border-bottom: solid 1px var(--xr-border-color);\n",
       "}\n",
       "\n",
       ".xr-header > div,\n",
       ".xr-header > ul {\n",
       "  display: inline;\n",
       "  margin-top: 0;\n",
       "  margin-bottom: 0;\n",
       "}\n",
       "\n",
       ".xr-obj-type,\n",
       ".xr-array-name {\n",
       "  margin-left: 2px;\n",
       "  margin-right: 10px;\n",
       "}\n",
       "\n",
       ".xr-obj-type {\n",
       "  color: var(--xr-font-color2);\n",
       "}\n",
       "\n",
       ".xr-sections {\n",
       "  padding-left: 0 !important;\n",
       "  display: grid;\n",
       "  grid-template-columns: 150px auto auto 1fr 20px 20px;\n",
       "}\n",
       "\n",
       ".xr-section-item {\n",
       "  display: contents;\n",
       "}\n",
       "\n",
       ".xr-section-item input {\n",
       "  display: none;\n",
       "}\n",
       "\n",
       ".xr-section-item input + label {\n",
       "  color: var(--xr-disabled-color);\n",
       "}\n",
       "\n",
       ".xr-section-item input:enabled + label {\n",
       "  cursor: pointer;\n",
       "  color: var(--xr-font-color2);\n",
       "}\n",
       "\n",
       ".xr-section-item input:enabled + label:hover {\n",
       "  color: var(--xr-font-color0);\n",
       "}\n",
       "\n",
       ".xr-section-summary {\n",
       "  grid-column: 1;\n",
       "  color: var(--xr-font-color2);\n",
       "  font-weight: 500;\n",
       "}\n",
       "\n",
       ".xr-section-summary > span {\n",
       "  display: inline-block;\n",
       "  padding-left: 0.5em;\n",
       "}\n",
       "\n",
       ".xr-section-summary-in:disabled + label {\n",
       "  color: var(--xr-font-color2);\n",
       "}\n",
       "\n",
       ".xr-section-summary-in + label:before {\n",
       "  display: inline-block;\n",
       "  content: '►';\n",
       "  font-size: 11px;\n",
       "  width: 15px;\n",
       "  text-align: center;\n",
       "}\n",
       "\n",
       ".xr-section-summary-in:disabled + label:before {\n",
       "  color: var(--xr-disabled-color);\n",
       "}\n",
       "\n",
       ".xr-section-summary-in:checked + label:before {\n",
       "  content: '▼';\n",
       "}\n",
       "\n",
       ".xr-section-summary-in:checked + label > span {\n",
       "  display: none;\n",
       "}\n",
       "\n",
       ".xr-section-summary,\n",
       ".xr-section-inline-details {\n",
       "  padding-top: 4px;\n",
       "  padding-bottom: 4px;\n",
       "}\n",
       "\n",
       ".xr-section-inline-details {\n",
       "  grid-column: 2 / -1;\n",
       "}\n",
       "\n",
       ".xr-section-details {\n",
       "  display: none;\n",
       "  grid-column: 1 / -1;\n",
       "  margin-bottom: 5px;\n",
       "}\n",
       "\n",
       ".xr-section-summary-in:checked ~ .xr-section-details {\n",
       "  display: contents;\n",
       "}\n",
       "\n",
       ".xr-array-wrap {\n",
       "  grid-column: 1 / -1;\n",
       "  display: grid;\n",
       "  grid-template-columns: 20px auto;\n",
       "}\n",
       "\n",
       ".xr-array-wrap > label {\n",
       "  grid-column: 1;\n",
       "  vertical-align: top;\n",
       "}\n",
       "\n",
       ".xr-preview {\n",
       "  color: var(--xr-font-color3);\n",
       "}\n",
       "\n",
       ".xr-array-preview,\n",
       ".xr-array-data {\n",
       "  padding: 0 5px !important;\n",
       "  grid-column: 2;\n",
       "}\n",
       "\n",
       ".xr-array-data,\n",
       ".xr-array-in:checked ~ .xr-array-preview {\n",
       "  display: none;\n",
       "}\n",
       "\n",
       ".xr-array-in:checked ~ .xr-array-data,\n",
       ".xr-array-preview {\n",
       "  display: inline-block;\n",
       "}\n",
       "\n",
       ".xr-dim-list {\n",
       "  display: inline-block !important;\n",
       "  list-style: none;\n",
       "  padding: 0 !important;\n",
       "  margin: 0;\n",
       "}\n",
       "\n",
       ".xr-dim-list li {\n",
       "  display: inline-block;\n",
       "  padding: 0;\n",
       "  margin: 0;\n",
       "}\n",
       "\n",
       ".xr-dim-list:before {\n",
       "  content: '(';\n",
       "}\n",
       "\n",
       ".xr-dim-list:after {\n",
       "  content: ')';\n",
       "}\n",
       "\n",
       ".xr-dim-list li:not(:last-child):after {\n",
       "  content: ',';\n",
       "  padding-right: 5px;\n",
       "}\n",
       "\n",
       ".xr-has-index {\n",
       "  font-weight: bold;\n",
       "}\n",
       "\n",
       ".xr-var-list,\n",
       ".xr-var-item {\n",
       "  display: contents;\n",
       "}\n",
       "\n",
       ".xr-var-item > div,\n",
       ".xr-var-item label,\n",
       ".xr-var-item > .xr-var-name span {\n",
       "  background-color: var(--xr-background-color-row-even);\n",
       "  margin-bottom: 0;\n",
       "}\n",
       "\n",
       ".xr-var-item > .xr-var-name:hover span {\n",
       "  padding-right: 5px;\n",
       "}\n",
       "\n",
       ".xr-var-list > li:nth-child(odd) > div,\n",
       ".xr-var-list > li:nth-child(odd) > label,\n",
       ".xr-var-list > li:nth-child(odd) > .xr-var-name span {\n",
       "  background-color: var(--xr-background-color-row-odd);\n",
       "}\n",
       "\n",
       ".xr-var-name {\n",
       "  grid-column: 1;\n",
       "}\n",
       "\n",
       ".xr-var-dims {\n",
       "  grid-column: 2;\n",
       "}\n",
       "\n",
       ".xr-var-dtype {\n",
       "  grid-column: 3;\n",
       "  text-align: right;\n",
       "  color: var(--xr-font-color2);\n",
       "}\n",
       "\n",
       ".xr-var-preview {\n",
       "  grid-column: 4;\n",
       "}\n",
       "\n",
       ".xr-index-preview {\n",
       "  grid-column: 2 / 5;\n",
       "  color: var(--xr-font-color2);\n",
       "}\n",
       "\n",
       ".xr-var-name,\n",
       ".xr-var-dims,\n",
       ".xr-var-dtype,\n",
       ".xr-preview,\n",
       ".xr-attrs dt {\n",
       "  white-space: nowrap;\n",
       "  overflow: hidden;\n",
       "  text-overflow: ellipsis;\n",
       "  padding-right: 10px;\n",
       "}\n",
       "\n",
       ".xr-var-name:hover,\n",
       ".xr-var-dims:hover,\n",
       ".xr-var-dtype:hover,\n",
       ".xr-attrs dt:hover {\n",
       "  overflow: visible;\n",
       "  width: auto;\n",
       "  z-index: 1;\n",
       "}\n",
       "\n",
       ".xr-var-attrs,\n",
       ".xr-var-data,\n",
       ".xr-index-data {\n",
       "  display: none;\n",
       "  background-color: var(--xr-background-color) !important;\n",
       "  padding-bottom: 5px !important;\n",
       "}\n",
       "\n",
       ".xr-var-attrs-in:checked ~ .xr-var-attrs,\n",
       ".xr-var-data-in:checked ~ .xr-var-data,\n",
       ".xr-index-data-in:checked ~ .xr-index-data {\n",
       "  display: block;\n",
       "}\n",
       "\n",
       ".xr-var-data > table {\n",
       "  float: right;\n",
       "}\n",
       "\n",
       ".xr-var-name span,\n",
       ".xr-var-data,\n",
       ".xr-index-name div,\n",
       ".xr-index-data,\n",
       ".xr-attrs {\n",
       "  padding-left: 25px !important;\n",
       "}\n",
       "\n",
       ".xr-attrs,\n",
       ".xr-var-attrs,\n",
       ".xr-var-data,\n",
       ".xr-index-data {\n",
       "  grid-column: 1 / -1;\n",
       "}\n",
       "\n",
       "dl.xr-attrs {\n",
       "  padding: 0;\n",
       "  margin: 0;\n",
       "  display: grid;\n",
       "  grid-template-columns: 125px auto;\n",
       "}\n",
       "\n",
       ".xr-attrs dt,\n",
       ".xr-attrs dd {\n",
       "  padding: 0;\n",
       "  margin: 0;\n",
       "  float: left;\n",
       "  padding-right: 10px;\n",
       "  width: auto;\n",
       "}\n",
       "\n",
       ".xr-attrs dt {\n",
       "  font-weight: normal;\n",
       "  grid-column: 1;\n",
       "}\n",
       "\n",
       ".xr-attrs dt:hover span {\n",
       "  display: inline-block;\n",
       "  background: var(--xr-background-color);\n",
       "  padding-right: 10px;\n",
       "}\n",
       "\n",
       ".xr-attrs dd {\n",
       "  grid-column: 2;\n",
       "  white-space: pre-wrap;\n",
       "  word-break: break-all;\n",
       "}\n",
       "\n",
       ".xr-icon-database,\n",
       ".xr-icon-file-text2,\n",
       ".xr-no-icon {\n",
       "  display: inline-block;\n",
       "  vertical-align: middle;\n",
       "  width: 1em;\n",
       "  height: 1.5em !important;\n",
       "  stroke-width: 0;\n",
       "  stroke: currentColor;\n",
       "  fill: currentColor;\n",
       "}\n",
       "</style><pre class='xr-text-repr-fallback'>&lt;xarray.Dataset&gt;\n",
       "Dimensions:    (time: 94, nv: 2, lat: 180, lon: 360, nscenarios: 3, ensemble: 3)\n",
       "Coordinates:\n",
       "  * time       (time) object 2007-07-02 12:00:00 ... 2100-07-02 12:00:00\n",
       "    time_bnds  (time, nv) object 2007-01-01 00:00:00 ... 2101-01-01 00:00:00\n",
       "  * lat        (lat) float64 -89.5 -88.5 -87.5 -86.5 ... 86.5 87.5 88.5 89.5\n",
       "  * lon        (lon) float64 0.5 1.5 2.5 3.5 4.5 ... 356.5 357.5 358.5 359.5\n",
       "    scenarios  (nscenarios) |S5 b&#x27;RCP26&#x27; b&#x27;RCP45&#x27; b&#x27;RCP85&#x27;\n",
       "  * ensemble   (ensemble) float64 5.0 50.0 95.0\n",
       "Dimensions without coordinates: nv, nscenarios\n",
       "Data variables:\n",
       "    slr        (ensemble, nscenarios, time, lat, lon) float32 nan nan ... nan\n",
       "Attributes: (12/24)\n",
       "    history:             version 5, 27-March-2014\n",
       "    contact:             mark.carson@zmaw.de\n",
       "    references:          IPCC AR5 WGI, Chapter 13, and Chapter 13: Supplement...\n",
       "    TITLE:               Sea level rise from AR5\n",
       "    TITLE_ABBREVIATION:  ar5_slr\n",
       "    DESCRIPTION:         These are the relative sea surface height (SSH) data...\n",
       "    ...                  ...\n",
       "    DOI:                 http://www.climatechange2013.org/images/report/WG1AR...\n",
       "    LONG_NAME:           IPCC_AR5_SLR\n",
       "    UNITS:               m\n",
       "    COMMENT:             Here are the files which contain the ocean and ice c...\n",
       "    CRS:                 EPSG:4326\n",
       "    Conventions:         CF-1.8</pre><div class='xr-wrap' style='display:none'><div class='xr-header'><div class='xr-obj-type'>xarray.Dataset</div></div><ul class='xr-sections'><li class='xr-section-item'><input id='section-d5956a22-be80-4b1b-b62d-43d855ce8390' class='xr-section-summary-in' type='checkbox' disabled ><label for='section-d5956a22-be80-4b1b-b62d-43d855ce8390' class='xr-section-summary'  title='Expand/collapse section'>Dimensions:</label><div class='xr-section-inline-details'><ul class='xr-dim-list'><li><span class='xr-has-index'>time</span>: 94</li><li><span>nv</span>: 2</li><li><span class='xr-has-index'>lat</span>: 180</li><li><span class='xr-has-index'>lon</span>: 360</li><li><span>nscenarios</span>: 3</li><li><span class='xr-has-index'>ensemble</span>: 3</li></ul></div><div class='xr-section-details'></div></li><li class='xr-section-item'><input id='section-8c0367cd-dd86-4ba6-a387-3ea9584da009' class='xr-section-summary-in' type='checkbox'  checked><label for='section-8c0367cd-dd86-4ba6-a387-3ea9584da009' class='xr-section-summary' >Coordinates: <span>(6)</span></label><div class='xr-section-inline-details'></div><div class='xr-section-details'><ul class='xr-var-list'><li class='xr-var-item'><div class='xr-var-name'><span class='xr-has-index'>time</span></div><div class='xr-var-dims'>(time)</div><div class='xr-var-dtype'>object</div><div class='xr-var-preview xr-preview'>2007-07-02 12:00:00 ... 2100-07-...</div><input id='attrs-b0fa0ca8-52a7-4f91-bc73-f9a9712dac9b' class='xr-var-attrs-in' type='checkbox' ><label for='attrs-b0fa0ca8-52a7-4f91-bc73-f9a9712dac9b' title='Show/Hide attributes'><svg class='icon xr-icon-file-text2'><use xlink:href='#icon-file-text2'></use></svg></label><input id='data-074b0a33-8a1c-4467-ab6a-a754a08b6008' class='xr-var-data-in' type='checkbox'><label for='data-074b0a33-8a1c-4467-ab6a-a754a08b6008' title='Show/Hide data repr'><svg class='icon xr-icon-database'><use xlink:href='#icon-database'></use></svg></label><div class='xr-var-attrs'><dl class='xr-attrs'><dt><span>long_name :</span></dt><dd>time</dd><dt><span>bounds :</span></dt><dd>time_bnds</dd><dt><span>axis :</span></dt><dd>T</dd></dl></div><div class='xr-var-data'><pre>array([cftime.DatetimeNoLeap(2007, 7, 2, 12, 0, 0, 0, has_year_zero=True),\n",
       "       cftime.DatetimeNoLeap(2008, 7, 2, 0, 0, 0, 0, has_year_zero=True),\n",
       "       cftime.DatetimeNoLeap(2009, 7, 2, 12, 0, 0, 0, has_year_zero=True),\n",
       "       cftime.DatetimeNoLeap(2010, 7, 2, 12, 0, 0, 0, has_year_zero=True),\n",
       "       cftime.DatetimeNoLeap(2011, 7, 2, 12, 0, 0, 0, has_year_zero=True),\n",
       "       cftime.DatetimeNoLeap(2012, 7, 2, 0, 0, 0, 0, has_year_zero=True),\n",
       "       cftime.DatetimeNoLeap(2013, 7, 2, 12, 0, 0, 0, has_year_zero=True),\n",
       "       cftime.DatetimeNoLeap(2014, 7, 2, 12, 0, 0, 0, has_year_zero=True),\n",
       "       cftime.DatetimeNoLeap(2015, 7, 2, 12, 0, 0, 0, has_year_zero=True),\n",
       "       cftime.DatetimeNoLeap(2016, 7, 2, 0, 0, 0, 0, has_year_zero=True),\n",
       "       cftime.DatetimeNoLeap(2017, 7, 2, 12, 0, 0, 0, has_year_zero=True),\n",
       "       cftime.DatetimeNoLeap(2018, 7, 2, 12, 0, 0, 0, has_year_zero=True),\n",
       "       cftime.DatetimeNoLeap(2019, 7, 2, 12, 0, 0, 0, has_year_zero=True),\n",
       "       cftime.DatetimeNoLeap(2020, 7, 2, 0, 0, 0, 0, has_year_zero=True),\n",
       "       cftime.DatetimeNoLeap(2021, 7, 2, 12, 0, 0, 0, has_year_zero=True),\n",
       "       cftime.DatetimeNoLeap(2022, 7, 2, 12, 0, 0, 0, has_year_zero=True),\n",
       "       cftime.DatetimeNoLeap(2023, 7, 2, 12, 0, 0, 0, has_year_zero=True),\n",
       "       cftime.DatetimeNoLeap(2024, 7, 2, 0, 0, 0, 0, has_year_zero=True),\n",
       "       cftime.DatetimeNoLeap(2025, 7, 2, 12, 0, 0, 0, has_year_zero=True),\n",
       "       cftime.DatetimeNoLeap(2026, 7, 2, 12, 0, 0, 0, has_year_zero=True),\n",
       "       cftime.DatetimeNoLeap(2027, 7, 2, 12, 0, 0, 0, has_year_zero=True),\n",
       "       cftime.DatetimeNoLeap(2028, 7, 2, 0, 0, 0, 0, has_year_zero=True),\n",
       "       cftime.DatetimeNoLeap(2029, 7, 2, 12, 0, 0, 0, has_year_zero=True),\n",
       "       cftime.DatetimeNoLeap(2030, 7, 2, 12, 0, 0, 0, has_year_zero=True),\n",
       "       cftime.DatetimeNoLeap(2031, 7, 2, 12, 0, 0, 0, has_year_zero=True),\n",
       "       cftime.DatetimeNoLeap(2032, 7, 2, 0, 0, 0, 0, has_year_zero=True),\n",
       "       cftime.DatetimeNoLeap(2033, 7, 2, 12, 0, 0, 0, has_year_zero=True),\n",
       "       cftime.DatetimeNoLeap(2034, 7, 2, 12, 0, 0, 0, has_year_zero=True),\n",
       "       cftime.DatetimeNoLeap(2035, 7, 2, 12, 0, 0, 0, has_year_zero=True),\n",
       "       cftime.DatetimeNoLeap(2036, 7, 2, 0, 0, 0, 0, has_year_zero=True),\n",
       "       cftime.DatetimeNoLeap(2037, 7, 2, 12, 0, 0, 0, has_year_zero=True),\n",
       "       cftime.DatetimeNoLeap(2038, 7, 2, 12, 0, 0, 0, has_year_zero=True),\n",
       "       cftime.DatetimeNoLeap(2039, 7, 2, 12, 0, 0, 0, has_year_zero=True),\n",
       "       cftime.DatetimeNoLeap(2040, 7, 2, 0, 0, 0, 0, has_year_zero=True),\n",
       "       cftime.DatetimeNoLeap(2041, 7, 2, 12, 0, 0, 0, has_year_zero=True),\n",
       "       cftime.DatetimeNoLeap(2042, 7, 2, 12, 0, 0, 0, has_year_zero=True),\n",
       "       cftime.DatetimeNoLeap(2043, 7, 2, 12, 0, 0, 0, has_year_zero=True),\n",
       "       cftime.DatetimeNoLeap(2044, 7, 2, 0, 0, 0, 0, has_year_zero=True),\n",
       "       cftime.DatetimeNoLeap(2045, 7, 2, 12, 0, 0, 0, has_year_zero=True),\n",
       "       cftime.DatetimeNoLeap(2046, 7, 2, 12, 0, 0, 0, has_year_zero=True),\n",
       "       cftime.DatetimeNoLeap(2047, 7, 2, 12, 0, 0, 0, has_year_zero=True),\n",
       "       cftime.DatetimeNoLeap(2048, 7, 2, 0, 0, 0, 0, has_year_zero=True),\n",
       "       cftime.DatetimeNoLeap(2049, 7, 2, 12, 0, 0, 0, has_year_zero=True),\n",
       "       cftime.DatetimeNoLeap(2050, 7, 2, 12, 0, 0, 0, has_year_zero=True),\n",
       "       cftime.DatetimeNoLeap(2051, 7, 2, 12, 0, 0, 0, has_year_zero=True),\n",
       "       cftime.DatetimeNoLeap(2052, 7, 2, 0, 0, 0, 0, has_year_zero=True),\n",
       "       cftime.DatetimeNoLeap(2053, 7, 2, 12, 0, 0, 0, has_year_zero=True),\n",
       "       cftime.DatetimeNoLeap(2054, 7, 2, 12, 0, 0, 0, has_year_zero=True),\n",
       "       cftime.DatetimeNoLeap(2055, 7, 2, 12, 0, 0, 0, has_year_zero=True),\n",
       "       cftime.DatetimeNoLeap(2056, 7, 2, 0, 0, 0, 0, has_year_zero=True),\n",
       "       cftime.DatetimeNoLeap(2057, 7, 2, 12, 0, 0, 0, has_year_zero=True),\n",
       "       cftime.DatetimeNoLeap(2058, 7, 2, 12, 0, 0, 0, has_year_zero=True),\n",
       "       cftime.DatetimeNoLeap(2059, 7, 2, 12, 0, 0, 0, has_year_zero=True),\n",
       "       cftime.DatetimeNoLeap(2060, 7, 2, 0, 0, 0, 0, has_year_zero=True),\n",
       "       cftime.DatetimeNoLeap(2061, 7, 2, 12, 0, 0, 0, has_year_zero=True),\n",
       "       cftime.DatetimeNoLeap(2062, 7, 2, 12, 0, 0, 0, has_year_zero=True),\n",
       "       cftime.DatetimeNoLeap(2063, 7, 2, 12, 0, 0, 0, has_year_zero=True),\n",
       "       cftime.DatetimeNoLeap(2064, 7, 2, 0, 0, 0, 0, has_year_zero=True),\n",
       "       cftime.DatetimeNoLeap(2065, 7, 2, 12, 0, 0, 0, has_year_zero=True),\n",
       "       cftime.DatetimeNoLeap(2066, 7, 2, 12, 0, 0, 0, has_year_zero=True),\n",
       "       cftime.DatetimeNoLeap(2067, 7, 2, 12, 0, 0, 0, has_year_zero=True),\n",
       "       cftime.DatetimeNoLeap(2068, 7, 2, 0, 0, 0, 0, has_year_zero=True),\n",
       "       cftime.DatetimeNoLeap(2069, 7, 2, 12, 0, 0, 0, has_year_zero=True),\n",
       "       cftime.DatetimeNoLeap(2070, 7, 2, 12, 0, 0, 0, has_year_zero=True),\n",
       "       cftime.DatetimeNoLeap(2071, 7, 2, 12, 0, 0, 0, has_year_zero=True),\n",
       "       cftime.DatetimeNoLeap(2072, 7, 2, 0, 0, 0, 0, has_year_zero=True),\n",
       "       cftime.DatetimeNoLeap(2073, 7, 2, 12, 0, 0, 0, has_year_zero=True),\n",
       "       cftime.DatetimeNoLeap(2074, 7, 2, 12, 0, 0, 0, has_year_zero=True),\n",
       "       cftime.DatetimeNoLeap(2075, 7, 2, 12, 0, 0, 0, has_year_zero=True),\n",
       "       cftime.DatetimeNoLeap(2076, 7, 2, 0, 0, 0, 0, has_year_zero=True),\n",
       "       cftime.DatetimeNoLeap(2077, 7, 2, 12, 0, 0, 0, has_year_zero=True),\n",
       "       cftime.DatetimeNoLeap(2078, 7, 2, 12, 0, 0, 0, has_year_zero=True),\n",
       "       cftime.DatetimeNoLeap(2079, 7, 2, 12, 0, 0, 0, has_year_zero=True),\n",
       "       cftime.DatetimeNoLeap(2080, 7, 2, 0, 0, 0, 0, has_year_zero=True),\n",
       "       cftime.DatetimeNoLeap(2081, 7, 2, 12, 0, 0, 0, has_year_zero=True),\n",
       "       cftime.DatetimeNoLeap(2082, 7, 2, 12, 0, 0, 0, has_year_zero=True),\n",
       "       cftime.DatetimeNoLeap(2083, 7, 2, 12, 0, 0, 0, has_year_zero=True),\n",
       "       cftime.DatetimeNoLeap(2084, 7, 2, 0, 0, 0, 0, has_year_zero=True),\n",
       "       cftime.DatetimeNoLeap(2085, 7, 2, 12, 0, 0, 0, has_year_zero=True),\n",
       "       cftime.DatetimeNoLeap(2086, 7, 2, 12, 0, 0, 0, has_year_zero=True),\n",
       "       cftime.DatetimeNoLeap(2087, 7, 2, 12, 0, 0, 0, has_year_zero=True),\n",
       "       cftime.DatetimeNoLeap(2088, 7, 2, 0, 0, 0, 0, has_year_zero=True),\n",
       "       cftime.DatetimeNoLeap(2089, 7, 2, 12, 0, 0, 0, has_year_zero=True),\n",
       "       cftime.DatetimeNoLeap(2090, 7, 2, 12, 0, 0, 0, has_year_zero=True),\n",
       "       cftime.DatetimeNoLeap(2091, 7, 2, 12, 0, 0, 0, has_year_zero=True),\n",
       "       cftime.DatetimeNoLeap(2092, 7, 2, 0, 0, 0, 0, has_year_zero=True),\n",
       "       cftime.DatetimeNoLeap(2093, 7, 2, 12, 0, 0, 0, has_year_zero=True),\n",
       "       cftime.DatetimeNoLeap(2094, 7, 2, 12, 0, 0, 0, has_year_zero=True),\n",
       "       cftime.DatetimeNoLeap(2095, 7, 2, 12, 0, 0, 0, has_year_zero=True),\n",
       "       cftime.DatetimeNoLeap(2096, 7, 2, 0, 0, 0, 0, has_year_zero=True),\n",
       "       cftime.DatetimeNoLeap(2097, 7, 2, 12, 0, 0, 0, has_year_zero=True),\n",
       "       cftime.DatetimeNoLeap(2098, 7, 2, 12, 0, 0, 0, has_year_zero=True),\n",
       "       cftime.DatetimeNoLeap(2099, 7, 2, 12, 0, 0, 0, has_year_zero=True),\n",
       "       cftime.DatetimeNoLeap(2100, 7, 2, 12, 0, 0, 0, has_year_zero=True)],\n",
       "      dtype=object)</pre></div></li><li class='xr-var-item'><div class='xr-var-name'><span>time_bnds</span></div><div class='xr-var-dims'>(time, nv)</div><div class='xr-var-dtype'>object</div><div class='xr-var-preview xr-preview'>2007-01-01 00:00:00 ... 2101-01-...</div><input id='attrs-111eba28-c5d8-407a-b747-662c725d43fa' class='xr-var-attrs-in' type='checkbox' ><label for='attrs-111eba28-c5d8-407a-b747-662c725d43fa' title='Show/Hide attributes'><svg class='icon xr-icon-file-text2'><use xlink:href='#icon-file-text2'></use></svg></label><input id='data-e6034ec7-c188-4463-aff5-cd1adbc02157' class='xr-var-data-in' type='checkbox'><label for='data-e6034ec7-c188-4463-aff5-cd1adbc02157' title='Show/Hide data repr'><svg class='icon xr-icon-database'><use xlink:href='#icon-database'></use></svg></label><div class='xr-var-attrs'><dl class='xr-attrs'><dt><span>long_name :</span></dt><dd>time boundaries</dd></dl></div><div class='xr-var-data'><pre>array([[cftime.DatetimeNoLeap(2007, 1, 1, 0, 0, 0, 0, has_year_zero=True),\n",
       "        cftime.DatetimeNoLeap(2008, 1, 1, 0, 0, 0, 0, has_year_zero=True)],\n",
       "       [cftime.DatetimeNoLeap(2008, 1, 1, 0, 0, 0, 0, has_year_zero=True),\n",
       "        cftime.DatetimeNoLeap(2009, 1, 1, 0, 0, 0, 0, has_year_zero=True)],\n",
       "       [cftime.DatetimeNoLeap(2009, 1, 1, 0, 0, 0, 0, has_year_zero=True),\n",
       "        cftime.DatetimeNoLeap(2010, 1, 1, 0, 0, 0, 0, has_year_zero=True)],\n",
       "       [cftime.DatetimeNoLeap(2010, 1, 1, 0, 0, 0, 0, has_year_zero=True),\n",
       "        cftime.DatetimeNoLeap(2011, 1, 1, 0, 0, 0, 0, has_year_zero=True)],\n",
       "       [cftime.DatetimeNoLeap(2011, 1, 1, 0, 0, 0, 0, has_year_zero=True),\n",
       "        cftime.DatetimeNoLeap(2012, 1, 1, 0, 0, 0, 0, has_year_zero=True)],\n",
       "       [cftime.DatetimeNoLeap(2012, 1, 1, 0, 0, 0, 0, has_year_zero=True),\n",
       "        cftime.DatetimeNoLeap(2013, 1, 1, 0, 0, 0, 0, has_year_zero=True)],\n",
       "       [cftime.DatetimeNoLeap(2013, 1, 1, 0, 0, 0, 0, has_year_zero=True),\n",
       "        cftime.DatetimeNoLeap(2014, 1, 1, 0, 0, 0, 0, has_year_zero=True)],\n",
       "       [cftime.DatetimeNoLeap(2014, 1, 1, 0, 0, 0, 0, has_year_zero=True),\n",
       "        cftime.DatetimeNoLeap(2015, 1, 1, 0, 0, 0, 0, has_year_zero=True)],\n",
       "       [cftime.DatetimeNoLeap(2015, 1, 1, 0, 0, 0, 0, has_year_zero=True),\n",
       "        cftime.DatetimeNoLeap(2016, 1, 1, 0, 0, 0, 0, has_year_zero=True)],\n",
       "       [cftime.DatetimeNoLeap(2016, 1, 1, 0, 0, 0, 0, has_year_zero=True),\n",
       "        cftime.DatetimeNoLeap(2017, 1, 1, 0, 0, 0, 0, has_year_zero=True)],\n",
       "...\n",
       "        cftime.DatetimeNoLeap(2092, 1, 1, 0, 0, 0, 0, has_year_zero=True)],\n",
       "       [cftime.DatetimeNoLeap(2092, 1, 1, 0, 0, 0, 0, has_year_zero=True),\n",
       "        cftime.DatetimeNoLeap(2093, 1, 1, 0, 0, 0, 0, has_year_zero=True)],\n",
       "       [cftime.DatetimeNoLeap(2093, 1, 1, 0, 0, 0, 0, has_year_zero=True),\n",
       "        cftime.DatetimeNoLeap(2094, 1, 1, 0, 0, 0, 0, has_year_zero=True)],\n",
       "       [cftime.DatetimeNoLeap(2094, 1, 1, 0, 0, 0, 0, has_year_zero=True),\n",
       "        cftime.DatetimeNoLeap(2095, 1, 1, 0, 0, 0, 0, has_year_zero=True)],\n",
       "       [cftime.DatetimeNoLeap(2095, 1, 1, 0, 0, 0, 0, has_year_zero=True),\n",
       "        cftime.DatetimeNoLeap(2096, 1, 1, 0, 0, 0, 0, has_year_zero=True)],\n",
       "       [cftime.DatetimeNoLeap(2096, 1, 1, 0, 0, 0, 0, has_year_zero=True),\n",
       "        cftime.DatetimeNoLeap(2097, 1, 1, 0, 0, 0, 0, has_year_zero=True)],\n",
       "       [cftime.DatetimeNoLeap(2097, 1, 1, 0, 0, 0, 0, has_year_zero=True),\n",
       "        cftime.DatetimeNoLeap(2098, 1, 1, 0, 0, 0, 0, has_year_zero=True)],\n",
       "       [cftime.DatetimeNoLeap(2098, 1, 1, 0, 0, 0, 0, has_year_zero=True),\n",
       "        cftime.DatetimeNoLeap(2099, 1, 1, 0, 0, 0, 0, has_year_zero=True)],\n",
       "       [cftime.DatetimeNoLeap(2099, 1, 1, 0, 0, 0, 0, has_year_zero=True),\n",
       "        cftime.DatetimeNoLeap(2100, 1, 1, 0, 0, 0, 0, has_year_zero=True)],\n",
       "       [cftime.DatetimeNoLeap(2100, 1, 1, 0, 0, 0, 0, has_year_zero=True),\n",
       "        cftime.DatetimeNoLeap(2101, 1, 1, 0, 0, 0, 0, has_year_zero=True)]],\n",
       "      dtype=object)</pre></div></li><li class='xr-var-item'><div class='xr-var-name'><span class='xr-has-index'>lat</span></div><div class='xr-var-dims'>(lat)</div><div class='xr-var-dtype'>float64</div><div class='xr-var-preview xr-preview'>-89.5 -88.5 -87.5 ... 88.5 89.5</div><input id='attrs-69f3fbd7-0120-4da3-aff0-01c5e4d69072' class='xr-var-attrs-in' type='checkbox' ><label for='attrs-69f3fbd7-0120-4da3-aff0-01c5e4d69072' title='Show/Hide attributes'><svg class='icon xr-icon-file-text2'><use xlink:href='#icon-file-text2'></use></svg></label><input id='data-8b2d3ff8-1adf-4a50-bcaa-9296fdc5e4b5' class='xr-var-data-in' type='checkbox'><label for='data-8b2d3ff8-1adf-4a50-bcaa-9296fdc5e4b5' title='Show/Hide data repr'><svg class='icon xr-icon-database'><use xlink:href='#icon-database'></use></svg></label><div class='xr-var-attrs'><dl class='xr-attrs'><dt><span>standard_name :</span></dt><dd>latitude</dd><dt><span>long_name :</span></dt><dd>latitude</dd><dt><span>units :</span></dt><dd>degrees_north</dd><dt><span>axis :</span></dt><dd>Y</dd></dl></div><div class='xr-var-data'><pre>array([-89.5, -88.5, -87.5, -86.5, -85.5, -84.5, -83.5, -82.5, -81.5, -80.5,\n",
       "       -79.5, -78.5, -77.5, -76.5, -75.5, -74.5, -73.5, -72.5, -71.5, -70.5,\n",
       "       -69.5, -68.5, -67.5, -66.5, -65.5, -64.5, -63.5, -62.5, -61.5, -60.5,\n",
       "       -59.5, -58.5, -57.5, -56.5, -55.5, -54.5, -53.5, -52.5, -51.5, -50.5,\n",
       "       -49.5, -48.5, -47.5, -46.5, -45.5, -44.5, -43.5, -42.5, -41.5, -40.5,\n",
       "       -39.5, -38.5, -37.5, -36.5, -35.5, -34.5, -33.5, -32.5, -31.5, -30.5,\n",
       "       -29.5, -28.5, -27.5, -26.5, -25.5, -24.5, -23.5, -22.5, -21.5, -20.5,\n",
       "       -19.5, -18.5, -17.5, -16.5, -15.5, -14.5, -13.5, -12.5, -11.5, -10.5,\n",
       "        -9.5,  -8.5,  -7.5,  -6.5,  -5.5,  -4.5,  -3.5,  -2.5,  -1.5,  -0.5,\n",
       "         0.5,   1.5,   2.5,   3.5,   4.5,   5.5,   6.5,   7.5,   8.5,   9.5,\n",
       "        10.5,  11.5,  12.5,  13.5,  14.5,  15.5,  16.5,  17.5,  18.5,  19.5,\n",
       "        20.5,  21.5,  22.5,  23.5,  24.5,  25.5,  26.5,  27.5,  28.5,  29.5,\n",
       "        30.5,  31.5,  32.5,  33.5,  34.5,  35.5,  36.5,  37.5,  38.5,  39.5,\n",
       "        40.5,  41.5,  42.5,  43.5,  44.5,  45.5,  46.5,  47.5,  48.5,  49.5,\n",
       "        50.5,  51.5,  52.5,  53.5,  54.5,  55.5,  56.5,  57.5,  58.5,  59.5,\n",
       "        60.5,  61.5,  62.5,  63.5,  64.5,  65.5,  66.5,  67.5,  68.5,  69.5,\n",
       "        70.5,  71.5,  72.5,  73.5,  74.5,  75.5,  76.5,  77.5,  78.5,  79.5,\n",
       "        80.5,  81.5,  82.5,  83.5,  84.5,  85.5,  86.5,  87.5,  88.5,  89.5])</pre></div></li><li class='xr-var-item'><div class='xr-var-name'><span class='xr-has-index'>lon</span></div><div class='xr-var-dims'>(lon)</div><div class='xr-var-dtype'>float64</div><div class='xr-var-preview xr-preview'>0.5 1.5 2.5 ... 357.5 358.5 359.5</div><input id='attrs-f88b4ab7-2c97-47cf-bcce-fb039f3f7672' class='xr-var-attrs-in' type='checkbox' ><label for='attrs-f88b4ab7-2c97-47cf-bcce-fb039f3f7672' title='Show/Hide attributes'><svg class='icon xr-icon-file-text2'><use xlink:href='#icon-file-text2'></use></svg></label><input id='data-f55a68fb-7cc0-4805-b26a-26b50f86929e' class='xr-var-data-in' type='checkbox'><label for='data-f55a68fb-7cc0-4805-b26a-26b50f86929e' title='Show/Hide data repr'><svg class='icon xr-icon-database'><use xlink:href='#icon-database'></use></svg></label><div class='xr-var-attrs'><dl class='xr-attrs'><dt><span>standard_name :</span></dt><dd>longitude</dd><dt><span>long_name :</span></dt><dd>longitude</dd><dt><span>units :</span></dt><dd>degrees_east</dd><dt><span>axis :</span></dt><dd>X</dd></dl></div><div class='xr-var-data'><pre>array([  0.5,   1.5,   2.5, ..., 357.5, 358.5, 359.5])</pre></div></li><li class='xr-var-item'><div class='xr-var-name'><span>scenarios</span></div><div class='xr-var-dims'>(nscenarios)</div><div class='xr-var-dtype'>|S5</div><div class='xr-var-preview xr-preview'>b&#x27;RCP26&#x27; b&#x27;RCP45&#x27; b&#x27;RCP85&#x27;</div><input id='attrs-a7dee109-d8d6-4456-9314-e79b26f5bdc2' class='xr-var-attrs-in' type='checkbox' ><label for='attrs-a7dee109-d8d6-4456-9314-e79b26f5bdc2' title='Show/Hide attributes'><svg class='icon xr-icon-file-text2'><use xlink:href='#icon-file-text2'></use></svg></label><input id='data-8ac7a2f2-7350-4b78-b47f-69eda235b4e5' class='xr-var-data-in' type='checkbox'><label for='data-8ac7a2f2-7350-4b78-b47f-69eda235b4e5' title='Show/Hide data repr'><svg class='icon xr-icon-database'><use xlink:href='#icon-database'></use></svg></label><div class='xr-var-attrs'><dl class='xr-attrs'><dt><span>long_name :</span></dt><dd>climate scenarios</dd></dl></div><div class='xr-var-data'><pre>array([b&#x27;RCP26&#x27;, b&#x27;RCP45&#x27;, b&#x27;RCP85&#x27;], dtype=&#x27;|S5&#x27;)</pre></div></li><li class='xr-var-item'><div class='xr-var-name'><span class='xr-has-index'>ensemble</span></div><div class='xr-var-dims'>(ensemble)</div><div class='xr-var-dtype'>float64</div><div class='xr-var-preview xr-preview'>5.0 50.0 95.0</div><input id='attrs-2c77db40-f0ab-4e2c-bca0-aff60d4da9f0' class='xr-var-attrs-in' type='checkbox' ><label for='attrs-2c77db40-f0ab-4e2c-bca0-aff60d4da9f0' title='Show/Hide attributes'><svg class='icon xr-icon-file-text2'><use xlink:href='#icon-file-text2'></use></svg></label><input id='data-926feb42-1862-4482-ba73-8252149933ad' class='xr-var-data-in' type='checkbox'><label for='data-926feb42-1862-4482-ba73-8252149933ad' title='Show/Hide data repr'><svg class='icon xr-icon-database'><use xlink:href='#icon-database'></use></svg></label><div class='xr-var-attrs'><dl class='xr-attrs'><dt><span>long_name :</span></dt><dd>ensemble</dd><dt><span>units :</span></dt><dd>1</dd></dl></div><div class='xr-var-data'><pre>array([ 5., 50., 95.])</pre></div></li></ul></div></li><li class='xr-section-item'><input id='section-66eee4c6-6167-4a76-87e5-138adeb9838a' class='xr-section-summary-in' type='checkbox'  checked><label for='section-66eee4c6-6167-4a76-87e5-138adeb9838a' class='xr-section-summary' >Data variables: <span>(1)</span></label><div class='xr-section-inline-details'></div><div class='xr-section-details'><ul class='xr-var-list'><li class='xr-var-item'><div class='xr-var-name'><span>slr</span></div><div class='xr-var-dims'>(ensemble, nscenarios, time, lat, lon)</div><div class='xr-var-dtype'>float32</div><div class='xr-var-preview xr-preview'>nan nan nan nan ... nan nan nan nan</div><input id='attrs-c214c10f-481c-42c8-a10f-b7d9bdbf6eaf' class='xr-var-attrs-in' type='checkbox' ><label for='attrs-c214c10f-481c-42c8-a10f-b7d9bdbf6eaf' title='Show/Hide attributes'><svg class='icon xr-icon-file-text2'><use xlink:href='#icon-file-text2'></use></svg></label><input id='data-c130e708-c96c-4344-9852-5714884cb31d' class='xr-var-data-in' type='checkbox'><label for='data-c130e708-c96c-4344-9852-5714884cb31d' title='Show/Hide data repr'><svg class='icon xr-icon-database'><use xlink:href='#icon-database'></use></svg></label><div class='xr-var-attrs'><dl class='xr-attrs'><dt><span>long_name :</span></dt><dd>sea level rise</dd><dt><span>units :</span></dt><dd>m</dd><dt><span>comment :</span></dt><dd>orig. global mean removed; zossga, historical added back in; ocean-only data + jmg ice and groundwater</dd></dl></div><div class='xr-var-data'><pre>array([[[[[            nan,             nan,             nan, ...,\n",
       "                       nan,             nan,             nan],\n",
       "          [            nan,             nan,             nan, ...,\n",
       "                       nan,             nan,             nan],\n",
       "          [            nan,             nan,             nan, ...,\n",
       "                       nan,             nan,             nan],\n",
       "          ...,\n",
       "          [-2.12782398e-02, -2.13043019e-02, -2.15932988e-02, ...,\n",
       "           -2.04745978e-02, -2.05603447e-02, -2.05456726e-02],\n",
       "          [-1.99130625e-02, -1.98630318e-02, -1.99966878e-02, ...,\n",
       "           -1.96431186e-02, -1.95646584e-02, -1.95412431e-02],\n",
       "          [            nan,             nan,             nan, ...,\n",
       "                       nan,             nan,             nan]],\n",
       "\n",
       "         [[            nan,             nan,             nan, ...,\n",
       "                       nan,             nan,             nan],\n",
       "          [            nan,             nan,             nan, ...,\n",
       "                       nan,             nan,             nan],\n",
       "          [            nan,             nan,             nan, ...,\n",
       "                       nan,             nan,             nan],\n",
       "...\n",
       "            1.14100862e+00,  1.14061952e+00,  1.14132869e+00],\n",
       "          [ 1.15918279e+00,  1.15753400e+00,  1.15569985e+00, ...,\n",
       "            1.15848148e+00,  1.15828168e+00,  1.15900934e+00],\n",
       "          [            nan,             nan,             nan, ...,\n",
       "                       nan,             nan,             nan]],\n",
       "\n",
       "         [[            nan,             nan,             nan, ...,\n",
       "                       nan,             nan,             nan],\n",
       "          [            nan,             nan,             nan, ...,\n",
       "                       nan,             nan,             nan],\n",
       "          [            nan,             nan,             nan, ...,\n",
       "                       nan,             nan,             nan],\n",
       "          ...,\n",
       "          [ 1.18654895e+00,  1.18622279e+00,  1.18651605e+00, ...,\n",
       "            1.18479550e+00,  1.18551838e+00,  1.18688333e+00],\n",
       "          [ 1.19755971e+00,  1.19672024e+00,  1.19467032e+00, ...,\n",
       "            1.19753683e+00,  1.19782329e+00,  1.19854021e+00],\n",
       "          [            nan,             nan,             nan, ...,\n",
       "                       nan,             nan,             nan]]]]],\n",
       "      dtype=float32)</pre></div></li></ul></div></li><li class='xr-section-item'><input id='section-a3113610-3d47-45dc-8aeb-0f83feef5f0d' class='xr-section-summary-in' type='checkbox'  ><label for='section-a3113610-3d47-45dc-8aeb-0f83feef5f0d' class='xr-section-summary' >Indexes: <span>(4)</span></label><div class='xr-section-inline-details'></div><div class='xr-section-details'><ul class='xr-var-list'><li class='xr-var-item'><div class='xr-index-name'><div>time</div></div><div class='xr-index-preview'>PandasIndex</div><div></div><input id='index-69ed0594-0c7e-4df2-a20a-1d69c433b4c6' class='xr-index-data-in' type='checkbox'/><label for='index-69ed0594-0c7e-4df2-a20a-1d69c433b4c6' title='Show/Hide index repr'><svg class='icon xr-icon-database'><use xlink:href='#icon-database'></use></svg></label><div class='xr-index-data'><pre>PandasIndex(CFTimeIndex([2007-07-02 12:00:00, 2008-07-02 00:00:00, 2009-07-02 12:00:00,\n",
       "             2010-07-02 12:00:00, 2011-07-02 12:00:00, 2012-07-02 00:00:00,\n",
       "             2013-07-02 12:00:00, 2014-07-02 12:00:00, 2015-07-02 12:00:00,\n",
       "             2016-07-02 00:00:00, 2017-07-02 12:00:00, 2018-07-02 12:00:00,\n",
       "             2019-07-02 12:00:00, 2020-07-02 00:00:00, 2021-07-02 12:00:00,\n",
       "             2022-07-02 12:00:00, 2023-07-02 12:00:00, 2024-07-02 00:00:00,\n",
       "             2025-07-02 12:00:00, 2026-07-02 12:00:00, 2027-07-02 12:00:00,\n",
       "             2028-07-02 00:00:00, 2029-07-02 12:00:00, 2030-07-02 12:00:00,\n",
       "             2031-07-02 12:00:00, 2032-07-02 00:00:00, 2033-07-02 12:00:00,\n",
       "             2034-07-02 12:00:00, 2035-07-02 12:00:00, 2036-07-02 00:00:00,\n",
       "             2037-07-02 12:00:00, 2038-07-02 12:00:00, 2039-07-02 12:00:00,\n",
       "             2040-07-02 00:00:00, 2041-07-02 12:00:00, 2042-07-02 12:00:00,\n",
       "             2043-07-02 12:00:00, 2044-07-02 00:00:00, 2045-07-02 12:00:00,\n",
       "             2046-07-02 12:00:00, 2047-07-02 12:00:00, 2048-07-02 00:00:00,\n",
       "             2049-07-02 12:00:00, 2050-07-02 12:00:00, 2051-07-02 12:00:00,\n",
       "             2052-07-02 00:00:00, 2053-07-02 12:00:00, 2054-07-02 12:00:00,\n",
       "             2055-07-02 12:00:00, 2056-07-02 00:00:00, 2057-07-02 12:00:00,\n",
       "             2058-07-02 12:00:00, 2059-07-02 12:00:00, 2060-07-02 00:00:00,\n",
       "             2061-07-02 12:00:00, 2062-07-02 12:00:00, 2063-07-02 12:00:00,\n",
       "             2064-07-02 00:00:00, 2065-07-02 12:00:00, 2066-07-02 12:00:00,\n",
       "             2067-07-02 12:00:00, 2068-07-02 00:00:00, 2069-07-02 12:00:00,\n",
       "             2070-07-02 12:00:00, 2071-07-02 12:00:00, 2072-07-02 00:00:00,\n",
       "             2073-07-02 12:00:00, 2074-07-02 12:00:00, 2075-07-02 12:00:00,\n",
       "             2076-07-02 00:00:00, 2077-07-02 12:00:00, 2078-07-02 12:00:00,\n",
       "             2079-07-02 12:00:00, 2080-07-02 00:00:00, 2081-07-02 12:00:00,\n",
       "             2082-07-02 12:00:00, 2083-07-02 12:00:00, 2084-07-02 00:00:00,\n",
       "             2085-07-02 12:00:00, 2086-07-02 12:00:00, 2087-07-02 12:00:00,\n",
       "             2088-07-02 00:00:00, 2089-07-02 12:00:00, 2090-07-02 12:00:00,\n",
       "             2091-07-02 12:00:00, 2092-07-02 00:00:00, 2093-07-02 12:00:00,\n",
       "             2094-07-02 12:00:00, 2095-07-02 12:00:00, 2096-07-02 00:00:00,\n",
       "             2097-07-02 12:00:00, 2098-07-02 12:00:00, 2099-07-02 12:00:00,\n",
       "             2100-07-02 12:00:00],\n",
       "            dtype=&#x27;object&#x27;, length=94, calendar=&#x27;noleap&#x27;, freq=&#x27;None&#x27;))</pre></div></li><li class='xr-var-item'><div class='xr-index-name'><div>lat</div></div><div class='xr-index-preview'>PandasIndex</div><div></div><input id='index-32b61929-5ef3-4c6e-8951-97562351546e' class='xr-index-data-in' type='checkbox'/><label for='index-32b61929-5ef3-4c6e-8951-97562351546e' title='Show/Hide index repr'><svg class='icon xr-icon-database'><use xlink:href='#icon-database'></use></svg></label><div class='xr-index-data'><pre>PandasIndex(Index([-89.5, -88.5, -87.5, -86.5, -85.5, -84.5, -83.5, -82.5, -81.5, -80.5,\n",
       "       ...\n",
       "        80.5,  81.5,  82.5,  83.5,  84.5,  85.5,  86.5,  87.5,  88.5,  89.5],\n",
       "      dtype=&#x27;float64&#x27;, name=&#x27;lat&#x27;, length=180))</pre></div></li><li class='xr-var-item'><div class='xr-index-name'><div>lon</div></div><div class='xr-index-preview'>PandasIndex</div><div></div><input id='index-65ea64f9-afef-4920-9063-e759401d9e9c' class='xr-index-data-in' type='checkbox'/><label for='index-65ea64f9-afef-4920-9063-e759401d9e9c' title='Show/Hide index repr'><svg class='icon xr-icon-database'><use xlink:href='#icon-database'></use></svg></label><div class='xr-index-data'><pre>PandasIndex(Index([  0.5,   1.5,   2.5,   3.5,   4.5,   5.5,   6.5,   7.5,   8.5,   9.5,\n",
       "       ...\n",
       "       350.5, 351.5, 352.5, 353.5, 354.5, 355.5, 356.5, 357.5, 358.5, 359.5],\n",
       "      dtype=&#x27;float64&#x27;, name=&#x27;lon&#x27;, length=360))</pre></div></li><li class='xr-var-item'><div class='xr-index-name'><div>ensemble</div></div><div class='xr-index-preview'>PandasIndex</div><div></div><input id='index-c992ccad-3c34-4c15-a284-b7797001ca91' class='xr-index-data-in' type='checkbox'/><label for='index-c992ccad-3c34-4c15-a284-b7797001ca91' title='Show/Hide index repr'><svg class='icon xr-icon-database'><use xlink:href='#icon-database'></use></svg></label><div class='xr-index-data'><pre>PandasIndex(Index([5.0, 50.0, 95.0], dtype=&#x27;float64&#x27;, name=&#x27;ensemble&#x27;))</pre></div></li></ul></div></li><li class='xr-section-item'><input id='section-2de21c2d-5e7c-4482-89e5-126aeacda650' class='xr-section-summary-in' type='checkbox'  ><label for='section-2de21c2d-5e7c-4482-89e5-126aeacda650' class='xr-section-summary' >Attributes: <span>(24)</span></label><div class='xr-section-inline-details'></div><div class='xr-section-details'><dl class='xr-attrs'><dt><span>history :</span></dt><dd>version 5, 27-March-2014</dd><dt><span>contact :</span></dt><dd>mark.carson@zmaw.de</dd><dt><span>references :</span></dt><dd>IPCC AR5 WGI, Chapter 13, and Chapter 13: Supplementary Material; www.climatechange2013.org</dd><dt><span>TITLE :</span></dt><dd>Sea level rise from AR5</dd><dt><span>TITLE_ABBREVIATION :</span></dt><dd>ar5_slr</dd><dt><span>DESCRIPTION :</span></dt><dd>These are the relative sea surface height (SSH) data, which was used in the construction of figures for the Fifth Assessment Report of the Intergovernmental Panel on Climate Change (IPCC-AR5). The data include 10 geophysical sources that drive long-term changes in relative SSH; 5 ice components, 3 ocean-related components, land water storage and glacial isostatic adjustment.</dd><dt><span>SHORT_DESCRIPTION :</span></dt><dd>Regional sea level data from IPCC AR5 distributed in netCDF format by the Integrated Climate Data CenterICDC, CEN, University of Hamburg, Hamburg, Germany.</dd><dt><span>INSTITUTION :</span></dt><dd>Institute of Oceanography / CEN / University of Hamburg</dd><dt><span>PROVIDERS :</span></dt><dd>{&quot;name&quot;: &quot;Institute of Oceanography / CEN / University of Hamburg&quot;, &quot;url&quot;: &quot;https://www.cen.uni-hamburg.de&quot;, &quot;roles&quot;: &quot;provider&quot;, &quot;description&quot;: &quot;The Center for Earth System Research and Sustainability (CEN) is a central research center at Universit\\u00e4t Hamburg and part of the local network KlimaCampus Hamburg. CEN links the natural and social sciences in research, research-driven education and support for young researchers. The goal is to work together to address overarching scientific issues.&quot;}</dd><dt><span>HISTORY :</span></dt><dd>[&#x27;Institute of Oceanography / CEN / University of Hamburg&#x27;, &#x27;IPCC WG1 AR5 Chapter 13 Sea Level Change&#x27;]</dd><dt><span>MEDIA_TYPE :</span></dt><dd>APPLICATION/NETCDF</dd><dt><span>SPATIAL_EXTENT :</span></dt><dd>[-180, -90, 180, 90]</dd><dt><span>TEMPORAL_EXTENT :</span></dt><dd>[&#x27;2007-01-01T00:00:00Z&#x27;, &#x27;2100-01-01T00:00:00Z&#x27;]</dd><dt><span>LICENSE :</span></dt><dd>Creative Commons Attribution 4.0 International</dd><dt><span>AUTHOR :</span></dt><dd>J. A. Church, P. Clark, A. Cazenave, J. Gregory, S. Jevrejeva, A. Levermann, M. Merrifield, G. Milne, R. S. Nerem, P. Nunn, A. Payne, W. Pfeffer, D. Stammer, and A. Unnikrishnan</dd><dt><span>KEYWORDS :</span></dt><dd>[&#x27;sea level rise&#x27;, &#x27;projections&#x27;, &#x27;AR5&#x27;, &#x27;IPCC&#x27;]</dd><dt><span>TAGS :</span></dt><dd>[&#x27;sea level rise&#x27;, &#x27;projections&#x27;, &#x27;AR5&#x27;, &#x27;IPCC&#x27;]</dd><dt><span>CITATION :</span></dt><dd>J. A. Church, P. Clark, A. Cazenave, J. Gregory, S. Jevrejeva, A. Levermann, M. Merrifield, G. Milne, R. S. Nerem, P. Nunn, A. Payne, W. Pfeffer, D. Stammer, and A. Unnikrishnan (2013), Sea level change, in Climate Change 2013: The Physical Science Basis, edited by T. F. Stocker, D. Qin, G.-K. Plattner, M. Tignor, S. Allen, J. Boschung, A. Nauels, Y. Xia, V. Bex, and P. Midgley, Cambridge University Press, Cambridge, UK and New York, NY. USA.</dd><dt><span>DOI :</span></dt><dd>http://www.climatechange2013.org/images/report/WG1AR5_Ch13SM_FINAL.pdf</dd><dt><span>LONG_NAME :</span></dt><dd>IPCC_AR5_SLR</dd><dt><span>UNITS :</span></dt><dd>m</dd><dt><span>COMMENT :</span></dt><dd>Here are the files which contain the ocean and ice components, sums and uncertainties as used in preparing the IPCC AR5 report (2014), with some slight modifications.  One small choice I made here was to combine the ocean and inverse barometer effect into one field, both for the mean and the uncertainty.  I also have provided better smoothed maps for the *time series* (the 20-mean-difference maps are the same as in the report).  This actually shouldn&#x27;t be the cause for any difference in the report figures, as I didn&#x27;t use this field for anything but the coastal stations in Fig. 13.23, and they have the same interpolation scheme at the coast now, just a better interpolation scheme in the open ocean (bilinear; not shown in any figure in the report). One thing to note: I made a choice as to how to provide the 5% and 95% (upper and lower 90 %% confidence interval) uncertainty estimates for the various fields.  I have provided the maps of these similar to the way Jonathan Gregory provided the time series to me, as the individual component upper and lower bounds. However, to combine these errors in the same way as in the report, you will need to take the difference between the upper bound and the middle value (for combining the upper uncertainty total estimate) or the lower bound and middle value (for combining the lower uncertainty total estimate), and use the formula shown in the Supplementary Material for Chapter 13 of the AR5 (SM13) - minus the IBE which is combined with the ocean field here.</dd><dt><span>CRS :</span></dt><dd>EPSG:4326</dd><dt><span>Conventions :</span></dt><dd>CF-1.8</dd></dl></div></li></ul></div></div>"
      ],
      "text/plain": [
       "<xarray.Dataset>\n",
       "Dimensions:    (time: 94, nv: 2, lat: 180, lon: 360, nscenarios: 3, ensemble: 3)\n",
       "Coordinates:\n",
       "  * time       (time) object 2007-07-02 12:00:00 ... 2100-07-02 12:00:00\n",
       "    time_bnds  (time, nv) object 2007-01-01 00:00:00 ... 2101-01-01 00:00:00\n",
       "  * lat        (lat) float64 -89.5 -88.5 -87.5 -86.5 ... 86.5 87.5 88.5 89.5\n",
       "  * lon        (lon) float64 0.5 1.5 2.5 3.5 4.5 ... 356.5 357.5 358.5 359.5\n",
       "    scenarios  (nscenarios) |S5 b'RCP26' b'RCP45' b'RCP85'\n",
       "  * ensemble   (ensemble) float64 5.0 50.0 95.0\n",
       "Dimensions without coordinates: nv, nscenarios\n",
       "Data variables:\n",
       "    slr        (ensemble, nscenarios, time, lat, lon) float32 nan nan ... nan\n",
       "Attributes: (12/24)\n",
       "    history:             version 5, 27-March-2014\n",
       "    contact:             mark.carson@zmaw.de\n",
       "    references:          IPCC AR5 WGI, Chapter 13, and Chapter 13: Supplement...\n",
       "    TITLE:               Sea level rise from AR5\n",
       "    TITLE_ABBREVIATION:  ar5_slr\n",
       "    DESCRIPTION:         These are the relative sea surface height (SSH) data...\n",
       "    ...                  ...\n",
       "    DOI:                 http://www.climatechange2013.org/images/report/WG1AR...\n",
       "    LONG_NAME:           IPCC_AR5_SLR\n",
       "    UNITS:               m\n",
       "    COMMENT:             Here are the files which contain the ocean and ice c...\n",
       "    CRS:                 EPSG:4326\n",
       "    Conventions:         CF-1.8"
      ]
     },
     "execution_count": 16,
     "metadata": {},
     "output_type": "execute_result"
    },
    {
     "data": {
      "application/javascript": "\n            setTimeout(function() {\n                var nbb_cell_id = 16;\n                var nbb_unformatted_code = \"# check the xarray dataset, best practice is to have as many as possible bold dimensions (dimension == coordinate name).\\n# in this way, the Front-End can access the variable directly without having to index the variable first\\n\\n# assign ds_list_new sets again to variables\\nds_26rcp = ds_list_new[0]\\nds_45rcp = ds_list_new[1]\\nds_85rcp = ds_list_new[2]\\ndataset = ds_list_new[3]\\n\\ndataset\\n# dataset[\\\"nscenarios\\\"]\";\n                var nbb_formatted_code = \"# check the xarray dataset, best practice is to have as many as possible bold dimensions (dimension == coordinate name).\\n# in this way, the Front-End can access the variable directly without having to index the variable first\\n\\n# assign ds_list_new sets again to variables\\nds_26rcp = ds_list_new[0]\\nds_45rcp = ds_list_new[1]\\nds_85rcp = ds_list_new[2]\\ndataset = ds_list_new[3]\\n\\ndataset\\n# dataset[\\\"nscenarios\\\"]\";\n                var nbb_cells = Jupyter.notebook.get_cells();\n                for (var i = 0; i < nbb_cells.length; ++i) {\n                    if (nbb_cells[i].input_prompt_number == nbb_cell_id) {\n                        if (nbb_cells[i].get_text() == nbb_unformatted_code) {\n                             nbb_cells[i].set_text(nbb_formatted_code);\n                        }\n                        break;\n                    }\n                }\n            }, 500);\n            ",
      "text/plain": [
       "<IPython.core.display.Javascript object>"
      ]
     },
     "metadata": {},
     "output_type": "display_data"
    }
   ],
   "source": [
    "# check the xarray dataset, best practice is to have as many as possible bold dimensions (dimension == coordinate name).\n",
    "# in this way, the Front-End can access the variable directly without having to index the variable first\n",
    "\n",
    "# assign ds_list_new sets again to variables\n",
    "ds_26rcp = ds_list_new[0]\n",
    "ds_45rcp = ds_list_new[1]\n",
    "ds_85rcp = ds_list_new[2]\n",
    "dataset = ds_list_new[3]\n",
    "\n",
    "dataset\n",
    "# dataset[\"nscenarios\"]"
   ]
  },
  {
   "cell_type": "code",
   "execution_count": 17,
   "id": "54b51c64",
   "metadata": {},
   "outputs": [
    {
     "data": {
      "application/javascript": "\n            setTimeout(function() {\n                var nbb_cell_id = 17;\n                var nbb_unformatted_code = \"# save new .nc files\\nds_26rcp.to_netcdf(path=str(ds_rcp26_path).replace(\\\".nc\\\", \\\"_CF.nc\\\"))\\nds_45rcp.to_netcdf(path=str(ds_rcp45_path).replace(\\\".nc\\\", \\\"_CF.nc\\\"))\\nds_85rcp.to_netcdf(path=str(ds_rcp85_path).replace(\\\".nc\\\", \\\"_CF.nc\\\"))\\ndataset.to_netcdf(path=ds_dir.joinpath(ds_out_file + \\\"_CF.nc\\\"))\";\n                var nbb_formatted_code = \"# save new .nc files\\nds_26rcp.to_netcdf(path=str(ds_rcp26_path).replace(\\\".nc\\\", \\\"_CF.nc\\\"))\\nds_45rcp.to_netcdf(path=str(ds_rcp45_path).replace(\\\".nc\\\", \\\"_CF.nc\\\"))\\nds_85rcp.to_netcdf(path=str(ds_rcp85_path).replace(\\\".nc\\\", \\\"_CF.nc\\\"))\\ndataset.to_netcdf(path=ds_dir.joinpath(ds_out_file + \\\"_CF.nc\\\"))\";\n                var nbb_cells = Jupyter.notebook.get_cells();\n                for (var i = 0; i < nbb_cells.length; ++i) {\n                    if (nbb_cells[i].input_prompt_number == nbb_cell_id) {\n                        if (nbb_cells[i].get_text() == nbb_unformatted_code) {\n                             nbb_cells[i].set_text(nbb_formatted_code);\n                        }\n                        break;\n                    }\n                }\n            }, 500);\n            ",
      "text/plain": [
       "<IPython.core.display.Javascript object>"
      ]
     },
     "metadata": {},
     "output_type": "display_data"
    }
   ],
   "source": [
    "# save new .nc files\n",
    "ds_26rcp.to_netcdf(path=str(ds_rcp26_path).replace(\".nc\", \"_CF.nc\"))\n",
    "ds_45rcp.to_netcdf(path=str(ds_rcp45_path).replace(\".nc\", \"_CF.nc\"))\n",
    "ds_85rcp.to_netcdf(path=str(ds_rcp85_path).replace(\".nc\", \"_CF.nc\"))\n",
    "dataset.to_netcdf(path=ds_dir.joinpath(ds_out_file + \"_CF.nc\"))"
   ]
  },
  {
   "attachments": {},
   "cell_type": "markdown",
   "id": "f4db3707",
   "metadata": {},
   "source": [
    "### Check CF compliancy altered NetCDF files"
   ]
  },
  {
   "cell_type": "code",
   "execution_count": 18,
   "id": "088dca7e",
   "metadata": {},
   "outputs": [
    {
     "data": {
      "application/javascript": "\n            setTimeout(function() {\n                var nbb_cell_id = 18;\n                var nbb_unformatted_code = \"%%capture cap --no-stderr\\n# check altered CF compliancy\\n\\ncheck_compliancy(testfile=str(ds_rcp26_path).replace(\\\".nc\\\", \\\"_CF.nc\\\"), working_dir=CF_dir)\";\n                var nbb_formatted_code = \"%%capture cap --no-stderr\\n# check altered CF compliancy\\n\\ncheck_compliancy(testfile=str(ds_rcp26_path).replace(\\\".nc\\\", \\\"_CF.nc\\\"), working_dir=CF_dir)\";\n                var nbb_cells = Jupyter.notebook.get_cells();\n                for (var i = 0; i < nbb_cells.length; ++i) {\n                    if (nbb_cells[i].input_prompt_number == nbb_cell_id) {\n                        if (nbb_cells[i].get_text() == nbb_unformatted_code) {\n                             nbb_cells[i].set_text(nbb_formatted_code);\n                        }\n                        break;\n                    }\n                }\n            }, 500);\n            ",
      "text/plain": [
       "<IPython.core.display.Javascript object>"
      ]
     },
     "metadata": {},
     "output_type": "display_data"
    }
   ],
   "source": [
    "%%capture cap --no-stderr\n",
    "# check altered CF compliancy\n",
    "\n",
    "check_compliancy(testfile=str(ds_rcp26_path).replace(\".nc\", \"_CF.nc\"), working_dir=CF_dir)"
   ]
  },
  {
   "cell_type": "code",
   "execution_count": 19,
   "id": "a9ab416b",
   "metadata": {},
   "outputs": [
    {
     "name": "stdout",
     "output_type": "stream",
     "text": [
      "{'P:\\\\11205479-coclico\\\\FASTTRACK_DATA\\\\18_AR5_SLP_IPCC\\\\total-ens-slr-26-5_CF.nc': {'warnings': '0', 'errors': '0'}}\n"
     ]
    },
    {
     "data": {
      "application/javascript": "\n            setTimeout(function() {\n                var nbb_cell_id = 19;\n                var nbb_unformatted_code = \"# save altered CF compliancy\\nsave_compliancy(\\n    cap, testfile=str(ds_rcp26_path).replace(\\\".nc\\\", \\\"_CF.nc\\\"), working_dir=CF_dir,\\n)\";\n                var nbb_formatted_code = \"# save altered CF compliancy\\nsave_compliancy(\\n    cap,\\n    testfile=str(ds_rcp26_path).replace(\\\".nc\\\", \\\"_CF.nc\\\"),\\n    working_dir=CF_dir,\\n)\";\n                var nbb_cells = Jupyter.notebook.get_cells();\n                for (var i = 0; i < nbb_cells.length; ++i) {\n                    if (nbb_cells[i].input_prompt_number == nbb_cell_id) {\n                        if (nbb_cells[i].get_text() == nbb_unformatted_code) {\n                             nbb_cells[i].set_text(nbb_formatted_code);\n                        }\n                        break;\n                    }\n                }\n            }, 500);\n            ",
      "text/plain": [
       "<IPython.core.display.Javascript object>"
      ]
     },
     "metadata": {},
     "output_type": "display_data"
    }
   ],
   "source": [
    "# save altered CF compliancy\n",
    "save_compliancy(\n",
    "    cap, testfile=str(ds_rcp26_path).replace(\".nc\", \"_CF.nc\"), working_dir=CF_dir,\n",
    ")"
   ]
  },
  {
   "cell_type": "code",
   "execution_count": 20,
   "id": "e95bd5b5",
   "metadata": {},
   "outputs": [
    {
     "data": {
      "application/javascript": "\n            setTimeout(function() {\n                var nbb_cell_id = 20;\n                var nbb_unformatted_code = \"%%capture cap --no-stderr\\n# check altered CF compliancy\\n\\ncheck_compliancy(testfile=str(ds_rcp45_path).replace(\\\".nc\\\", \\\"_CF.nc\\\"), working_dir=CF_dir)\";\n                var nbb_formatted_code = \"%%capture cap --no-stderr\\n# check altered CF compliancy\\n\\ncheck_compliancy(testfile=str(ds_rcp45_path).replace(\\\".nc\\\", \\\"_CF.nc\\\"), working_dir=CF_dir)\";\n                var nbb_cells = Jupyter.notebook.get_cells();\n                for (var i = 0; i < nbb_cells.length; ++i) {\n                    if (nbb_cells[i].input_prompt_number == nbb_cell_id) {\n                        if (nbb_cells[i].get_text() == nbb_unformatted_code) {\n                             nbb_cells[i].set_text(nbb_formatted_code);\n                        }\n                        break;\n                    }\n                }\n            }, 500);\n            ",
      "text/plain": [
       "<IPython.core.display.Javascript object>"
      ]
     },
     "metadata": {},
     "output_type": "display_data"
    }
   ],
   "source": [
    "%%capture cap --no-stderr\n",
    "# check altered CF compliancy\n",
    "\n",
    "check_compliancy(testfile=str(ds_rcp45_path).replace(\".nc\", \"_CF.nc\"), working_dir=CF_dir)"
   ]
  },
  {
   "cell_type": "code",
   "execution_count": 21,
   "id": "213576cb",
   "metadata": {},
   "outputs": [
    {
     "name": "stdout",
     "output_type": "stream",
     "text": [
      "{'P:\\\\11205479-coclico\\\\FASTTRACK_DATA\\\\18_AR5_SLP_IPCC\\\\total-ens-slr-45-5_CF.nc': {'warnings': '0', 'errors': '0'}}\n"
     ]
    },
    {
     "data": {
      "application/javascript": "\n            setTimeout(function() {\n                var nbb_cell_id = 21;\n                var nbb_unformatted_code = \"# save altered CF compliancy\\nsave_compliancy(\\n    cap, testfile=str(ds_rcp45_path).replace(\\\".nc\\\", \\\"_CF.nc\\\"), working_dir=CF_dir,\\n)\";\n                var nbb_formatted_code = \"# save altered CF compliancy\\nsave_compliancy(\\n    cap,\\n    testfile=str(ds_rcp45_path).replace(\\\".nc\\\", \\\"_CF.nc\\\"),\\n    working_dir=CF_dir,\\n)\";\n                var nbb_cells = Jupyter.notebook.get_cells();\n                for (var i = 0; i < nbb_cells.length; ++i) {\n                    if (nbb_cells[i].input_prompt_number == nbb_cell_id) {\n                        if (nbb_cells[i].get_text() == nbb_unformatted_code) {\n                             nbb_cells[i].set_text(nbb_formatted_code);\n                        }\n                        break;\n                    }\n                }\n            }, 500);\n            ",
      "text/plain": [
       "<IPython.core.display.Javascript object>"
      ]
     },
     "metadata": {},
     "output_type": "display_data"
    }
   ],
   "source": [
    "# save altered CF compliancy\n",
    "save_compliancy(\n",
    "    cap, testfile=str(ds_rcp45_path).replace(\".nc\", \"_CF.nc\"), working_dir=CF_dir,\n",
    ")"
   ]
  },
  {
   "cell_type": "code",
   "execution_count": 22,
   "id": "55fb58d8",
   "metadata": {},
   "outputs": [
    {
     "data": {
      "application/javascript": "\n            setTimeout(function() {\n                var nbb_cell_id = 22;\n                var nbb_unformatted_code = \"%%capture cap --no-stderr\\n# check altered CF compliancy\\n\\ncheck_compliancy(testfile=str(ds_rcp85_path).replace(\\\".nc\\\", \\\"_CF.nc\\\"), working_dir=CF_dir)\";\n                var nbb_formatted_code = \"%%capture cap --no-stderr\\n# check altered CF compliancy\\n\\ncheck_compliancy(testfile=str(ds_rcp85_path).replace(\\\".nc\\\", \\\"_CF.nc\\\"), working_dir=CF_dir)\";\n                var nbb_cells = Jupyter.notebook.get_cells();\n                for (var i = 0; i < nbb_cells.length; ++i) {\n                    if (nbb_cells[i].input_prompt_number == nbb_cell_id) {\n                        if (nbb_cells[i].get_text() == nbb_unformatted_code) {\n                             nbb_cells[i].set_text(nbb_formatted_code);\n                        }\n                        break;\n                    }\n                }\n            }, 500);\n            ",
      "text/plain": [
       "<IPython.core.display.Javascript object>"
      ]
     },
     "metadata": {},
     "output_type": "display_data"
    }
   ],
   "source": [
    "%%capture cap --no-stderr\n",
    "# check altered CF compliancy\n",
    "\n",
    "check_compliancy(testfile=str(ds_rcp85_path).replace(\".nc\", \"_CF.nc\"), working_dir=CF_dir)"
   ]
  },
  {
   "cell_type": "code",
   "execution_count": 23,
   "id": "f46a214b",
   "metadata": {},
   "outputs": [
    {
     "name": "stdout",
     "output_type": "stream",
     "text": [
      "{'P:\\\\11205479-coclico\\\\FASTTRACK_DATA\\\\18_AR5_SLP_IPCC\\\\total-ens-slr-85-5_CF.nc': {'warnings': '0', 'errors': '0'}}\n"
     ]
    },
    {
     "data": {
      "application/javascript": "\n            setTimeout(function() {\n                var nbb_cell_id = 23;\n                var nbb_unformatted_code = \"# save altered CF compliancy\\nsave_compliancy(\\n    cap, testfile=str(ds_rcp85_path).replace(\\\".nc\\\", \\\"_CF.nc\\\"), working_dir=CF_dir,\\n)\";\n                var nbb_formatted_code = \"# save altered CF compliancy\\nsave_compliancy(\\n    cap,\\n    testfile=str(ds_rcp85_path).replace(\\\".nc\\\", \\\"_CF.nc\\\"),\\n    working_dir=CF_dir,\\n)\";\n                var nbb_cells = Jupyter.notebook.get_cells();\n                for (var i = 0; i < nbb_cells.length; ++i) {\n                    if (nbb_cells[i].input_prompt_number == nbb_cell_id) {\n                        if (nbb_cells[i].get_text() == nbb_unformatted_code) {\n                             nbb_cells[i].set_text(nbb_formatted_code);\n                        }\n                        break;\n                    }\n                }\n            }, 500);\n            ",
      "text/plain": [
       "<IPython.core.display.Javascript object>"
      ]
     },
     "metadata": {},
     "output_type": "display_data"
    }
   ],
   "source": [
    "# save altered CF compliancy\n",
    "save_compliancy(\n",
    "    cap, testfile=str(ds_rcp85_path).replace(\".nc\", \"_CF.nc\"), working_dir=CF_dir,\n",
    ")"
   ]
  },
  {
   "cell_type": "code",
   "execution_count": 24,
   "id": "93338230",
   "metadata": {},
   "outputs": [
    {
     "data": {
      "application/javascript": "\n            setTimeout(function() {\n                var nbb_cell_id = 24;\n                var nbb_unformatted_code = \"%%capture cap --no-stderr\\n# check altered CF compliancy\\n\\ncheck_compliancy(testfile=ds_dir.joinpath(ds_out_file + \\\"_CF.nc\\\"), working_dir=CF_dir)\";\n                var nbb_formatted_code = \"%%capture cap --no-stderr\\n# check altered CF compliancy\\n\\ncheck_compliancy(testfile=ds_dir.joinpath(ds_out_file + \\\"_CF.nc\\\"), working_dir=CF_dir)\";\n                var nbb_cells = Jupyter.notebook.get_cells();\n                for (var i = 0; i < nbb_cells.length; ++i) {\n                    if (nbb_cells[i].input_prompt_number == nbb_cell_id) {\n                        if (nbb_cells[i].get_text() == nbb_unformatted_code) {\n                             nbb_cells[i].set_text(nbb_formatted_code);\n                        }\n                        break;\n                    }\n                }\n            }, 500);\n            ",
      "text/plain": [
       "<IPython.core.display.Javascript object>"
      ]
     },
     "metadata": {},
     "output_type": "display_data"
    }
   ],
   "source": [
    "%%capture cap --no-stderr\n",
    "# check altered CF compliancy\n",
    "\n",
    "check_compliancy(testfile=ds_dir.joinpath(ds_out_file + \"_CF.nc\"), working_dir=CF_dir)"
   ]
  },
  {
   "cell_type": "code",
   "execution_count": 25,
   "id": "7b988887",
   "metadata": {},
   "outputs": [
    {
     "name": "stdout",
     "output_type": "stream",
     "text": [
      "{'P:\\\\11205479-coclico\\\\FASTTRACK_DATA\\\\18_AR5_SLP_IPCC\\\\total-ens-slr_CF.nc': {'warnings': '0', 'errors': '0'}}\n"
     ]
    },
    {
     "data": {
      "application/javascript": "\n            setTimeout(function() {\n                var nbb_cell_id = 25;\n                var nbb_unformatted_code = \"# save altered CF compliancy\\nsave_compliancy(\\n    cap, testfile=ds_dir.joinpath(ds_out_file + \\\"_CF.nc\\\"), working_dir=CF_dir,\\n)\";\n                var nbb_formatted_code = \"# save altered CF compliancy\\nsave_compliancy(\\n    cap,\\n    testfile=ds_dir.joinpath(ds_out_file + \\\"_CF.nc\\\"),\\n    working_dir=CF_dir,\\n)\";\n                var nbb_cells = Jupyter.notebook.get_cells();\n                for (var i = 0; i < nbb_cells.length; ++i) {\n                    if (nbb_cells[i].input_prompt_number == nbb_cell_id) {\n                        if (nbb_cells[i].get_text() == nbb_unformatted_code) {\n                             nbb_cells[i].set_text(nbb_formatted_code);\n                        }\n                        break;\n                    }\n                }\n            }, 500);\n            ",
      "text/plain": [
       "<IPython.core.display.Javascript object>"
      ]
     },
     "metadata": {},
     "output_type": "display_data"
    }
   ],
   "source": [
    "# save altered CF compliancy\n",
    "save_compliancy(\n",
    "    cap, testfile=ds_dir.joinpath(ds_out_file + \"_CF.nc\"), working_dir=CF_dir,\n",
    ")"
   ]
  },
  {
   "attachments": {},
   "cell_type": "markdown",
   "id": "beec081e",
   "metadata": {},
   "source": [
    "### write data to Zarr files (not used)"
   ]
  },
  {
   "cell_type": "code",
   "execution_count": 34,
   "id": "6ba75d19",
   "metadata": {},
   "outputs": [
    {
     "data": {
      "application/javascript": "\n            setTimeout(function() {\n                var nbb_cell_id = 34;\n                var nbb_unformatted_code = \"# export to zarr in write mode (to overwrite if exists)\\n#dataset.to_zarr(ds_dir.joinpath(\\\"%s.zarr\\\" % ds_out_file), mode=\\\"w\\\")\";\n                var nbb_formatted_code = \"# export to zarr in write mode (to overwrite if exists)\\n# dataset.to_zarr(ds_dir.joinpath(\\\"%s.zarr\\\" % ds_out_file), mode=\\\"w\\\")\";\n                var nbb_cells = Jupyter.notebook.get_cells();\n                for (var i = 0; i < nbb_cells.length; ++i) {\n                    if (nbb_cells[i].input_prompt_number == nbb_cell_id) {\n                        if (nbb_cells[i].get_text() == nbb_unformatted_code) {\n                             nbb_cells[i].set_text(nbb_formatted_code);\n                        }\n                        break;\n                    }\n                }\n            }, 500);\n            ",
      "text/plain": [
       "<IPython.core.display.Javascript object>"
      ]
     },
     "metadata": {},
     "output_type": "display_data"
    }
   ],
   "source": [
    "# export to zarr in write mode (to overwrite if exists)\n",
    "#dataset.to_zarr(ds_dir.joinpath(\"%s.zarr\" % ds_out_file), mode=\"w\")"
   ]
  },
  {
   "cell_type": "code",
   "execution_count": 27,
   "id": "2b17bcfb",
   "metadata": {},
   "outputs": [
    {
     "data": {
      "application/javascript": "\n            setTimeout(function() {\n                var nbb_cell_id = 27;\n                var nbb_unformatted_code = \"# check dataset\\n#ds_26rcp = xr.open_dataset(r\\\"p:\\\\11205479-coclico\\\\FASTTRACK_DATA\\\\18_AR5_SLP_IPCC\\\\total-ens-slr-26-5_CF.nc\\\")\";\n                var nbb_formatted_code = \"# check dataset\\n# ds_26rcp = xr.open_dataset(r\\\"p:\\\\11205479-coclico\\\\FASTTRACK_DATA\\\\18_AR5_SLP_IPCC\\\\total-ens-slr-26-5_CF.nc\\\")\";\n                var nbb_cells = Jupyter.notebook.get_cells();\n                for (var i = 0; i < nbb_cells.length; ++i) {\n                    if (nbb_cells[i].input_prompt_number == nbb_cell_id) {\n                        if (nbb_cells[i].get_text() == nbb_unformatted_code) {\n                             nbb_cells[i].set_text(nbb_formatted_code);\n                        }\n                        break;\n                    }\n                }\n            }, 500);\n            ",
      "text/plain": [
       "<IPython.core.display.Javascript object>"
      ]
     },
     "metadata": {},
     "output_type": "display_data"
    }
   ],
   "source": [
    "# check dataset\n",
    "#ds_26rcp = xr.open_dataset(r\"p:\\11205479-coclico\\FASTTRACK_DATA\\18_AR5_SLP_IPCC\\total-ens-slr-26-5_CF.nc\")"
   ]
  },
  {
   "attachments": {},
   "cell_type": "markdown",
   "id": "24925bf6",
   "metadata": {},
   "source": [
    "### Write data to CoG (CF compliant)"
   ]
  },
  {
   "cell_type": "code",
   "execution_count": 28,
   "id": "9c7c515f",
   "metadata": {},
   "outputs": [
    {
     "data": {
      "application/javascript": "\n            setTimeout(function() {\n                var nbb_cell_id = 28;\n                var nbb_unformatted_code = \"# function to convert time format\\nimport cftime\\ndef cftime_to_pdts(t: cftime._cftime) -> pd.Timestamp:\\n    return pd.Timestamp(\\n        t.year,\\n        t.month,\\n        t.day,\\n        t.hour,\\n        t.minute,\\n        t.second,\\n        t.microsecond,\\n    )\";\n                var nbb_formatted_code = \"# function to convert time format\\nimport cftime\\n\\n\\ndef cftime_to_pdts(t: cftime._cftime) -> pd.Timestamp:\\n    return pd.Timestamp(\\n        t.year,\\n        t.month,\\n        t.day,\\n        t.hour,\\n        t.minute,\\n        t.second,\\n        t.microsecond,\\n    )\";\n                var nbb_cells = Jupyter.notebook.get_cells();\n                for (var i = 0; i < nbb_cells.length; ++i) {\n                    if (nbb_cells[i].input_prompt_number == nbb_cell_id) {\n                        if (nbb_cells[i].get_text() == nbb_unformatted_code) {\n                             nbb_cells[i].set_text(nbb_formatted_code);\n                        }\n                        break;\n                    }\n                }\n            }, 500);\n            ",
      "text/plain": [
       "<IPython.core.display.Javascript object>"
      ]
     },
     "metadata": {},
     "output_type": "display_data"
    }
   ],
   "source": [
    "# function to convert time format\n",
    "import cftime\n",
    "def cftime_to_pdts(t: cftime._cftime) -> pd.Timestamp:\n",
    "    return pd.Timestamp(\n",
    "        t.year,\n",
    "        t.month,\n",
    "        t.day,\n",
    "        t.hour,\n",
    "        t.minute,\n",
    "        t.second,\n",
    "        t.microsecond,\n",
    "    )"
   ]
  },
  {
   "attachments": {},
   "cell_type": "markdown",
   "id": "40342a20",
   "metadata": {},
   "source": [
    "#### Single CoG test"
   ]
  },
  {
   "cell_type": "code",
   "execution_count": 29,
   "id": "d9ce96dd",
   "metadata": {},
   "outputs": [
    {
     "data": {
      "application/javascript": "\n            setTimeout(function() {\n                var nbb_cell_id = 29;\n                var nbb_unformatted_code = \"# hard-coded input params\\nENSEMBLE = 50.0 # selet ensemble\\nTIME = 0 # select timestep\\nVARIABLE = \\\"slr\\\" # select variable\\nRCP = 1 # select scenario\\n\\n# open the dataset\\nds_fp = ds_dir.joinpath(f\\\"total-ens-slr_CF.nc\\\")\\nds = xr.open_dataset(ds_fp)\\n\\n# make array 2d and fix time, spatial dimensions and crs\\nrds = ds.isel(time=TIME) #[VARIABLE] #.sel({\\\"ensemble\\\": ENSEMBLE})\\ntime_bounds = [\\n    cftime_to_pdts(t).strftime(\\\"%Y-%m-%d\\\") for t in rds.time_bnds.values\\n]\\ntime_name = \\\"_\\\".join([t for t in time_bounds])\\n\\nrds = rds.sel({\\\"ensemble\\\": ENSEMBLE, \\\"nscenarios\\\": RCP})[VARIABLE]\\nrds.rio.set_spatial_dims(x_dim=\\\"lon\\\", y_dim=\\\"lat\\\")\\nif not rds.rio.crs:\\n    rds = rds.rio.write_crs(\\\"EPSG:4326\\\")\\n\\n# reset some attributes\\nrds[\\\"time\\\"] = np.array(cftime_to_pdts(rds[\\\"time\\\"].item()).strftime(\\\"%Y-%m-%d %H:%M:%S\\\"), dtype=\\\"S\\\")\\nrds[\\\"time\\\"].attrs[\\\"standard_name\\\"] = \\\"time\\\"\\nrds[\\\"time_bnds\\\"] = np.array(time_name, dtype=\\\"S\\\")\\nrds[\\\"time_bnds\\\"].attrs[\\\"long_name\\\"] = \\\"time boundaries\\\"\\n\\n# encoding settings\\n# rds.time_bnds.encoding[\\n#     \\\"_FillValue\\\"\\n# ] = None  # xarray sets _FillValue automatically to None for float types, prevent this when needed\\n\\n# convert to dataset\\nrdsd = rds.to_dataset()\\n\\n# add all attributes (again)\\nfor attr_name, attr_val in meta_global.items():\\n    if attr_name == 'PROVIDERS':\\n        attr_val = json.dumps(attr_val)\\n    if attr_name == \\\"MEDIA_TYPE\\\": # change media type to tiff, leave the rest as is\\n        attr_val = \\\"IMAGE/TIFF\\\"\\n    rdsd.attrs[attr_name] = attr_val\\n\\nrdsd.attrs['Conventions'] = \\\"CF-1.8\\\"\\n\\nrcp_str = rdsd[\\\"scenarios\\\"].item().decode(\\\"utf-8\\\") # fix scenario string\\n\\n# export file\\nfname = f\\\"{VARIABLE}_{rcp_str}_ens{int(ENSEMBLE)}_time{TIME}_CF.GeoTiff\\\"\\noutpath = cog_dir.joinpath(fname)\\nrdsd.rio.to_raster(outpath, driver=\\\"GTiff\\\")\";\n                var nbb_formatted_code = \"# hard-coded input params\\nENSEMBLE = 50.0  # selet ensemble\\nTIME = 0  # select timestep\\nVARIABLE = \\\"slr\\\"  # select variable\\nRCP = 1  # select scenario\\n\\n# open the dataset\\nds_fp = ds_dir.joinpath(f\\\"total-ens-slr_CF.nc\\\")\\nds = xr.open_dataset(ds_fp)\\n\\n# make array 2d and fix time, spatial dimensions and crs\\nrds = ds.isel(time=TIME)  # [VARIABLE] #.sel({\\\"ensemble\\\": ENSEMBLE})\\ntime_bounds = [cftime_to_pdts(t).strftime(\\\"%Y-%m-%d\\\") for t in rds.time_bnds.values]\\ntime_name = \\\"_\\\".join([t for t in time_bounds])\\n\\nrds = rds.sel({\\\"ensemble\\\": ENSEMBLE, \\\"nscenarios\\\": RCP})[VARIABLE]\\nrds.rio.set_spatial_dims(x_dim=\\\"lon\\\", y_dim=\\\"lat\\\")\\nif not rds.rio.crs:\\n    rds = rds.rio.write_crs(\\\"EPSG:4326\\\")\\n\\n# reset some attributes\\nrds[\\\"time\\\"] = np.array(\\n    cftime_to_pdts(rds[\\\"time\\\"].item()).strftime(\\\"%Y-%m-%d %H:%M:%S\\\"), dtype=\\\"S\\\"\\n)\\nrds[\\\"time\\\"].attrs[\\\"standard_name\\\"] = \\\"time\\\"\\nrds[\\\"time_bnds\\\"] = np.array(time_name, dtype=\\\"S\\\")\\nrds[\\\"time_bnds\\\"].attrs[\\\"long_name\\\"] = \\\"time boundaries\\\"\\n\\n# encoding settings\\n# rds.time_bnds.encoding[\\n#     \\\"_FillValue\\\"\\n# ] = None  # xarray sets _FillValue automatically to None for float types, prevent this when needed\\n\\n# convert to dataset\\nrdsd = rds.to_dataset()\\n\\n# add all attributes (again)\\nfor attr_name, attr_val in meta_global.items():\\n    if attr_name == \\\"PROVIDERS\\\":\\n        attr_val = json.dumps(attr_val)\\n    if attr_name == \\\"MEDIA_TYPE\\\":  # change media type to tiff, leave the rest as is\\n        attr_val = \\\"IMAGE/TIFF\\\"\\n    rdsd.attrs[attr_name] = attr_val\\n\\nrdsd.attrs[\\\"Conventions\\\"] = \\\"CF-1.8\\\"\\n\\nrcp_str = rdsd[\\\"scenarios\\\"].item().decode(\\\"utf-8\\\")  # fix scenario string\\n\\n# export file\\nfname = f\\\"{VARIABLE}_{rcp_str}_ens{int(ENSEMBLE)}_time{TIME}_CF.GeoTiff\\\"\\noutpath = cog_dir.joinpath(fname)\\nrdsd.rio.to_raster(outpath, driver=\\\"GTiff\\\")\";\n                var nbb_cells = Jupyter.notebook.get_cells();\n                for (var i = 0; i < nbb_cells.length; ++i) {\n                    if (nbb_cells[i].input_prompt_number == nbb_cell_id) {\n                        if (nbb_cells[i].get_text() == nbb_unformatted_code) {\n                             nbb_cells[i].set_text(nbb_formatted_code);\n                        }\n                        break;\n                    }\n                }\n            }, 500);\n            ",
      "text/plain": [
       "<IPython.core.display.Javascript object>"
      ]
     },
     "metadata": {},
     "output_type": "display_data"
    }
   ],
   "source": [
    "# check CoG for one set of params\n",
    "\n",
    "# hard-coded input params\n",
    "ENSEMBLE = 50.0 # selet ensemble\n",
    "TIME = 0 # select timestep\n",
    "VARIABLE = \"slr\" # select variable\n",
    "RCP = 1 # select scenario\n",
    "\n",
    "# open the dataset\n",
    "ds_fp = ds_dir.joinpath(f\"total-ens-slr_CF.nc\")\n",
    "ds = xr.open_dataset(ds_fp)\n",
    "\n",
    "# make array 2d and fix time, spatial dimensions and crs\n",
    "rds = ds.isel(time=TIME) \n",
    "time_bounds = [\n",
    "    cftime_to_pdts(t).strftime(\"%Y-%m-%d\") for t in rds.time_bnds.values\n",
    "]\n",
    "time_name = \"_\".join([t for t in time_bounds])\n",
    "\n",
    "rds = rds.sel({\"ensemble\": ENSEMBLE, \"nscenarios\": RCP})[VARIABLE]\n",
    "rds.rio.set_spatial_dims(x_dim=\"lon\", y_dim=\"lat\")\n",
    "if not rds.rio.crs:\n",
    "    rds = rds.rio.write_crs(\"EPSG:4326\")\n",
    "\n",
    "# reset some attributes\n",
    "rds[\"time\"] = np.array(cftime_to_pdts(rds[\"time\"].item()).strftime(\"%Y-%m-%d %H:%M:%S\"), dtype=\"S\")\n",
    "rds[\"time\"].attrs[\"standard_name\"] = \"time\"\n",
    "rds[\"time_bnds\"] = np.array(time_name, dtype=\"S\")\n",
    "rds[\"time_bnds\"].attrs[\"long_name\"] = \"time boundaries\"\n",
    "\n",
    "# convert to dataset\n",
    "rdsd = rds.to_dataset()\n",
    "\n",
    "# add all attributes (again)\n",
    "for attr_name, attr_val in meta_global.items():\n",
    "    if attr_name == 'PROVIDERS':\n",
    "        attr_val = json.dumps(attr_val)\n",
    "    if attr_name == \"MEDIA_TYPE\": # change media type to tiff, leave the rest as is\n",
    "        attr_val = \"IMAGE/TIFF\"\n",
    "    rdsd.attrs[attr_name] = attr_val\n",
    "\n",
    "rdsd.attrs['Conventions'] = \"CF-1.8\"\n",
    "\n",
    "# export file\n",
    "rcp_str = rdsd[\"scenarios\"].item().decode(\"utf-8\") # fix scenario string\n",
    "fname = f\"{VARIABLE}_{rcp_str}_ens{int(ENSEMBLE)}_time{TIME}_CF.GeoTiff\"\n",
    "outpath = cog_dir.joinpath(fname)\n",
    "rdsd.rio.to_raster(outpath, driver=\"GTiff\")"
   ]
  },
  {
   "cell_type": "code",
   "execution_count": 30,
   "id": "52aa7f13",
   "metadata": {},
   "outputs": [
    {
     "data": {
      "application/javascript": "\n            setTimeout(function() {\n                var nbb_cell_id = 30;\n                var nbb_unformatted_code = \"# export to nc for quick CF compliancy check..\\nrdsd.to_netcdf(path=cog_dir.joinpath(fname.replace(\\\".GeoTiff\\\", \\\".nc\\\")))\\nCF_dir = coclico_data_dir.joinpath(r\\\"CF\\\")\";\n                var nbb_formatted_code = \"# export to nc for quick CF compliancy check..\\nrdsd.to_netcdf(path=cog_dir.joinpath(fname.replace(\\\".GeoTiff\\\", \\\".nc\\\")))\\nCF_dir = coclico_data_dir.joinpath(r\\\"CF\\\")\";\n                var nbb_cells = Jupyter.notebook.get_cells();\n                for (var i = 0; i < nbb_cells.length; ++i) {\n                    if (nbb_cells[i].input_prompt_number == nbb_cell_id) {\n                        if (nbb_cells[i].get_text() == nbb_unformatted_code) {\n                             nbb_cells[i].set_text(nbb_formatted_code);\n                        }\n                        break;\n                    }\n                }\n            }, 500);\n            ",
      "text/plain": [
       "<IPython.core.display.Javascript object>"
      ]
     },
     "metadata": {},
     "output_type": "display_data"
    }
   ],
   "source": [
    "# export to nc for quick CF compliancy check..\n",
    "rdsd.to_netcdf(path=cog_dir.joinpath(fname.replace(\".GeoTiff\", \".nc\")))\n",
    "CF_dir = coclico_data_dir.joinpath(r\"CF\")"
   ]
  },
  {
   "cell_type": "code",
   "execution_count": 31,
   "id": "686e4aaf",
   "metadata": {},
   "outputs": [
    {
     "data": {
      "application/javascript": "\n            setTimeout(function() {\n                var nbb_cell_id = 31;\n                var nbb_unformatted_code = \"%%capture cap --no-stderr\\n# check original CF compliancy\\n\\ncheck_compliancy(testfile=cog_dir.joinpath(fname.replace(\\\".GeoTiff\\\", \\\".nc\\\")), working_dir=CF_dir)\";\n                var nbb_formatted_code = \"%%capture cap --no-stderr\\n# check original CF compliancy\\n\\ncheck_compliancy(testfile=cog_dir.joinpath(fname.replace(\\\".GeoTiff\\\", \\\".nc\\\")), working_dir=CF_dir)\";\n                var nbb_cells = Jupyter.notebook.get_cells();\n                for (var i = 0; i < nbb_cells.length; ++i) {\n                    if (nbb_cells[i].input_prompt_number == nbb_cell_id) {\n                        if (nbb_cells[i].get_text() == nbb_unformatted_code) {\n                             nbb_cells[i].set_text(nbb_formatted_code);\n                        }\n                        break;\n                    }\n                }\n            }, 500);\n            ",
      "text/plain": [
       "<IPython.core.display.Javascript object>"
      ]
     },
     "metadata": {},
     "output_type": "display_data"
    }
   ],
   "source": [
    "%%capture cap --no-stderr\n",
    "# check original CF compliancy\n",
    "\n",
    "check_compliancy(testfile=cog_dir.joinpath(fname.replace(\".GeoTiff\", \".nc\")), working_dir=CF_dir)"
   ]
  },
  {
   "cell_type": "code",
   "execution_count": 32,
   "id": "8d9bfac1",
   "metadata": {},
   "outputs": [
    {
     "name": "stdout",
     "output_type": "stream",
     "text": [
      "{'P:\\\\11205479-coclico\\\\FASTTRACK_DATA\\\\18_AR5_SLP_IPCC\\\\cog\\\\slr_RCP45_ens50_time0_CF.nc': {'warnings': '0', 'errors': '0'}}\n"
     ]
    },
    {
     "data": {
      "application/javascript": "\n            setTimeout(function() {\n                var nbb_cell_id = 32;\n                var nbb_unformatted_code = \"# save original CF compliancy\\nsave_compliancy(cap, testfile=cog_dir.joinpath(fname.replace(\\\".GeoTiff\\\", \\\".nc\\\")), working_dir=CF_dir)\";\n                var nbb_formatted_code = \"# save original CF compliancy\\nsave_compliancy(\\n    cap, testfile=cog_dir.joinpath(fname.replace(\\\".GeoTiff\\\", \\\".nc\\\")), working_dir=CF_dir\\n)\";\n                var nbb_cells = Jupyter.notebook.get_cells();\n                for (var i = 0; i < nbb_cells.length; ++i) {\n                    if (nbb_cells[i].input_prompt_number == nbb_cell_id) {\n                        if (nbb_cells[i].get_text() == nbb_unformatted_code) {\n                             nbb_cells[i].set_text(nbb_formatted_code);\n                        }\n                        break;\n                    }\n                }\n            }, 500);\n            ",
      "text/plain": [
       "<IPython.core.display.Javascript object>"
      ]
     },
     "metadata": {},
     "output_type": "display_data"
    }
   ],
   "source": [
    "# save original CF compliancy\n",
    "save_compliancy(cap, testfile=cog_dir.joinpath(fname.replace(\".GeoTiff\", \".nc\")), working_dir=CF_dir)"
   ]
  },
  {
   "cell_type": "code",
   "execution_count": 33,
   "id": "3f75896d",
   "metadata": {},
   "outputs": [
    {
     "data": {
      "text/plain": [
       "<matplotlib.collections.QuadMesh at 0x249293564d0>"
      ]
     },
     "execution_count": 33,
     "metadata": {},
     "output_type": "execute_result"
    },
    {
     "data": {
      "image/png": "[encoded data removed]",
      "text/plain": [
       "<Figure size 640x480 with 2 Axes>"
      ]
     },
     "metadata": {},
     "output_type": "display_data"
    },
    {
     "data": {
      "application/javascript": "\n            setTimeout(function() {\n                var nbb_cell_id = 33;\n                var nbb_unformatted_code = \"import rioxarray as rio\\ndata = rio.open_rasterio(outpath, masked=True)\\nrds.plot()\";\n                var nbb_formatted_code = \"import rioxarray as rio\\n\\ndata = rio.open_rasterio(outpath, masked=True)\\nrds.plot()\";\n                var nbb_cells = Jupyter.notebook.get_cells();\n                for (var i = 0; i < nbb_cells.length; ++i) {\n                    if (nbb_cells[i].input_prompt_number == nbb_cell_id) {\n                        if (nbb_cells[i].get_text() == nbb_unformatted_code) {\n                             nbb_cells[i].set_text(nbb_formatted_code);\n                        }\n                        break;\n                    }\n                }\n            }, 500);\n            ",
      "text/plain": [
       "<IPython.core.display.Javascript object>"
      ]
     },
     "metadata": {},
     "output_type": "display_data"
    }
   ],
   "source": [
    "# plot to check output\n",
    "import rioxarray as rio\n",
    "data = rio.open_rasterio(outpath, masked=True)\n",
    "# data.plot()\n",
    "rds.plot()"
   ]
  },
  {
   "attachments": {},
   "cell_type": "markdown",
   "id": "7d78a39c",
   "metadata": {},
   "source": [
    "#### Multiple CoGs"
   ]
  },
  {
   "cell_type": "code",
   "execution_count": 79,
   "id": "c4c96436",
   "metadata": {},
   "outputs": [
    {
     "name": "stdout",
     "output_type": "stream",
     "text": [
      "rcp=26\n",
      "{'slr'}\n",
      "rcp=45\n",
      "{'slr'}\n",
      "rcp=85\n",
      "{'slr'}\n"
     ]
    },
    {
     "data": {
      "application/javascript": "\n            setTimeout(function() {\n                var nbb_cell_id = 79;\n                var nbb_unformatted_code = \"# do for CoGs\\n\\n# open the dataset\\nds_fp = ds_dir.joinpath(f\\\"total-ens-slr_CF.nc\\\")\\nds = xr.open_dataset(ds_fp)\\n\\n#ds = make_cf_compliant(ds)\\n\\n# convert cf noleap yrs to datetime\\n#ds[\\\"time\\\"] = ds.indexes[\\\"time\\\"].to_datetimeindex()\\n\\nfor idx, scen in enumerate(ds[\\\"scenarios\\\"].values):\\n    rcp = scen.decode(\\\"utf-8\\\")\\n\\n    # format rcp name for filenaming\\n    rcp_name = \\\"rcp=%s\\\"%rcp.strip(\\\"RCP\\\")\\n    print(rcp_name)\\n\\n    # extract list of data variables\\n    variables = set(ds.variables) - set(ds.dims) - set(ds.coords)\\n    print(variables)\\n\\n    #ds[\\\"modelname\\\"] = ds.coords[\\\"modelname\\\"].astype(str)\\n\\n    ntimes = ds.dims[\\\"time\\\"]\\n    for ntime in range(ntimes):\\n        ds2 = ds.copy()\\n        ds2 = ds2.isel({\\\"time\\\": ntime})\\n\\n        # extract time boundaries for use in tif naming\\n        time_bounds = [\\n            cftime_to_pdts(t).strftime(\\\"%Y-%m-%d\\\") for t in ds2.time_bnds.values\\n        ]\\n        time_name = \\\"_\\\".join([t for t in time_bounds])\\n\\n        for var_name in variables:\\n            # time bounds are extracted, so nv dim can be dropped, as tiff should be 2D or 3D.\\n            da = ds2.sel({\\\"nscenarios\\\": idx})[var_name]\\n\\n            for idv, ens in enumerate(da[\\\"ensemble\\\"].values):\\n                da2 = da.isel({\\\"ensemble\\\": idv})\\n\\n                # add crs and spatial dims\\n                da2.rio.set_spatial_dims(x_dim=\\\"lon\\\", y_dim=\\\"lat\\\")\\n                if not da2.rio.crs:\\n                    da2 = da2.rio.write_crs(\\\"EPSG:4326\\\")\\n\\n                # reset some variables and attributes\\n                da2[\\\"time\\\"] = np.array(cftime_to_pdts(da2[\\\"time\\\"].item()).strftime(\\\"%Y-%m-%d %H:%M:%S\\\"), dtype=\\\"S\\\")\\n                da2[\\\"time\\\"].attrs[\\\"standard_name\\\"] = \\\"time\\\"\\n                da2[\\\"time_bnds\\\"] = np.array(time_name, dtype=\\\"S\\\")\\n                da2[\\\"time_bnds\\\"].attrs[\\\"long_name\\\"] = \\\"time boundaries\\\"\\n\\n                # compose tif name\\n                fname = time_name + \\\".tif\\\"\\n                blob_name = pathlib.Path(rcp_name, var_name + \\\"_ens%s\\\"%int(ens), fname)\\n                outpath = cog_dirs.joinpath(blob_name)\\n\\n                # convert to dataset and save as geotiff & nc to check the CF compliancy\\n                # dads = da2.to_dataset()\\n\\n                # # add all attributes (again)\\n                # for attr_name, attr_val in meta_global.items():\\n                #     if attr_name == 'PROVIDERS':\\n                #         attr_val = json.dumps(attr_val)\\n                #     if attr_name == \\\"MEDIA_TYPE\\\": # change media type to tiff, leave the rest as is\\n                #         attr_val = \\\"IMAGE/TIFF\\\"\\n                #     dads.attrs[attr_name] = attr_val\\n\\n                # dads.attrs['Conventions'] = \\\"CF-1.8\\\"\\n\\n                # save to .nc & geotiff\\n                # fname = f\\\"{var_name}_{rcp}_ens{int(ens)}_time{ntime}_CF.GeoTiff\\\"\\n                # outpath = cog_dir.joinpath(fname)\\n                # dads.rio.to_raster(outpath, driver=\\\"GTiff\\\")\\n                # dads.to_netcdf(path=cog_dir.joinpath(fname.replace(\\\".GeoTiff\\\", \\\".nc\\\")))\\n                # CF_dir = coclico_data_dir.joinpath(r\\\"CF\\\")\\n                \\n                # make parent dir if not exists\\n                outpath.parent.mkdir(parents=True, exist_ok=True)\\n\\n                # set overwrite is false because tifs should be unique\\n                try:\\n                    write_cog(da2, fname=outpath, overwrite=False)\\n                except OSError as e:\\n                    continue\";\n                var nbb_formatted_code = \"# do for CoGs\\n\\n# open the dataset\\nds_fp = ds_dir.joinpath(f\\\"total-ens-slr_CF.nc\\\")\\nds = xr.open_dataset(ds_fp)\\n\\n# ds = make_cf_compliant(ds)\\n\\n# convert cf noleap yrs to datetime\\n# ds[\\\"time\\\"] = ds.indexes[\\\"time\\\"].to_datetimeindex()\\n\\nfor idx, scen in enumerate(ds[\\\"scenarios\\\"].values):\\n    rcp = scen.decode(\\\"utf-8\\\")\\n\\n    # format rcp name for filenaming\\n    rcp_name = \\\"rcp=%s\\\" % rcp.strip(\\\"RCP\\\")\\n    print(rcp_name)\\n\\n    # extract list of data variables\\n    variables = set(ds.variables) - set(ds.dims) - set(ds.coords)\\n    print(variables)\\n\\n    # ds[\\\"modelname\\\"] = ds.coords[\\\"modelname\\\"].astype(str)\\n\\n    ntimes = ds.dims[\\\"time\\\"]\\n    for ntime in range(ntimes):\\n        ds2 = ds.copy()\\n        ds2 = ds2.isel({\\\"time\\\": ntime})\\n\\n        # extract time boundaries for use in tif naming\\n        time_bounds = [\\n            cftime_to_pdts(t).strftime(\\\"%Y-%m-%d\\\") for t in ds2.time_bnds.values\\n        ]\\n        time_name = \\\"_\\\".join([t for t in time_bounds])\\n\\n        for var_name in variables:\\n            # time bounds are extracted, so nv dim can be dropped, as tiff should be 2D or 3D.\\n            da = ds2.sel({\\\"nscenarios\\\": idx})[var_name]\\n\\n            for idv, ens in enumerate(da[\\\"ensemble\\\"].values):\\n                da2 = da.isel({\\\"ensemble\\\": idv})\\n\\n                # add crs and spatial dims\\n                da2.rio.set_spatial_dims(x_dim=\\\"lon\\\", y_dim=\\\"lat\\\")\\n                if not da2.rio.crs:\\n                    da2 = da2.rio.write_crs(\\\"EPSG:4326\\\")\\n\\n                # reset some variables and attributes\\n                da2[\\\"time\\\"] = np.array(\\n                    cftime_to_pdts(da2[\\\"time\\\"].item()).strftime(\\\"%Y-%m-%d %H:%M:%S\\\"),\\n                    dtype=\\\"S\\\",\\n                )\\n                da2[\\\"time\\\"].attrs[\\\"standard_name\\\"] = \\\"time\\\"\\n                da2[\\\"time_bnds\\\"] = np.array(time_name, dtype=\\\"S\\\")\\n                da2[\\\"time_bnds\\\"].attrs[\\\"long_name\\\"] = \\\"time boundaries\\\"\\n\\n                # compose tif name\\n                fname = time_name + \\\".tif\\\"\\n                blob_name = pathlib.Path(\\n                    rcp_name, var_name + \\\"_ens%s\\\" % int(ens), fname\\n                )\\n                outpath = cog_dirs.joinpath(blob_name)\\n\\n                # convert to dataset and save as geotiff & nc to check the CF compliancy\\n                # dads = da2.to_dataset()\\n\\n                # # add all attributes (again)\\n                # for attr_name, attr_val in meta_global.items():\\n                #     if attr_name == 'PROVIDERS':\\n                #         attr_val = json.dumps(attr_val)\\n                #     if attr_name == \\\"MEDIA_TYPE\\\": # change media type to tiff, leave the rest as is\\n                #         attr_val = \\\"IMAGE/TIFF\\\"\\n                #     dads.attrs[attr_name] = attr_val\\n\\n                # dads.attrs['Conventions'] = \\\"CF-1.8\\\"\\n\\n                # save to .nc & geotiff\\n                # fname = f\\\"{var_name}_{rcp}_ens{int(ens)}_time{ntime}_CF.GeoTiff\\\"\\n                # outpath = cog_dir.joinpath(fname)\\n                # dads.rio.to_raster(outpath, driver=\\\"GTiff\\\")\\n                # dads.to_netcdf(path=cog_dir.joinpath(fname.replace(\\\".GeoTiff\\\", \\\".nc\\\")))\\n                # CF_dir = coclico_data_dir.joinpath(r\\\"CF\\\")\\n\\n                # make parent dir if not exists\\n                outpath.parent.mkdir(parents=True, exist_ok=True)\\n\\n                # set overwrite is false because tifs should be unique\\n                try:\\n                    write_cog(da2, fname=outpath, overwrite=False)\\n                except OSError as e:\\n                    continue\";\n                var nbb_cells = Jupyter.notebook.get_cells();\n                for (var i = 0; i < nbb_cells.length; ++i) {\n                    if (nbb_cells[i].input_prompt_number == nbb_cell_id) {\n                        if (nbb_cells[i].get_text() == nbb_unformatted_code) {\n                             nbb_cells[i].set_text(nbb_formatted_code);\n                        }\n                        break;\n                    }\n                }\n            }, 500);\n            ",
      "text/plain": [
       "<IPython.core.display.Javascript object>"
      ]
     },
     "metadata": {},
     "output_type": "display_data"
    }
   ],
   "source": [
    "# do for all CoGs (CF compliant)\n",
    "\n",
    "# open the dataset\n",
    "ds_fp = ds_dir.joinpath(f\"total-ens-slr_CF.nc\")\n",
    "ds = xr.open_dataset(ds_fp)\n",
    "\n",
    "#ds = make_cf_compliant(ds)\n",
    "\n",
    "# convert cf noleap yrs to datetime\n",
    "#ds[\"time\"] = ds.indexes[\"time\"].to_datetimeindex()\n",
    "\n",
    "for idx, scen in enumerate(ds[\"scenarios\"].values):\n",
    "    rcp = scen.decode(\"utf-8\")\n",
    "\n",
    "    # format rcp name for filenaming\n",
    "    rcp_name = \"rcp=%s\"%rcp.strip(\"RCP\")\n",
    "    print(rcp_name)\n",
    "\n",
    "    # extract list of data variables\n",
    "    variables = set(ds.variables) - set(ds.dims) - set(ds.coords)\n",
    "\n",
    "    #ds[\"modelname\"] = ds.coords[\"modelname\"].astype(str)\n",
    "\n",
    "    ntimes = ds.dims[\"time\"]\n",
    "    for ntime in range(ntimes):\n",
    "        ds2 = ds.copy()\n",
    "        ds2 = ds2.isel({\"time\": ntime})\n",
    "\n",
    "        # extract time boundaries for use in tif naming (dataset specific)\n",
    "        time_bounds = [\n",
    "            cftime_to_pdts(t).strftime(\"%Y-%m-%d\") for t in ds2.time_bnds.values\n",
    "        ]\n",
    "        time_name = \"_\".join([t for t in time_bounds])\n",
    "\n",
    "        for var_name in variables:\n",
    "            # time bounds are extracted, so nv dim can be dropped, as tiff should be 2D or 3D.\n",
    "            da = ds2.sel({\"nscenarios\": idx})[var_name]\n",
    "\n",
    "            for idv, ens in enumerate(da[\"ensemble\"].values):\n",
    "                da2 = da.isel({\"ensemble\": idv})\n",
    "\n",
    "                # add crs and spatial dims\n",
    "                da2.rio.set_spatial_dims(x_dim=\"lon\", y_dim=\"lat\")\n",
    "                if not da2.rio.crs:\n",
    "                    da2 = da2.rio.write_crs(\"EPSG:4326\")\n",
    "\n",
    "                # reset some variables and attributes (dataset specific)\n",
    "                da2[\"time\"] = np.array(cftime_to_pdts(da2[\"time\"].item()).strftime(\"%Y-%m-%d %H:%M:%S\"), dtype=\"S\")\n",
    "                da2[\"time\"].attrs[\"standard_name\"] = \"time\"\n",
    "                da2[\"time_bnds\"] = np.array(time_name, dtype=\"S\")\n",
    "                da2[\"time_bnds\"].attrs[\"long_name\"] = \"time boundaries\"\n",
    "\n",
    "                # compose tif name\n",
    "                fname = time_name + \".tif\"\n",
    "                blob_name = pathlib.Path(rcp_name, var_name + \"_ens%s\"%int(ens), fname)\n",
    "                outpath = cog_dirs.joinpath(blob_name)\n",
    "\n",
    "                # convert to dataset and save as geotiff & nc to check the CF compliancy\n",
    "                # dads = da2.to_dataset()\n",
    "\n",
    "                # # add all attributes (again)\n",
    "                # for attr_name, attr_val in meta_global.items():\n",
    "                #     if attr_name == 'PROVIDERS':\n",
    "                #         attr_val = json.dumps(attr_val)\n",
    "                #     if attr_name == \"MEDIA_TYPE\": # change media type to tiff, leave the rest as is\n",
    "                #         attr_val = \"IMAGE/TIFF\"\n",
    "                #     dads.attrs[attr_name] = attr_val\n",
    "\n",
    "                # dads.attrs['Conventions'] = \"CF-1.8\"\n",
    "\n",
    "                # save to .nc & geotiff\n",
    "                # fname = f\"{var_name}_{rcp}_ens{int(ens)}_time{ntime}_CF.GeoTiff\"\n",
    "                # outpath = cog_dir.joinpath(fname)\n",
    "                # dads.rio.to_raster(outpath, driver=\"GTiff\")\n",
    "                # dads.to_netcdf(path=cog_dir.joinpath(fname.replace(\".GeoTiff\", \".nc\")))\n",
    "                # CF_dir = coclico_data_dir.joinpath(r\"CF\")\n",
    "                \n",
    "                # make parent dir if not exists\n",
    "                outpath.parent.mkdir(parents=True, exist_ok=True)\n",
    "\n",
    "                # set overwrite is false because tifs should be unique\n",
    "                try:\n",
    "                    write_cog(da2, fname=outpath, overwrite=False)\n",
    "                except OSError as e:\n",
    "                    continue"
   ]
  },
  {
   "cell_type": "code",
   "execution_count": 77,
   "id": "356d67db",
   "metadata": {},
   "outputs": [
    {
     "data": {
      "application/javascript": "\n            setTimeout(function() {\n                var nbb_cell_id = 77;\n                var nbb_unformatted_code = \"# %%capture cap --no-stderr\\n# # check original CF compliancy\\n\\n# check_compliancy(testfile=cog_dir.joinpath(fname.replace(\\\".GeoTiff\\\", \\\".nc\\\")), working_dir=CF_dir)\";\n                var nbb_formatted_code = \"# %%capture cap --no-stderr\\n# # check original CF compliancy\\n\\n# check_compliancy(testfile=cog_dir.joinpath(fname.replace(\\\".GeoTiff\\\", \\\".nc\\\")), working_dir=CF_dir)\";\n                var nbb_cells = Jupyter.notebook.get_cells();\n                for (var i = 0; i < nbb_cells.length; ++i) {\n                    if (nbb_cells[i].input_prompt_number == nbb_cell_id) {\n                        if (nbb_cells[i].get_text() == nbb_unformatted_code) {\n                             nbb_cells[i].set_text(nbb_formatted_code);\n                        }\n                        break;\n                    }\n                }\n            }, 500);\n            ",
      "text/plain": [
       "<IPython.core.display.Javascript object>"
      ]
     },
     "metadata": {},
     "output_type": "display_data"
    }
   ],
   "source": [
    "# %%capture cap --no-stderr\n",
    "# # check original CF compliancy\n",
    "\n",
    "# check_compliancy(testfile=cog_dir.joinpath(fname.replace(\".GeoTiff\", \".nc\")), working_dir=CF_dir)"
   ]
  },
  {
   "cell_type": "code",
   "execution_count": 78,
   "id": "23fbd261",
   "metadata": {},
   "outputs": [
    {
     "data": {
      "application/javascript": "\n            setTimeout(function() {\n                var nbb_cell_id = 78;\n                var nbb_unformatted_code = \"# save original CF compliancy\\n# save_compliancy(cap, testfile=cog_dir.joinpath(fname.replace(\\\".GeoTiff\\\", \\\".nc\\\")), working_dir=CF_dir)\";\n                var nbb_formatted_code = \"# save original CF compliancy\\n# save_compliancy(cap, testfile=cog_dir.joinpath(fname.replace(\\\".GeoTiff\\\", \\\".nc\\\")), working_dir=CF_dir)\";\n                var nbb_cells = Jupyter.notebook.get_cells();\n                for (var i = 0; i < nbb_cells.length; ++i) {\n                    if (nbb_cells[i].input_prompt_number == nbb_cell_id) {\n                        if (nbb_cells[i].get_text() == nbb_unformatted_code) {\n                             nbb_cells[i].set_text(nbb_formatted_code);\n                        }\n                        break;\n                    }\n                }\n            }, 500);\n            ",
      "text/plain": [
       "<IPython.core.display.Javascript object>"
      ]
     },
     "metadata": {},
     "output_type": "display_data"
    }
   ],
   "source": [
    "# save original CF compliancy\n",
    "# save_compliancy(cap, testfile=cog_dir.joinpath(fname.replace(\".GeoTiff\", \".nc\")), working_dir=CF_dir)"
   ]
  },
  {
   "cell_type": "code",
   "execution_count": null,
   "id": "9aa96b27",
   "metadata": {},
   "outputs": [],
   "source": []
  }
 ],
 "metadata": {
  "kernelspec": {
   "display_name": "Python 3 (ipykernel)",
   "language": "python",
   "name": "python3"
  },
  "language_info": {
   "codemirror_mode": {
    "name": "ipython",
    "version": 3
   },
   "file_extension": ".py",
   "mimetype": "text/x-python",
   "name": "python",
   "nbconvert_exporter": "python",
   "pygments_lexer": "ipython3",
   "version": "3.11.4"
  },
  "vscode": {
   "interpreter": {
    "hash": "d52b8dfbdab1c939c3c4b10b0d762f4c8139583e350f28e123ee37db8f80dd50"
   }
  }
 },
 "nbformat": 4,
 "nbformat_minor": 5
}
