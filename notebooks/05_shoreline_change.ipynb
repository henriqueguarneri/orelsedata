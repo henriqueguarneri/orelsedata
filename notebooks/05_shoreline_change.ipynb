{
 "cells": [
  {
   "cell_type": "markdown",
   "id": "c91b40e6",
   "metadata": {},
   "source": [
    "# Shoreline Change\n",
    "Notebook environment to migrate netcdf files to CF compliant zarr"
   ]
  },
  {
   "cell_type": "code",
   "execution_count": null,
   "id": "f1aef40e",
   "metadata": {},
   "outputs": [],
   "source": [
    "# Optional; code formatter, installed as jupyter lab extension\n",
    "#%load_ext lab_black\n",
    "# Optional; code formatter, installed as jupyter notebook extension\n",
    "%load_ext nb_black"
   ]
  },
  {
   "cell_type": "markdown",
   "id": "f3f67518",
   "metadata": {},
   "source": [
    "### Configure OS independent paths"
   ]
  },
  {
   "cell_type": "code",
   "execution_count": null,
   "id": "77b089ea",
   "metadata": {},
   "outputs": [],
   "source": [
    "# Import standard packages\n",
    "import os\n",
    "import pathlib\n",
    "import sys\n",
    "import numpy as np\n",
    "import geopandas as gpd\n",
    "import pandas as pd\n",
    "import matplotlib.pyplot as plt\n",
    "import xarray as xr\n",
    "import netCDF4 as nc\n",
    "import numpy.ma as ma\n",
    "\n",
    "# Make root directories importable by appending root to path\n",
    "cwd = pathlib.Path().resolve()\n",
    "sys.path.append(os.path.dirname(cwd))\n",
    "\n",
    "# Get root paths\n",
    "home = pathlib.Path().home()\n",
    "root = home.root\n",
    "\n",
    "# Import custom functionality\n",
    "from etl import p_drive\n",
    "from etl.CF_compliancy_checker import check_compliancy, save_compliancy\n",
    "\n",
    "# Define (local and) remote drives\n",
    "coclico_data_dir = p_drive.joinpath(\"11205479-coclico\", \"data\")\n",
    "\n",
    "# Workaround to the Windows OS (10) udunits error after installation of cfchecker: https://github.com/SciTools/iris/issues/404\n",
    "os.environ[\"UDUNITS2_XML_PATH\"] = str(\n",
    "    home.joinpath(  # change to the udunits2.xml file dir in your Python installation\n",
    "        r\"Anaconda3\\pkgs\\udunits2-2.2.28-h892ecd3_0\\Library\\share\\udunits\\udunits2.xml\"\n",
    "    )\n",
    ")"
   ]
  },
  {
   "cell_type": "code",
   "execution_count": null,
   "id": "aef15534",
   "metadata": {},
   "outputs": [],
   "source": [
    "# Project paths & files (manual input)\n",
    "ds_dir = coclico_data_dir.joinpath(\"05_erosion_projections_jrc\")\n",
    "ds_rcp45_2050path = ds_dir.joinpath(\n",
    "    \"globalErosionProjections_Long_Term_Change_RCP45_2050.nc\"\n",
    ")\n",
    "ds_rcp45_2100path = ds_dir.joinpath(\n",
    "    \"globalErosionProjections_Long_Term_Change_RCP45_2100.nc\"\n",
    ")\n",
    "ds_rcp85_2050path = ds_dir.joinpath(\n",
    "    \"globalErosionProjections_Long_Term_Change_RCP85_2050.nc\"\n",
    ")\n",
    "ds_rcp85_2100path = ds_dir.joinpath(\n",
    "    \"globalErosionProjections_Long_Term_Change_RCP85_2100.nc\"\n",
    ")\n",
    "ds_out_file = \"globalErosionProjections_Long_Term_Change\"\n",
    "CF_dir = coclico_data_dir.joinpath(r\"CF\")  # directory to save output CF check files"
   ]
  },
  {
   "cell_type": "markdown",
   "id": "4d9d1359",
   "metadata": {},
   "source": [
    "### Check CF compliancy original NetCDF files"
   ]
  },
  {
   "cell_type": "code",
   "execution_count": null,
   "id": "4e88de5e",
   "metadata": {},
   "outputs": [],
   "source": [
    "# open datasets\n",
    "ds_45rcp2050 = xr.open_dataset(ds_rcp45_2050path)\n",
    "ds_45rcp2100 = xr.open_dataset(ds_rcp45_2100path)\n",
    "ds_85rcp2050 = xr.open_dataset(ds_rcp85_2050path)\n",
    "ds_85rcp2100 = xr.open_dataset(ds_rcp85_2100path)\n",
    "\n",
    "# check original dataset\n",
    "ds_45rcp2050"
   ]
  },
  {
   "cell_type": "code",
   "execution_count": null,
   "id": "a4057296",
   "metadata": {},
   "outputs": [],
   "source": [
    "%%capture cap --no-stderr\n",
    "# check original CF compliancy\n",
    "\n",
    "check_compliancy(testfile=ds_rcp45_2050path, working_dir=CF_dir)"
   ]
  },
  {
   "cell_type": "code",
   "execution_count": null,
   "id": "89ab2b07",
   "metadata": {},
   "outputs": [],
   "source": [
    "# save original CF compliancy\n",
    "save_compliancy(cap, testfile=ds_rcp45_2050path, working_dir=CF_dir)"
   ]
  },
  {
   "cell_type": "code",
   "execution_count": null,
   "id": "7f569418",
   "metadata": {},
   "outputs": [],
   "source": [
    "%%capture cap --no-stderr\n",
    "# check original CF compliancy\n",
    "\n",
    "check_compliancy(testfile=ds_rcp45_2100path, working_dir=CF_dir)"
   ]
  },
  {
   "cell_type": "code",
   "execution_count": null,
   "id": "69d2e3fa",
   "metadata": {},
   "outputs": [],
   "source": [
    "# save original CF compliancy\n",
    "save_compliancy(cap, testfile=ds_rcp45_2100path, working_dir=CF_dir)"
   ]
  },
  {
   "cell_type": "code",
   "execution_count": null,
   "id": "c60b15e5",
   "metadata": {},
   "outputs": [],
   "source": [
    "%%capture cap --no-stderr\n",
    "# check original CF compliancy\n",
    "\n",
    "check_compliancy(testfile=ds_rcp85_2050path, working_dir=CF_dir)"
   ]
  },
  {
   "cell_type": "code",
   "execution_count": null,
   "id": "978ae0cb",
   "metadata": {},
   "outputs": [],
   "source": [
    "# save original CF compliancy\n",
    "save_compliancy(cap, testfile=ds_rcp85_2050path, working_dir=CF_dir)"
   ]
  },
  {
   "cell_type": "code",
   "execution_count": null,
   "id": "ab4a10f6",
   "metadata": {},
   "outputs": [],
   "source": [
    "%%capture cap --no-stderr\n",
    "# check original CF compliancy\n",
    "\n",
    "check_compliancy(testfile=ds_rcp85_2100path, working_dir=CF_dir)"
   ]
  },
  {
   "cell_type": "code",
   "execution_count": null,
   "id": "6932dd74",
   "metadata": {},
   "outputs": [],
   "source": [
    "# save original CF compliancy\n",
    "save_compliancy(cap, testfile=ds_rcp85_2100path, working_dir=CF_dir)"
   ]
  },
  {
   "cell_type": "markdown",
   "id": "77a9150b",
   "metadata": {},
   "source": [
    "### Make CF compliant alterations to the NetCDF files (dataset dependent)"
   ]
  },
  {
   "cell_type": "code",
   "execution_count": null,
   "id": "41aebd95",
   "metadata": {},
   "outputs": [],
   "source": [
    "# NetCDF attribute alterations\n",
    "\n",
    "ds_45rcp2050.lat.attrs[\"units\"] = \"degrees_north\"\n",
    "ds_45rcp2050.lon.attrs[\"units\"] = \"degrees_east\"\n",
    "ds_45rcp2100.lat.attrs[\"units\"] = \"degrees_north\"\n",
    "ds_45rcp2100.lon.attrs[\"units\"] = \"degrees_east\"\n",
    "ds_85rcp2050.lat.attrs[\"units\"] = \"degrees_north\"\n",
    "ds_85rcp2050.lon.attrs[\"units\"] = \"degrees_east\"\n",
    "ds_85rcp2100.lat.attrs[\"units\"] = \"degrees_north\"\n",
    "ds_85rcp2100.lon.attrs[\"units\"] = \"degrees_east\""
   ]
  },
  {
   "cell_type": "code",
   "execution_count": null,
   "id": "0310ee46",
   "metadata": {},
   "outputs": [],
   "source": [
    "# NetCDF variable and dimension alterations\n",
    "ds_45rcp2050 = ds_45rcp2050.set_coords([\"lon\", \"lat\"])\n",
    "ds_45rcp2100 = ds_45rcp2100.set_coords([\"lon\", \"lat\"])\n",
    "ds_85rcp2050 = ds_85rcp2050.set_coords([\"lon\", \"lat\"])\n",
    "ds_85rcp2100 = ds_85rcp2100.set_coords([\"lon\", \"lat\"])\n",
    "\n",
    "ds_45rcp2050arr = xr.concat(\n",
    "    [\n",
    "        ds_45rcp2050[\"perc1\"],\n",
    "        ds_45rcp2050[\"perc5\"],\n",
    "        ds_45rcp2050[\"perc17\"],\n",
    "        ds_45rcp2050[\"perc50\"],\n",
    "        ds_45rcp2050[\"perc83\"],\n",
    "        ds_45rcp2050[\"perc95\"],\n",
    "        ds_45rcp2050[\"perc99\"],\n",
    "    ],\n",
    "    dim=\"nensemble\",\n",
    ")\n",
    "\n",
    "ds_45rcp2050arr = ds_45rcp2050arr.assign_coords(\n",
    "    {\n",
    "        \"ensemble\": (\n",
    "            \"nensemble\",\n",
    "            np.array([\"1%\", \"5%\", \"17%\", \"50%\", \"83%\", \"95%\", \"99%\"], dtype=\"S\"),\n",
    "        )\n",
    "    }\n",
    ")\n",
    "ds_45rcp2050_new = ds_45rcp2050arr.to_dataset(name=\"shoreline_change\")\n",
    "ds_45rcp2050_new.shoreline_change.attrs[\"long_name\"] = \"shoreline_change\"\n",
    "ds_45rcp2050_new.ensemble.attrs[\"long_name\"] = \"ensemble\"\n",
    "\n",
    "ds_45rcp2100arr = xr.concat(\n",
    "    [\n",
    "        ds_45rcp2100[\"perc1\"],\n",
    "        ds_45rcp2100[\"perc5\"],\n",
    "        ds_45rcp2100[\"perc17\"],\n",
    "        ds_45rcp2100[\"perc50\"],\n",
    "        ds_45rcp2100[\"perc83\"],\n",
    "        ds_45rcp2100[\"perc95\"],\n",
    "        ds_45rcp2100[\"perc99\"],\n",
    "    ],\n",
    "    dim=\"nensemble\",\n",
    ")\n",
    "\n",
    "ds_45rcp2100arr = ds_45rcp2100arr.assign_coords(\n",
    "    {\n",
    "        \"ensemble\": (\n",
    "            \"nensemble\",\n",
    "            np.array([\"1%\", \"5%\", \"17%\", \"50%\", \"83%\", \"95%\", \"99%\"], dtype=\"S\"),\n",
    "        )\n",
    "    }\n",
    ")\n",
    "ds_45rcp2100_new = ds_45rcp2100arr.to_dataset(name=\"shoreline_change\")\n",
    "ds_45rcp2100_new.shoreline_change.attrs[\"long_name\"] = \"shoreline_change\"\n",
    "ds_45rcp2100_new.ensemble.attrs[\"long_name\"] = \"ensemble\"\n",
    "\n",
    "ds_85rcp2050arr = xr.concat(\n",
    "    [\n",
    "        ds_85rcp2050[\"perc1\"],\n",
    "        ds_85rcp2050[\"perc5\"],\n",
    "        ds_85rcp2050[\"perc17\"],\n",
    "        ds_85rcp2050[\"perc50\"],\n",
    "        ds_85rcp2050[\"perc83\"],\n",
    "        ds_85rcp2050[\"perc95\"],\n",
    "        ds_85rcp2050[\"perc99\"],\n",
    "    ],\n",
    "    dim=\"nensemble\",\n",
    ")\n",
    "\n",
    "ds_85rcp2050arr = ds_85rcp2050arr.assign_coords(\n",
    "    {\n",
    "        \"ensemble\": (\n",
    "            \"nensemble\",\n",
    "            np.array([\"1%\", \"5%\", \"17%\", \"50%\", \"83%\", \"95%\", \"99%\"], dtype=\"S\"),\n",
    "        )\n",
    "    }\n",
    ")\n",
    "ds_85rcp2050_new = ds_85rcp2050arr.to_dataset(name=\"shoreline_change\")\n",
    "ds_85rcp2050_new.shoreline_change.attrs[\"long_name\"] = \"shoreline_change\"\n",
    "ds_85rcp2050_new.ensemble.attrs[\"long_name\"] = \"ensemble\"\n",
    "\n",
    "ds_85rcp2100arr = xr.concat(\n",
    "    [\n",
    "        ds_85rcp2100[\"perc1\"],\n",
    "        ds_85rcp2100[\"perc5\"],\n",
    "        ds_85rcp2100[\"perc17\"],\n",
    "        ds_85rcp2100[\"perc50\"],\n",
    "        ds_85rcp2100[\"perc83\"],\n",
    "        ds_85rcp2100[\"perc95\"],\n",
    "        ds_85rcp2100[\"perc99\"],\n",
    "    ],\n",
    "    dim=\"nensemble\",\n",
    ")\n",
    "\n",
    "ds_85rcp2100arr = ds_85rcp2100arr.assign_coords(\n",
    "    {\n",
    "        \"ensemble\": (\n",
    "            \"nensemble\",\n",
    "            np.array([\"1%\", \"5%\", \"17%\", \"50%\", \"83%\", \"95%\", \"99%\"], dtype=\"S\"),\n",
    "        )\n",
    "    }\n",
    ")\n",
    "ds_85rcp2100_new = ds_85rcp2100arr.to_dataset(name=\"shoreline_change\")\n",
    "ds_85rcp2100_new.shoreline_change.attrs[\"long_name\"] = \"shoreline_change\"\n",
    "ds_85rcp2100_new.ensemble.attrs[\"long_name\"] = \"ensemble\""
   ]
  },
  {
   "cell_type": "code",
   "execution_count": null,
   "id": "21ee3080",
   "metadata": {},
   "outputs": [],
   "source": [
    "# add or change certain variable / coordinate attributes\n",
    "dataset_attributes = {\n",
    "    \"title\": \"Global shoreline change projections for the year 2050 under RCP4.5\",\n",
    "    \"description\": \"Projections of global shoreline change in view of climate change considering the combined effects of ambient change, sea level rise and storm driven erosion\",\n",
    "    \"source\": 'The procedure to produce the dataset and the findings are discussed in the paper: \"Vousdoukas, M.I., Ranasinghe, R., Mentaschi, L., Plomaritis, T.P., Athanasiou, P., Luijendijk, A., and Feyen, L. (2020). Sandy coastlines under threat of erosion. Nature Communications. https://www.nature.com/articles/s41558-020-0697-0,\"',\n",
    "    \"Conventions\": \"CF-1.8\",\n",
    "}  # specify custom (CF convention) attributes\n",
    "\n",
    "# add / overwrite attributes\n",
    "for k, v in dataset_attributes.items():\n",
    "    try:\n",
    "        ds_45rcp2050_new.attrs = dataset_attributes\n",
    "        ds_45rcp2100_new.attrs = dataset_attributes\n",
    "        ds_85rcp2050_new.attrs = dataset_attributes\n",
    "        ds_85rcp2100_new.attrs = dataset_attributes\n",
    "    except:\n",
    "        continue\n",
    "\n",
    "# rename or swap dimension names, the latter in case the name already exists as coordinate\n",
    "ds_45rcp2050_new = ds_45rcp2050_new.rename_dims({\"row\": \"stations\"})\n",
    "ds_45rcp2100_new = ds_45rcp2100_new.rename_dims({\"row\": \"stations\"})\n",
    "ds_85rcp2050_new = ds_85rcp2050_new.rename_dims({\"row\": \"stations\"})\n",
    "ds_85rcp2100_new = ds_85rcp2100_new.rename_dims({\"row\": \"stations\"})"
   ]
  },
  {
   "cell_type": "code",
   "execution_count": null,
   "id": "e89f9950",
   "metadata": {},
   "outputs": [],
   "source": [
    "# concat datasets along new dimension with index values and name derived from pandas index object, if necessary\n",
    "ds_45rcp = xr.concat([ds_45rcp2050_new, ds_45rcp2100_new], dim=\"time\")\n",
    "ds_45rcp = ds_45rcp.assign_coords(time=(\"time\", np.array([2050, 2100])))\n",
    "ds_45rcp.time.attrs[\"long_name\"] = \"time\"\n",
    "ds_45rcp.time.attrs[\"units\"] = \"yr\"\n",
    "\n",
    "ds_85rcp = xr.concat([ds_85rcp2050_new, ds_85rcp2100_new], dim=\"time\")\n",
    "ds_85rcp = ds_85rcp.assign_coords(time=(\"time\", np.array([2050, 2100])))\n",
    "ds_85rcp.time.attrs[\"long_name\"] = \"time\"\n",
    "ds_85rcp.time.attrs[\"units\"] = \"yr\"\n",
    "\n",
    "dataset = xr.concat([ds_45rcp, ds_85rcp], dim=\"nscenarios\")\n",
    "dataset = dataset.assign_coords(\n",
    "    scenarios=(\"nscenarios\", np.array([\"RCP45\", \"RCP85\"], dtype=\"S\"))\n",
    ")\n",
    "dataset.scenarios.attrs[\"long_name\"] = \"climate scenarios\"\n",
    "\n",
    "# add epsg\n",
    "ds_45rcp2050_new.attrs[\"crs\"] = 4326\n",
    "ds_45rcp2100_new.attrs[\"crs\"] = 4326\n",
    "ds_85rcp2050_new.attrs[\"crs\"] = 4326\n",
    "ds_85rcp2100_new.attrs[\"crs\"] = 4326\n",
    "dataset.attrs[\"crs\"] = 4326\n",
    "\n",
    "# dataset[\"scenarios\"].values.astype(\"U\") # retrieve scenarios as string"
   ]
  },
  {
   "cell_type": "code",
   "execution_count": null,
   "id": "7ada3ac9",
   "metadata": {},
   "outputs": [],
   "source": [
    "# re-order shape of the data variables\n",
    "ds_45rcp2050_new = ds_45rcp2050_new.transpose(\"stations\", \"nensemble\")\n",
    "ds_45rcp2100_new = ds_45rcp2100_new.transpose(\"stations\", \"nensemble\")\n",
    "ds_85rcp2050_new = ds_85rcp2050_new.transpose(\"stations\", \"nensemble\")\n",
    "ds_85rcp2100_new = ds_85rcp2100_new.transpose(\"stations\", \"nensemble\")\n",
    "dataset = dataset.transpose(\"nscenarios\", \"stations\", \"time\", \"nensemble\")"
   ]
  },
  {
   "cell_type": "code",
   "execution_count": null,
   "id": "14ba8ca8",
   "metadata": {},
   "outputs": [],
   "source": []
  },
  {
   "cell_type": "code",
   "execution_count": null,
   "id": "47662719",
   "metadata": {},
   "outputs": [],
   "source": [
    "# check the xarray dataset, best practice is to have as many as possible bold dimensions (dimension == coordinate name).\n",
    "# in this way, the Front-End can access the variable directly without having to index the variable first\n",
    "\n",
    "dataset\n",
    "# dataset[\"scenarios\"]"
   ]
  },
  {
   "cell_type": "code",
   "execution_count": null,
   "id": "20ebbe83",
   "metadata": {},
   "outputs": [],
   "source": [
    "# save new .nc files\n",
    "ds_45rcp2050_new.to_netcdf(path=str(ds_rcp45_2050path).replace(\".nc\", \"_CF.nc\"))\n",
    "ds_45rcp2100_new.to_netcdf(path=str(ds_rcp45_2100path).replace(\".nc\", \"_CF.nc\"))\n",
    "ds_85rcp2050_new.to_netcdf(path=str(ds_rcp85_2050path).replace(\".nc\", \"_CF.nc\"))\n",
    "ds_85rcp2100_new.to_netcdf(path=str(ds_rcp85_2100path).replace(\".nc\", \"_CF.nc\"))\n",
    "dataset.to_netcdf(path=ds_dir.joinpath(ds_out_file + \"_CF.nc\"))"
   ]
  },
  {
   "cell_type": "markdown",
   "id": "59e7b37d",
   "metadata": {},
   "source": [
    "### Check CF compliancy altered NetCDF files"
   ]
  },
  {
   "cell_type": "code",
   "execution_count": null,
   "id": "a4f992f4",
   "metadata": {},
   "outputs": [],
   "source": [
    "%%capture cap --no-stderr\n",
    "# check altered CF compliancy\n",
    "\n",
    "check_compliancy(testfile=str(ds_rcp45_2050path).replace(\".nc\", \"_CF.nc\"), working_dir=CF_dir)"
   ]
  },
  {
   "cell_type": "code",
   "execution_count": null,
   "id": "fc6ba94f",
   "metadata": {},
   "outputs": [],
   "source": [
    "# save altered CF compliancy\n",
    "save_compliancy(\n",
    "    cap, testfile=str(ds_rcp45_2050path).replace(\".nc\", \"_CF.nc\"), working_dir=CF_dir,\n",
    ")"
   ]
  },
  {
   "cell_type": "code",
   "execution_count": null,
   "id": "13fd035f",
   "metadata": {},
   "outputs": [],
   "source": [
    "%%capture cap --no-stderr\n",
    "# check altered CF compliancy\n",
    "\n",
    "check_compliancy(testfile=str(ds_rcp45_2100path).replace(\".nc\", \"_CF.nc\"), working_dir=CF_dir)"
   ]
  },
  {
   "cell_type": "code",
   "execution_count": null,
   "id": "bc254b0d",
   "metadata": {},
   "outputs": [],
   "source": [
    "# save altered CF compliancy\n",
    "save_compliancy(\n",
    "    cap, testfile=str(ds_rcp45_2100path).replace(\".nc\", \"_CF.nc\"), working_dir=CF_dir,\n",
    ")"
   ]
  },
  {
   "cell_type": "code",
   "execution_count": null,
   "id": "beef9525",
   "metadata": {},
   "outputs": [],
   "source": [
    "%%capture cap --no-stderr\n",
    "# check altered CF compliancy\n",
    "\n",
    "check_compliancy(testfile=str(ds_rcp85_2050path).replace(\".nc\", \"_CF.nc\"), working_dir=CF_dir)"
   ]
  },
  {
   "cell_type": "code",
   "execution_count": null,
   "id": "598cbc67",
   "metadata": {},
   "outputs": [],
   "source": [
    "# save altered CF compliancy\n",
    "save_compliancy(\n",
    "    cap, testfile=str(ds_rcp85_2050path).replace(\".nc\", \"_CF.nc\"), working_dir=CF_dir,\n",
    ")"
   ]
  },
  {
   "cell_type": "code",
   "execution_count": null,
   "id": "d3017f50",
   "metadata": {},
   "outputs": [],
   "source": [
    "%%capture cap --no-stderr\n",
    "# check altered CF compliancy\n",
    "\n",
    "check_compliancy(testfile=str(ds_rcp85_2100path).replace(\".nc\", \"_CF.nc\"), working_dir=CF_dir)"
   ]
  },
  {
   "cell_type": "code",
   "execution_count": null,
   "id": "f1c2712e",
   "metadata": {},
   "outputs": [],
   "source": [
    "# save altered CF compliancy\n",
    "save_compliancy(\n",
    "    cap, testfile=str(ds_rcp85_2100path).replace(\".nc\", \"_CF.nc\"), working_dir=CF_dir,\n",
    ")"
   ]
  },
  {
   "cell_type": "code",
   "execution_count": null,
   "id": "8fb764dd",
   "metadata": {},
   "outputs": [],
   "source": [
    "%%capture cap --no-stderr\n",
    "# check altered CF compliancy\n",
    "\n",
    "check_compliancy(testfile=ds_dir.joinpath(ds_out_file + \"_CF.nc\"), working_dir=CF_dir)"
   ]
  },
  {
   "cell_type": "code",
   "execution_count": null,
   "id": "037decf1",
   "metadata": {},
   "outputs": [],
   "source": [
    "# save altered CF compliancy\n",
    "save_compliancy(\n",
    "    cap, testfile=ds_dir.joinpath(ds_out_file + \"_CF.nc\"), working_dir=CF_dir,\n",
    ")"
   ]
  },
  {
   "cell_type": "markdown",
   "id": "beec081e",
   "metadata": {},
   "source": [
    "### write data to Zarr files"
   ]
  },
  {
   "cell_type": "code",
   "execution_count": null,
   "id": "6ba75d19",
   "metadata": {},
   "outputs": [],
   "source": [
    "# export to zarr in write mode (to overwrite if exists)\n",
    "dataset.to_zarr(ds_dir.joinpath(\"%s.zarr\" % ds_out_file), mode=\"w\")"
   ]
  },
  {
   "cell_type": "code",
   "execution_count": null,
   "id": "d9ce96dd",
   "metadata": {},
   "outputs": [],
   "source": []
  }
 ],
 "metadata": {
  "kernelspec": {
   "display_name": "Python 3 (ipykernel)",
   "language": "python",
   "name": "python3"
  },
  "language_info": {
   "codemirror_mode": {
    "name": "ipython",
    "version": 3
   },
   "file_extension": ".py",
   "mimetype": "text/x-python",
   "name": "python",
   "nbconvert_exporter": "python",
   "pygments_lexer": "ipython3",
   "version": "3.8.12"
  },
  "vscode": {
   "interpreter": {
    "hash": "d52b8dfbdab1c939c3c4b10b0d762f4c8139583e350f28e123ee37db8f80dd50"
   }
  }
 },
 "nbformat": 4,
 "nbformat_minor": 5
}
