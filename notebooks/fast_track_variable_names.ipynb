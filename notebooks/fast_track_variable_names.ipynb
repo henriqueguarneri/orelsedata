{
 "cells": [
  {
   "cell_type": "markdown",
   "id": "fa33a9ce-c5ee-455d-85d8-b75f2a44ee31",
   "metadata": {},
   "source": [
    "# Generate name conventions template for CoCliCo fast-track datasets "
   ]
  },
  {
   "cell_type": "code",
   "execution_count": null,
   "id": "241c25cd-7a92-4123-b7ad-26468459bf49",
   "metadata": {},
   "outputs": [],
   "source": [
    "# Use the black code formatter\n",
    "%load_ext lab_black"
   ]
  },
  {
   "cell_type": "markdown",
   "id": "7fd0662f-d6ca-4fd2-97fe-3806ff4f90e9",
   "metadata": {},
   "source": [
    "### Configure OS independent paths"
   ]
  },
  {
   "cell_type": "code",
   "execution_count": null,
   "id": "59ccd64b-b885-4bac-b157-90035272c5f6",
   "metadata": {},
   "outputs": [],
   "source": [
    "import os\n",
    "import pathlib\n",
    "import sys\n",
    "\n",
    "# Make root directories importable by appending root to path\n",
    "cwd = pathlib.Path().resolve()\n",
    "sys.path.append(os.path.dirname(cwd))\n",
    "\n",
    "\n",
    "# Get root paths\n",
    "home = pathlib.Path().home()\n",
    "root = home.root\n",
    "\n",
    "# Define both local and remote drives\n",
    "local_data_dir = home.joinpath(\"ddata\")\n",
    "local_temp_dir = local_data_dir.joinpath(\"temp\")\n",
    "p_dir = pathlib.Path(root, \"p\")\n",
    "coclico_data_dir = p_dir.joinpath(\"11205479-coclico\", \"data\")"
   ]
  },
  {
   "cell_type": "code",
   "execution_count": null,
   "id": "0d4b5d23",
   "metadata": {},
   "outputs": [],
   "source": [
    "# Import libraries\n",
    "import numpy as np\n",
    "import geopandas as gpd\n",
    "import pandas as pd\n",
    "import matplotlib.pyplot as plt\n",
    "import xarray as xr"
   ]
  },
  {
   "cell_type": "code",
   "execution_count": null,
   "id": "0ed3ae7f",
   "metadata": {},
   "outputs": [],
   "source": [
    "import re\n",
    "\n",
    "# list all files in datadir and get filename from filepath\n",
    "fpaths = list(coclico_data_dir.iterdir())\n",
    "fnames = [fp.stem for fp in fpaths]\n",
    "\n",
    "# only keep filenames which start with range(01, 08)\n",
    "r = re.compile(\"^0[0-8]\")\n",
    "dirnames = [fn for fn in fnames if re.search(r, fn)]"
   ]
  },
  {
   "cell_type": "code",
   "execution_count": null,
   "id": "808c20c3",
   "metadata": {},
   "outputs": [],
   "source": [
    "def get_names(ds) -> set:\n",
    "    result = []\n",
    "    for attrs in [ds.dims, ds.coords, ds.variables]:\n",
    "        result.extend(list(attrs))\n",
    "    return set(result)\n",
    "\n",
    "\n",
    "variables = []\n",
    "fps_ = []\n",
    "for dn in dirnames:\n",
    "    fps = list(coclico_data_dir.joinpath(dn).glob(\"*.nc\"))\n",
    "    # condition to filter filepaths that contain CF extension or new flag\n",
    "    fps = [fp for fp in fps if not any(substr in fp.stem for substr in [\"_CF\", \"new\"])]\n",
    "    fps_.extend(fps)\n",
    "    for fp in fps:\n",
    "        ds = xr.open_dataset(fp)\n",
    "        variables.extend(get_names(ds))\n",
    "variables = sorted(set(variables))"
   ]
  },
  {
   "cell_type": "markdown",
   "id": "31daa79f",
   "metadata": {},
   "source": [
    "### Create template table\n",
    "\n",
    "Template has already been saved to data directoy. Following cell is kept for reference,\n",
    "but can be ignored. "
   ]
  },
  {
   "cell_type": "code",
   "execution_count": null,
   "id": "80084698",
   "metadata": {},
   "outputs": [],
   "source": [
    "cv_table = [{\"src_name\": v} for v in variables]\n",
    "cv_table = [dict(i, **{\"dst_name\": \"\"}) for i in cv_table]\n",
    "cv_table = [dict(i, **{\"long_name\": \"\"}) for i in cv_table]\n",
    "cv_table = [dict(i, **{\"standard_name\": \"\"}) for i in cv_table]\n",
    "cv_table = [dict(i, **{\"cf_type\": \"\"}) for i in cv_table]\n",
    "cv_table = [dict(i, **{\"dtype\": \"\"}) for i in cv_table]"
   ]
  },
  {
   "cell_type": "markdown",
   "id": "90e54f3e",
   "metadata": {},
   "source": [
    "### Load name convention table data directory"
   ]
  },
  {
   "cell_type": "code",
   "execution_count": null,
   "id": "0e5746a6",
   "metadata": {},
   "outputs": [],
   "source": [
    "df = pd.read_csv(coclico_data_dir.joinpath(\"common_vocabulary.csv\"))\n",
    "df[\"cf_type\"] = df.cf_type.astype(\"category\")\n",
    "df.cf_type.cat.set_categories([\"dim\", \"dim or coord\", \"coord\", \"var\"], inplace=True)\n",
    "df = df.sort_values([\"cf_type\", \"src_name\"]).reset_index(drop=True)"
   ]
  },
  {
   "cell_type": "code",
   "execution_count": null,
   "id": "fb1d2c24",
   "metadata": {},
   "outputs": [],
   "source": [
    "# df.to_csv(coclico_data_dir.joinpath(\"cv_table.csv\"), index=False)"
   ]
  },
  {
   "cell_type": "code",
   "execution_count": null,
   "id": "95b8c8f6",
   "metadata": {},
   "outputs": [],
   "source": []
  }
 ],
 "metadata": {
  "interpreter": {
   "hash": "d52b8dfbdab1c939c3c4b10b0d762f4c8139583e350f28e123ee37db8f80dd50"
  },
  "kernelspec": {
   "display_name": "Python 3.10.4 ('base')",
   "language": "python",
   "name": "python3"
  },
  "language_info": {
   "codemirror_mode": {
    "name": "ipython",
    "version": 3
   },
   "file_extension": ".py",
   "mimetype": "text/x-python",
   "name": "python",
   "nbconvert_exporter": "python",
   "pygments_lexer": "ipython3",
   "version": "3.10.4"
  }
 },
 "nbformat": 4,
 "nbformat_minor": 5
}
